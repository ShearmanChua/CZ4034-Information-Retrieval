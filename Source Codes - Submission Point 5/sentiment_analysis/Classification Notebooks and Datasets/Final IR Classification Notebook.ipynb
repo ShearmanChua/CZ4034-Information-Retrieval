{
 "cells": [
  {
   "cell_type": "code",
   "execution_count": null,
   "metadata": {
    "colab": {
     "base_uri": "https://localhost:8080/"
    },
    "executionInfo": {
     "elapsed": 20921,
     "status": "ok",
     "timestamp": 1616754943023,
     "user": {
      "displayName": "Shearman Chua",
      "photoUrl": "",
      "userId": "02072421428658916568"
     },
     "user_tz": -480
    },
    "id": "7WMi1_Qdwbio",
    "outputId": "e572ab6b-71d0-49ed-c623-a7e0ae5d8870"
   },
   "outputs": [
    {
     "name": "stdout",
     "output_type": "stream",
     "text": [
      "Collecting emoji\n",
      "\u001b[?25l  Downloading https://files.pythonhosted.org/packages/24/fa/b3368f41b95a286f8d300e323449ab4e86b85334c2e0b477e94422b8ed0f/emoji-1.2.0-py3-none-any.whl (131kB)\n",
      "\u001b[K     |████████████████████████████████| 133kB 6.7MB/s \n",
      "\u001b[?25hCollecting transformers\n",
      "\u001b[?25l  Downloading https://files.pythonhosted.org/packages/ed/d5/f4157a376b8a79489a76ce6cfe147f4f3be1e029b7144fa7b8432e8acb26/transformers-4.4.2-py3-none-any.whl (2.0MB)\n",
      "\u001b[K     |████████████████████████████████| 2.0MB 23.0MB/s \n",
      "\u001b[?25hRequirement already satisfied: regex!=2019.12.17 in /usr/local/lib/python3.7/dist-packages (from transformers) (2019.12.20)\n",
      "Requirement already satisfied: requests in /usr/local/lib/python3.7/dist-packages (from transformers) (2.23.0)\n",
      "Requirement already satisfied: packaging in /usr/local/lib/python3.7/dist-packages (from transformers) (20.9)\n",
      "Collecting sacremoses\n",
      "\u001b[?25l  Downloading https://files.pythonhosted.org/packages/7d/34/09d19aff26edcc8eb2a01bed8e98f13a1537005d31e95233fd48216eed10/sacremoses-0.0.43.tar.gz (883kB)\n",
      "\u001b[K     |████████████████████████████████| 890kB 40.2MB/s \n",
      "\u001b[?25hRequirement already satisfied: filelock in /usr/local/lib/python3.7/dist-packages (from transformers) (3.0.12)\n",
      "Collecting tokenizers<0.11,>=0.10.1\n",
      "\u001b[?25l  Downloading https://files.pythonhosted.org/packages/71/23/2ddc317b2121117bf34dd00f5b0de194158f2a44ee2bf5e47c7166878a97/tokenizers-0.10.1-cp37-cp37m-manylinux2010_x86_64.whl (3.2MB)\n",
      "\u001b[K     |████████████████████████████████| 3.2MB 25.8MB/s \n",
      "\u001b[?25hRequirement already satisfied: importlib-metadata; python_version < \"3.8\" in /usr/local/lib/python3.7/dist-packages (from transformers) (3.7.2)\n",
      "Requirement already satisfied: tqdm>=4.27 in /usr/local/lib/python3.7/dist-packages (from transformers) (4.41.1)\n",
      "Requirement already satisfied: numpy>=1.17 in /usr/local/lib/python3.7/dist-packages (from transformers) (1.19.5)\n",
      "Requirement already satisfied: certifi>=2017.4.17 in /usr/local/lib/python3.7/dist-packages (from requests->transformers) (2020.12.5)\n",
      "Requirement already satisfied: idna<3,>=2.5 in /usr/local/lib/python3.7/dist-packages (from requests->transformers) (2.10)\n",
      "Requirement already satisfied: urllib3!=1.25.0,!=1.25.1,<1.26,>=1.21.1 in /usr/local/lib/python3.7/dist-packages (from requests->transformers) (1.24.3)\n",
      "Requirement already satisfied: chardet<4,>=3.0.2 in /usr/local/lib/python3.7/dist-packages (from requests->transformers) (3.0.4)\n",
      "Requirement already satisfied: pyparsing>=2.0.2 in /usr/local/lib/python3.7/dist-packages (from packaging->transformers) (2.4.7)\n",
      "Requirement already satisfied: six in /usr/local/lib/python3.7/dist-packages (from sacremoses->transformers) (1.15.0)\n",
      "Requirement already satisfied: click in /usr/local/lib/python3.7/dist-packages (from sacremoses->transformers) (7.1.2)\n",
      "Requirement already satisfied: joblib in /usr/local/lib/python3.7/dist-packages (from sacremoses->transformers) (1.0.1)\n",
      "Requirement already satisfied: typing-extensions>=3.6.4; python_version < \"3.8\" in /usr/local/lib/python3.7/dist-packages (from importlib-metadata; python_version < \"3.8\"->transformers) (3.7.4.3)\n",
      "Requirement already satisfied: zipp>=0.5 in /usr/local/lib/python3.7/dist-packages (from importlib-metadata; python_version < \"3.8\"->transformers) (3.4.1)\n",
      "Building wheels for collected packages: sacremoses\n",
      "  Building wheel for sacremoses (setup.py) ... \u001b[?25l\u001b[?25hdone\n",
      "  Created wheel for sacremoses: filename=sacremoses-0.0.43-cp37-none-any.whl size=893262 sha256=5005ac76930ddf5d833ae9d8acb45db195be6f705d088e5145babbb78b16bfc4\n",
      "  Stored in directory: /root/.cache/pip/wheels/29/3c/fd/7ce5c3f0666dab31a50123635e6fb5e19ceb42ce38d4e58f45\n",
      "Successfully built sacremoses\n",
      "Installing collected packages: emoji, sacremoses, tokenizers, transformers\n",
      "Successfully installed emoji-1.2.0 sacremoses-0.0.43 tokenizers-0.10.1 transformers-4.4.2\n",
      "Collecting sentencepiece\n",
      "\u001b[?25l  Downloading https://files.pythonhosted.org/packages/f5/99/e0808cb947ba10f575839c43e8fafc9cc44e4a7a2c8f79c60db48220a577/sentencepiece-0.1.95-cp37-cp37m-manylinux2014_x86_64.whl (1.2MB)\n",
      "\u001b[K     |████████████████████████████████| 1.2MB 5.0MB/s \n",
      "\u001b[?25hInstalling collected packages: sentencepiece\n",
      "Successfully installed sentencepiece-0.1.95\n",
      "Collecting tensorflow_addons\n",
      "\u001b[?25l  Downloading https://files.pythonhosted.org/packages/74/e3/56d2fe76f0bb7c88ed9b2a6a557e25e83e252aec08f13de34369cd850a0b/tensorflow_addons-0.12.1-cp37-cp37m-manylinux2010_x86_64.whl (703kB)\n",
      "\u001b[K     |████████████████████████████████| 706kB 5.0MB/s \n",
      "\u001b[?25hRequirement already satisfied: typeguard>=2.7 in /usr/local/lib/python3.7/dist-packages (from tensorflow_addons) (2.7.1)\n",
      "Installing collected packages: tensorflow-addons\n",
      "Successfully installed tensorflow-addons-0.12.1\n"
     ]
    }
   ],
   "source": [
    "!pip install emoji transformers\n",
    "!pip install sentencepiece\n",
    "!pip install tensorflow_addons\n",
    "\n",
    "import numpy as np\n",
    "import pandas as pd\n",
    "import matplotlib.pyplot as plt\n",
    "import seaborn as sns\n",
    "import string\n",
    "import re\n",
    "from tqdm.notebook import tqdm\n",
    "import emoji\n",
    "\n",
    "from sklearn.model_selection import train_test_split\n",
    "from sklearn.model_selection import StratifiedShuffleSplit\n",
    "\n",
    "import tensorflow as tf\n",
    "import tensorflow.keras as keras\n",
    "from tensorflow.keras.layers import Dense, Input, Dropout, BatchNormalization, Average\n",
    "from tensorflow.keras.optimizers import Adam, SGD\n",
    "from tensorflow.keras.models import Model\n",
    "from tensorflow.keras.callbacks import ModelCheckpoint\n",
    "import tensorflow_addons as tfa\n",
    "\n",
    "from collections import Counter\n",
    "from functools import partial\n",
    "\n",
    "import transformers\n",
    "from tokenizers import BertWordPieceTokenizer\n",
    "\n",
    "AUTO = tf.data.experimental.AUTOTUNE"
   ]
  },
  {
   "cell_type": "code",
   "execution_count": null,
   "metadata": {
    "colab": {
     "base_uri": "https://localhost:8080/"
    },
    "executionInfo": {
     "elapsed": 48244,
     "status": "ok",
     "timestamp": 1616754970485,
     "user": {
      "displayName": "Shearman Chua",
      "photoUrl": "",
      "userId": "02072421428658916568"
     },
     "user_tz": -480
    },
    "id": "0iLFAYqQwhNJ",
    "outputId": "a4c915b7-bb71-4cd2-bc82-8f28c1adcc98"
   },
   "outputs": [
    {
     "name": "stdout",
     "output_type": "stream",
     "text": [
      "Mounted at /content/drive\n"
     ]
    }
   ],
   "source": [
    "from google.colab import drive\n",
    "drive.mount('/content/drive')"
   ]
  },
  {
   "cell_type": "code",
   "execution_count": null,
   "metadata": {
    "colab": {
     "base_uri": "https://localhost:8080/"
    },
    "executionInfo": {
     "elapsed": 65832,
     "status": "ok",
     "timestamp": 1616754988090,
     "user": {
      "displayName": "Shearman Chua",
      "photoUrl": "",
      "userId": "02072421428658916568"
     },
     "user_tz": -480
    },
    "id": "i-hP3bB8zcmB",
    "outputId": "c9faf168-12d6-4b2c-edba-e71f0031462b"
   },
   "outputs": [
    {
     "name": "stdout",
     "output_type": "stream",
     "text": [
      "Running on TPU  grpc://10.28.231.106:8470\n"
     ]
    },
    {
     "name": "stderr",
     "output_type": "stream",
     "text": [
      "INFO:absl:Entering into master device scope: /job:worker/replica:0/task:0/device:CPU:0\n"
     ]
    },
    {
     "name": "stdout",
     "output_type": "stream",
     "text": [
      "INFO:tensorflow:Initializing the TPU system: grpc://10.28.231.106:8470\n"
     ]
    },
    {
     "name": "stderr",
     "output_type": "stream",
     "text": [
      "INFO:tensorflow:Initializing the TPU system: grpc://10.28.231.106:8470\n"
     ]
    },
    {
     "name": "stdout",
     "output_type": "stream",
     "text": [
      "INFO:tensorflow:Clearing out eager caches\n"
     ]
    },
    {
     "name": "stderr",
     "output_type": "stream",
     "text": [
      "INFO:tensorflow:Clearing out eager caches\n"
     ]
    },
    {
     "name": "stdout",
     "output_type": "stream",
     "text": [
      "INFO:tensorflow:Finished initializing TPU system.\n"
     ]
    },
    {
     "name": "stderr",
     "output_type": "stream",
     "text": [
      "INFO:tensorflow:Finished initializing TPU system.\n",
      "WARNING:absl:`tf.distribute.experimental.TPUStrategy` is deprecated, please use  the non experimental symbol `tf.distribute.TPUStrategy` instead.\n"
     ]
    },
    {
     "name": "stdout",
     "output_type": "stream",
     "text": [
      "INFO:tensorflow:Found TPU system:\n"
     ]
    },
    {
     "name": "stderr",
     "output_type": "stream",
     "text": [
      "INFO:tensorflow:Found TPU system:\n"
     ]
    },
    {
     "name": "stdout",
     "output_type": "stream",
     "text": [
      "INFO:tensorflow:*** Num TPU Cores: 8\n"
     ]
    },
    {
     "name": "stderr",
     "output_type": "stream",
     "text": [
      "INFO:tensorflow:*** Num TPU Cores: 8\n"
     ]
    },
    {
     "name": "stdout",
     "output_type": "stream",
     "text": [
      "INFO:tensorflow:*** Num TPU Workers: 1\n"
     ]
    },
    {
     "name": "stderr",
     "output_type": "stream",
     "text": [
      "INFO:tensorflow:*** Num TPU Workers: 1\n"
     ]
    },
    {
     "name": "stdout",
     "output_type": "stream",
     "text": [
      "INFO:tensorflow:*** Num TPU Cores Per Worker: 8\n"
     ]
    },
    {
     "name": "stderr",
     "output_type": "stream",
     "text": [
      "INFO:tensorflow:*** Num TPU Cores Per Worker: 8\n"
     ]
    },
    {
     "name": "stdout",
     "output_type": "stream",
     "text": [
      "INFO:tensorflow:*** Available Device: _DeviceAttributes(/job:localhost/replica:0/task:0/device:CPU:0, CPU, 0, 0)\n"
     ]
    },
    {
     "name": "stderr",
     "output_type": "stream",
     "text": [
      "INFO:tensorflow:*** Available Device: _DeviceAttributes(/job:localhost/replica:0/task:0/device:CPU:0, CPU, 0, 0)\n"
     ]
    },
    {
     "name": "stdout",
     "output_type": "stream",
     "text": [
      "INFO:tensorflow:*** Available Device: _DeviceAttributes(/job:worker/replica:0/task:0/device:CPU:0, CPU, 0, 0)\n"
     ]
    },
    {
     "name": "stderr",
     "output_type": "stream",
     "text": [
      "INFO:tensorflow:*** Available Device: _DeviceAttributes(/job:worker/replica:0/task:0/device:CPU:0, CPU, 0, 0)\n"
     ]
    },
    {
     "name": "stdout",
     "output_type": "stream",
     "text": [
      "INFO:tensorflow:*** Available Device: _DeviceAttributes(/job:worker/replica:0/task:0/device:TPU:0, TPU, 0, 0)\n"
     ]
    },
    {
     "name": "stderr",
     "output_type": "stream",
     "text": [
      "INFO:tensorflow:*** Available Device: _DeviceAttributes(/job:worker/replica:0/task:0/device:TPU:0, TPU, 0, 0)\n"
     ]
    },
    {
     "name": "stdout",
     "output_type": "stream",
     "text": [
      "INFO:tensorflow:*** Available Device: _DeviceAttributes(/job:worker/replica:0/task:0/device:TPU:1, TPU, 0, 0)\n"
     ]
    },
    {
     "name": "stderr",
     "output_type": "stream",
     "text": [
      "INFO:tensorflow:*** Available Device: _DeviceAttributes(/job:worker/replica:0/task:0/device:TPU:1, TPU, 0, 0)\n"
     ]
    },
    {
     "name": "stdout",
     "output_type": "stream",
     "text": [
      "INFO:tensorflow:*** Available Device: _DeviceAttributes(/job:worker/replica:0/task:0/device:TPU:2, TPU, 0, 0)\n"
     ]
    },
    {
     "name": "stderr",
     "output_type": "stream",
     "text": [
      "INFO:tensorflow:*** Available Device: _DeviceAttributes(/job:worker/replica:0/task:0/device:TPU:2, TPU, 0, 0)\n"
     ]
    },
    {
     "name": "stdout",
     "output_type": "stream",
     "text": [
      "INFO:tensorflow:*** Available Device: _DeviceAttributes(/job:worker/replica:0/task:0/device:TPU:3, TPU, 0, 0)\n"
     ]
    },
    {
     "name": "stderr",
     "output_type": "stream",
     "text": [
      "INFO:tensorflow:*** Available Device: _DeviceAttributes(/job:worker/replica:0/task:0/device:TPU:3, TPU, 0, 0)\n"
     ]
    },
    {
     "name": "stdout",
     "output_type": "stream",
     "text": [
      "INFO:tensorflow:*** Available Device: _DeviceAttributes(/job:worker/replica:0/task:0/device:TPU:4, TPU, 0, 0)\n"
     ]
    },
    {
     "name": "stderr",
     "output_type": "stream",
     "text": [
      "INFO:tensorflow:*** Available Device: _DeviceAttributes(/job:worker/replica:0/task:0/device:TPU:4, TPU, 0, 0)\n"
     ]
    },
    {
     "name": "stdout",
     "output_type": "stream",
     "text": [
      "INFO:tensorflow:*** Available Device: _DeviceAttributes(/job:worker/replica:0/task:0/device:TPU:5, TPU, 0, 0)\n"
     ]
    },
    {
     "name": "stderr",
     "output_type": "stream",
     "text": [
      "INFO:tensorflow:*** Available Device: _DeviceAttributes(/job:worker/replica:0/task:0/device:TPU:5, TPU, 0, 0)\n"
     ]
    },
    {
     "name": "stdout",
     "output_type": "stream",
     "text": [
      "INFO:tensorflow:*** Available Device: _DeviceAttributes(/job:worker/replica:0/task:0/device:TPU:6, TPU, 0, 0)\n"
     ]
    },
    {
     "name": "stderr",
     "output_type": "stream",
     "text": [
      "INFO:tensorflow:*** Available Device: _DeviceAttributes(/job:worker/replica:0/task:0/device:TPU:6, TPU, 0, 0)\n"
     ]
    },
    {
     "name": "stdout",
     "output_type": "stream",
     "text": [
      "INFO:tensorflow:*** Available Device: _DeviceAttributes(/job:worker/replica:0/task:0/device:TPU:7, TPU, 0, 0)\n"
     ]
    },
    {
     "name": "stderr",
     "output_type": "stream",
     "text": [
      "INFO:tensorflow:*** Available Device: _DeviceAttributes(/job:worker/replica:0/task:0/device:TPU:7, TPU, 0, 0)\n"
     ]
    },
    {
     "name": "stdout",
     "output_type": "stream",
     "text": [
      "INFO:tensorflow:*** Available Device: _DeviceAttributes(/job:worker/replica:0/task:0/device:TPU_SYSTEM:0, TPU_SYSTEM, 0, 0)\n"
     ]
    },
    {
     "name": "stderr",
     "output_type": "stream",
     "text": [
      "INFO:tensorflow:*** Available Device: _DeviceAttributes(/job:worker/replica:0/task:0/device:TPU_SYSTEM:0, TPU_SYSTEM, 0, 0)\n"
     ]
    },
    {
     "name": "stdout",
     "output_type": "stream",
     "text": [
      "INFO:tensorflow:*** Available Device: _DeviceAttributes(/job:worker/replica:0/task:0/device:XLA_CPU:0, XLA_CPU, 0, 0)\n"
     ]
    },
    {
     "name": "stderr",
     "output_type": "stream",
     "text": [
      "INFO:tensorflow:*** Available Device: _DeviceAttributes(/job:worker/replica:0/task:0/device:XLA_CPU:0, XLA_CPU, 0, 0)\n"
     ]
    },
    {
     "name": "stdout",
     "output_type": "stream",
     "text": [
      "REPLICAS:  8\n"
     ]
    }
   ],
   "source": [
    "try:\n",
    "    # TPU detection. No parameters necessary if TPU_NAME environment variable is\n",
    "    # set: this is always the case on Kaggle.\n",
    "    tpu = tf.distribute.cluster_resolver.TPUClusterResolver()\n",
    "    print('Running on TPU ', tpu.master())\n",
    "except ValueError:\n",
    "    tpu = None\n",
    "\n",
    "if tpu:\n",
    "    tf.config.experimental_connect_to_cluster(tpu)\n",
    "    tf.tpu.experimental.initialize_tpu_system(tpu)\n",
    "    strategy = tf.distribute.experimental.TPUStrategy(tpu)\n",
    "else:\n",
    "    # Default distribution strategy in Tensorflow. Works on CPU and single GPU.\n",
    "    strategy = tf.distribute.get_strategy()\n",
    "\n",
    "print(\"REPLICAS: \", strategy.num_replicas_in_sync)"
   ]
  },
  {
   "cell_type": "markdown",
   "metadata": {
    "id": "8YWTzjE_TBKc"
   },
   "source": [
    "## Load Preprocessed Training Data From Kaggle"
   ]
  },
  {
   "cell_type": "code",
   "execution_count": null,
   "metadata": {},
   "outputs": [],
   "source": [
    "data_folder = \"/content/drive/MyDrive/CZ4034 - Information Retrieval/Data\""
   ]
  },
  {
   "cell_type": "code",
   "execution_count": null,
   "metadata": {
    "colab": {
     "base_uri": "https://localhost:8080/",
     "height": 204
    },
    "executionInfo": {
     "elapsed": 68092,
     "status": "ok",
     "timestamp": 1616754990368,
     "user": {
      "displayName": "Shearman Chua",
      "photoUrl": "",
      "userId": "02072421428658916568"
     },
     "user_tz": -480
    },
    "id": "-V0Kit32ztkV",
    "outputId": "f84cc8dd-252c-48b8-c882-97e394e8cd08"
   },
   "outputs": [
    {
     "data": {
      "text/html": [
       "<div>\n",
       "<style scoped>\n",
       "    .dataframe tbody tr th:only-of-type {\n",
       "        vertical-align: middle;\n",
       "    }\n",
       "\n",
       "    .dataframe tbody tr th {\n",
       "        vertical-align: top;\n",
       "    }\n",
       "\n",
       "    .dataframe thead th {\n",
       "        text-align: right;\n",
       "    }\n",
       "</style>\n",
       "<table border=\"1\" class=\"dataframe\">\n",
       "  <thead>\n",
       "    <tr style=\"text-align: right;\">\n",
       "      <th></th>\n",
       "      <th>id</th>\n",
       "      <th>comment_text</th>\n",
       "      <th>neutral</th>\n",
       "      <th>toxic_class</th>\n",
       "    </tr>\n",
       "  </thead>\n",
       "  <tbody>\n",
       "    <tr>\n",
       "      <th>0</th>\n",
       "      <td>0000997932d777bf</td>\n",
       "      <td>explanation why the edits made under my userna...</td>\n",
       "      <td>0</td>\n",
       "      <td>0</td>\n",
       "    </tr>\n",
       "    <tr>\n",
       "      <th>1</th>\n",
       "      <td>000103f0d9cfb60f</td>\n",
       "      <td>d aww he matches this background colour i m se...</td>\n",
       "      <td>1</td>\n",
       "      <td>0</td>\n",
       "    </tr>\n",
       "    <tr>\n",
       "      <th>2</th>\n",
       "      <td>000113f07ec002fd</td>\n",
       "      <td>hey man i m really not trying to edit war it s...</td>\n",
       "      <td>0</td>\n",
       "      <td>0</td>\n",
       "    </tr>\n",
       "    <tr>\n",
       "      <th>3</th>\n",
       "      <td>0001b41b1c6bb37e</td>\n",
       "      <td>more i can t make any real suggestions on impr...</td>\n",
       "      <td>0</td>\n",
       "      <td>0</td>\n",
       "    </tr>\n",
       "    <tr>\n",
       "      <th>4</th>\n",
       "      <td>0001d958c54c6e35</td>\n",
       "      <td>you sir are my hero any chance remember what p...</td>\n",
       "      <td>1</td>\n",
       "      <td>0</td>\n",
       "    </tr>\n",
       "  </tbody>\n",
       "</table>\n",
       "</div>"
      ],
      "text/plain": [
       "                 id  ... toxic_class\n",
       "0  0000997932d777bf  ...           0\n",
       "1  000103f0d9cfb60f  ...           0\n",
       "2  000113f07ec002fd  ...           0\n",
       "3  0001b41b1c6bb37e  ...           0\n",
       "4  0001d958c54c6e35  ...           0\n",
       "\n",
       "[5 rows x 4 columns]"
      ]
     },
     "execution_count": 4,
     "metadata": {
      "tags": []
     },
     "output_type": "execute_result"
    }
   ],
   "source": [
    "df_sub = pd.read_csv(f'{data_folder}/preprocessed_kaggle_data.csv')\n",
    "df_sub.head()"
   ]
  },
  {
   "cell_type": "code",
   "execution_count": null,
   "metadata": {
    "id": "AUWv6-htBVJK"
   },
   "outputs": [],
   "source": [
    "from sklearn.preprocessing import LabelEncoder\n",
    "from tensorflow.keras.utils import to_categorical\n",
    "\n",
    "# Split Kaggle Dataset to Training set as well as test set to be used to test model after training\n",
    "X_train, X_test, y_train, y_test = train_test_split(df_sub.comment_text.values, df_sub.id.values, test_size=0.10, random_state=42, stratify=df_sub[['toxic_class','neutral']])"
   ]
  },
  {
   "cell_type": "code",
   "execution_count": null,
   "metadata": {
    "colab": {
     "base_uri": "https://localhost:8080/"
    },
    "executionInfo": {
     "elapsed": 68540,
     "status": "ok",
     "timestamp": 1616754990847,
     "user": {
      "displayName": "Shearman Chua",
      "photoUrl": "",
      "userId": "02072421428658916568"
     },
     "user_tz": -480
    },
    "id": "WEnr-lRbkPto",
    "outputId": "976c8256-4f60-412d-e69b-4d836b995a65"
   },
   "outputs": [
    {
     "data": {
      "text/plain": [
       "143613"
      ]
     },
     "execution_count": 6,
     "metadata": {
      "tags": []
     },
     "output_type": "execute_result"
    }
   ],
   "source": [
    "y_train.size"
   ]
  },
  {
   "cell_type": "code",
   "execution_count": null,
   "metadata": {
    "colab": {
     "base_uri": "https://localhost:8080/",
     "height": 204
    },
    "executionInfo": {
     "elapsed": 69388,
     "status": "ok",
     "timestamp": 1616754991713,
     "user": {
      "displayName": "Shearman Chua",
      "photoUrl": "",
      "userId": "02072421428658916568"
     },
     "user_tz": -480
    },
    "id": "2R4T3rayiFMW",
    "outputId": "df099c00-7b8d-40e7-f669-d4e516355599"
   },
   "outputs": [
    {
     "data": {
      "text/html": [
       "<div>\n",
       "<style scoped>\n",
       "    .dataframe tbody tr th:only-of-type {\n",
       "        vertical-align: middle;\n",
       "    }\n",
       "\n",
       "    .dataframe tbody tr th {\n",
       "        vertical-align: top;\n",
       "    }\n",
       "\n",
       "    .dataframe thead th {\n",
       "        text-align: right;\n",
       "    }\n",
       "</style>\n",
       "<table border=\"1\" class=\"dataframe\">\n",
       "  <thead>\n",
       "    <tr style=\"text-align: right;\">\n",
       "      <th></th>\n",
       "      <th>id</th>\n",
       "      <th>comment_text</th>\n",
       "      <th>neutral</th>\n",
       "      <th>toxic_class</th>\n",
       "    </tr>\n",
       "  </thead>\n",
       "  <tbody>\n",
       "    <tr>\n",
       "      <th>0</th>\n",
       "      <td>0000997932d777bf</td>\n",
       "      <td>explanation why the edits made under my userna...</td>\n",
       "      <td>0</td>\n",
       "      <td>0</td>\n",
       "    </tr>\n",
       "    <tr>\n",
       "      <th>1</th>\n",
       "      <td>000103f0d9cfb60f</td>\n",
       "      <td>d aww he matches this background colour i m se...</td>\n",
       "      <td>1</td>\n",
       "      <td>0</td>\n",
       "    </tr>\n",
       "    <tr>\n",
       "      <th>2</th>\n",
       "      <td>000113f07ec002fd</td>\n",
       "      <td>hey man i m really not trying to edit war it s...</td>\n",
       "      <td>0</td>\n",
       "      <td>0</td>\n",
       "    </tr>\n",
       "    <tr>\n",
       "      <th>4</th>\n",
       "      <td>0001d958c54c6e35</td>\n",
       "      <td>you sir are my hero any chance remember what p...</td>\n",
       "      <td>1</td>\n",
       "      <td>0</td>\n",
       "    </tr>\n",
       "    <tr>\n",
       "      <th>5</th>\n",
       "      <td>00025465d4725e87</td>\n",
       "      <td>congratulations from me as well use the tools ...</td>\n",
       "      <td>1</td>\n",
       "      <td>0</td>\n",
       "    </tr>\n",
       "  </tbody>\n",
       "</table>\n",
       "</div>"
      ],
      "text/plain": [
       "                 id  ... toxic_class\n",
       "0  0000997932d777bf  ...           0\n",
       "1  000103f0d9cfb60f  ...           0\n",
       "2  000113f07ec002fd  ...           0\n",
       "4  0001d958c54c6e35  ...           0\n",
       "5  00025465d4725e87  ...           0\n",
       "\n",
       "[5 rows x 4 columns]"
      ]
     },
     "execution_count": 7,
     "metadata": {
      "tags": []
     },
     "output_type": "execute_result"
    }
   ],
   "source": [
    "data_df = df_sub[df_sub['id'].isin(y_train)]\n",
    "data_df.head()"
   ]
  },
  {
   "cell_type": "code",
   "execution_count": null,
   "metadata": {
    "colab": {
     "base_uri": "https://localhost:8080/",
     "height": 204
    },
    "executionInfo": {
     "elapsed": 69371,
     "status": "ok",
     "timestamp": 1616754991713,
     "user": {
      "displayName": "Shearman Chua",
      "photoUrl": "",
      "userId": "02072421428658916568"
     },
     "user_tz": -480
    },
    "id": "IGwS13BcnLfr",
    "outputId": "7162616d-82f0-479f-8a26-adcd223c73aa"
   },
   "outputs": [
    {
     "data": {
      "text/html": [
       "<div>\n",
       "<style scoped>\n",
       "    .dataframe tbody tr th:only-of-type {\n",
       "        vertical-align: middle;\n",
       "    }\n",
       "\n",
       "    .dataframe tbody tr th {\n",
       "        vertical-align: top;\n",
       "    }\n",
       "\n",
       "    .dataframe thead th {\n",
       "        text-align: right;\n",
       "    }\n",
       "</style>\n",
       "<table border=\"1\" class=\"dataframe\">\n",
       "  <thead>\n",
       "    <tr style=\"text-align: right;\">\n",
       "      <th></th>\n",
       "      <th>id</th>\n",
       "      <th>comment_text</th>\n",
       "      <th>neutral</th>\n",
       "      <th>toxic_class</th>\n",
       "    </tr>\n",
       "  </thead>\n",
       "  <tbody>\n",
       "    <tr>\n",
       "      <th>3</th>\n",
       "      <td>0001b41b1c6bb37e</td>\n",
       "      <td>more i can t make any real suggestions on impr...</td>\n",
       "      <td>0</td>\n",
       "      <td>0</td>\n",
       "    </tr>\n",
       "    <tr>\n",
       "      <th>14</th>\n",
       "      <td>00070ef96486d6f9</td>\n",
       "      <td>oh and the girl above started her arguments wi...</td>\n",
       "      <td>1</td>\n",
       "      <td>0</td>\n",
       "    </tr>\n",
       "    <tr>\n",
       "      <th>38</th>\n",
       "      <td>00169857adbc989b</td>\n",
       "      <td>hi explicit can you block o fenian for edit wa...</td>\n",
       "      <td>1</td>\n",
       "      <td>0</td>\n",
       "    </tr>\n",
       "    <tr>\n",
       "      <th>41</th>\n",
       "      <td>00173958f46763a2</td>\n",
       "      <td>tfd i think we just eced responded to each oth...</td>\n",
       "      <td>0</td>\n",
       "      <td>0</td>\n",
       "    </tr>\n",
       "    <tr>\n",
       "      <th>83</th>\n",
       "      <td>00349c6325526c11</td>\n",
       "      <td>april thank you for experimenting with the pag...</td>\n",
       "      <td>0</td>\n",
       "      <td>0</td>\n",
       "    </tr>\n",
       "  </tbody>\n",
       "</table>\n",
       "</div>"
      ],
      "text/plain": [
       "                  id  ... toxic_class\n",
       "3   0001b41b1c6bb37e  ...           0\n",
       "14  00070ef96486d6f9  ...           0\n",
       "38  00169857adbc989b  ...           0\n",
       "41  00173958f46763a2  ...           0\n",
       "83  00349c6325526c11  ...           0\n",
       "\n",
       "[5 rows x 4 columns]"
      ]
     },
     "execution_count": 8,
     "metadata": {
      "tags": []
     },
     "output_type": "execute_result"
    }
   ],
   "source": [
    "test_df = df_sub[df_sub['id'].isin(y_test)]\n",
    "test_df.head()"
   ]
  },
  {
   "cell_type": "code",
   "execution_count": null,
   "metadata": {
    "colab": {
     "base_uri": "https://localhost:8080/",
     "height": 289
    },
    "executionInfo": {
     "elapsed": 69355,
     "status": "ok",
     "timestamp": 1616754991714,
     "user": {
      "displayName": "Shearman Chua",
      "photoUrl": "",
      "userId": "02072421428658916568"
     },
     "user_tz": -480
    },
    "id": "lhurT6zHGcKs",
    "outputId": "c73c549e-aa4d-4306-9f91-2a4f56ff7212"
   },
   "outputs": [
    {
     "name": "stderr",
     "output_type": "stream",
     "text": [
      "/usr/local/lib/python3.7/dist-packages/pandas/core/frame.py:4308: SettingWithCopyWarning: \n",
      "A value is trying to be set on a copy of a slice from a DataFrame\n",
      "\n",
      "See the caveats in the documentation: https://pandas.pydata.org/pandas-docs/stable/user_guide/indexing.html#returning-a-view-versus-a-copy\n",
      "  errors=errors,\n"
     ]
    },
    {
     "data": {
      "text/html": [
       "<div>\n",
       "<style scoped>\n",
       "    .dataframe tbody tr th:only-of-type {\n",
       "        vertical-align: middle;\n",
       "    }\n",
       "\n",
       "    .dataframe tbody tr th {\n",
       "        vertical-align: top;\n",
       "    }\n",
       "\n",
       "    .dataframe thead th {\n",
       "        text-align: right;\n",
       "    }\n",
       "</style>\n",
       "<table border=\"1\" class=\"dataframe\">\n",
       "  <thead>\n",
       "    <tr style=\"text-align: right;\">\n",
       "      <th></th>\n",
       "      <th>id</th>\n",
       "      <th>comment_text</th>\n",
       "      <th>subjectivity</th>\n",
       "      <th>toxicity</th>\n",
       "    </tr>\n",
       "  </thead>\n",
       "  <tbody>\n",
       "    <tr>\n",
       "      <th>0</th>\n",
       "      <td>0000997932d777bf</td>\n",
       "      <td>explanation why the edits made under my userna...</td>\n",
       "      <td>0</td>\n",
       "      <td>0</td>\n",
       "    </tr>\n",
       "    <tr>\n",
       "      <th>1</th>\n",
       "      <td>000103f0d9cfb60f</td>\n",
       "      <td>d aww he matches this background colour i m se...</td>\n",
       "      <td>1</td>\n",
       "      <td>0</td>\n",
       "    </tr>\n",
       "    <tr>\n",
       "      <th>2</th>\n",
       "      <td>000113f07ec002fd</td>\n",
       "      <td>hey man i m really not trying to edit war it s...</td>\n",
       "      <td>0</td>\n",
       "      <td>0</td>\n",
       "    </tr>\n",
       "    <tr>\n",
       "      <th>4</th>\n",
       "      <td>0001d958c54c6e35</td>\n",
       "      <td>you sir are my hero any chance remember what p...</td>\n",
       "      <td>1</td>\n",
       "      <td>0</td>\n",
       "    </tr>\n",
       "    <tr>\n",
       "      <th>5</th>\n",
       "      <td>00025465d4725e87</td>\n",
       "      <td>congratulations from me as well use the tools ...</td>\n",
       "      <td>1</td>\n",
       "      <td>0</td>\n",
       "    </tr>\n",
       "  </tbody>\n",
       "</table>\n",
       "</div>"
      ],
      "text/plain": [
       "                 id  ... toxicity\n",
       "0  0000997932d777bf  ...        0\n",
       "1  000103f0d9cfb60f  ...        0\n",
       "2  000113f07ec002fd  ...        0\n",
       "4  0001d958c54c6e35  ...        0\n",
       "5  00025465d4725e87  ...        0\n",
       "\n",
       "[5 rows x 4 columns]"
      ]
     },
     "execution_count": 9,
     "metadata": {
      "tags": []
     },
     "output_type": "execute_result"
    }
   ],
   "source": [
    "data_df.rename({'neutral':'subjectivity','toxic_class':'toxicity'},axis=1,inplace=True)\n",
    "data_df.head()"
   ]
  },
  {
   "cell_type": "code",
   "execution_count": null,
   "metadata": {
    "id": "pDhz60Eyrh6L"
   },
   "outputs": [],
   "source": [
    "# tweets = pd.read_csv(f'{data_folder}/preprocessed_neg_train.csv')\n",
    "# tweets.drop('id', axis=1, inplace=True)\n",
    "# tweets['comment_text'] = tweets['comment_text'].astype(str)\n",
    "# tweets.rename({'toxic':'toxicity'},axis=1,inplace=True)\n",
    "# tweets.head()"
   ]
  },
  {
   "cell_type": "code",
   "execution_count": null,
   "metadata": {
    "id": "SVKp8rpas4fb"
   },
   "outputs": [],
   "source": [
    "# def delete_repeated_char(text):\n",
    "#     text = re.sub(r'(\\w)\\1{2,}', r'\\1', text)\n",
    "#     return text\n",
    "# def remove_punc(tweet):\n",
    "#     tweet =  tweet.translate(str.maketrans('', '', string.punctuation))\n",
    "#     tweet = ' '.join([word for word in tweet.split()])\n",
    "#     tweet = tweet.lower()\n",
    "#     return tweet"
   ]
  },
  {
   "cell_type": "code",
   "execution_count": null,
   "metadata": {
    "colab": {
     "base_uri": "https://localhost:8080/"
    },
    "executionInfo": {
     "elapsed": 69313,
     "status": "ok",
     "timestamp": 1616754991715,
     "user": {
      "displayName": "Shearman Chua",
      "photoUrl": "",
      "userId": "02072421428658916568"
     },
     "user_tz": -480
    },
    "id": "7gQnUDsNtpeA",
    "outputId": "234f5fc8-442f-4a36-a931-aee46b89ca75"
   },
   "outputs": [
    {
     "name": "stdout",
     "output_type": "stream",
     "text": [
      "<class 'pandas.core.frame.DataFrame'>\n",
      "Int64Index: 143613 entries, 0 to 159570\n",
      "Data columns (total 3 columns):\n",
      " #   Column        Non-Null Count   Dtype \n",
      "---  ------        --------------   ----- \n",
      " 0   comment_text  143613 non-null  object\n",
      " 1   subjectivity  143613 non-null  int64 \n",
      " 2   toxicity      143613 non-null  int64 \n",
      "dtypes: int64(2), object(1)\n",
      "memory usage: 4.4+ MB\n"
     ]
    },
    {
     "name": "stderr",
     "output_type": "stream",
     "text": [
      "/usr/local/lib/python3.7/dist-packages/pandas/core/frame.py:4174: SettingWithCopyWarning: \n",
      "A value is trying to be set on a copy of a slice from a DataFrame\n",
      "\n",
      "See the caveats in the documentation: https://pandas.pydata.org/pandas-docs/stable/user_guide/indexing.html#returning-a-view-versus-a-copy\n",
      "  errors=errors,\n",
      "/usr/local/lib/python3.7/dist-packages/ipykernel_launcher.py:2: SettingWithCopyWarning: \n",
      "A value is trying to be set on a copy of a slice from a DataFrame.\n",
      "Try using .loc[row_indexer,col_indexer] = value instead\n",
      "\n",
      "See the caveats in the documentation: https://pandas.pydata.org/pandas-docs/stable/user_guide/indexing.html#returning-a-view-versus-a-copy\n",
      "  \n"
     ]
    }
   ],
   "source": [
    "data_df.drop('id', axis=1, inplace=True)\n",
    "data_df['comment_text'] = data_df['comment_text'].astype(str)\n",
    "data_df.info()"
   ]
  },
  {
   "cell_type": "code",
   "execution_count": null,
   "metadata": {
    "id": "XaBEJ_1YaGPD"
   },
   "outputs": [],
   "source": [
    "# data_df = data_df.append(tweets)\n",
    "# data_df['comment_text'] = data_df['comment_text'].apply(delete_repeated_char).apply(remove_punc)\n",
    "# data_df['count'] = data_df['comment_text'].str.split().map(len)\n",
    "# drop_indexes = data_df.loc[data_df['count']==0].index.tolist()\n",
    "# data_df = data_df.drop(drop_indexes)\n",
    "\n",
    "# data_df = data_df.drop_duplicates(subset=['comment_text'])\n",
    "\n",
    "# data_df = data_df.sample(frac=1, random_state=42)\n",
    "# data_df.head()"
   ]
  },
  {
   "cell_type": "code",
   "execution_count": null,
   "metadata": {
    "colab": {
     "base_uri": "https://localhost:8080/",
     "height": 289
    },
    "executionInfo": {
     "elapsed": 69250,
     "status": "ok",
     "timestamp": 1616754991716,
     "user": {
      "displayName": "Shearman Chua",
      "photoUrl": "",
      "userId": "02072421428658916568"
     },
     "user_tz": -480
    },
    "id": "y-MXrIDVGrn9",
    "outputId": "8febbc86-965f-4933-d55f-349a75d15aae"
   },
   "outputs": [
    {
     "name": "stderr",
     "output_type": "stream",
     "text": [
      "/usr/local/lib/python3.7/dist-packages/pandas/core/frame.py:4308: SettingWithCopyWarning: \n",
      "A value is trying to be set on a copy of a slice from a DataFrame\n",
      "\n",
      "See the caveats in the documentation: https://pandas.pydata.org/pandas-docs/stable/user_guide/indexing.html#returning-a-view-versus-a-copy\n",
      "  errors=errors,\n"
     ]
    },
    {
     "data": {
      "text/html": [
       "<div>\n",
       "<style scoped>\n",
       "    .dataframe tbody tr th:only-of-type {\n",
       "        vertical-align: middle;\n",
       "    }\n",
       "\n",
       "    .dataframe tbody tr th {\n",
       "        vertical-align: top;\n",
       "    }\n",
       "\n",
       "    .dataframe thead th {\n",
       "        text-align: right;\n",
       "    }\n",
       "</style>\n",
       "<table border=\"1\" class=\"dataframe\">\n",
       "  <thead>\n",
       "    <tr style=\"text-align: right;\">\n",
       "      <th></th>\n",
       "      <th>id</th>\n",
       "      <th>comment_text</th>\n",
       "      <th>subjectivity</th>\n",
       "      <th>toxicity</th>\n",
       "    </tr>\n",
       "  </thead>\n",
       "  <tbody>\n",
       "    <tr>\n",
       "      <th>3</th>\n",
       "      <td>0001b41b1c6bb37e</td>\n",
       "      <td>more i can t make any real suggestions on impr...</td>\n",
       "      <td>0</td>\n",
       "      <td>0</td>\n",
       "    </tr>\n",
       "    <tr>\n",
       "      <th>14</th>\n",
       "      <td>00070ef96486d6f9</td>\n",
       "      <td>oh and the girl above started her arguments wi...</td>\n",
       "      <td>1</td>\n",
       "      <td>0</td>\n",
       "    </tr>\n",
       "    <tr>\n",
       "      <th>38</th>\n",
       "      <td>00169857adbc989b</td>\n",
       "      <td>hi explicit can you block o fenian for edit wa...</td>\n",
       "      <td>1</td>\n",
       "      <td>0</td>\n",
       "    </tr>\n",
       "    <tr>\n",
       "      <th>41</th>\n",
       "      <td>00173958f46763a2</td>\n",
       "      <td>tfd i think we just eced responded to each oth...</td>\n",
       "      <td>0</td>\n",
       "      <td>0</td>\n",
       "    </tr>\n",
       "    <tr>\n",
       "      <th>83</th>\n",
       "      <td>00349c6325526c11</td>\n",
       "      <td>april thank you for experimenting with the pag...</td>\n",
       "      <td>0</td>\n",
       "      <td>0</td>\n",
       "    </tr>\n",
       "  </tbody>\n",
       "</table>\n",
       "</div>"
      ],
      "text/plain": [
       "                  id  ... toxicity\n",
       "3   0001b41b1c6bb37e  ...        0\n",
       "14  00070ef96486d6f9  ...        0\n",
       "38  00169857adbc989b  ...        0\n",
       "41  00173958f46763a2  ...        0\n",
       "83  00349c6325526c11  ...        0\n",
       "\n",
       "[5 rows x 4 columns]"
      ]
     },
     "execution_count": 14,
     "metadata": {
      "tags": []
     },
     "output_type": "execute_result"
    }
   ],
   "source": [
    "test_df.rename({'neutral':'subjectivity','toxic_class':'toxicity'},axis=1,inplace=True)\n",
    "test_df.head()"
   ]
  },
  {
   "cell_type": "code",
   "execution_count": null,
   "metadata": {
    "id": "Ui-fa_JdhxHX"
   },
   "outputs": [],
   "source": [
    "y_true = test_df['toxicity'].values\n",
    "\n",
    "weight = Counter(y_true)"
   ]
  },
  {
   "cell_type": "code",
   "execution_count": null,
   "metadata": {
    "colab": {
     "base_uri": "https://localhost:8080/"
    },
    "executionInfo": {
     "elapsed": 68456,
     "status": "ok",
     "timestamp": 1616754991716,
     "user": {
      "displayName": "Shearman Chua",
      "photoUrl": "",
      "userId": "02072421428658916568"
     },
     "user_tz": -480
    },
    "id": "Yn2fveBVh7f5",
    "outputId": "8eddc5c8-3199-4baa-bcd8-9c3fb0c28ab3"
   },
   "outputs": [
    {
     "name": "stdout",
     "output_type": "stream",
     "text": [
      "Class weights: Counter({0: 14429, 1: 1370, 2: 159})\n"
     ]
    }
   ],
   "source": [
    "print(\"Class weights: \" + str(weight))"
   ]
  },
  {
   "cell_type": "markdown",
   "metadata": {
    "id": "ei6F-Amrow52"
   },
   "source": [
    "## Functions For Processing TF Data"
   ]
  },
  {
   "cell_type": "code",
   "execution_count": null,
   "metadata": {
    "id": "FtrAJ4cRIEJr"
   },
   "outputs": [],
   "source": [
    "MAX_LEN = 192\n",
    "EPOCHS = 4\n",
    "BATCH_SIZE = 16 * strategy.num_replicas_in_sync # for ensemble model\n",
    "# BATCH_SIZE = 8 * strategy.num_replicas_in_sync  # for multihead model"
   ]
  },
  {
   "cell_type": "code",
   "execution_count": null,
   "metadata": {
    "id": "lVQSl6qY1wIh"
   },
   "outputs": [],
   "source": [
    "def one_hot(text,label=None):\n",
    "  \n",
    "  subjectivity_oh = tf.one_hot(label[0],2)\n",
    "  toxicity_oh = tf.one_hot(label[1],3)\n",
    "\n",
    "  return text, {'subjectivity': subjectivity_oh, 'toxicity': toxicity_oh}"
   ]
  },
  {
   "cell_type": "code",
   "execution_count": null,
   "metadata": {
    "id": "JBJN8Faz7TAe"
   },
   "outputs": [],
   "source": [
    "def one_hot_multi(text,label=None):\n",
    "  \n",
    "  subjectivity_oh = tf.one_hot(label[0],2)\n",
    "  toxicity_oh = tf.one_hot(label[1],3)\n",
    "\n",
    "  return text, {'subjectivity': subjectivity_oh, 'toxicity': toxicity_oh}"
   ]
  },
  {
   "cell_type": "markdown",
   "metadata": {
    "id": "odQ7Au7nin5Q"
   },
   "source": [
    "## Normal Ensemble Model Function"
   ]
  },
  {
   "cell_type": "code",
   "execution_count": null,
   "metadata": {
    "id": "8ilt3XmFHfUd"
   },
   "outputs": [],
   "source": [
    "def regular_encode(texts, tokenizer, maxlen=512):\n",
    "    enc_di = tokenizer.batch_encode_plus(\n",
    "             texts, \n",
    "             truncation=True, \n",
    "             return_token_type_ids=False,\n",
    "             pad_to_max_length=True,\n",
    "             max_length=maxlen)\n",
    "    \n",
    "    return np.array(enc_di['input_ids'])\n",
    "\n",
    "def build_model(transformer, model_name, max_len=512):\n",
    "    input_word_ids = Input(shape=(max_len,), dtype=tf.int32, name=\"input_word_ids\")\n",
    "    if model_name == 'bert-base-multilingual-uncased':\n",
    "      sequence_output = transformer.bert(input_word_ids)[0]\n",
    "    elif model_name == 'jplu/tf-xlm-roberta-base':\n",
    "      sequence_output = transformer.roberta(input_word_ids)[0]\n",
    "    cls_token = sequence_output[:, 0, :]\n",
    "    # x = Dense(1024, activation='relu')(cls_token)\n",
    "    # x = Dropout(0.5)(x)\n",
    "    x1 = Dense(512, activation='relu')(cls_token)\n",
    "    x1 = Dropout(0.2)(x1)\n",
    "    x1 = Dense(256, activation='relu')(x1)\n",
    "    x1 = Dropout(0.2)(x1)\n",
    "    x1 = Dense(128, activation='relu')(x1)\n",
    "    x1 = Dropout(0.2)(x1)\n",
    "    x2 = Dense(512, activation='relu')(cls_token)\n",
    "    x2 = Dropout(0.2)(x2)\n",
    "    x2 = Dense(256, activation='relu')(x2)\n",
    "    x2 = Dropout(0.2)(x2)\n",
    "    x2 = Dense(128, activation='relu')(x2)\n",
    "    x2 = Dropout(0.2)(x2)\n",
    "    sub = Dense(2, activation='softmax', name='subjectivity')(x1)\n",
    "    toxic = Dense(3, activation='softmax', name='toxicity')(x2)\n",
    "    \n",
    "    model = Model(inputs=input_word_ids, outputs=[sub,toxic])\n",
    "    loss = 'categorical_crossentropy'\n",
    "    model.compile(Adam(lr=1e-5), loss=[loss, loss],\n",
    "    metrics={'subjectivity':'accuracy', 'toxicity':'accuracy'})\n",
    "    \n",
    "    return model"
   ]
  },
  {
   "cell_type": "markdown",
   "metadata": {
    "id": "dpmSrg7Shf2M"
   },
   "source": [
    "## Ensemble model tranining on Kaggle Data"
   ]
  },
  {
   "cell_type": "code",
   "execution_count": null,
   "metadata": {},
   "outputs": [],
   "source": [
    "save_model_folder = \"/content/drive/MyDrive/CZ4034 - Information Retrieval/models\""
   ]
  },
  {
   "cell_type": "code",
   "execution_count": null,
   "metadata": {
    "colab": {
     "base_uri": "https://localhost:8080/",
     "height": 1000,
     "referenced_widgets": [
      "0860741c878a486993c6f862291af0e4",
      "28d63994456e4936b81003f78ace7b01",
      "73d93d69d2e54f6fb0d7ddeb02731ab1",
      "6787a56ae6b74f68b55124f736868075",
      "4497da890ab942fdb60c836529d8a1d4",
      "b15c03cb371045baba720ac16363438c",
      "b1411b6361904af09a0334a28b7e5879",
      "060464dd80254aa3a64acd4b996a5679",
      "a25222f6aa5445ea91da74cf825de9ed",
      "88282a29d8b64e85896a39d2b74883ad",
      "9b39697f7cdc441dbc158d9b2f7875f5",
      "5a7503f1ffb54cc7bcc20b7c8b645065",
      "08452007fa8c4ae7ade1ca165d079125",
      "98f738dad1d441ddbd945bfcba90ed03",
      "3d638d5eab854a19b436972d8ae59ccd",
      "5495b98857b4428aab0a779aa57b59ad",
      "4f0f3a9cbf754694bca2043270446d3d",
      "64f4cf8e779f490599180b70c233d398",
      "207821a86a464a5cbedf922d9d5fbfbe",
      "71d859c55b7d4f2e83d369b8be3a5f12",
      "34b3306291424a2c8086ff8f0ba9e3df",
      "125a5fb32fcf4440a40254c26ca7796a",
      "25ba45d6696c4dea9d379b66df5b90c7",
      "466e90e3d5ae484a885b2416f1611150"
     ]
    },
    "executionInfo": {
     "elapsed": 6808847,
     "status": "ok",
     "timestamp": 1616678959330,
     "user": {
      "displayName": "Shearman Chua",
      "photoUrl": "",
      "userId": "02072421428658916568"
     },
     "user_tz": -480
    },
    "id": "55D77sd7IgtW",
    "outputId": "fa27d6f2-4ff4-4159-ae80-9c10dcd1dd19"
   },
   "outputs": [
    {
     "name": "stderr",
     "output_type": "stream",
     "text": [
      "Some layers from the model checkpoint at bert-base-multilingual-uncased were not used when initializing TFBertModel: ['mlm___cls', 'nsp___cls']\n",
      "- This IS expected if you are initializing TFBertModel from the checkpoint of a model trained on another task or with another architecture (e.g. initializing a BertForSequenceClassification model from a BertForPreTraining model).\n",
      "- This IS NOT expected if you are initializing TFBertModel from the checkpoint of a model that you expect to be exactly identical (initializing a BertForSequenceClassification model from a BertForSequenceClassification model).\n",
      "All the layers of TFBertModel were initialized from the model checkpoint at bert-base-multilingual-uncased.\n",
      "If your task is similar to the task the model of the checkpoint was trained on, you can already use TFBertModel for predictions without further training.\n",
      "/usr/local/lib/python3.7/dist-packages/transformers/tokenization_utils_base.py:2074: FutureWarning: The `pad_to_max_length` argument is deprecated and will be removed in a future version, use `padding=True` or `padding='longest'` to pad to the longest sequence in the batch, or use `padding='max_length'` to pad to a max length. In this case, you can give a specific length with `max_length` (e.g. `max_length=45`) or leave max_length to None to pad to the maximal input size of the model (e.g. 512 for Bert).\n",
      "  FutureWarning,\n"
     ]
    },
    {
     "name": "stdout",
     "output_type": "stream",
     "text": [
      "Model: \"model\"\n",
      "__________________________________________________________________________________________________\n",
      "Layer (type)                    Output Shape         Param #     Connected to                     \n",
      "==================================================================================================\n",
      "input_word_ids (InputLayer)     [(None, 192)]        0                                            \n",
      "__________________________________________________________________________________________________\n",
      "bert (TFBertMainLayer)          TFBaseModelOutputWit 167356416   input_word_ids[0][0]             \n",
      "__________________________________________________________________________________________________\n",
      "tf.__operators__.getitem (Slici (None, 768)          0           bert[0][0]                       \n",
      "__________________________________________________________________________________________________\n",
      "dense (Dense)                   (None, 512)          393728      tf.__operators__.getitem[0][0]   \n",
      "__________________________________________________________________________________________________\n",
      "dense_3 (Dense)                 (None, 512)          393728      tf.__operators__.getitem[0][0]   \n",
      "__________________________________________________________________________________________________\n",
      "dropout_74 (Dropout)            (None, 512)          0           dense[0][0]                      \n",
      "__________________________________________________________________________________________________\n",
      "dropout_77 (Dropout)            (None, 512)          0           dense_3[0][0]                    \n",
      "__________________________________________________________________________________________________\n",
      "dense_1 (Dense)                 (None, 256)          131328      dropout_74[0][0]                 \n",
      "__________________________________________________________________________________________________\n",
      "dense_4 (Dense)                 (None, 256)          131328      dropout_77[0][0]                 \n",
      "__________________________________________________________________________________________________\n",
      "dropout_75 (Dropout)            (None, 256)          0           dense_1[0][0]                    \n",
      "__________________________________________________________________________________________________\n",
      "dropout_78 (Dropout)            (None, 256)          0           dense_4[0][0]                    \n",
      "__________________________________________________________________________________________________\n",
      "dense_2 (Dense)                 (None, 128)          32896       dropout_75[0][0]                 \n",
      "__________________________________________________________________________________________________\n",
      "dense_5 (Dense)                 (None, 128)          32896       dropout_78[0][0]                 \n",
      "__________________________________________________________________________________________________\n",
      "dropout_76 (Dropout)            (None, 128)          0           dense_2[0][0]                    \n",
      "__________________________________________________________________________________________________\n",
      "dropout_79 (Dropout)            (None, 128)          0           dense_5[0][0]                    \n",
      "__________________________________________________________________________________________________\n",
      "subjectivity (Dense)            (None, 2)            258         dropout_76[0][0]                 \n",
      "__________________________________________________________________________________________________\n",
      "toxicity (Dense)                (None, 3)            387         dropout_79[0][0]                 \n",
      "==================================================================================================\n",
      "Total params: 168,472,965\n",
      "Trainable params: 168,472,965\n",
      "Non-trainable params: 0\n",
      "__________________________________________________________________________________________________\n",
      "Counter({0: 103982, 1: 9756, 2: 1152})\n",
      "Counter({0: 79539, 1: 35351})\n",
      "Epoch 1/4\n",
      "WARNING:tensorflow:Gradients do not exist for variables ['tf_bert_model_1/bert/pooler/dense/kernel:0', 'tf_bert_model_1/bert/pooler/dense/bias:0'] when minimizing the loss.\n"
     ]
    },
    {
     "name": "stderr",
     "output_type": "stream",
     "text": [
      "WARNING:tensorflow:Gradients do not exist for variables ['tf_bert_model_1/bert/pooler/dense/kernel:0', 'tf_bert_model_1/bert/pooler/dense/bias:0'] when minimizing the loss.\n"
     ]
    },
    {
     "name": "stdout",
     "output_type": "stream",
     "text": [
      "WARNING:tensorflow:Gradients do not exist for variables ['tf_bert_model_1/bert/pooler/dense/kernel:0', 'tf_bert_model_1/bert/pooler/dense/bias:0'] when minimizing the loss.\n"
     ]
    },
    {
     "name": "stderr",
     "output_type": "stream",
     "text": [
      "WARNING:tensorflow:Gradients do not exist for variables ['tf_bert_model_1/bert/pooler/dense/kernel:0', 'tf_bert_model_1/bert/pooler/dense/bias:0'] when minimizing the loss.\n"
     ]
    },
    {
     "name": "stdout",
     "output_type": "stream",
     "text": [
      "897/897 [==============================] - 286s 235ms/step - loss: 0.7227 - subjectivity_loss: 0.4680 - toxicity_loss: 0.2547 - subjectivity_accuracy: 0.7763 - toxicity_accuracy: 0.9233 - val_loss: 0.4264 - val_subjectivity_loss: 0.2930 - val_toxicity_loss: 0.1334 - val_subjectivity_accuracy: 0.8780 - val_toxicity_accuracy: 0.9528\n",
      "Epoch 2/4\n",
      "897/897 [==============================] - 198s 221ms/step - loss: 0.4055 - subjectivity_loss: 0.2757 - toxicity_loss: 0.1297 - subjectivity_accuracy: 0.8822 - toxicity_accuracy: 0.9513 - val_loss: 0.3674 - val_subjectivity_loss: 0.2432 - val_toxicity_loss: 0.1242 - val_subjectivity_accuracy: 0.8970 - val_toxicity_accuracy: 0.9544\n",
      "Epoch 3/4\n",
      "897/897 [==============================] - 199s 222ms/step - loss: 0.3492 - subjectivity_loss: 0.2326 - toxicity_loss: 0.1165 - subjectivity_accuracy: 0.9025 - toxicity_accuracy: 0.9552 - val_loss: 0.3518 - val_subjectivity_loss: 0.2342 - val_toxicity_loss: 0.1176 - val_subjectivity_accuracy: 0.8982 - val_toxicity_accuracy: 0.9562\n",
      "Epoch 4/4\n",
      "897/897 [==============================] - 199s 222ms/step - loss: 0.3144 - subjectivity_loss: 0.2058 - toxicity_loss: 0.1086 - subjectivity_accuracy: 0.9157 - toxicity_accuracy: 0.9573 - val_loss: 0.3687 - val_subjectivity_loss: 0.2385 - val_toxicity_loss: 0.1302 - val_subjectivity_accuracy: 0.9055 - val_toxicity_accuracy: 0.9578\n",
      "Counter({0: 103867, 1: 9877, 2: 1146})\n",
      "Counter({0: 79539, 1: 35351})\n",
      "Epoch 1/4\n",
      "897/897 [==============================] - 199s 222ms/step - loss: 0.2952 - subjectivity_loss: 0.1915 - toxicity_loss: 0.1037 - subjectivity_accuracy: 0.9215 - toxicity_accuracy: 0.9592 - val_loss: 0.2839 - val_subjectivity_loss: 0.1874 - val_toxicity_loss: 0.0965 - val_subjectivity_accuracy: 0.9231 - val_toxicity_accuracy: 0.9610\n",
      "Epoch 2/4\n",
      "897/897 [==============================] - 199s 222ms/step - loss: 0.2642 - subjectivity_loss: 0.1680 - toxicity_loss: 0.0962 - subjectivity_accuracy: 0.9320 - toxicity_accuracy: 0.9620 - val_loss: 0.2790 - val_subjectivity_loss: 0.1839 - val_toxicity_loss: 0.0951 - val_subjectivity_accuracy: 0.9267 - val_toxicity_accuracy: 0.9608\n",
      "Epoch 3/4\n",
      "897/897 [==============================] - 199s 222ms/step - loss: 0.2383 - subjectivity_loss: 0.1488 - toxicity_loss: 0.0895 - subjectivity_accuracy: 0.9403 - toxicity_accuracy: 0.9641 - val_loss: 0.3204 - val_subjectivity_loss: 0.2235 - val_toxicity_loss: 0.0969 - val_subjectivity_accuracy: 0.9159 - val_toxicity_accuracy: 0.9601\n",
      "Epoch 4/4\n",
      "897/897 [==============================] - 199s 222ms/step - loss: 0.2082 - subjectivity_loss: 0.1269 - toxicity_loss: 0.0813 - subjectivity_accuracy: 0.9501 - toxicity_accuracy: 0.9669 - val_loss: 0.3163 - val_subjectivity_loss: 0.2122 - val_toxicity_loss: 0.1042 - val_subjectivity_accuracy: 0.9271 - val_toxicity_accuracy: 0.9591\n",
      "Counter({0: 103909, 1: 9828, 2: 1153})\n",
      "Counter({0: 79539, 1: 35351})\n",
      "Epoch 1/4\n",
      "897/897 [==============================] - 199s 222ms/step - loss: 0.2115 - subjectivity_loss: 0.1298 - toxicity_loss: 0.0817 - subjectivity_accuracy: 0.9509 - toxicity_accuracy: 0.9673 - val_loss: 0.2230 - val_subjectivity_loss: 0.1378 - val_toxicity_loss: 0.0853 - val_subjectivity_accuracy: 0.9441 - val_toxicity_accuracy: 0.9656\n",
      "Epoch 2/4\n",
      "897/897 [==============================] - 200s 223ms/step - loss: 0.1838 - subjectivity_loss: 0.1099 - toxicity_loss: 0.0739 - subjectivity_accuracy: 0.9586 - toxicity_accuracy: 0.9697 - val_loss: 0.2044 - val_subjectivity_loss: 0.1270 - val_toxicity_loss: 0.0774 - val_subjectivity_accuracy: 0.9519 - val_toxicity_accuracy: 0.9701\n",
      "Epoch 3/4\n",
      "897/897 [==============================] - 200s 223ms/step - loss: 0.1595 - subjectivity_loss: 0.0917 - toxicity_loss: 0.0678 - subjectivity_accuracy: 0.9654 - toxicity_accuracy: 0.9725 - val_loss: 0.2117 - val_subjectivity_loss: 0.1354 - val_toxicity_loss: 0.0763 - val_subjectivity_accuracy: 0.9521 - val_toxicity_accuracy: 0.9707\n",
      "Epoch 4/4\n",
      "897/897 [==============================] - 200s 223ms/step - loss: 0.1378 - subjectivity_loss: 0.0763 - toxicity_loss: 0.0616 - subjectivity_accuracy: 0.9718 - toxicity_accuracy: 0.9745 - val_loss: 0.2325 - val_subjectivity_loss: 0.1480 - val_toxicity_loss: 0.0845 - val_subjectivity_accuracy: 0.9497 - val_toxicity_accuracy: 0.9668\n",
      "Counter({0: 103849, 1: 9890, 2: 1151})\n",
      "Counter({0: 79539, 1: 35351})\n",
      "Epoch 1/4\n",
      "897/897 [==============================] - 200s 223ms/step - loss: 0.1472 - subjectivity_loss: 0.0830 - toxicity_loss: 0.0642 - subjectivity_accuracy: 0.9700 - toxicity_accuracy: 0.9743 - val_loss: 0.1214 - val_subjectivity_loss: 0.0595 - val_toxicity_loss: 0.0619 - val_subjectivity_accuracy: 0.9789 - val_toxicity_accuracy: 0.9739\n",
      "Epoch 2/4\n",
      "897/897 [==============================] - 200s 223ms/step - loss: 0.1243 - subjectivity_loss: 0.0669 - toxicity_loss: 0.0574 - subjectivity_accuracy: 0.9761 - toxicity_accuracy: 0.9762 - val_loss: 0.1219 - val_subjectivity_loss: 0.0585 - val_toxicity_loss: 0.0635 - val_subjectivity_accuracy: 0.9800 - val_toxicity_accuracy: 0.9744\n",
      "Epoch 3/4\n",
      "897/897 [==============================] - 200s 223ms/step - loss: 0.1084 - subjectivity_loss: 0.0567 - toxicity_loss: 0.0516 - subjectivity_accuracy: 0.9796 - toxicity_accuracy: 0.9788 - val_loss: 0.1382 - val_subjectivity_loss: 0.0770 - val_toxicity_loss: 0.0612 - val_subjectivity_accuracy: 0.9735 - val_toxicity_accuracy: 0.9755\n",
      "Epoch 4/4\n",
      "897/897 [==============================] - 200s 223ms/step - loss: 0.0960 - subjectivity_loss: 0.0486 - toxicity_loss: 0.0473 - subjectivity_accuracy: 0.9830 - toxicity_accuracy: 0.9801 - val_loss: 0.1293 - val_subjectivity_loss: 0.0681 - val_toxicity_loss: 0.0612 - val_subjectivity_accuracy: 0.9774 - val_toxicity_accuracy: 0.9779\n"
     ]
    },
    {
     "name": "stderr",
     "output_type": "stream",
     "text": [
      "/usr/local/lib/python3.7/dist-packages/transformers/tokenization_utils_base.py:2074: FutureWarning: The `pad_to_max_length` argument is deprecated and will be removed in a future version, use `padding=True` or `padding='longest'` to pad to the longest sequence in the batch, or use `padding='max_length'` to pad to a max length. In this case, you can give a specific length with `max_length` (e.g. `max_length=45`) or leave max_length to None to pad to the maximal input size of the model (e.g. 512 for Bert).\n",
      "  FutureWarning,\n"
     ]
    },
    {
     "name": "stdout",
     "output_type": "stream",
     "text": [
      "125/125 [==============================] - 20s 126ms/step\n"
     ]
    },
    {
     "data": {
      "application/vnd.jupyter.widget-view+json": {
       "model_id": "0860741c878a486993c6f862291af0e4",
       "version_major": 2,
       "version_minor": 0
      },
      "text/plain": [
       "HBox(children=(FloatProgress(value=0.0, description='Downloading', max=512.0, style=ProgressStyle(description_…"
      ]
     },
     "metadata": {
      "tags": []
     },
     "output_type": "display_data"
    },
    {
     "name": "stdout",
     "output_type": "stream",
     "text": [
      "\n"
     ]
    },
    {
     "data": {
      "application/vnd.jupyter.widget-view+json": {
       "model_id": "a25222f6aa5445ea91da74cf825de9ed",
       "version_major": 2,
       "version_minor": 0
      },
      "text/plain": [
       "HBox(children=(FloatProgress(value=0.0, description='Downloading', max=1885418496.0, style=ProgressStyle(descr…"
      ]
     },
     "metadata": {
      "tags": []
     },
     "output_type": "display_data"
    },
    {
     "name": "stdout",
     "output_type": "stream",
     "text": [
      "\n"
     ]
    },
    {
     "name": "stderr",
     "output_type": "stream",
     "text": [
      "Some layers from the model checkpoint at jplu/tf-xlm-roberta-base were not used when initializing TFXLMRobertaModel: ['lm_head']\n",
      "- This IS expected if you are initializing TFXLMRobertaModel from the checkpoint of a model trained on another task or with another architecture (e.g. initializing a BertForSequenceClassification model from a BertForPreTraining model).\n",
      "- This IS NOT expected if you are initializing TFXLMRobertaModel from the checkpoint of a model that you expect to be exactly identical (initializing a BertForSequenceClassification model from a BertForSequenceClassification model).\n",
      "All the layers of TFXLMRobertaModel were initialized from the model checkpoint at jplu/tf-xlm-roberta-base.\n",
      "If your task is similar to the task the model of the checkpoint was trained on, you can already use TFXLMRobertaModel for predictions without further training.\n"
     ]
    },
    {
     "data": {
      "application/vnd.jupyter.widget-view+json": {
       "model_id": "4f0f3a9cbf754694bca2043270446d3d",
       "version_major": 2,
       "version_minor": 0
      },
      "text/plain": [
       "HBox(children=(FloatProgress(value=0.0, description='Downloading', max=5069051.0, style=ProgressStyle(descript…"
      ]
     },
     "metadata": {
      "tags": []
     },
     "output_type": "display_data"
    },
    {
     "name": "stdout",
     "output_type": "stream",
     "text": [
      "\n",
      "Model: \"model_1\"\n",
      "__________________________________________________________________________________________________\n",
      "Layer (type)                    Output Shape         Param #     Connected to                     \n",
      "==================================================================================================\n",
      "input_word_ids (InputLayer)     [(None, 192)]        0                                            \n",
      "__________________________________________________________________________________________________\n",
      "roberta (TFRobertaMainLayer)    TFBaseModelOutputWit 278043648   input_word_ids[0][0]             \n",
      "__________________________________________________________________________________________________\n",
      "tf.__operators__.getitem_1 (Sli (None, 768)          0           roberta[0][0]                    \n",
      "__________________________________________________________________________________________________\n",
      "dense_6 (Dense)                 (None, 512)          393728      tf.__operators__.getitem_1[0][0] \n",
      "__________________________________________________________________________________________________\n",
      "dense_9 (Dense)                 (None, 512)          393728      tf.__operators__.getitem_1[0][0] \n",
      "__________________________________________________________________________________________________\n",
      "dropout_117 (Dropout)           (None, 512)          0           dense_6[0][0]                    \n",
      "__________________________________________________________________________________________________\n",
      "dropout_120 (Dropout)           (None, 512)          0           dense_9[0][0]                    \n",
      "__________________________________________________________________________________________________\n",
      "dense_7 (Dense)                 (None, 256)          131328      dropout_117[0][0]                \n",
      "__________________________________________________________________________________________________\n",
      "dense_10 (Dense)                (None, 256)          131328      dropout_120[0][0]                \n",
      "__________________________________________________________________________________________________\n",
      "dropout_118 (Dropout)           (None, 256)          0           dense_7[0][0]                    \n",
      "__________________________________________________________________________________________________\n",
      "dropout_121 (Dropout)           (None, 256)          0           dense_10[0][0]                   \n",
      "__________________________________________________________________________________________________\n",
      "dense_8 (Dense)                 (None, 128)          32896       dropout_118[0][0]                \n",
      "__________________________________________________________________________________________________\n",
      "dense_11 (Dense)                (None, 128)          32896       dropout_121[0][0]                \n",
      "__________________________________________________________________________________________________\n",
      "dropout_119 (Dropout)           (None, 128)          0           dense_8[0][0]                    \n",
      "__________________________________________________________________________________________________\n",
      "dropout_122 (Dropout)           (None, 128)          0           dense_11[0][0]                   \n",
      "__________________________________________________________________________________________________\n",
      "subjectivity (Dense)            (None, 2)            258         dropout_119[0][0]                \n",
      "__________________________________________________________________________________________________\n",
      "toxicity (Dense)                (None, 3)            387         dropout_122[0][0]                \n",
      "==================================================================================================\n",
      "Total params: 279,160,197\n",
      "Trainable params: 279,160,197\n",
      "Non-trainable params: 0\n",
      "__________________________________________________________________________________________________\n",
      "Counter({0: 103982, 1: 9756, 2: 1152})\n",
      "Counter({0: 79539, 1: 35351})\n",
      "Epoch 1/4\n",
      "WARNING:tensorflow:Gradients do not exist for variables ['tfxlm_roberta_model/roberta/pooler/dense/kernel:0', 'tfxlm_roberta_model/roberta/pooler/dense/bias:0'] when minimizing the loss.\n"
     ]
    },
    {
     "name": "stderr",
     "output_type": "stream",
     "text": [
      "WARNING:tensorflow:Gradients do not exist for variables ['tfxlm_roberta_model/roberta/pooler/dense/kernel:0', 'tfxlm_roberta_model/roberta/pooler/dense/bias:0'] when minimizing the loss.\n",
      "/usr/local/lib/python3.7/dist-packages/tensorflow/python/framework/indexed_slices.py:430: UserWarning: Converting sparse IndexedSlices to a dense Tensor with 192001536 elements. This may consume a large amount of memory.\n",
      "  num_elements)\n"
     ]
    },
    {
     "name": "stdout",
     "output_type": "stream",
     "text": [
      "WARNING:tensorflow:Gradients do not exist for variables ['tfxlm_roberta_model/roberta/pooler/dense/kernel:0', 'tfxlm_roberta_model/roberta/pooler/dense/bias:0'] when minimizing the loss.\n"
     ]
    },
    {
     "name": "stderr",
     "output_type": "stream",
     "text": [
      "WARNING:tensorflow:Gradients do not exist for variables ['tfxlm_roberta_model/roberta/pooler/dense/kernel:0', 'tfxlm_roberta_model/roberta/pooler/dense/bias:0'] when minimizing the loss.\n"
     ]
    },
    {
     "name": "stdout",
     "output_type": "stream",
     "text": [
      "897/897 [==============================] - 319s 267ms/step - loss: 1.0519 - subjectivity_loss: 0.6136 - toxicity_loss: 0.4384 - subjectivity_accuracy: 0.6727 - toxicity_accuracy: 0.8592 - val_loss: 0.6079 - val_subjectivity_loss: 0.4196 - val_toxicity_loss: 0.1883 - val_subjectivity_accuracy: 0.8091 - val_toxicity_accuracy: 0.9286\n",
      "Epoch 2/4\n",
      "897/897 [==============================] - 225s 251ms/step - loss: 0.5347 - subjectivity_loss: 0.3706 - toxicity_loss: 0.1641 - subjectivity_accuracy: 0.8367 - toxicity_accuracy: 0.9434 - val_loss: 0.4316 - val_subjectivity_loss: 0.3056 - val_toxicity_loss: 0.1260 - val_subjectivity_accuracy: 0.8659 - val_toxicity_accuracy: 0.9535\n",
      "Epoch 3/4\n",
      "897/897 [==============================] - 225s 250ms/step - loss: 0.4130 - subjectivity_loss: 0.2838 - toxicity_loss: 0.1292 - subjectivity_accuracy: 0.8792 - toxicity_accuracy: 0.9517 - val_loss: 0.3896 - val_subjectivity_loss: 0.2659 - val_toxicity_loss: 0.1237 - val_subjectivity_accuracy: 0.8893 - val_toxicity_accuracy: 0.9519\n",
      "Epoch 4/4\n",
      "897/897 [==============================] - 224s 250ms/step - loss: 0.3688 - subjectivity_loss: 0.2519 - toxicity_loss: 0.1169 - subjectivity_accuracy: 0.8950 - toxicity_accuracy: 0.9540 - val_loss: 0.4088 - val_subjectivity_loss: 0.2838 - val_toxicity_loss: 0.1250 - val_subjectivity_accuracy: 0.8779 - val_toxicity_accuracy: 0.9490\n",
      "Counter({0: 103867, 1: 9877, 2: 1146})\n",
      "Counter({0: 79539, 1: 35351})\n",
      "Epoch 1/4\n",
      "897/897 [==============================] - 225s 251ms/step - loss: 0.3421 - subjectivity_loss: 0.2303 - toxicity_loss: 0.1118 - subjectivity_accuracy: 0.9027 - toxicity_accuracy: 0.9561 - val_loss: 0.3147 - val_subjectivity_loss: 0.2134 - val_toxicity_loss: 0.1012 - val_subjectivity_accuracy: 0.9099 - val_toxicity_accuracy: 0.9590\n",
      "Epoch 2/4\n",
      "897/897 [==============================] - 224s 250ms/step - loss: 0.3153 - subjectivity_loss: 0.2111 - toxicity_loss: 0.1042 - subjectivity_accuracy: 0.9119 - toxicity_accuracy: 0.9588 - val_loss: 0.3558 - val_subjectivity_loss: 0.2484 - val_toxicity_loss: 0.1073 - val_subjectivity_accuracy: 0.8957 - val_toxicity_accuracy: 0.9561\n",
      "Epoch 3/4\n",
      "897/897 [==============================] - 224s 250ms/step - loss: 0.2910 - subjectivity_loss: 0.1932 - toxicity_loss: 0.0979 - subjectivity_accuracy: 0.9198 - toxicity_accuracy: 0.9602 - val_loss: 0.3103 - val_subjectivity_loss: 0.2067 - val_toxicity_loss: 0.1035 - val_subjectivity_accuracy: 0.9172 - val_toxicity_accuracy: 0.9583\n",
      "Epoch 4/4\n",
      "897/897 [==============================] - 225s 251ms/step - loss: 0.2677 - subjectivity_loss: 0.1758 - toxicity_loss: 0.0919 - subjectivity_accuracy: 0.9272 - toxicity_accuracy: 0.9622 - val_loss: 0.3385 - val_subjectivity_loss: 0.2263 - val_toxicity_loss: 0.1121 - val_subjectivity_accuracy: 0.9103 - val_toxicity_accuracy: 0.9533\n",
      "Counter({0: 103909, 1: 9828, 2: 1153})\n",
      "Counter({0: 79539, 1: 35351})\n",
      "Epoch 1/4\n",
      "897/897 [==============================] - 224s 250ms/step - loss: 0.2650 - subjectivity_loss: 0.1731 - toxicity_loss: 0.0920 - subjectivity_accuracy: 0.9295 - toxicity_accuracy: 0.9622 - val_loss: 0.3163 - val_subjectivity_loss: 0.2346 - val_toxicity_loss: 0.0818 - val_subjectivity_accuracy: 0.9036 - val_toxicity_accuracy: 0.9675\n",
      "Epoch 2/4\n",
      "897/897 [==============================] - 225s 251ms/step - loss: 0.2441 - subjectivity_loss: 0.1580 - toxicity_loss: 0.0861 - subjectivity_accuracy: 0.9364 - toxicity_accuracy: 0.9645 - val_loss: 0.2813 - val_subjectivity_loss: 0.1862 - val_toxicity_loss: 0.0950 - val_subjectivity_accuracy: 0.9262 - val_toxicity_accuracy: 0.9606\n",
      "Epoch 3/4\n",
      "897/897 [==============================] - 225s 251ms/step - loss: 0.2196 - subjectivity_loss: 0.1405 - toxicity_loss: 0.0790 - subjectivity_accuracy: 0.9442 - toxicity_accuracy: 0.9677 - val_loss: 0.2955 - val_subjectivity_loss: 0.2034 - val_toxicity_loss: 0.0922 - val_subjectivity_accuracy: 0.9201 - val_toxicity_accuracy: 0.9623\n",
      "Epoch 4/4\n",
      "897/897 [==============================] - 226s 252ms/step - loss: 0.1985 - subjectivity_loss: 0.1253 - toxicity_loss: 0.0733 - subjectivity_accuracy: 0.9507 - toxicity_accuracy: 0.9693 - val_loss: 0.2987 - val_subjectivity_loss: 0.1916 - val_toxicity_loss: 0.1071 - val_subjectivity_accuracy: 0.9269 - val_toxicity_accuracy: 0.9531\n",
      "Counter({0: 103849, 1: 9890, 2: 1151})\n",
      "Counter({0: 79539, 1: 35351})\n",
      "Epoch 1/4\n",
      "897/897 [==============================] - 226s 252ms/step - loss: 0.1979 - subjectivity_loss: 0.1247 - toxicity_loss: 0.0732 - subjectivity_accuracy: 0.9515 - toxicity_accuracy: 0.9703 - val_loss: 0.2194 - val_subjectivity_loss: 0.1479 - val_toxicity_loss: 0.0715 - val_subjectivity_accuracy: 0.9446 - val_toxicity_accuracy: 0.9708\n",
      "Epoch 2/4\n",
      "897/897 [==============================] - 225s 251ms/step - loss: 0.1784 - subjectivity_loss: 0.1109 - toxicity_loss: 0.0675 - subjectivity_accuracy: 0.9578 - toxicity_accuracy: 0.9724 - val_loss: 0.2766 - val_subjectivity_loss: 0.1929 - val_toxicity_loss: 0.0837 - val_subjectivity_accuracy: 0.9272 - val_toxicity_accuracy: 0.9646\n",
      "Epoch 3/4\n",
      "897/897 [==============================] - 228s 254ms/step - loss: 0.1582 - subjectivity_loss: 0.0959 - toxicity_loss: 0.0623 - subjectivity_accuracy: 0.9633 - toxicity_accuracy: 0.9741 - val_loss: 0.2182 - val_subjectivity_loss: 0.1408 - val_toxicity_loss: 0.0774 - val_subjectivity_accuracy: 0.9487 - val_toxicity_accuracy: 0.9686\n",
      "Epoch 4/4\n",
      "897/897 [==============================] - 229s 256ms/step - loss: 0.1420 - subjectivity_loss: 0.0840 - toxicity_loss: 0.0580 - subjectivity_accuracy: 0.9677 - toxicity_accuracy: 0.9762 - val_loss: 0.2349 - val_subjectivity_loss: 0.1571 - val_toxicity_loss: 0.0778 - val_subjectivity_accuracy: 0.9429 - val_toxicity_accuracy: 0.9689\n"
     ]
    },
    {
     "name": "stderr",
     "output_type": "stream",
     "text": [
      "/usr/local/lib/python3.7/dist-packages/transformers/tokenization_utils_base.py:2074: FutureWarning: The `pad_to_max_length` argument is deprecated and will be removed in a future version, use `padding=True` or `padding='longest'` to pad to the longest sequence in the batch, or use `padding='max_length'` to pad to a max length. In this case, you can give a specific length with `max_length` (e.g. `max_length=45`) or leave max_length to None to pad to the maximal input size of the model (e.g. 512 for Bert).\n",
      "  FutureWarning,\n"
     ]
    },
    {
     "name": "stdout",
     "output_type": "stream",
     "text": [
      "125/125 [==============================] - 24s 137ms/step\n"
     ]
    }
   ],
   "source": [
    "MODEL_NAMES = ['bert-base-multilingual-uncased','jplu/tf-xlm-roberta-base']\n",
    "models = [0 for i in range(len(MODEL_NAMES))]\n",
    "test_probs = [0 for i in range(len(MODEL_NAMES))]\n",
    "test_results = [0 for i in range(len(MODEL_NAMES))]\n",
    "\n",
    "with strategy.scope():\n",
    "    \n",
    "    for i in range(len(MODEL_NAMES)):\n",
    "        \n",
    "        models[i] = transformers.TFAutoModel.from_pretrained(MODEL_NAMES[i])\n",
    "        # models[i].trainable = False\n",
    "        \n",
    "        tokenizer = transformers.AutoTokenizer.from_pretrained(MODEL_NAMES[i])\n",
    "        reviews = regular_encode(data_df.comment_text.astype(str).values.tolist(), tokenizer, maxlen=MAX_LEN)\n",
    "    \n",
    "        sss = StratifiedShuffleSplit(n_splits=4, random_state=42, test_size=0.2)\n",
    "        X, y = reviews, data_df.subjectivity.astype(int).values\n",
    "        z = data_df.toxicity.astype(int).values\n",
    "\n",
    "        models[i] = build_model(models[i], MODEL_NAMES[i], max_len=MAX_LEN)\n",
    "        models[i].summary()\n",
    "\n",
    "        tf.keras.utils.plot_model(\n",
    "          models[i],\n",
    "          to_file=f\"{save_model_folder}/{str(i)}_model.png\",\n",
    "          show_shapes=True,\n",
    "          show_dtype=False,\n",
    "          show_layer_names=True,\n",
    "          rankdir=\"TB\",\n",
    "          expand_nested=False,\n",
    "          dpi=300,\n",
    "        )\n",
    "\n",
    "        for train_index, valid_index in sss.split(X, y):\n",
    "\n",
    "            X_train, X_valid = X[train_index], X[valid_index]\n",
    "            y_train, y_valid = y[train_index], y[valid_index]\n",
    "            z_train, z_valid = z[train_index], z[valid_index]\n",
    "\n",
    "            train_df = pd.DataFrame()\n",
    "            train_df['sub'] = y_train\n",
    "            train_df['tox'] = z_train\n",
    "            label_cols = train_df.columns[:]\n",
    "            labels = train_df[label_cols].values\n",
    "\n",
    "            y_true = train_df['tox'].values\n",
    "            print(Counter(y_true))\n",
    "            y_true = train_df['sub'].values\n",
    "            print(Counter(y_true))\n",
    "\n",
    "            train_dataset = (\n",
    "                tf.data.Dataset\n",
    "                .from_tensor_slices((X_train,labels))\n",
    "                .map(one_hot, num_parallel_calls=AUTO)\n",
    "                .repeat()\n",
    "                .shuffle(2048)\n",
    "                .batch(BATCH_SIZE)\n",
    "                .prefetch(AUTO)\n",
    "            )\n",
    "\n",
    "            valid_df = pd.DataFrame()\n",
    "            valid_df['sub'] = y_valid\n",
    "            valid_df['tox'] = z_valid\n",
    "            label_cols = valid_df.columns[:]\n",
    "            labels = valid_df[label_cols].values\n",
    "\n",
    "            valid_dataset = (\n",
    "                tf.data.Dataset\n",
    "                .from_tensor_slices((X_valid, labels))\n",
    "                .map(one_hot,num_parallel_calls=AUTO)\n",
    "                .batch(BATCH_SIZE)\n",
    "                .cache()\n",
    "                .prefetch(AUTO)\n",
    "            )\n",
    "\n",
    "            n_steps = X_train.shape[0] // BATCH_SIZE\n",
    "            models[i].fit(\n",
    "                train_dataset,\n",
    "                steps_per_epoch=n_steps,\n",
    "                validation_data=valid_dataset,\n",
    "                epochs=EPOCHS\n",
    "            )\n",
    "            \n",
    "        test_reviews = regular_encode(test_df.comment_text.astype(str).values.tolist(), tokenizer, maxlen=MAX_LEN)\n",
    "\n",
    "        test_dataset = (\n",
    "        tf.data.Dataset\n",
    "        .from_tensor_slices((test_reviews))\n",
    "        .batch(BATCH_SIZE)\n",
    "        .prefetch(AUTO)\n",
    "        )\n",
    "\n",
    "        test_probs[i] = models[i].predict(test_dataset, verbose=1)\n",
    "        models[i].save(f\"{save_model_folder}/ensemble_model_{str(i)}.h5\")"
   ]
  },
  {
   "cell_type": "markdown",
   "metadata": {
    "id": "6lE7qk3YhoY3"
   },
   "source": [
    "## Ensemble Model Test Results On Kaggle Data"
   ]
  },
  {
   "cell_type": "code",
   "execution_count": null,
   "metadata": {
    "colab": {
     "base_uri": "https://localhost:8080/"
    },
    "executionInfo": {
     "elapsed": 759,
     "status": "ok",
     "timestamp": 1616679678901,
     "user": {
      "displayName": "Shearman Chua",
      "photoUrl": "",
      "userId": "02072421428658916568"
     },
     "user_tz": -480
    },
    "id": "9ggvs3sce-hf",
    "outputId": "eff78a57-de08-4480-d02c-35af94257468"
   },
   "outputs": [
    {
     "data": {
      "text/plain": [
       "array([[9.9983299e-01, 1.6702294e-04],\n",
       "       [9.7398274e-03, 9.9026024e-01],\n",
       "       [5.8313653e-02, 9.4168639e-01],\n",
       "       ...,\n",
       "       [9.9994791e-01, 5.2071457e-05],\n",
       "       [9.9996579e-01, 3.4183930e-05],\n",
       "       [3.7037894e-06, 9.9999630e-01]], dtype=float32)"
      ]
     },
     "execution_count": 25,
     "metadata": {
      "tags": []
     },
     "output_type": "execute_result"
    }
   ],
   "source": [
    "test_probs[0][0]"
   ]
  },
  {
   "cell_type": "code",
   "execution_count": null,
   "metadata": {
    "colab": {
     "base_uri": "https://localhost:8080/",
     "height": 408
    },
    "executionInfo": {
     "elapsed": 863,
     "status": "ok",
     "timestamp": 1616679680575,
     "user": {
      "displayName": "Shearman Chua",
      "photoUrl": "",
      "userId": "02072421428658916568"
     },
     "user_tz": -480
    },
    "id": "V42FEqLUfGvi",
    "outputId": "c91a70b8-fc40-4bec-edfd-5f6abcbccbaa"
   },
   "outputs": [
    {
     "name": "stderr",
     "output_type": "stream",
     "text": [
      "/usr/local/lib/python3.7/dist-packages/ipykernel_launcher.py:1: SettingWithCopyWarning: \n",
      "A value is trying to be set on a copy of a slice from a DataFrame.\n",
      "Try using .loc[row_indexer,col_indexer] = value instead\n",
      "\n",
      "See the caveats in the documentation: https://pandas.pydata.org/pandas-docs/stable/user_guide/indexing.html#returning-a-view-versus-a-copy\n",
      "  \"\"\"Entry point for launching an IPython kernel.\n",
      "/usr/local/lib/python3.7/dist-packages/ipykernel_launcher.py:2: SettingWithCopyWarning: \n",
      "A value is trying to be set on a copy of a slice from a DataFrame.\n",
      "Try using .loc[row_indexer,col_indexer] = value instead\n",
      "\n",
      "See the caveats in the documentation: https://pandas.pydata.org/pandas-docs/stable/user_guide/indexing.html#returning-a-view-versus-a-copy\n",
      "  \n"
     ]
    },
    {
     "data": {
      "text/html": [
       "<div>\n",
       "<style scoped>\n",
       "    .dataframe tbody tr th:only-of-type {\n",
       "        vertical-align: middle;\n",
       "    }\n",
       "\n",
       "    .dataframe tbody tr th {\n",
       "        vertical-align: top;\n",
       "    }\n",
       "\n",
       "    .dataframe thead th {\n",
       "        text-align: right;\n",
       "    }\n",
       "</style>\n",
       "<table border=\"1\" class=\"dataframe\">\n",
       "  <thead>\n",
       "    <tr style=\"text-align: right;\">\n",
       "      <th></th>\n",
       "      <th>id</th>\n",
       "      <th>comment_text</th>\n",
       "      <th>subjectivity</th>\n",
       "      <th>toxicity</th>\n",
       "      <th>sub_pred</th>\n",
       "      <th>tox_pred</th>\n",
       "    </tr>\n",
       "  </thead>\n",
       "  <tbody>\n",
       "    <tr>\n",
       "      <th>3</th>\n",
       "      <td>0001b41b1c6bb37e</td>\n",
       "      <td>more i can t make any real suggestions on impr...</td>\n",
       "      <td>0</td>\n",
       "      <td>0</td>\n",
       "      <td>0</td>\n",
       "      <td>0</td>\n",
       "    </tr>\n",
       "    <tr>\n",
       "      <th>14</th>\n",
       "      <td>00070ef96486d6f9</td>\n",
       "      <td>oh and the girl above started her arguments wi...</td>\n",
       "      <td>1</td>\n",
       "      <td>0</td>\n",
       "      <td>1</td>\n",
       "      <td>0</td>\n",
       "    </tr>\n",
       "    <tr>\n",
       "      <th>38</th>\n",
       "      <td>00169857adbc989b</td>\n",
       "      <td>hi explicit can you block o fenian for edit wa...</td>\n",
       "      <td>1</td>\n",
       "      <td>0</td>\n",
       "      <td>1</td>\n",
       "      <td>0</td>\n",
       "    </tr>\n",
       "    <tr>\n",
       "      <th>41</th>\n",
       "      <td>00173958f46763a2</td>\n",
       "      <td>tfd i think we just eced responded to each oth...</td>\n",
       "      <td>0</td>\n",
       "      <td>0</td>\n",
       "      <td>0</td>\n",
       "      <td>0</td>\n",
       "    </tr>\n",
       "    <tr>\n",
       "      <th>83</th>\n",
       "      <td>00349c6325526c11</td>\n",
       "      <td>april thank you for experimenting with the pag...</td>\n",
       "      <td>0</td>\n",
       "      <td>0</td>\n",
       "      <td>0</td>\n",
       "      <td>0</td>\n",
       "    </tr>\n",
       "  </tbody>\n",
       "</table>\n",
       "</div>"
      ],
      "text/plain": [
       "                  id  ... tox_pred\n",
       "3   0001b41b1c6bb37e  ...        0\n",
       "14  00070ef96486d6f9  ...        0\n",
       "38  00169857adbc989b  ...        0\n",
       "41  00173958f46763a2  ...        0\n",
       "83  00349c6325526c11  ...        0\n",
       "\n",
       "[5 rows x 6 columns]"
      ]
     },
     "execution_count": 26,
     "metadata": {
      "tags": []
     },
     "output_type": "execute_result"
    }
   ],
   "source": [
    "test_df['sub_pred'] = np.argmax(((test_probs[0][0] + test_probs[1][0])/2), axis = 1)\n",
    "test_df['tox_pred'] = np.argmax(((test_probs[0][1] + test_probs[1][1])/2), axis = 1)\n",
    "test_df.head()"
   ]
  },
  {
   "cell_type": "code",
   "execution_count": null,
   "metadata": {
    "colab": {
     "base_uri": "https://localhost:8080/"
    },
    "executionInfo": {
     "elapsed": 1181,
     "status": "ok",
     "timestamp": 1616679681841,
     "user": {
      "displayName": "Shearman Chua",
      "photoUrl": "",
      "userId": "02072421428658916568"
     },
     "user_tz": -480
    },
    "id": "6hrJZHLuBi0c",
    "outputId": "33eff164-a1ea-4182-ca73-73ed6dcda023"
   },
   "outputs": [
    {
     "name": "stdout",
     "output_type": "stream",
     "text": [
      "subjectivity f1 score: 0.9076325354054393\n",
      "subjectivity precision score: 0.9076325354054393\n",
      "subjectivity recall score: 0.9076325354054393\n",
      "\n",
      "\n",
      "toxicity f1 score: 0.957638801854869\n",
      "toxicity precision score: 0.957638801854869\n",
      "toxicity recall score: 0.957638801854869\n"
     ]
    }
   ],
   "source": [
    "from sklearn.metrics import f1_score,precision_score,recall_score\n",
    "\n",
    "y_true = test_df['subjectivity'].values\n",
    "y_pred = test_df['sub_pred'].values\n",
    "\n",
    "print(\"subjectivity f1 score: \" + str(f1_score(y_true, y_pred, average='micro')))\n",
    "print(\"subjectivity precision score: \" + str(precision_score(y_true, y_pred, average='micro')))\n",
    "print(\"subjectivity recall score: \" + str(recall_score(y_true, y_pred, average='micro')))\n",
    "print('\\n')\n",
    "y_true = test_df['toxicity'].values\n",
    "y_pred = test_df['tox_pred'].values\n",
    "print(\"toxicity f1 score: \" + str(f1_score(y_true, y_pred, average='micro')))\n",
    "print(\"toxicity precision score: \" + str(precision_score(y_true, y_pred, average='micro')))\n",
    "print(\"toxicity recall score: \" + str(recall_score(y_true, y_pred, average='micro')))"
   ]
  },
  {
   "cell_type": "code",
   "execution_count": null,
   "metadata": {
    "colab": {
     "base_uri": "https://localhost:8080/"
    },
    "executionInfo": {
     "elapsed": 945,
     "status": "ok",
     "timestamp": 1616679684737,
     "user": {
      "displayName": "Shearman Chua",
      "photoUrl": "",
      "userId": "02072421428658916568"
     },
     "user_tz": -480
    },
    "id": "XWqvf4rrBl7O",
    "outputId": "57625975-4067-4586-9480-b88f6c48d3bb"
   },
   "outputs": [
    {
     "data": {
      "text/plain": [
       "Counter({0: 10758, 1: 5200})"
      ]
     },
     "execution_count": 28,
     "metadata": {
      "tags": []
     },
     "output_type": "execute_result"
    }
   ],
   "source": [
    "from collections import Counter\n",
    "\n",
    "y_true = test_df['sub_pred'].values\n",
    "\n",
    "Counter(y_true)"
   ]
  },
  {
   "cell_type": "code",
   "execution_count": null,
   "metadata": {
    "colab": {
     "base_uri": "https://localhost:8080/"
    },
    "executionInfo": {
     "elapsed": 823,
     "status": "ok",
     "timestamp": 1616679685044,
     "user": {
      "displayName": "Shearman Chua",
      "photoUrl": "",
      "userId": "02072421428658916568"
     },
     "user_tz": -480
    },
    "id": "GDfaz-lJBmdC",
    "outputId": "d3520de6-5eea-4f33-9083-fd29472e8936"
   },
   "outputs": [
    {
     "data": {
      "text/plain": [
       "Counter({0: 14481, 1: 1318, 2: 159})"
      ]
     },
     "execution_count": 29,
     "metadata": {
      "tags": []
     },
     "output_type": "execute_result"
    }
   ],
   "source": [
    "y_true = test_df['tox_pred'].values\n",
    "\n",
    "Counter(y_true)"
   ]
  },
  {
   "cell_type": "markdown",
   "metadata": {
    "id": "kq9abL_g6w3b"
   },
   "source": [
    "## Multi-head Model Function"
   ]
  },
  {
   "cell_type": "code",
   "execution_count": null,
   "metadata": {
    "id": "U7SZ4US8plCL"
   },
   "outputs": [],
   "source": [
    "BATCH_SIZE = 8 * strategy.num_replicas_in_sync  # for multihead model\n",
    "def regular_encode(texts, tokenizer, maxlen=512):\n",
    "    enc_di = tokenizer.batch_encode_plus(\n",
    "             texts, \n",
    "             truncation=True, \n",
    "             return_token_type_ids=False,\n",
    "             pad_to_max_length=True,\n",
    "             max_length=maxlen)\n",
    "    \n",
    "    return np.array(enc_di['input_ids'])\n",
    "\n",
    "def build_model(max_len=512):\n",
    "    \n",
    "    transformer = transformers.TFAutoModel.from_pretrained('bert-base-multilingual-uncased')\n",
    "    transformer2 = transformers.TFAutoModel.from_pretrained('jplu/tf-xlm-roberta-base')\n",
    "    input_word_ids_1 = Input(shape=(max_len,), dtype=tf.int32, name=\"input_word_ids_1\")\n",
    "    input_word_ids_2 = Input(shape=(max_len,), dtype=tf.int32, name=\"input_word_ids_2\")\n",
    "    sequence_output1 = transformer.bert(input_word_ids_1)[0]\n",
    "    sequence_output2 = transformer2.roberta(input_word_ids_2)[0]\n",
    "    cls_token1 = sequence_output1[:, 0, :]\n",
    "    cls_token2 = sequence_output2[:, 0, :]\n",
    "    x = Average()([cls_token1,cls_token2])\n",
    "    # x = Dropout(0.5)(x)\n",
    "    x1 = Dense(512, activation='relu')(x)\n",
    "    x1 = Dropout(0.2)(x1)\n",
    "    x1 = Dense(256, activation='relu')(x1)\n",
    "    x1 = Dropout(0.2)(x1)\n",
    "    x1 = Dense(128, activation='relu')(x1)\n",
    "    x1 = Dropout(0.2)(x1)\n",
    "    x2 = Dense(512, activation='relu')(x)\n",
    "    x2 = Dropout(0.2)(x2)\n",
    "    x2 = Dense(256, activation='relu')(x2)\n",
    "    x2 = Dropout(0.2)(x2)\n",
    "    x2 = Dense(128, activation='relu')(x2)\n",
    "    x2 = Dropout(0.2)(x2)\n",
    "    sub = Dense(2, activation='softmax', name='subjectivity')(x1)\n",
    "    toxic = Dense(3, activation='softmax', name='toxicity')(x2)\n",
    "    \n",
    "    model = Model(inputs=[input_word_ids_1,input_word_ids_2], outputs=[sub,toxic])\n",
    "    loss = tfa.losses.SigmoidFocalCrossEntropy(reduction=tf.keras.losses.Reduction.AUTO)\n",
    "    model.compile(Adam(lr=1e-6), loss=[loss, loss],\n",
    "    metrics={'subjectivity':'accuracy', 'toxicity':'accuracy'})\n",
    "    \n",
    "    return model"
   ]
  },
  {
   "cell_type": "markdown",
   "metadata": {
    "id": "hWpkuwlJ7BwY"
   },
   "source": [
    "## Multi-head Model Training on Kaggle Data"
   ]
  },
  {
   "cell_type": "code",
   "execution_count": null,
   "metadata": {
    "colab": {
     "base_uri": "https://localhost:8080/",
     "height": 1000,
     "referenced_widgets": [
      "4f9193599a414043a7ce56512cfebb8e",
      "6c9c7edac6c34ad3814833cd1ccc0d5a",
      "0bcfb2242e324b09af12eb7845d060b7",
      "6a12045461b24edba3cc17bcf4ca0958",
      "6ec3f2d77874494b95e78bbd224ceea7",
      "77c612e815f64333aa7bc32503126041",
      "b2c30a64c21c4e46ae5b405a570201c8",
      "d5b3a91b2a22421f9b18b9d7cf35135a",
      "00b46edeaa2845f7817bf9de36020f82",
      "de34af03bfa0451ca7129bdf323d8f61",
      "c0eaf5efc9864d989a79cf4906c0d32d",
      "059fa6391093424f8c7531f33f1bd2e7",
      "172893b06a4a4a3aa2d82709eca2860a",
      "c4126c68128e4d5880412b7128627a39",
      "4c3651dc1fc840a4a144242d3f908915",
      "934659f77f81439a877580e4d539084d",
      "12ad2667c8424db2af287ce219f5d769",
      "9de048051970485f871eeafdd91fc800",
      "1300e2ba1aaa422cb6e77fb6e3f12343",
      "6e7ceef1eee0411ab268070a631bfb56",
      "5a2f5260d31247c79ecb0eab643c4586",
      "c4f4567c7e7e49e79259d5be145f2775",
      "7f4d8ba5a1b247fbb6caa3b89d3a0ca9",
      "ac7783ff3f33497aa20376646c9778bf",
      "8ca6251d83894d7c8ebdc77a5ab68a64",
      "0488ab8011984f209390091a215ea050",
      "dd915b5d951f4fca9ed45ea5983dfea1",
      "0d991c6db0864a2f9a1d3bff0795b04f",
      "e066b5be0417465c9cc76d4b6f6e72fd",
      "d9c6652e6ec344e49a00a860709acb94",
      "21a4ab81f6d246cb99ffeb4f12fdbfd7",
      "567306995532472cbd40421b13f10865",
      "888dce156c2948e79a03b6377de33a9c",
      "c06015d788a94685ba51f3725efa255c",
      "a283ae6844614c06b8cb4f16fe4b3581",
      "23a68e13c0dc4d92ad0a47daf12624a2",
      "b0f8111afc34451196538c5cb69053c3",
      "fc1015009ac9471d84a3708d10b08f92",
      "2e3f0682c8e745a2ae49f0d0148103e2",
      "0ec42daf33a247f394f0dedfce2b7397",
      "49f0077d202945f792de36333ee052a3",
      "eecc688fc5da4c8485b2f8ace342cb83",
      "27ac8445691e4da3966a483acc11f141",
      "8b3658daeaa3485ca441ada8e9988937",
      "a53188d8880c4e6dbc81ed6f2db744df",
      "3a3f7676c0044ca6b99e5f49e6e71039",
      "f77a45aa23e14f2db1d762bc08454c75",
      "729b85db06f64316935c16d46cac01fa",
      "5e8efef9588247c3a096b058c150a545",
      "26ca8ecb6acd4d46842df27f02c3b49b",
      "53f50e43fb234cc79b4da9e8b7340083",
      "914622ed4e8a40b4b0a5485983d0ef55",
      "046f27e0e78745e3af4f9079678172c6",
      "a615a7d573314ff8885b3d3827fcbbc7",
      "6bb4b64ddd4041c2aaee39727158d2eb",
      "c0e37a93392b4c7d9e62bd4c3c820bf2",
      "9601a38f5e3f4d3398b1e520276135fd",
      "77d1729390d749a7899ead7498f7a4e9",
      "0c69bf8d8c234e98bd18e6e582e46ba5",
      "93dca82b635049159361d0ca629c169e",
      "e5012ecbbbfa46d1b56cad57c2fe9e47",
      "2e5c706cfb4544f38cb78697faf1eb2c",
      "07e8aed628fa4e5c965c4b36fb0fe36b",
      "2471db3f26874fa78a60450d01ca4f84"
     ]
    },
    "executionInfo": {
     "elapsed": 8645867,
     "status": "ok",
     "timestamp": 1616766544012,
     "user": {
      "displayName": "Shearman Chua",
      "photoUrl": "",
      "userId": "02072421428658916568"
     },
     "user_tz": -480
    },
    "id": "8AVDwb8PpPOt",
    "outputId": "4445c7fd-ab0e-4aa3-aafc-0d68244cd2e4"
   },
   "outputs": [
    {
     "data": {
      "application/vnd.jupyter.widget-view+json": {
       "model_id": "4f9193599a414043a7ce56512cfebb8e",
       "version_major": 2,
       "version_minor": 0
      },
      "text/plain": [
       "HBox(children=(FloatProgress(value=0.0, description='Downloading', max=625.0, style=ProgressStyle(description_…"
      ]
     },
     "metadata": {
      "tags": []
     },
     "output_type": "display_data"
    },
    {
     "name": "stdout",
     "output_type": "stream",
     "text": [
      "\n"
     ]
    },
    {
     "data": {
      "application/vnd.jupyter.widget-view+json": {
       "model_id": "00b46edeaa2845f7817bf9de36020f82",
       "version_major": 2,
       "version_minor": 0
      },
      "text/plain": [
       "HBox(children=(FloatProgress(value=0.0, description='Downloading', max=871891.0, style=ProgressStyle(descripti…"
      ]
     },
     "metadata": {
      "tags": []
     },
     "output_type": "display_data"
    },
    {
     "name": "stdout",
     "output_type": "stream",
     "text": [
      "\n"
     ]
    },
    {
     "data": {
      "application/vnd.jupyter.widget-view+json": {
       "model_id": "12ad2667c8424db2af287ce219f5d769",
       "version_major": 2,
       "version_minor": 0
      },
      "text/plain": [
       "HBox(children=(FloatProgress(value=0.0, description='Downloading', max=1715180.0, style=ProgressStyle(descript…"
      ]
     },
     "metadata": {
      "tags": []
     },
     "output_type": "display_data"
    },
    {
     "name": "stdout",
     "output_type": "stream",
     "text": [
      "\n"
     ]
    },
    {
     "data": {
      "application/vnd.jupyter.widget-view+json": {
       "model_id": "8ca6251d83894d7c8ebdc77a5ab68a64",
       "version_major": 2,
       "version_minor": 0
      },
      "text/plain": [
       "HBox(children=(FloatProgress(value=0.0, description='Downloading', max=28.0, style=ProgressStyle(description_w…"
      ]
     },
     "metadata": {
      "tags": []
     },
     "output_type": "display_data"
    },
    {
     "name": "stdout",
     "output_type": "stream",
     "text": [
      "\n"
     ]
    },
    {
     "data": {
      "application/vnd.jupyter.widget-view+json": {
       "model_id": "888dce156c2948e79a03b6377de33a9c",
       "version_major": 2,
       "version_minor": 0
      },
      "text/plain": [
       "HBox(children=(FloatProgress(value=0.0, description='Downloading', max=512.0, style=ProgressStyle(description_…"
      ]
     },
     "metadata": {
      "tags": []
     },
     "output_type": "display_data"
    },
    {
     "name": "stdout",
     "output_type": "stream",
     "text": [
      "\n"
     ]
    },
    {
     "data": {
      "application/vnd.jupyter.widget-view+json": {
       "model_id": "49f0077d202945f792de36333ee052a3",
       "version_major": 2,
       "version_minor": 0
      },
      "text/plain": [
       "HBox(children=(FloatProgress(value=0.0, description='Downloading', max=5069051.0, style=ProgressStyle(descript…"
      ]
     },
     "metadata": {
      "tags": []
     },
     "output_type": "display_data"
    },
    {
     "name": "stdout",
     "output_type": "stream",
     "text": [
      "\n"
     ]
    },
    {
     "name": "stderr",
     "output_type": "stream",
     "text": [
      "/usr/local/lib/python3.7/dist-packages/transformers/tokenization_utils_base.py:2074: FutureWarning: The `pad_to_max_length` argument is deprecated and will be removed in a future version, use `padding=True` or `padding='longest'` to pad to the longest sequence in the batch, or use `padding='max_length'` to pad to a max length. In this case, you can give a specific length with `max_length` (e.g. `max_length=45`) or leave max_length to None to pad to the maximal input size of the model (e.g. 512 for Bert).\n",
      "  FutureWarning,\n"
     ]
    },
    {
     "data": {
      "application/vnd.jupyter.widget-view+json": {
       "model_id": "5e8efef9588247c3a096b058c150a545",
       "version_major": 2,
       "version_minor": 0
      },
      "text/plain": [
       "HBox(children=(FloatProgress(value=0.0, description='Downloading', max=999358484.0, style=ProgressStyle(descri…"
      ]
     },
     "metadata": {
      "tags": []
     },
     "output_type": "display_data"
    },
    {
     "name": "stdout",
     "output_type": "stream",
     "text": [
      "\n"
     ]
    },
    {
     "name": "stderr",
     "output_type": "stream",
     "text": [
      "Some layers from the model checkpoint at bert-base-multilingual-uncased were not used when initializing TFBertModel: ['mlm___cls', 'nsp___cls']\n",
      "- This IS expected if you are initializing TFBertModel from the checkpoint of a model trained on another task or with another architecture (e.g. initializing a BertForSequenceClassification model from a BertForPreTraining model).\n",
      "- This IS NOT expected if you are initializing TFBertModel from the checkpoint of a model that you expect to be exactly identical (initializing a BertForSequenceClassification model from a BertForSequenceClassification model).\n",
      "All the layers of TFBertModel were initialized from the model checkpoint at bert-base-multilingual-uncased.\n",
      "If your task is similar to the task the model of the checkpoint was trained on, you can already use TFBertModel for predictions without further training.\n"
     ]
    },
    {
     "data": {
      "application/vnd.jupyter.widget-view+json": {
       "model_id": "9601a38f5e3f4d3398b1e520276135fd",
       "version_major": 2,
       "version_minor": 0
      },
      "text/plain": [
       "HBox(children=(FloatProgress(value=0.0, description='Downloading', max=1885418496.0, style=ProgressStyle(descr…"
      ]
     },
     "metadata": {
      "tags": []
     },
     "output_type": "display_data"
    },
    {
     "name": "stdout",
     "output_type": "stream",
     "text": [
      "\n"
     ]
    },
    {
     "name": "stderr",
     "output_type": "stream",
     "text": [
      "Some layers from the model checkpoint at jplu/tf-xlm-roberta-base were not used when initializing TFXLMRobertaModel: ['lm_head']\n",
      "- This IS expected if you are initializing TFXLMRobertaModel from the checkpoint of a model trained on another task or with another architecture (e.g. initializing a BertForSequenceClassification model from a BertForPreTraining model).\n",
      "- This IS NOT expected if you are initializing TFXLMRobertaModel from the checkpoint of a model that you expect to be exactly identical (initializing a BertForSequenceClassification model from a BertForSequenceClassification model).\n",
      "All the layers of TFXLMRobertaModel were initialized from the model checkpoint at jplu/tf-xlm-roberta-base.\n",
      "If your task is similar to the task the model of the checkpoint was trained on, you can already use TFXLMRobertaModel for predictions without further training.\n"
     ]
    },
    {
     "name": "stdout",
     "output_type": "stream",
     "text": [
      "Model: \"model\"\n",
      "__________________________________________________________________________________________________\n",
      "Layer (type)                    Output Shape         Param #     Connected to                     \n",
      "==================================================================================================\n",
      "input_word_ids_1 (InputLayer)   [(None, 192)]        0                                            \n",
      "__________________________________________________________________________________________________\n",
      "input_word_ids_2 (InputLayer)   [(None, 192)]        0                                            \n",
      "__________________________________________________________________________________________________\n",
      "bert (TFBertMainLayer)          TFBaseModelOutputWit 167356416   input_word_ids_1[0][0]           \n",
      "__________________________________________________________________________________________________\n",
      "roberta (TFRobertaMainLayer)    TFBaseModelOutputWit 278043648   input_word_ids_2[0][0]           \n",
      "__________________________________________________________________________________________________\n",
      "tf.__operators__.getitem (Slici (None, 768)          0           bert[0][0]                       \n",
      "__________________________________________________________________________________________________\n",
      "tf.__operators__.getitem_1 (Sli (None, 768)          0           roberta[0][0]                    \n",
      "__________________________________________________________________________________________________\n",
      "average (Average)               (None, 768)          0           tf.__operators__.getitem[0][0]   \n",
      "                                                                 tf.__operators__.getitem_1[0][0] \n",
      "__________________________________________________________________________________________________\n",
      "dense (Dense)                   (None, 512)          393728      average[0][0]                    \n",
      "__________________________________________________________________________________________________\n",
      "dense_3 (Dense)                 (None, 512)          393728      average[0][0]                    \n",
      "__________________________________________________________________________________________________\n",
      "dropout_74 (Dropout)            (None, 512)          0           dense[0][0]                      \n",
      "__________________________________________________________________________________________________\n",
      "dropout_77 (Dropout)            (None, 512)          0           dense_3[0][0]                    \n",
      "__________________________________________________________________________________________________\n",
      "dense_1 (Dense)                 (None, 256)          131328      dropout_74[0][0]                 \n",
      "__________________________________________________________________________________________________\n",
      "dense_4 (Dense)                 (None, 256)          131328      dropout_77[0][0]                 \n",
      "__________________________________________________________________________________________________\n",
      "dropout_75 (Dropout)            (None, 256)          0           dense_1[0][0]                    \n",
      "__________________________________________________________________________________________________\n",
      "dropout_78 (Dropout)            (None, 256)          0           dense_4[0][0]                    \n",
      "__________________________________________________________________________________________________\n",
      "dense_2 (Dense)                 (None, 128)          32896       dropout_75[0][0]                 \n",
      "__________________________________________________________________________________________________\n",
      "dense_5 (Dense)                 (None, 128)          32896       dropout_78[0][0]                 \n",
      "__________________________________________________________________________________________________\n",
      "dropout_76 (Dropout)            (None, 128)          0           dense_2[0][0]                    \n",
      "__________________________________________________________________________________________________\n",
      "dropout_79 (Dropout)            (None, 128)          0           dense_5[0][0]                    \n",
      "__________________________________________________________________________________________________\n",
      "subjectivity (Dense)            (None, 2)            258         dropout_76[0][0]                 \n",
      "__________________________________________________________________________________________________\n",
      "toxicity (Dense)                (None, 3)            387         dropout_79[0][0]                 \n",
      "==================================================================================================\n",
      "Total params: 446,516,613\n",
      "Trainable params: 446,516,613\n",
      "Non-trainable params: 0\n",
      "__________________________________________________________________________________________________\n",
      "(114890, 2, 192)\n",
      "Counter({0: 103982, 1: 9756, 2: 1152})\n",
      "Counter({0: 79539, 1: 35351})\n",
      "Epoch 1/4\n",
      "WARNING:tensorflow:Gradients do not exist for variables ['tf_bert_model/bert/pooler/dense/kernel:0', 'tf_bert_model/bert/pooler/dense/bias:0', 'tfxlm_roberta_model/roberta/pooler/dense/kernel:0', 'tfxlm_roberta_model/roberta/pooler/dense/bias:0'] when minimizing the loss.\n"
     ]
    },
    {
     "name": "stderr",
     "output_type": "stream",
     "text": [
      "WARNING:tensorflow:Gradients do not exist for variables ['tf_bert_model/bert/pooler/dense/kernel:0', 'tf_bert_model/bert/pooler/dense/bias:0', 'tfxlm_roberta_model/roberta/pooler/dense/kernel:0', 'tfxlm_roberta_model/roberta/pooler/dense/bias:0'] when minimizing the loss.\n",
      "/usr/local/lib/python3.7/dist-packages/tensorflow/python/framework/indexed_slices.py:430: UserWarning: Converting sparse IndexedSlices to a dense Tensor with 192001536 elements. This may consume a large amount of memory.\n",
      "  num_elements)\n"
     ]
    },
    {
     "name": "stdout",
     "output_type": "stream",
     "text": [
      "WARNING:tensorflow:Gradients do not exist for variables ['tf_bert_model/bert/pooler/dense/kernel:0', 'tf_bert_model/bert/pooler/dense/bias:0', 'tfxlm_roberta_model/roberta/pooler/dense/kernel:0', 'tfxlm_roberta_model/roberta/pooler/dense/bias:0'] when minimizing the loss.\n"
     ]
    },
    {
     "name": "stderr",
     "output_type": "stream",
     "text": [
      "WARNING:tensorflow:Gradients do not exist for variables ['tf_bert_model/bert/pooler/dense/kernel:0', 'tf_bert_model/bert/pooler/dense/bias:0', 'tfxlm_roberta_model/roberta/pooler/dense/kernel:0', 'tfxlm_roberta_model/roberta/pooler/dense/bias:0'] when minimizing the loss.\n"
     ]
    },
    {
     "name": "stdout",
     "output_type": "stream",
     "text": [
      "2243/2243 [==============================] - 848s 313ms/step - loss: 0.2381 - subjectivity_loss: 0.1514 - toxicity_loss: 0.0867 - subjectivity_accuracy: 0.6931 - toxicity_accuracy: 0.8491 - val_loss: 0.1430 - val_subjectivity_loss: 0.1043 - val_toxicity_loss: 0.0387 - val_subjectivity_accuracy: 0.8170 - val_toxicity_accuracy: 0.9382\n",
      "Epoch 2/4\n",
      "2243/2243 [==============================] - 672s 300ms/step - loss: 0.1492 - subjectivity_loss: 0.1074 - toxicity_loss: 0.0418 - subjectivity_accuracy: 0.8130 - toxicity_accuracy: 0.9376 - val_loss: 0.1239 - val_subjectivity_loss: 0.0900 - val_toxicity_loss: 0.0339 - val_subjectivity_accuracy: 0.8435 - val_toxicity_accuracy: 0.9426\n",
      "Epoch 3/4\n",
      "2243/2243 [==============================] - 674s 300ms/step - loss: 0.1285 - subjectivity_loss: 0.0933 - toxicity_loss: 0.0351 - subjectivity_accuracy: 0.8438 - toxicity_accuracy: 0.9443 - val_loss: 0.1122 - val_subjectivity_loss: 0.0802 - val_toxicity_loss: 0.0320 - val_subjectivity_accuracy: 0.8656 - val_toxicity_accuracy: 0.9477\n",
      "Epoch 4/4\n",
      "2243/2243 [==============================] - 675s 301ms/step - loss: 0.1193 - subjectivity_loss: 0.0859 - toxicity_loss: 0.0334 - subjectivity_accuracy: 0.8572 - toxicity_accuracy: 0.9464 - val_loss: 0.1143 - val_subjectivity_loss: 0.0829 - val_toxicity_loss: 0.0314 - val_subjectivity_accuracy: 0.8602 - val_toxicity_accuracy: 0.9472\n",
      "(114890, 2, 192)\n",
      "Counter({0: 103867, 1: 9877, 2: 1146})\n",
      "Counter({0: 79539, 1: 35351})\n",
      "Epoch 1/4\n",
      "2243/2243 [==============================] - 676s 301ms/step - loss: 0.1114 - subjectivity_loss: 0.0802 - toxicity_loss: 0.0312 - subjectivity_accuracy: 0.8665 - toxicity_accuracy: 0.9489 - val_loss: 0.1095 - val_subjectivity_loss: 0.0816 - val_toxicity_loss: 0.0280 - val_subjectivity_accuracy: 0.8616 - val_toxicity_accuracy: 0.9510\n",
      "Epoch 2/4\n",
      "2243/2243 [==============================] - 675s 301ms/step - loss: 0.1063 - subjectivity_loss: 0.0766 - toxicity_loss: 0.0297 - subjectivity_accuracy: 0.8737 - toxicity_accuracy: 0.9509 - val_loss: 0.1183 - val_subjectivity_loss: 0.0892 - val_toxicity_loss: 0.0291 - val_subjectivity_accuracy: 0.8534 - val_toxicity_accuracy: 0.9457\n",
      "Epoch 3/4\n",
      "2243/2243 [==============================] - 676s 301ms/step - loss: 0.1020 - subjectivity_loss: 0.0731 - toxicity_loss: 0.0289 - subjectivity_accuracy: 0.8796 - toxicity_accuracy: 0.9513 - val_loss: 0.1117 - val_subjectivity_loss: 0.0834 - val_toxicity_loss: 0.0284 - val_subjectivity_accuracy: 0.8645 - val_toxicity_accuracy: 0.9443\n",
      "Epoch 4/4\n",
      "2243/2243 [==============================] - 676s 302ms/step - loss: 0.0987 - subjectivity_loss: 0.0704 - toxicity_loss: 0.0282 - subjectivity_accuracy: 0.8847 - toxicity_accuracy: 0.9522 - val_loss: 0.1053 - val_subjectivity_loss: 0.0790 - val_toxicity_loss: 0.0263 - val_subjectivity_accuracy: 0.8713 - val_toxicity_accuracy: 0.9524\n",
      "(114890, 2, 192)\n",
      "Counter({0: 103909, 1: 9828, 2: 1153})\n",
      "Counter({0: 79539, 1: 35351})\n",
      "Epoch 1/4\n",
      "2243/2243 [==============================] - 675s 301ms/step - loss: 0.0967 - subjectivity_loss: 0.0690 - toxicity_loss: 0.0277 - subjectivity_accuracy: 0.8875 - toxicity_accuracy: 0.9529 - val_loss: 0.0962 - val_subjectivity_loss: 0.0691 - val_toxicity_loss: 0.0271 - val_subjectivity_accuracy: 0.8900 - val_toxicity_accuracy: 0.9534\n",
      "Epoch 2/4\n",
      "2243/2243 [==============================] - 676s 301ms/step - loss: 0.0929 - subjectivity_loss: 0.0665 - toxicity_loss: 0.0264 - subjectivity_accuracy: 0.8926 - toxicity_accuracy: 0.9549 - val_loss: 0.0953 - val_subjectivity_loss: 0.0687 - val_toxicity_loss: 0.0266 - val_subjectivity_accuracy: 0.8911 - val_toxicity_accuracy: 0.9510\n",
      "Epoch 3/4\n",
      "2243/2243 [==============================] - 676s 302ms/step - loss: 0.0905 - subjectivity_loss: 0.0647 - toxicity_loss: 0.0258 - subjectivity_accuracy: 0.8955 - toxicity_accuracy: 0.9554 - val_loss: 0.1023 - val_subjectivity_loss: 0.0748 - val_toxicity_loss: 0.0275 - val_subjectivity_accuracy: 0.8809 - val_toxicity_accuracy: 0.9512\n",
      "Epoch 4/4\n",
      "2243/2243 [==============================] - 675s 301ms/step - loss: 0.0881 - subjectivity_loss: 0.0628 - toxicity_loss: 0.0254 - subjectivity_accuracy: 0.8985 - toxicity_accuracy: 0.9558 - val_loss: 0.0925 - val_subjectivity_loss: 0.0678 - val_toxicity_loss: 0.0247 - val_subjectivity_accuracy: 0.8889 - val_toxicity_accuracy: 0.9556\n",
      "(114890, 2, 192)\n",
      "Counter({0: 103849, 1: 9890, 2: 1151})\n",
      "Counter({0: 79539, 1: 35351})\n",
      "Epoch 1/4\n",
      "2243/2243 [==============================] - 679s 303ms/step - loss: 0.0875 - subjectivity_loss: 0.0621 - toxicity_loss: 0.0254 - subjectivity_accuracy: 0.8995 - toxicity_accuracy: 0.9556 - val_loss: 0.1005 - val_subjectivity_loss: 0.0762 - val_toxicity_loss: 0.0243 - val_subjectivity_accuracy: 0.8769 - val_toxicity_accuracy: 0.9538\n",
      "Epoch 2/4\n",
      "2243/2243 [==============================] - 676s 301ms/step - loss: 0.0851 - subjectivity_loss: 0.0603 - toxicity_loss: 0.0249 - subjectivity_accuracy: 0.9017 - toxicity_accuracy: 0.9561 - val_loss: 0.0928 - val_subjectivity_loss: 0.0681 - val_toxicity_loss: 0.0246 - val_subjectivity_accuracy: 0.8898 - val_toxicity_accuracy: 0.9536\n",
      "Epoch 3/4\n",
      "2243/2243 [==============================] - 680s 303ms/step - loss: 0.0825 - subjectivity_loss: 0.0584 - toxicity_loss: 0.0241 - subjectivity_accuracy: 0.9051 - toxicity_accuracy: 0.9569 - val_loss: 0.0889 - val_subjectivity_loss: 0.0649 - val_toxicity_loss: 0.0241 - val_subjectivity_accuracy: 0.8901 - val_toxicity_accuracy: 0.9531\n",
      "Epoch 4/4\n",
      "2243/2243 [==============================] - 678s 302ms/step - loss: 0.0804 - subjectivity_loss: 0.0566 - toxicity_loss: 0.0238 - subjectivity_accuracy: 0.9091 - toxicity_accuracy: 0.9570 - val_loss: 0.1001 - val_subjectivity_loss: 0.0751 - val_toxicity_loss: 0.0250 - val_subjectivity_accuracy: 0.8783 - val_toxicity_accuracy: 0.9514\n"
     ]
    },
    {
     "name": "stderr",
     "output_type": "stream",
     "text": [
      "/usr/local/lib/python3.7/dist-packages/transformers/tokenization_utils_base.py:2074: FutureWarning: The `pad_to_max_length` argument is deprecated and will be removed in a future version, use `padding=True` or `padding='longest'` to pad to the longest sequence in the batch, or use `padding='max_length'` to pad to a max length. In this case, you can give a specific length with `max_length` (e.g. `max_length=45`) or leave max_length to None to pad to the maximal input size of the model (e.g. 512 for Bert).\n",
      "  FutureWarning,\n"
     ]
    },
    {
     "name": "stdout",
     "output_type": "stream",
     "text": [
      "250/250 [==============================] - 40s 131ms/step\n"
     ]
    }
   ],
   "source": [
    "MODEL_NAMES = ['bert-base-multilingual-uncased','jplu/tf-xlm-roberta-base']\n",
    "models = [0 for i in range(len(MODEL_NAMES))]\n",
    "test_probs = [0 for i in range(len(MODEL_NAMES))]\n",
    "test_results = [0 for i in range(len(MODEL_NAMES))]\n",
    "\n",
    "with strategy.scope():\n",
    "        \n",
    "    tokenizer1 = transformers.AutoTokenizer.from_pretrained(MODEL_NAMES[0])\n",
    "    tokenizer2 = transformers.AutoTokenizer.from_pretrained(MODEL_NAMES[1])\n",
    "    reviews1 = regular_encode(data_df.comment_text.astype(str).values.tolist(), tokenizer1, maxlen=MAX_LEN)\n",
    "    reviews2 = regular_encode(data_df.comment_text.astype(str).values.tolist(), tokenizer2, maxlen=MAX_LEN)\n",
    "\n",
    "    sss = StratifiedShuffleSplit(n_splits=4, random_state=42, test_size=0.2)\n",
    "    X1, y1 = reviews1, data_df.subjectivity.astype(int).values\n",
    "    z1 = data_df.toxicity.astype(int).values\n",
    "\n",
    "    X2, y2 = reviews2, data_df.subjectivity.astype(int).values\n",
    "    z2 = data_df.toxicity.astype(int).values\n",
    "\n",
    "    model = build_model(max_len=MAX_LEN)\n",
    "    model.summary()\n",
    "\n",
    "    tf.keras.utils.plot_model(\n",
    "      model,\n",
    "      to_file=f\"{save_model_folder}/multihead_model.png\",\n",
    "      show_shapes=True,\n",
    "      show_dtype=False,\n",
    "      show_layer_names=True,\n",
    "      rankdir=\"TB\",\n",
    "      expand_nested=False,\n",
    "      dpi=300,\n",
    "    )\n",
    "\n",
    "    for train_index, valid_index in sss.split(X1, y1):\n",
    "\n",
    "        X_train1, X_valid1 = X1[train_index], X1[valid_index]\n",
    "        y_train1, y_valid1 = y1[train_index], y1[valid_index]\n",
    "        z_train1, z_valid1 = z1[train_index], z1[valid_index]\n",
    "\n",
    "        X_train2, X_valid2 = X2[train_index], X2[valid_index]\n",
    "        y_train2, y_valid2 = y2[train_index], y2[valid_index]\n",
    "        z_train2, z_valid2 = z2[train_index], z2[valid_index]\n",
    "\n",
    "        train_df = pd.DataFrame()\n",
    "        train_df['sub'] = y_train1\n",
    "        train_df['tox'] = z_train1\n",
    "        label_cols = train_df.columns[:]\n",
    "        labels = train_df[label_cols].values\n",
    "        data = np.array([X_train1,X_train2]).reshape(-1,2,192)\n",
    "\n",
    "        print(data.shape)\n",
    "\n",
    "        y_true = train_df['tox'].values\n",
    "        print(Counter(y_true))\n",
    "        y_true = train_df['sub'].values\n",
    "        print(Counter(y_true))\n",
    "\n",
    "        train_dataset = (\n",
    "            tf.data.Dataset\n",
    "            .from_tensor_slices(({\"input_word_ids_1\":X_train1,\"input_word_ids_2\":X_train2},labels))\n",
    "            .map(one_hot_multi, num_parallel_calls=AUTO)\n",
    "            .repeat()\n",
    "            .shuffle(2048)\n",
    "            .batch(BATCH_SIZE)\n",
    "            .prefetch(AUTO)\n",
    "        )\n",
    "\n",
    "        valid_df = pd.DataFrame()\n",
    "        valid_df['sub'] = y_valid1\n",
    "        valid_df['tox'] = z_valid1\n",
    "        label_cols = valid_df.columns[:]\n",
    "        labels = valid_df[label_cols].values\n",
    "        data = np.array([X_valid1,X_valid2]).reshape(-1,2,192)\n",
    "\n",
    "\n",
    "        valid_dataset = (\n",
    "            tf.data.Dataset\n",
    "            .from_tensor_slices(({\"input_word_ids_1\":X_valid1,\"input_word_ids_2\":X_valid2},labels))\n",
    "            .map(one_hot_multi, num_parallel_calls=AUTO)\n",
    "            .batch(BATCH_SIZE)\n",
    "            .cache()\n",
    "            .prefetch(AUTO)\n",
    "        )\n",
    "\n",
    "        n_steps = X_train.shape[0] // BATCH_SIZE\n",
    "        model.fit(\n",
    "            train_dataset,\n",
    "            steps_per_epoch=n_steps,\n",
    "            validation_data=valid_dataset,\n",
    "            epochs=EPOCHS\n",
    "        )\n",
    "        \n",
    "    test_reviews1 = regular_encode(test_df.comment_text.astype(str).values.tolist(), tokenizer1, maxlen=MAX_LEN)\n",
    "    test_reviews2 = regular_encode(test_df.comment_text.astype(str).values.tolist(), tokenizer2, maxlen=MAX_LEN)\n",
    "\n",
    "    test = np.array([test_reviews1,test_reviews2])\n",
    "\n",
    "    test_dataset = (\n",
    "    tf.data.Dataset\n",
    "    .from_tensor_slices(({\"input_word_ids_1\":test_reviews1,\"input_word_ids_2\":test_reviews2}))\n",
    "    .batch(BATCH_SIZE)\n",
    "    .prefetch(AUTO)\n",
    "    )\n",
    "\n",
    "    test_probs = model.predict(test_dataset, verbose=1)\n",
    "    model.save(f\"{save_model_folder}/multihead_model.h5\")"
   ]
  },
  {
   "cell_type": "markdown",
   "metadata": {
    "id": "NGXtSq9_BbnJ"
   },
   "source": [
    "## Multi-head Model Test Results On Kaggle Data"
   ]
  },
  {
   "cell_type": "code",
   "execution_count": null,
   "metadata": {
    "colab": {
     "base_uri": "https://localhost:8080/"
    },
    "executionInfo": {
     "elapsed": 765,
     "status": "ok",
     "timestamp": 1615378663318,
     "user": {
      "displayName": "Shearman Chua",
      "photoUrl": "",
      "userId": "02072421428658916568"
     },
     "user_tz": -480
    },
    "id": "qsElbnj1HP9x",
    "outputId": "703fabe9-687b-42b9-b73e-7235399ec9de"
   },
   "outputs": [
    {
     "data": {
      "text/plain": [
       "array([[0.9883465 , 0.00640512, 0.00524835],\n",
       "       [0.84542155, 0.09901538, 0.05556313],\n",
       "       [0.81863934, 0.1192342 , 0.06212652],\n",
       "       ...,\n",
       "       [0.9829168 , 0.00935124, 0.00773196],\n",
       "       [0.9639214 , 0.02126776, 0.01481093],\n",
       "       [0.16320425, 0.38143745, 0.4553583 ]], dtype=float32)"
      ]
     },
     "execution_count": 24,
     "metadata": {
      "tags": []
     },
     "output_type": "execute_result"
    }
   ],
   "source": [
    "test_probs[1]"
   ]
  },
  {
   "cell_type": "code",
   "execution_count": null,
   "metadata": {
    "colab": {
     "base_uri": "https://localhost:8080/",
     "height": 408
    },
    "executionInfo": {
     "elapsed": 969,
     "status": "ok",
     "timestamp": 1615378664989,
     "user": {
      "displayName": "Shearman Chua",
      "photoUrl": "",
      "userId": "02072421428658916568"
     },
     "user_tz": -480
    },
    "id": "zewY_M3SHQIX",
    "outputId": "233eeb28-492c-4eab-9f0a-de1ea275ddd6"
   },
   "outputs": [
    {
     "name": "stderr",
     "output_type": "stream",
     "text": [
      "/usr/local/lib/python3.7/dist-packages/ipykernel_launcher.py:1: SettingWithCopyWarning: \n",
      "A value is trying to be set on a copy of a slice from a DataFrame.\n",
      "Try using .loc[row_indexer,col_indexer] = value instead\n",
      "\n",
      "See the caveats in the documentation: https://pandas.pydata.org/pandas-docs/stable/user_guide/indexing.html#returning-a-view-versus-a-copy\n",
      "  \"\"\"Entry point for launching an IPython kernel.\n",
      "/usr/local/lib/python3.7/dist-packages/ipykernel_launcher.py:2: SettingWithCopyWarning: \n",
      "A value is trying to be set on a copy of a slice from a DataFrame.\n",
      "Try using .loc[row_indexer,col_indexer] = value instead\n",
      "\n",
      "See the caveats in the documentation: https://pandas.pydata.org/pandas-docs/stable/user_guide/indexing.html#returning-a-view-versus-a-copy\n",
      "  \n"
     ]
    },
    {
     "data": {
      "text/html": [
       "<div>\n",
       "<style scoped>\n",
       "    .dataframe tbody tr th:only-of-type {\n",
       "        vertical-align: middle;\n",
       "    }\n",
       "\n",
       "    .dataframe tbody tr th {\n",
       "        vertical-align: top;\n",
       "    }\n",
       "\n",
       "    .dataframe thead th {\n",
       "        text-align: right;\n",
       "    }\n",
       "</style>\n",
       "<table border=\"1\" class=\"dataframe\">\n",
       "  <thead>\n",
       "    <tr style=\"text-align: right;\">\n",
       "      <th></th>\n",
       "      <th>id</th>\n",
       "      <th>comment_text</th>\n",
       "      <th>subjectivity</th>\n",
       "      <th>toxicity</th>\n",
       "      <th>sub_pred</th>\n",
       "      <th>tox_pred</th>\n",
       "    </tr>\n",
       "  </thead>\n",
       "  <tbody>\n",
       "    <tr>\n",
       "      <th>3</th>\n",
       "      <td>0001b41b1c6bb37e</td>\n",
       "      <td>more i can t make any real suggestions on impr...</td>\n",
       "      <td>0</td>\n",
       "      <td>0</td>\n",
       "      <td>0</td>\n",
       "      <td>0</td>\n",
       "    </tr>\n",
       "    <tr>\n",
       "      <th>14</th>\n",
       "      <td>00070ef96486d6f9</td>\n",
       "      <td>oh and the girl above started her arguments wi...</td>\n",
       "      <td>1</td>\n",
       "      <td>0</td>\n",
       "      <td>1</td>\n",
       "      <td>0</td>\n",
       "    </tr>\n",
       "    <tr>\n",
       "      <th>38</th>\n",
       "      <td>00169857adbc989b</td>\n",
       "      <td>hi explicit can you block o fenian for edit wa...</td>\n",
       "      <td>1</td>\n",
       "      <td>0</td>\n",
       "      <td>1</td>\n",
       "      <td>0</td>\n",
       "    </tr>\n",
       "    <tr>\n",
       "      <th>41</th>\n",
       "      <td>00173958f46763a2</td>\n",
       "      <td>tfd i think we just eced responded to each oth...</td>\n",
       "      <td>0</td>\n",
       "      <td>0</td>\n",
       "      <td>0</td>\n",
       "      <td>0</td>\n",
       "    </tr>\n",
       "    <tr>\n",
       "      <th>83</th>\n",
       "      <td>00349c6325526c11</td>\n",
       "      <td>april thank you for experimenting with the pag...</td>\n",
       "      <td>0</td>\n",
       "      <td>0</td>\n",
       "      <td>0</td>\n",
       "      <td>0</td>\n",
       "    </tr>\n",
       "  </tbody>\n",
       "</table>\n",
       "</div>"
      ],
      "text/plain": [
       "                  id  ... tox_pred\n",
       "3   0001b41b1c6bb37e  ...        0\n",
       "14  00070ef96486d6f9  ...        0\n",
       "38  00169857adbc989b  ...        0\n",
       "41  00173958f46763a2  ...        0\n",
       "83  00349c6325526c11  ...        0\n",
       "\n",
       "[5 rows x 6 columns]"
      ]
     },
     "execution_count": 25,
     "metadata": {
      "tags": []
     },
     "output_type": "execute_result"
    }
   ],
   "source": [
    "test_df['sub_pred'] = np.argmax(test_probs[0], axis = 1)\n",
    "test_df['tox_pred'] = np.argmax(test_probs[1], axis = 1)\n",
    "test_df.head()"
   ]
  },
  {
   "cell_type": "code",
   "execution_count": null,
   "metadata": {
    "colab": {
     "base_uri": "https://localhost:8080/"
    },
    "executionInfo": {
     "elapsed": 1061,
     "status": "ok",
     "timestamp": 1615378668334,
     "user": {
      "displayName": "Shearman Chua",
      "photoUrl": "",
      "userId": "02072421428658916568"
     },
     "user_tz": -480
    },
    "id": "MQ7ZT9rcfTn0",
    "outputId": "a5e316a2-eede-4958-e966-a29ea8e6b94d"
   },
   "outputs": [
    {
     "name": "stdout",
     "output_type": "stream",
     "text": [
      "subjectivity f1 score: 0.8964155909261812\n",
      "subjectivity precision score: 0.8964155909261812\n",
      "subjectivity recall score: 0.8964155909261812\n",
      "\n",
      "\n",
      "toxicity f1 score: 0.9481137987216444\n",
      "toxicity precision score: 0.9481137987216444\n",
      "toxicity recall score: 0.9481137987216444\n"
     ]
    }
   ],
   "source": [
    "from sklearn.metrics import f1_score,precision_score,recall_score\n",
    "\n",
    "y_true = test_df['subjectivity'].values\n",
    "y_pred = test_df['sub_pred'].values\n",
    "\n",
    "print(\"subjectivity f1 score: \" + str(f1_score(y_true, y_pred, average='micro')))\n",
    "print(\"subjectivity precision score: \" + str(precision_score(y_true, y_pred, average='micro')))\n",
    "print(\"subjectivity recall score: \" + str(recall_score(y_true, y_pred, average='micro')))\n",
    "print('\\n')\n",
    "y_true = test_df['toxicity'].values\n",
    "y_pred = test_df['tox_pred'].values\n",
    "print(\"toxicity f1 score: \" + str(f1_score(y_true, y_pred, average='micro')))\n",
    "print(\"toxicity precision score: \" + str(precision_score(y_true, y_pred, average='micro')))\n",
    "print(\"toxicity recall score: \" + str(recall_score(y_true, y_pred, average='micro')))"
   ]
  },
  {
   "cell_type": "code",
   "execution_count": null,
   "metadata": {
    "colab": {
     "base_uri": "https://localhost:8080/"
    },
    "executionInfo": {
     "elapsed": 933,
     "status": "ok",
     "timestamp": 1615378672142,
     "user": {
      "displayName": "Shearman Chua",
      "photoUrl": "",
      "userId": "02072421428658916568"
     },
     "user_tz": -480
    },
    "id": "vRQ690Hnfzjv",
    "outputId": "abf8ccf1-b58e-40dc-cde3-f0adb4693426"
   },
   "outputs": [
    {
     "data": {
      "text/plain": [
       "Counter({0: 10735, 1: 5223})"
      ]
     },
     "execution_count": 27,
     "metadata": {
      "tags": []
     },
     "output_type": "execute_result"
    }
   ],
   "source": [
    "from collections import Counter\n",
    "\n",
    "y_true = test_df['sub_pred'].values\n",
    "\n",
    "Counter(y_true)"
   ]
  },
  {
   "cell_type": "code",
   "execution_count": null,
   "metadata": {
    "colab": {
     "base_uri": "https://localhost:8080/"
    },
    "executionInfo": {
     "elapsed": 660,
     "status": "ok",
     "timestamp": 1615378672591,
     "user": {
      "displayName": "Shearman Chua",
      "photoUrl": "",
      "userId": "02072421428658916568"
     },
     "user_tz": -480
    },
    "id": "4MFaDrRffc56",
    "outputId": "e09874ee-d1a4-4fdc-cd9c-2a41f09cdc72"
   },
   "outputs": [
    {
     "data": {
      "text/plain": [
       "Counter({0: 14313, 1: 1317, 2: 328})"
      ]
     },
     "execution_count": 28,
     "metadata": {
      "tags": []
     },
     "output_type": "execute_result"
    }
   ],
   "source": [
    "y_true = test_df['tox_pred'].values\n",
    "\n",
    "Counter(y_true)"
   ]
  },
  {
   "cell_type": "markdown",
   "metadata": {
    "id": "gLV7d927BqpK"
   },
   "source": [
    "## Load Self-labeled tweets Dataset From Text Corpus"
   ]
  },
  {
   "cell_type": "code",
   "execution_count": null,
   "metadata": {
    "colab": {
     "base_uri": "https://localhost:8080/",
     "height": 204
    },
    "executionInfo": {
     "elapsed": 531,
     "status": "ok",
     "timestamp": 1616766544813,
     "user": {
      "displayName": "Shearman Chua",
      "photoUrl": "",
      "userId": "02072421428658916568"
     },
     "user_tz": -480
    },
    "id": "CFmHYh_PSMlb",
    "outputId": "c1fd3f80-4fbd-4bd4-cf23-81e5b63f59ee"
   },
   "outputs": [
    {
     "data": {
      "text/html": [
       "<div>\n",
       "<style scoped>\n",
       "    .dataframe tbody tr th:only-of-type {\n",
       "        vertical-align: middle;\n",
       "    }\n",
       "\n",
       "    .dataframe tbody tr th {\n",
       "        vertical-align: top;\n",
       "    }\n",
       "\n",
       "    .dataframe thead th {\n",
       "        text-align: right;\n",
       "    }\n",
       "</style>\n",
       "<table border=\"1\" class=\"dataframe\">\n",
       "  <thead>\n",
       "    <tr style=\"text-align: right;\">\n",
       "      <th></th>\n",
       "      <th>comment_text</th>\n",
       "      <th>subjectivity</th>\n",
       "      <th>toxicity</th>\n",
       "    </tr>\n",
       "  </thead>\n",
       "  <tbody>\n",
       "    <tr>\n",
       "      <th>0</th>\n",
       "      <td>asaucegxd dont flex whore</td>\n",
       "      <td>1</td>\n",
       "      <td>1.0</td>\n",
       "    </tr>\n",
       "    <tr>\n",
       "      <th>1</th>\n",
       "      <td>lindseygrahamsc americans are ashamed of you h...</td>\n",
       "      <td>1</td>\n",
       "      <td>1.0</td>\n",
       "    </tr>\n",
       "    <tr>\n",
       "      <th>2</th>\n",
       "      <td>rt arvlnder came up off doge and bought a whol...</td>\n",
       "      <td>1</td>\n",
       "      <td>1.0</td>\n",
       "    </tr>\n",
       "    <tr>\n",
       "      <th>3</th>\n",
       "      <td>troche you gotta go to war and die smh</td>\n",
       "      <td>0</td>\n",
       "      <td>0.0</td>\n",
       "    </tr>\n",
       "    <tr>\n",
       "      <th>4</th>\n",
       "      <td>rt strongblacklead every legend has an origin ...</td>\n",
       "      <td>0</td>\n",
       "      <td>0.0</td>\n",
       "    </tr>\n",
       "  </tbody>\n",
       "</table>\n",
       "</div>"
      ],
      "text/plain": [
       "                                        comment_text  subjectivity  toxicity\n",
       "0                          asaucegxd dont flex whore             1       1.0\n",
       "1  lindseygrahamsc americans are ashamed of you h...             1       1.0\n",
       "2  rt arvlnder came up off doge and bought a whol...             1       1.0\n",
       "3             troche you gotta go to war and die smh             0       0.0\n",
       "4  rt strongblacklead every legend has an origin ...             0       0.0"
      ]
     },
     "execution_count": 23,
     "metadata": {
      "tags": []
     },
     "output_type": "execute_result"
    }
   ],
   "source": [
    "data_df = pd.read_csv(f'{data_folder}/preprocessed_neg_train.csv')\n",
    "data_df.drop('id', axis=1, inplace=True)\n",
    "data_df['comment_text'] = data_df['comment_text'].astype(str)\n",
    "data_df.rename({'toxic':'toxicity'},axis=1,inplace=True)\n",
    "data_df.dropna(inplace=True)\n",
    "data_df.head()"
   ]
  },
  {
   "cell_type": "code",
   "execution_count": null,
   "metadata": {
    "colab": {
     "base_uri": "https://localhost:8080/",
     "height": 204
    },
    "executionInfo": {
     "elapsed": 334,
     "status": "ok",
     "timestamp": 1616766544324,
     "user": {
      "displayName": "Shearman Chua",
      "photoUrl": "",
      "userId": "02072421428658916568"
     },
     "user_tz": -480
    },
    "id": "_G5rUW9hRFXn",
    "outputId": "9f92fd3c-896e-4d4c-f794-f46f43dce3e5"
   },
   "outputs": [
    {
     "data": {
      "text/html": [
       "<div>\n",
       "<style scoped>\n",
       "    .dataframe tbody tr th:only-of-type {\n",
       "        vertical-align: middle;\n",
       "    }\n",
       "\n",
       "    .dataframe tbody tr th {\n",
       "        vertical-align: top;\n",
       "    }\n",
       "\n",
       "    .dataframe thead th {\n",
       "        text-align: right;\n",
       "    }\n",
       "</style>\n",
       "<table border=\"1\" class=\"dataframe\">\n",
       "  <thead>\n",
       "    <tr style=\"text-align: right;\">\n",
       "      <th></th>\n",
       "      <th>comment_text</th>\n",
       "      <th>subjectivity</th>\n",
       "      <th>toxicity</th>\n",
       "    </tr>\n",
       "  </thead>\n",
       "  <tbody>\n",
       "    <tr>\n",
       "      <th>0</th>\n",
       "      <td>rt trumpwarroom rt to wish a happy presidents ...</td>\n",
       "      <td>0</td>\n",
       "      <td>0</td>\n",
       "    </tr>\n",
       "    <tr>\n",
       "      <th>1</th>\n",
       "      <td>rt folkloredean the we needed therapy but inst...</td>\n",
       "      <td>1</td>\n",
       "      <td>0</td>\n",
       "    </tr>\n",
       "    <tr>\n",
       "      <th>2</th>\n",
       "      <td>rt rachelelisep i love that no one in texas ow...</td>\n",
       "      <td>1</td>\n",
       "      <td>0</td>\n",
       "    </tr>\n",
       "    <tr>\n",
       "      <th>3</th>\n",
       "      <td>vwow we have lady flotus45 our s shine brightr...</td>\n",
       "      <td>0</td>\n",
       "      <td>0</td>\n",
       "    </tr>\n",
       "    <tr>\n",
       "      <th>4</th>\n",
       "      <td>rt officialmxjp im first solo digital mini alb...</td>\n",
       "      <td>0</td>\n",
       "      <td>0</td>\n",
       "    </tr>\n",
       "  </tbody>\n",
       "</table>\n",
       "</div>"
      ],
      "text/plain": [
       "                                        comment_text  subjectivity  toxicity\n",
       "0  rt trumpwarroom rt to wish a happy presidents ...             0         0\n",
       "1  rt folkloredean the we needed therapy but inst...             1         0\n",
       "2  rt rachelelisep i love that no one in texas ow...             1         0\n",
       "3  vwow we have lady flotus45 our s shine brightr...             0         0\n",
       "4  rt officialmxjp im first solo digital mini alb...             0         0"
      ]
     },
     "execution_count": 22,
     "metadata": {
      "tags": []
     },
     "output_type": "execute_result"
    }
   ],
   "source": [
    "test_df = pd.read_csv(f'{data_folder}/preprocessed_neg_test.csv')\n",
    "test_df.head()"
   ]
  },
  {
   "cell_type": "code",
   "execution_count": null,
   "metadata": {
    "colab": {
     "base_uri": "https://localhost:8080/"
    },
    "executionInfo": {
     "elapsed": 677,
     "status": "ok",
     "timestamp": 1616668219077,
     "user": {
      "displayName": "Shearman Chua",
      "photoUrl": "",
      "userId": "02072421428658916568"
     },
     "user_tz": -480
    },
    "id": "w0ZVXtalkRoq",
    "outputId": "c4b886b8-0761-4a13-cddf-8cbdb73fe45b"
   },
   "outputs": [
    {
     "data": {
      "text/plain": [
       "Counter({0: 99424, 1: 44189})"
      ]
     },
     "execution_count": 23,
     "metadata": {
      "tags": []
     },
     "output_type": "execute_result"
    }
   ],
   "source": [
    "y_true = data_df['subjectivity'].values\n",
    "\n",
    "Counter(y_true)"
   ]
  },
  {
   "cell_type": "code",
   "execution_count": null,
   "metadata": {
    "colab": {
     "base_uri": "https://localhost:8080/"
    },
    "executionInfo": {
     "elapsed": 1111,
     "status": "ok",
     "timestamp": 1616668223531,
     "user": {
      "displayName": "Shearman Chua",
      "photoUrl": "",
      "userId": "02072421428658916568"
     },
     "user_tz": -480
    },
    "id": "ejoAEUFMkR1-",
    "outputId": "cda2d7d3-9f9a-4afe-e0d0-d76c32400387"
   },
   "outputs": [
    {
     "data": {
      "text/plain": [
       "Counter({0: 129848, 1: 12329, 2: 1436})"
      ]
     },
     "execution_count": 24,
     "metadata": {
      "tags": []
     },
     "output_type": "execute_result"
    }
   ],
   "source": [
    "y_true = data_df['toxicity'].values\n",
    "\n",
    "Counter(y_true)"
   ]
  },
  {
   "cell_type": "markdown",
   "metadata": {
    "id": "PRj395zZ7OU0"
   },
   "source": [
    "## Train on Manually Labelled Dataset"
   ]
  },
  {
   "cell_type": "markdown",
   "metadata": {
    "id": "S12vaCYBQ6zD"
   },
   "source": [
    "### Ensemble Model"
   ]
  },
  {
   "cell_type": "code",
   "execution_count": null,
   "metadata": {
    "colab": {
     "base_uri": "https://localhost:8080/"
    },
    "executionInfo": {
     "elapsed": 454260,
     "status": "ok",
     "timestamp": 1616680169297,
     "user": {
      "displayName": "Shearman Chua",
      "photoUrl": "",
      "userId": "02072421428658916568"
     },
     "user_tz": -480
    },
    "id": "V-W11tkgSHJ8",
    "outputId": "725f7fc7-b817-4f80-b495-5e0a9cba6f6d"
   },
   "outputs": [
    {
     "name": "stderr",
     "output_type": "stream",
     "text": [
      "/usr/local/lib/python3.7/dist-packages/transformers/tokenization_utils_base.py:2074: FutureWarning: The `pad_to_max_length` argument is deprecated and will be removed in a future version, use `padding=True` or `padding='longest'` to pad to the longest sequence in the batch, or use `padding='max_length'` to pad to a max length. In this case, you can give a specific length with `max_length` (e.g. `max_length=45`) or leave max_length to None to pad to the maximal input size of the model (e.g. 512 for Bert).\n",
      "  FutureWarning,\n"
     ]
    },
    {
     "name": "stdout",
     "output_type": "stream",
     "text": [
      "Model: \"model\"\n",
      "__________________________________________________________________________________________________\n",
      "Layer (type)                    Output Shape         Param #     Connected to                     \n",
      "==================================================================================================\n",
      "input_word_ids (InputLayer)     [(None, 192)]        0                                            \n",
      "__________________________________________________________________________________________________\n",
      "bert (TFBertMainLayer)          TFBaseModelOutputWit 167356416   input_word_ids[0][0]             \n",
      "__________________________________________________________________________________________________\n",
      "tf.__operators__.getitem (Slici (None, 768)          0           bert[0][0]                       \n",
      "__________________________________________________________________________________________________\n",
      "dense (Dense)                   (None, 512)          393728      tf.__operators__.getitem[0][0]   \n",
      "__________________________________________________________________________________________________\n",
      "dense_3 (Dense)                 (None, 512)          393728      tf.__operators__.getitem[0][0]   \n",
      "__________________________________________________________________________________________________\n",
      "dropout_74 (Dropout)            (None, 512)          0           dense[0][0]                      \n",
      "__________________________________________________________________________________________________\n",
      "dropout_77 (Dropout)            (None, 512)          0           dense_3[0][0]                    \n",
      "__________________________________________________________________________________________________\n",
      "dense_1 (Dense)                 (None, 256)          131328      dropout_74[0][0]                 \n",
      "__________________________________________________________________________________________________\n",
      "dense_4 (Dense)                 (None, 256)          131328      dropout_77[0][0]                 \n",
      "__________________________________________________________________________________________________\n",
      "dropout_75 (Dropout)            (None, 256)          0           dense_1[0][0]                    \n",
      "__________________________________________________________________________________________________\n",
      "dropout_78 (Dropout)            (None, 256)          0           dense_4[0][0]                    \n",
      "__________________________________________________________________________________________________\n",
      "dense_2 (Dense)                 (None, 128)          32896       dropout_75[0][0]                 \n",
      "__________________________________________________________________________________________________\n",
      "dense_5 (Dense)                 (None, 128)          32896       dropout_78[0][0]                 \n",
      "__________________________________________________________________________________________________\n",
      "dropout_76 (Dropout)            (None, 128)          0           dense_2[0][0]                    \n",
      "__________________________________________________________________________________________________\n",
      "dropout_79 (Dropout)            (None, 128)          0           dense_5[0][0]                    \n",
      "__________________________________________________________________________________________________\n",
      "subjectivity (Dense)            (None, 2)            258         dropout_76[0][0]                 \n",
      "__________________________________________________________________________________________________\n",
      "toxicity (Dense)                (None, 3)            387         dropout_79[0][0]                 \n",
      "==================================================================================================\n",
      "Total params: 168,472,965\n",
      "Trainable params: 168,472,965\n",
      "Non-trainable params: 0\n",
      "__________________________________________________________________________________________________\n",
      "Counter({0: 1121, 1: 209, 2: 77})\n",
      "Counter({0: 913, 1: 494})\n",
      "Epoch 1/4\n",
      "10/10 [==============================] - 8s 851ms/step - loss: 1.3569 - subjectivity_loss: 0.7646 - toxicity_loss: 0.5924 - subjectivity_accuracy: 0.7758 - toxicity_accuracy: 0.8156 - val_loss: 0.9067 - val_subjectivity_loss: 0.4894 - val_toxicity_loss: 0.4172 - val_subjectivity_accuracy: 0.8153 - val_toxicity_accuracy: 0.8551\n",
      "Epoch 2/4\n",
      "10/10 [==============================] - 3s 355ms/step - loss: 0.8809 - subjectivity_loss: 0.4520 - toxicity_loss: 0.4289 - subjectivity_accuracy: 0.8273 - toxicity_accuracy: 0.8344 - val_loss: 0.7954 - val_subjectivity_loss: 0.4367 - val_toxicity_loss: 0.3588 - val_subjectivity_accuracy: 0.8239 - val_toxicity_accuracy: 0.8523\n",
      "Epoch 3/4\n",
      "10/10 [==============================] - 3s 342ms/step - loss: 0.7900 - subjectivity_loss: 0.4263 - toxicity_loss: 0.3637 - subjectivity_accuracy: 0.8039 - toxicity_accuracy: 0.8477 - val_loss: 0.8145 - val_subjectivity_loss: 0.4437 - val_toxicity_loss: 0.3708 - val_subjectivity_accuracy: 0.8068 - val_toxicity_accuracy: 0.8125\n",
      "Epoch 4/4\n",
      "10/10 [==============================] - 3s 339ms/step - loss: 0.7102 - subjectivity_loss: 0.3642 - toxicity_loss: 0.3460 - subjectivity_accuracy: 0.8469 - toxicity_accuracy: 0.8562 - val_loss: 0.7740 - val_subjectivity_loss: 0.4294 - val_toxicity_loss: 0.3446 - val_subjectivity_accuracy: 0.8153 - val_toxicity_accuracy: 0.8636\n",
      "Counter({0: 1126, 1: 196, 2: 85})\n",
      "Counter({0: 913, 1: 494})\n",
      "Epoch 1/4\n",
      "10/10 [==============================] - 3s 346ms/step - loss: 0.6674 - subjectivity_loss: 0.3537 - toxicity_loss: 0.3137 - subjectivity_accuracy: 0.8539 - toxicity_accuracy: 0.8602 - val_loss: 0.6523 - val_subjectivity_loss: 0.3839 - val_toxicity_loss: 0.2684 - val_subjectivity_accuracy: 0.8267 - val_toxicity_accuracy: 0.8920\n",
      "Epoch 2/4\n",
      "10/10 [==============================] - 3s 351ms/step - loss: 0.6159 - subjectivity_loss: 0.3365 - toxicity_loss: 0.2794 - subjectivity_accuracy: 0.8523 - toxicity_accuracy: 0.8883 - val_loss: 0.6372 - val_subjectivity_loss: 0.3749 - val_toxicity_loss: 0.2623 - val_subjectivity_accuracy: 0.8324 - val_toxicity_accuracy: 0.8835\n",
      "Epoch 3/4\n",
      "10/10 [==============================] - 3s 364ms/step - loss: 0.5472 - subjectivity_loss: 0.2914 - toxicity_loss: 0.2558 - subjectivity_accuracy: 0.8898 - toxicity_accuracy: 0.8969 - val_loss: 0.6424 - val_subjectivity_loss: 0.3805 - val_toxicity_loss: 0.2619 - val_subjectivity_accuracy: 0.8267 - val_toxicity_accuracy: 0.8892\n",
      "Epoch 4/4\n",
      "10/10 [==============================] - 4s 385ms/step - loss: 0.5618 - subjectivity_loss: 0.3028 - toxicity_loss: 0.2590 - subjectivity_accuracy: 0.8727 - toxicity_accuracy: 0.8938 - val_loss: 0.6333 - val_subjectivity_loss: 0.3816 - val_toxicity_loss: 0.2518 - val_subjectivity_accuracy: 0.8239 - val_toxicity_accuracy: 0.8920\n",
      "Counter({0: 1125, 1: 205, 2: 77})\n",
      "Counter({0: 913, 1: 494})\n",
      "Epoch 1/4\n",
      "10/10 [==============================] - 4s 462ms/step - loss: 0.5285 - subjectivity_loss: 0.2833 - toxicity_loss: 0.2452 - subjectivity_accuracy: 0.8891 - toxicity_accuracy: 0.9008 - val_loss: 0.4997 - val_subjectivity_loss: 0.2817 - val_toxicity_loss: 0.2180 - val_subjectivity_accuracy: 0.8920 - val_toxicity_accuracy: 0.9034\n",
      "Epoch 2/4\n",
      "10/10 [==============================] - 3s 339ms/step - loss: 0.4777 - subjectivity_loss: 0.2521 - toxicity_loss: 0.2257 - subjectivity_accuracy: 0.8977 - toxicity_accuracy: 0.9094 - val_loss: 0.4774 - val_subjectivity_loss: 0.2738 - val_toxicity_loss: 0.2036 - val_subjectivity_accuracy: 0.8949 - val_toxicity_accuracy: 0.9290\n",
      "Epoch 3/4\n",
      "10/10 [==============================] - 4s 385ms/step - loss: 0.4617 - subjectivity_loss: 0.2491 - toxicity_loss: 0.2125 - subjectivity_accuracy: 0.9070 - toxicity_accuracy: 0.9219 - val_loss: 0.4582 - val_subjectivity_loss: 0.2549 - val_toxicity_loss: 0.2033 - val_subjectivity_accuracy: 0.9091 - val_toxicity_accuracy: 0.9062\n",
      "Epoch 4/4\n",
      "10/10 [==============================] - 4s 390ms/step - loss: 0.4212 - subjectivity_loss: 0.2371 - toxicity_loss: 0.1842 - subjectivity_accuracy: 0.9086 - toxicity_accuracy: 0.9305 - val_loss: 0.5296 - val_subjectivity_loss: 0.2933 - val_toxicity_loss: 0.2363 - val_subjectivity_accuracy: 0.8920 - val_toxicity_accuracy: 0.8864\n",
      "Counter({0: 1121, 1: 206, 2: 80})\n",
      "Counter({0: 913, 1: 494})\n",
      "Epoch 1/4\n",
      "10/10 [==============================] - 3s 354ms/step - loss: 0.3901 - subjectivity_loss: 0.2200 - toxicity_loss: 0.1700 - subjectivity_accuracy: 0.9164 - toxicity_accuracy: 0.9383 - val_loss: 0.3834 - val_subjectivity_loss: 0.1983 - val_toxicity_loss: 0.1851 - val_subjectivity_accuracy: 0.9318 - val_toxicity_accuracy: 0.9176\n",
      "Epoch 2/4\n",
      "10/10 [==============================] - 3s 355ms/step - loss: 0.3499 - subjectivity_loss: 0.2058 - toxicity_loss: 0.1441 - subjectivity_accuracy: 0.9203 - toxicity_accuracy: 0.9453 - val_loss: 0.3490 - val_subjectivity_loss: 0.1961 - val_toxicity_loss: 0.1529 - val_subjectivity_accuracy: 0.9375 - val_toxicity_accuracy: 0.9347\n",
      "Epoch 3/4\n",
      "10/10 [==============================] - 4s 402ms/step - loss: 0.3197 - subjectivity_loss: 0.1734 - toxicity_loss: 0.1464 - subjectivity_accuracy: 0.9367 - toxicity_accuracy: 0.9445 - val_loss: 0.3355 - val_subjectivity_loss: 0.2005 - val_toxicity_loss: 0.1351 - val_subjectivity_accuracy: 0.9290 - val_toxicity_accuracy: 0.9489\n",
      "Epoch 4/4\n",
      "10/10 [==============================] - 3s 363ms/step - loss: 0.2952 - subjectivity_loss: 0.1533 - toxicity_loss: 0.1419 - subjectivity_accuracy: 0.9430 - toxicity_accuracy: 0.9453 - val_loss: 0.3305 - val_subjectivity_loss: 0.1927 - val_toxicity_loss: 0.1378 - val_subjectivity_accuracy: 0.9403 - val_toxicity_accuracy: 0.9432\n"
     ]
    },
    {
     "name": "stderr",
     "output_type": "stream",
     "text": [
      "/usr/local/lib/python3.7/dist-packages/transformers/tokenization_utils_base.py:2074: FutureWarning: The `pad_to_max_length` argument is deprecated and will be removed in a future version, use `padding=True` or `padding='longest'` to pad to the longest sequence in the batch, or use `padding='max_length'` to pad to a max length. In this case, you can give a specific length with `max_length` (e.g. `max_length=45`) or leave max_length to None to pad to the maximal input size of the model (e.g. 512 for Bert).\n",
      "  FutureWarning,\n"
     ]
    },
    {
     "name": "stdout",
     "output_type": "stream",
     "text": [
      "Model: \"model_1\"\n",
      "__________________________________________________________________________________________________\n",
      "Layer (type)                    Output Shape         Param #     Connected to                     \n",
      "==================================================================================================\n",
      "input_word_ids (InputLayer)     [(None, 192)]        0                                            \n",
      "__________________________________________________________________________________________________\n",
      "roberta (TFRobertaMainLayer)    TFBaseModelOutputWit 278043648   input_word_ids[0][0]             \n",
      "__________________________________________________________________________________________________\n",
      "tf.__operators__.getitem_1 (Sli (None, 768)          0           roberta[0][0]                    \n",
      "__________________________________________________________________________________________________\n",
      "dense_6 (Dense)                 (None, 512)          393728      tf.__operators__.getitem_1[0][0] \n",
      "__________________________________________________________________________________________________\n",
      "dense_9 (Dense)                 (None, 512)          393728      tf.__operators__.getitem_1[0][0] \n",
      "__________________________________________________________________________________________________\n",
      "dropout_117 (Dropout)           (None, 512)          0           dense_6[0][0]                    \n",
      "__________________________________________________________________________________________________\n",
      "dropout_120 (Dropout)           (None, 512)          0           dense_9[0][0]                    \n",
      "__________________________________________________________________________________________________\n",
      "dense_7 (Dense)                 (None, 256)          131328      dropout_117[0][0]                \n",
      "__________________________________________________________________________________________________\n",
      "dense_10 (Dense)                (None, 256)          131328      dropout_120[0][0]                \n",
      "__________________________________________________________________________________________________\n",
      "dropout_118 (Dropout)           (None, 256)          0           dense_7[0][0]                    \n",
      "__________________________________________________________________________________________________\n",
      "dropout_121 (Dropout)           (None, 256)          0           dense_10[0][0]                   \n",
      "__________________________________________________________________________________________________\n",
      "dense_8 (Dense)                 (None, 128)          32896       dropout_118[0][0]                \n",
      "__________________________________________________________________________________________________\n",
      "dense_11 (Dense)                (None, 128)          32896       dropout_121[0][0]                \n",
      "__________________________________________________________________________________________________\n",
      "dropout_119 (Dropout)           (None, 128)          0           dense_8[0][0]                    \n",
      "__________________________________________________________________________________________________\n",
      "dropout_122 (Dropout)           (None, 128)          0           dense_11[0][0]                   \n",
      "__________________________________________________________________________________________________\n",
      "subjectivity (Dense)            (None, 2)            258         dropout_119[0][0]                \n",
      "__________________________________________________________________________________________________\n",
      "toxicity (Dense)                (None, 3)            387         dropout_122[0][0]                \n",
      "==================================================================================================\n",
      "Total params: 279,160,197\n",
      "Trainable params: 279,160,197\n",
      "Non-trainable params: 0\n",
      "__________________________________________________________________________________________________\n",
      "Counter({0: 1121, 1: 209, 2: 77})\n",
      "Counter({0: 913, 1: 494})\n",
      "Epoch 1/4\n",
      "10/10 [==============================] - 9s 926ms/step - loss: 1.3226 - subjectivity_loss: 0.7538 - toxicity_loss: 0.5688 - subjectivity_accuracy: 0.7664 - toxicity_accuracy: 0.8164 - val_loss: 0.8778 - val_subjectivity_loss: 0.4241 - val_toxicity_loss: 0.4537 - val_subjectivity_accuracy: 0.7812 - val_toxicity_accuracy: 0.8295\n",
      "Epoch 2/4\n",
      "10/10 [==============================] - 4s 406ms/step - loss: 0.9200 - subjectivity_loss: 0.4511 - toxicity_loss: 0.4689 - subjectivity_accuracy: 0.8039 - toxicity_accuracy: 0.8133 - val_loss: 0.8172 - val_subjectivity_loss: 0.4383 - val_toxicity_loss: 0.3790 - val_subjectivity_accuracy: 0.8040 - val_toxicity_accuracy: 0.8381\n",
      "Epoch 3/4\n",
      "10/10 [==============================] - 4s 436ms/step - loss: 0.7418 - subjectivity_loss: 0.4114 - toxicity_loss: 0.3303 - subjectivity_accuracy: 0.8273 - toxicity_accuracy: 0.8562 - val_loss: 0.7649 - val_subjectivity_loss: 0.4148 - val_toxicity_loss: 0.3501 - val_subjectivity_accuracy: 0.8068 - val_toxicity_accuracy: 0.8494\n",
      "Epoch 4/4\n",
      "10/10 [==============================] - 4s 436ms/step - loss: 0.6760 - subjectivity_loss: 0.3682 - toxicity_loss: 0.3078 - subjectivity_accuracy: 0.8414 - toxicity_accuracy: 0.8766 - val_loss: 0.8086 - val_subjectivity_loss: 0.4356 - val_toxicity_loss: 0.3730 - val_subjectivity_accuracy: 0.8125 - val_toxicity_accuracy: 0.8182\n",
      "Counter({0: 1126, 1: 196, 2: 85})\n",
      "Counter({0: 913, 1: 494})\n",
      "Epoch 1/4\n",
      "10/10 [==============================] - 4s 376ms/step - loss: 0.6870 - subjectivity_loss: 0.3713 - toxicity_loss: 0.3157 - subjectivity_accuracy: 0.8328 - toxicity_accuracy: 0.8734 - val_loss: 0.6315 - val_subjectivity_loss: 0.3750 - val_toxicity_loss: 0.2566 - val_subjectivity_accuracy: 0.8068 - val_toxicity_accuracy: 0.9006\n",
      "Epoch 2/4\n",
      "10/10 [==============================] - 4s 372ms/step - loss: 0.6603 - subjectivity_loss: 0.3743 - toxicity_loss: 0.2861 - subjectivity_accuracy: 0.8422 - toxicity_accuracy: 0.8820 - val_loss: 0.6770 - val_subjectivity_loss: 0.3901 - val_toxicity_loss: 0.2868 - val_subjectivity_accuracy: 0.8040 - val_toxicity_accuracy: 0.8722\n",
      "Epoch 3/4\n",
      "10/10 [==============================] - 4s 397ms/step - loss: 0.5708 - subjectivity_loss: 0.3088 - toxicity_loss: 0.2620 - subjectivity_accuracy: 0.8727 - toxicity_accuracy: 0.8914 - val_loss: 0.6400 - val_subjectivity_loss: 0.3836 - val_toxicity_loss: 0.2564 - val_subjectivity_accuracy: 0.8040 - val_toxicity_accuracy: 0.9006\n",
      "Epoch 4/4\n",
      "10/10 [==============================] - 4s 446ms/step - loss: 0.5555 - subjectivity_loss: 0.3278 - toxicity_loss: 0.2277 - subjectivity_accuracy: 0.8547 - toxicity_accuracy: 0.9086 - val_loss: 0.6428 - val_subjectivity_loss: 0.3844 - val_toxicity_loss: 0.2585 - val_subjectivity_accuracy: 0.7955 - val_toxicity_accuracy: 0.9006\n",
      "Counter({0: 1125, 1: 205, 2: 77})\n",
      "Counter({0: 913, 1: 494})\n",
      "Epoch 1/4\n",
      "10/10 [==============================] - 4s 376ms/step - loss: 0.5653 - subjectivity_loss: 0.3093 - toxicity_loss: 0.2560 - subjectivity_accuracy: 0.8562 - toxicity_accuracy: 0.9039 - val_loss: 0.5498 - val_subjectivity_loss: 0.3297 - val_toxicity_loss: 0.2200 - val_subjectivity_accuracy: 0.8551 - val_toxicity_accuracy: 0.9034\n",
      "Epoch 2/4\n",
      "10/10 [==============================] - 4s 364ms/step - loss: 0.5277 - subjectivity_loss: 0.3071 - toxicity_loss: 0.2205 - subjectivity_accuracy: 0.8570 - toxicity_accuracy: 0.9117 - val_loss: 0.5630 - val_subjectivity_loss: 0.3372 - val_toxicity_loss: 0.2258 - val_subjectivity_accuracy: 0.8409 - val_toxicity_accuracy: 0.9091\n",
      "Epoch 3/4\n",
      "10/10 [==============================] - 4s 425ms/step - loss: 0.4931 - subjectivity_loss: 0.2898 - toxicity_loss: 0.2033 - subjectivity_accuracy: 0.8781 - toxicity_accuracy: 0.9266 - val_loss: 0.5336 - val_subjectivity_loss: 0.3172 - val_toxicity_loss: 0.2164 - val_subjectivity_accuracy: 0.8523 - val_toxicity_accuracy: 0.9119\n",
      "Epoch 4/4\n",
      "10/10 [==============================] - 4s 409ms/step - loss: 0.4332 - subjectivity_loss: 0.2664 - toxicity_loss: 0.1669 - subjectivity_accuracy: 0.8805 - toxicity_accuracy: 0.9359 - val_loss: 0.5272 - val_subjectivity_loss: 0.3116 - val_toxicity_loss: 0.2155 - val_subjectivity_accuracy: 0.8551 - val_toxicity_accuracy: 0.9119\n",
      "Counter({0: 1121, 1: 206, 2: 80})\n",
      "Counter({0: 913, 1: 494})\n",
      "Epoch 1/4\n",
      "10/10 [==============================] - 4s 378ms/step - loss: 0.4639 - subjectivity_loss: 0.2840 - toxicity_loss: 0.1799 - subjectivity_accuracy: 0.8781 - toxicity_accuracy: 0.9367 - val_loss: 0.3960 - val_subjectivity_loss: 0.2425 - val_toxicity_loss: 0.1536 - val_subjectivity_accuracy: 0.8920 - val_toxicity_accuracy: 0.9489\n",
      "Epoch 2/4\n",
      "10/10 [==============================] - 4s 375ms/step - loss: 0.3777 - subjectivity_loss: 0.2313 - toxicity_loss: 0.1464 - subjectivity_accuracy: 0.9062 - toxicity_accuracy: 0.9477 - val_loss: 0.3684 - val_subjectivity_loss: 0.2254 - val_toxicity_loss: 0.1430 - val_subjectivity_accuracy: 0.9034 - val_toxicity_accuracy: 0.9489\n",
      "Epoch 3/4\n",
      "10/10 [==============================] - 4s 416ms/step - loss: 0.3803 - subjectivity_loss: 0.2333 - toxicity_loss: 0.1470 - subjectivity_accuracy: 0.8945 - toxicity_accuracy: 0.9445 - val_loss: 0.3606 - val_subjectivity_loss: 0.2216 - val_toxicity_loss: 0.1390 - val_subjectivity_accuracy: 0.8949 - val_toxicity_accuracy: 0.9602\n",
      "Epoch 4/4\n",
      "10/10 [==============================] - 4s 404ms/step - loss: 0.3852 - subjectivity_loss: 0.2422 - toxicity_loss: 0.1430 - subjectivity_accuracy: 0.8914 - toxicity_accuracy: 0.9492 - val_loss: 0.4238 - val_subjectivity_loss: 0.2498 - val_toxicity_loss: 0.1740 - val_subjectivity_accuracy: 0.8835 - val_toxicity_accuracy: 0.9261\n"
     ]
    }
   ],
   "source": [
    "MODEL_NAMES = ['bert-base-multilingual-uncased','jplu/tf-xlm-roberta-base']\n",
    "\n",
    "with strategy.scope():\n",
    "    \n",
    "    for i in range(len(MODEL_NAMES)):\n",
    "      \n",
    "      tokenizer = transformers.AutoTokenizer.from_pretrained(MODEL_NAMES[i])\n",
    "      reviews = regular_encode(data_df.comment_text.astype(str).values.tolist(), tokenizer, maxlen=MAX_LEN)\n",
    "  \n",
    "      sss = StratifiedShuffleSplit(n_splits=4, random_state=42, test_size=0.2)\n",
    "      X, y = reviews, data_df.subjectivity.astype(int).values\n",
    "      z = data_df.toxicity.astype(int).values\n",
    "\n",
    "      # loss = 'categorical_crossentropy'\n",
    "      # models[i].compile(Adam(lr=1e-5), loss=[loss, loss],\n",
    "      # metrics={'subjectivity':'accuracy', 'toxicity':'accuracy'})\n",
    "\n",
    "      models[i].summary()\n",
    "\n",
    "      for train_index, valid_index in sss.split(X, y):\n",
    "\n",
    "          X_train, X_valid = X[train_index], X[valid_index]\n",
    "          y_train, y_valid = y[train_index], y[valid_index]\n",
    "          z_train, z_valid = z[train_index], z[valid_index]\n",
    "\n",
    "          train_df = pd.DataFrame()\n",
    "          train_df['sub'] = y_train\n",
    "          train_df['tox'] = z_train\n",
    "          label_cols = train_df.columns[:]\n",
    "          labels = train_df[label_cols].values\n",
    "\n",
    "          y_true = train_df['tox'].values\n",
    "          print(Counter(y_true))\n",
    "          y_true = train_df['sub'].values\n",
    "          print(Counter(y_true))\n",
    "\n",
    "          train_dataset = (\n",
    "              tf.data.Dataset\n",
    "              .from_tensor_slices((X_train,labels))\n",
    "              .map(one_hot, num_parallel_calls=AUTO)\n",
    "              .repeat()\n",
    "              .shuffle(2048)\n",
    "              .batch(BATCH_SIZE)\n",
    "              .prefetch(AUTO)\n",
    "          )\n",
    "\n",
    "          valid_df = pd.DataFrame()\n",
    "          valid_df['sub'] = y_valid\n",
    "          valid_df['tox'] = z_valid\n",
    "          label_cols = valid_df.columns[:]\n",
    "          labels = valid_df[label_cols].values\n",
    "\n",
    "          valid_dataset = (\n",
    "              tf.data.Dataset\n",
    "              .from_tensor_slices((X_valid, labels))\n",
    "              .map(one_hot,num_parallel_calls=AUTO)\n",
    "              .batch(BATCH_SIZE)\n",
    "              .cache()\n",
    "              .prefetch(AUTO)\n",
    "          )\n",
    "\n",
    "          n_steps = X_train.shape[0] // BATCH_SIZE\n",
    "          models[i].fit(\n",
    "              train_dataset,\n",
    "              steps_per_epoch=n_steps,\n",
    "              validation_data=valid_dataset,\n",
    "              epochs=EPOCHS\n",
    "          )\n",
    "          models[i].save(f\"{save_model_folder}/ensemble_model_{str(i)}.h5\")"
   ]
  },
  {
   "cell_type": "markdown",
   "metadata": {
    "id": "6ZySXq80RBcM"
   },
   "source": [
    "### Multi-head Model"
   ]
  },
  {
   "cell_type": "code",
   "execution_count": null,
   "metadata": {
    "colab": {
     "base_uri": "https://localhost:8080/"
    },
    "executionInfo": {
     "elapsed": 10904732,
     "status": "ok",
     "timestamp": 1616777449518,
     "user": {
      "displayName": "Shearman Chua",
      "photoUrl": "",
      "userId": "02072421428658916568"
     },
     "user_tz": -480
    },
    "id": "lajhwADcNJYY",
    "outputId": "53c451c9-6239-4f9c-aa7b-2a33f79a19c3"
   },
   "outputs": [
    {
     "name": "stderr",
     "output_type": "stream",
     "text": [
      "/usr/local/lib/python3.7/dist-packages/transformers/tokenization_utils_base.py:2074: FutureWarning: The `pad_to_max_length` argument is deprecated and will be removed in a future version, use `padding=True` or `padding='longest'` to pad to the longest sequence in the batch, or use `padding='max_length'` to pad to a max length. In this case, you can give a specific length with `max_length` (e.g. `max_length=45`) or leave max_length to None to pad to the maximal input size of the model (e.g. 512 for Bert).\n",
      "  FutureWarning,\n"
     ]
    },
    {
     "name": "stdout",
     "output_type": "stream",
     "text": [
      "Model: \"model\"\n",
      "__________________________________________________________________________________________________\n",
      "Layer (type)                    Output Shape         Param #     Connected to                     \n",
      "==================================================================================================\n",
      "input_word_ids_1 (InputLayer)   [(None, 192)]        0                                            \n",
      "__________________________________________________________________________________________________\n",
      "input_word_ids_2 (InputLayer)   [(None, 192)]        0                                            \n",
      "__________________________________________________________________________________________________\n",
      "bert (TFBertMainLayer)          TFBaseModelOutputWit 167356416   input_word_ids_1[0][0]           \n",
      "__________________________________________________________________________________________________\n",
      "roberta (TFRobertaMainLayer)    TFBaseModelOutputWit 278043648   input_word_ids_2[0][0]           \n",
      "__________________________________________________________________________________________________\n",
      "tf.__operators__.getitem (Slici (None, 768)          0           bert[0][0]                       \n",
      "__________________________________________________________________________________________________\n",
      "tf.__operators__.getitem_1 (Sli (None, 768)          0           roberta[0][0]                    \n",
      "__________________________________________________________________________________________________\n",
      "average (Average)               (None, 768)          0           tf.__operators__.getitem[0][0]   \n",
      "                                                                 tf.__operators__.getitem_1[0][0] \n",
      "__________________________________________________________________________________________________\n",
      "dense (Dense)                   (None, 512)          393728      average[0][0]                    \n",
      "__________________________________________________________________________________________________\n",
      "dense_3 (Dense)                 (None, 512)          393728      average[0][0]                    \n",
      "__________________________________________________________________________________________________\n",
      "dropout_74 (Dropout)            (None, 512)          0           dense[0][0]                      \n",
      "__________________________________________________________________________________________________\n",
      "dropout_77 (Dropout)            (None, 512)          0           dense_3[0][0]                    \n",
      "__________________________________________________________________________________________________\n",
      "dense_1 (Dense)                 (None, 256)          131328      dropout_74[0][0]                 \n",
      "__________________________________________________________________________________________________\n",
      "dense_4 (Dense)                 (None, 256)          131328      dropout_77[0][0]                 \n",
      "__________________________________________________________________________________________________\n",
      "dropout_75 (Dropout)            (None, 256)          0           dense_1[0][0]                    \n",
      "__________________________________________________________________________________________________\n",
      "dropout_78 (Dropout)            (None, 256)          0           dense_4[0][0]                    \n",
      "__________________________________________________________________________________________________\n",
      "dense_2 (Dense)                 (None, 128)          32896       dropout_75[0][0]                 \n",
      "__________________________________________________________________________________________________\n",
      "dense_5 (Dense)                 (None, 128)          32896       dropout_78[0][0]                 \n",
      "__________________________________________________________________________________________________\n",
      "dropout_76 (Dropout)            (None, 128)          0           dense_2[0][0]                    \n",
      "__________________________________________________________________________________________________\n",
      "dropout_79 (Dropout)            (None, 128)          0           dense_5[0][0]                    \n",
      "__________________________________________________________________________________________________\n",
      "subjectivity (Dense)            (None, 2)            258         dropout_76[0][0]                 \n",
      "__________________________________________________________________________________________________\n",
      "toxicity (Dense)                (None, 3)            387         dropout_79[0][0]                 \n",
      "==================================================================================================\n",
      "Total params: 446,516,613\n",
      "Trainable params: 446,516,613\n",
      "Non-trainable params: 0\n",
      "__________________________________________________________________________________________________\n",
      "(1407, 2, 192)\n",
      "Counter({0: 1121, 1: 209, 2: 77})\n",
      "Counter({0: 913, 1: 494})\n",
      "Epoch 1/4\n",
      "2243/2243 [==============================] - 662s 295ms/step - loss: 0.1051 - subjectivity_loss: 0.0570 - toxicity_loss: 0.0481 - subjectivity_accuracy: 0.9022 - toxicity_accuracy: 0.8935 - val_loss: 0.3798 - val_subjectivity_loss: 0.2796 - val_toxicity_loss: 0.1002 - val_subjectivity_accuracy: 0.8097 - val_toxicity_accuracy: 0.8551\n",
      "Epoch 2/4\n",
      "2243/2243 [==============================] - 650s 290ms/step - loss: 0.0286 - subjectivity_loss: 0.0073 - toxicity_loss: 0.0213 - subjectivity_accuracy: 0.9913 - toxicity_accuracy: 0.9603 - val_loss: 0.5428 - val_subjectivity_loss: 0.3609 - val_toxicity_loss: 0.1818 - val_subjectivity_accuracy: 0.8295 - val_toxicity_accuracy: 0.8580\n",
      "Epoch 3/4\n",
      "2243/2243 [==============================] - 651s 290ms/step - loss: 0.0096 - subjectivity_loss: 0.0026 - toxicity_loss: 0.0069 - subjectivity_accuracy: 0.9970 - toxicity_accuracy: 0.9899 - val_loss: 0.6933 - val_subjectivity_loss: 0.4147 - val_toxicity_loss: 0.2786 - val_subjectivity_accuracy: 0.8381 - val_toxicity_accuracy: 0.8438\n",
      "Epoch 4/4\n",
      "2243/2243 [==============================] - 650s 290ms/step - loss: 0.0042 - subjectivity_loss: 0.0016 - toxicity_loss: 0.0026 - subjectivity_accuracy: 0.9983 - toxicity_accuracy: 0.9964 - val_loss: 0.7728 - val_subjectivity_loss: 0.4343 - val_toxicity_loss: 0.3385 - val_subjectivity_accuracy: 0.8210 - val_toxicity_accuracy: 0.8551\n",
      "(1407, 2, 192)\n",
      "Counter({0: 1126, 1: 196, 2: 85})\n",
      "Counter({0: 913, 1: 494})\n",
      "Epoch 1/4\n",
      "2243/2243 [==============================] - 657s 293ms/step - loss: 0.0151 - subjectivity_loss: 0.0069 - toxicity_loss: 0.0082 - subjectivity_accuracy: 0.9932 - toxicity_accuracy: 0.9891 - val_loss: 0.1722 - val_subjectivity_loss: 0.0746 - val_toxicity_loss: 0.0976 - val_subjectivity_accuracy: 0.9716 - val_toxicity_accuracy: 0.9403\n",
      "Epoch 2/4\n",
      "2243/2243 [==============================] - 652s 291ms/step - loss: 0.0029 - subjectivity_loss: 9.8607e-04 - toxicity_loss: 0.0019 - subjectivity_accuracy: 0.9991 - toxicity_accuracy: 0.9975 - val_loss: 0.1395 - val_subjectivity_loss: 0.0828 - val_toxicity_loss: 0.0567 - val_subjectivity_accuracy: 0.9631 - val_toxicity_accuracy: 0.9659\n",
      "Epoch 3/4\n",
      "2243/2243 [==============================] - 652s 291ms/step - loss: 0.0016 - subjectivity_loss: 5.9280e-04 - toxicity_loss: 9.8661e-04 - subjectivity_accuracy: 0.9993 - toxicity_accuracy: 0.9989 - val_loss: 0.1869 - val_subjectivity_loss: 0.0859 - val_toxicity_loss: 0.1010 - val_subjectivity_accuracy: 0.9716 - val_toxicity_accuracy: 0.9545\n",
      "Epoch 4/4\n",
      "2243/2243 [==============================] - 654s 292ms/step - loss: 0.0011 - subjectivity_loss: 5.1829e-04 - toxicity_loss: 5.5956e-04 - subjectivity_accuracy: 0.9994 - toxicity_accuracy: 0.9993 - val_loss: 0.1644 - val_subjectivity_loss: 0.0790 - val_toxicity_loss: 0.0855 - val_subjectivity_accuracy: 0.9688 - val_toxicity_accuracy: 0.9545\n",
      "(1407, 2, 192)\n",
      "Counter({0: 1125, 1: 205, 2: 77})\n",
      "Counter({0: 913, 1: 494})\n",
      "Epoch 1/4\n",
      "2243/2243 [==============================] - 656s 292ms/step - loss: 0.0026 - subjectivity_loss: 0.0013 - toxicity_loss: 0.0014 - subjectivity_accuracy: 0.9988 - toxicity_accuracy: 0.9986 - val_loss: 0.0155 - val_subjectivity_loss: 0.0112 - val_toxicity_loss: 0.0044 - val_subjectivity_accuracy: 0.9972 - val_toxicity_accuracy: 0.9972\n",
      "Epoch 2/4\n",
      "2243/2243 [==============================] - 653s 291ms/step - loss: 9.4260e-04 - subjectivity_loss: 3.8961e-04 - toxicity_loss: 5.5299e-04 - subjectivity_accuracy: 0.9996 - toxicity_accuracy: 0.9994 - val_loss: 0.0104 - val_subjectivity_loss: 0.0103 - val_toxicity_loss: 7.5378e-05 - val_subjectivity_accuracy: 0.9972 - val_toxicity_accuracy: 1.0000\n",
      "Epoch 3/4\n",
      "2243/2243 [==============================] - 652s 291ms/step - loss: 6.6637e-04 - subjectivity_loss: 2.7738e-04 - toxicity_loss: 3.8899e-04 - subjectivity_accuracy: 0.9997 - toxicity_accuracy: 0.9996 - val_loss: 0.0401 - val_subjectivity_loss: 0.0270 - val_toxicity_loss: 0.0131 - val_subjectivity_accuracy: 0.9830 - val_toxicity_accuracy: 0.9915\n",
      "Epoch 4/4\n",
      "2243/2243 [==============================] - 652s 291ms/step - loss: 5.7020e-04 - subjectivity_loss: 1.9259e-04 - toxicity_loss: 3.7761e-04 - subjectivity_accuracy: 0.9998 - toxicity_accuracy: 0.9996 - val_loss: 0.0209 - val_subjectivity_loss: 0.0198 - val_toxicity_loss: 0.0011 - val_subjectivity_accuracy: 0.9915 - val_toxicity_accuracy: 0.9972\n",
      "(1407, 2, 192)\n",
      "Counter({0: 1121, 1: 206, 2: 80})\n",
      "Counter({0: 913, 1: 494})\n",
      "Epoch 1/4\n",
      "2243/2243 [==============================] - 654s 292ms/step - loss: 9.5283e-04 - subjectivity_loss: 5.0385e-04 - toxicity_loss: 4.4897e-04 - subjectivity_accuracy: 0.9996 - toxicity_accuracy: 0.9995 - val_loss: 7.4299e-04 - val_subjectivity_loss: 7.3968e-04 - val_toxicity_loss: 3.3066e-06 - val_subjectivity_accuracy: 1.0000 - val_toxicity_accuracy: 1.0000\n",
      "Epoch 2/4\n",
      "2243/2243 [==============================] - 651s 290ms/step - loss: 5.3610e-04 - subjectivity_loss: 2.9818e-04 - toxicity_loss: 2.3793e-04 - subjectivity_accuracy: 0.9997 - toxicity_accuracy: 0.9998 - val_loss: 8.9015e-05 - val_subjectivity_loss: 5.4887e-05 - val_toxicity_loss: 3.4128e-05 - val_subjectivity_accuracy: 1.0000 - val_toxicity_accuracy: 1.0000\n",
      "Epoch 3/4\n",
      "2243/2243 [==============================] - 654s 292ms/step - loss: 4.7118e-04 - subjectivity_loss: 2.9319e-04 - toxicity_loss: 1.7799e-04 - subjectivity_accuracy: 0.9997 - toxicity_accuracy: 0.9998 - val_loss: 0.0107 - val_subjectivity_loss: 0.0095 - val_toxicity_loss: 0.0012 - val_subjectivity_accuracy: 0.9943 - val_toxicity_accuracy: 0.9972\n",
      "Epoch 4/4\n",
      "2243/2243 [==============================] - 653s 291ms/step - loss: 3.1578e-04 - subjectivity_loss: 1.3339e-04 - toxicity_loss: 1.8240e-04 - subjectivity_accuracy: 0.9998 - toxicity_accuracy: 0.9998 - val_loss: 0.0202 - val_subjectivity_loss: 0.0192 - val_toxicity_loss: 9.0977e-04 - val_subjectivity_accuracy: 0.9886 - val_toxicity_accuracy: 0.9972\n"
     ]
    }
   ],
   "source": [
    "MODEL_NAMES = ['bert-base-multilingual-uncased','jplu/tf-xlm-roberta-base']\n",
    "\n",
    "with strategy.scope():\n",
    "        \n",
    "    tokenizer1 = transformers.AutoTokenizer.from_pretrained(MODEL_NAMES[0])\n",
    "    tokenizer2 = transformers.AutoTokenizer.from_pretrained(MODEL_NAMES[1])\n",
    "    reviews1 = regular_encode(data_df.comment_text.astype(str).values.tolist(), tokenizer1, maxlen=MAX_LEN)\n",
    "    reviews2 = regular_encode(data_df.comment_text.astype(str).values.tolist(), tokenizer2, maxlen=MAX_LEN)\n",
    "\n",
    "    sss = StratifiedShuffleSplit(n_splits=4, random_state=42, test_size=0.2)\n",
    "    X1, y1 = reviews1, data_df.subjectivity.astype(int).values\n",
    "    z1 = data_df.toxicity.astype(int).values\n",
    "\n",
    "    X2, y2 = reviews2, data_df.subjectivity.astype(int).values\n",
    "    z2 = data_df.toxicity.astype(int).values\n",
    "\n",
    "    model.summary()\n",
    "\n",
    "    for train_index, valid_index in sss.split(X1, y1):\n",
    "\n",
    "        X_train1, X_valid1 = X1[train_index], X1[valid_index]\n",
    "        y_train1, y_valid1 = y1[train_index], y1[valid_index]\n",
    "        z_train1, z_valid1 = z1[train_index], z1[valid_index]\n",
    "\n",
    "        X_train2, X_valid2 = X2[train_index], X2[valid_index]\n",
    "        y_train2, y_valid2 = y2[train_index], y2[valid_index]\n",
    "        z_train2, z_valid2 = z2[train_index], z2[valid_index]\n",
    "\n",
    "        train_df = pd.DataFrame()\n",
    "        train_df['sub'] = y_train1\n",
    "        train_df['tox'] = z_train1\n",
    "        label_cols = train_df.columns[:]\n",
    "        labels = train_df[label_cols].values\n",
    "        data = np.array([X_train1,X_train2]).reshape(-1,2,192)\n",
    "\n",
    "        print(data.shape)\n",
    "\n",
    "        y_true = train_df['tox'].values\n",
    "        print(Counter(y_true))\n",
    "        y_true = train_df['sub'].values\n",
    "        print(Counter(y_true))\n",
    "\n",
    "        train_dataset = (\n",
    "            tf.data.Dataset\n",
    "            .from_tensor_slices(({\"input_word_ids_1\":X_train1,\"input_word_ids_2\":X_train2},labels))\n",
    "            .map(one_hot_multi, num_parallel_calls=AUTO)\n",
    "            .repeat()\n",
    "            .shuffle(2048)\n",
    "            .batch(BATCH_SIZE)\n",
    "            .prefetch(AUTO)\n",
    "        )\n",
    "\n",
    "        valid_df = pd.DataFrame()\n",
    "        valid_df['sub'] = y_valid1\n",
    "        valid_df['tox'] = z_valid1\n",
    "        label_cols = valid_df.columns[:]\n",
    "        labels = valid_df[label_cols].values\n",
    "        data = np.array([X_valid1,X_valid2]).reshape(-1,2,192)\n",
    "\n",
    "\n",
    "        valid_dataset = (\n",
    "            tf.data.Dataset\n",
    "            .from_tensor_slices(({\"input_word_ids_1\":X_valid1,\"input_word_ids_2\":X_valid2},labels))\n",
    "            .map(one_hot_multi, num_parallel_calls=AUTO)\n",
    "            .batch(BATCH_SIZE)\n",
    "            .cache()\n",
    "            .prefetch(AUTO)\n",
    "        )\n",
    "\n",
    "        n_steps = X_train.shape[0] // BATCH_SIZE\n",
    "        model.fit(\n",
    "            train_dataset,\n",
    "            steps_per_epoch=n_steps,\n",
    "            validation_data=valid_dataset,\n",
    "            epochs=EPOCHS\n",
    "        )\n",
    "        model.save(f\"{save_model_folder}/multihead_model.h5\")"
   ]
  },
  {
   "cell_type": "markdown",
   "metadata": {
    "id": "UuXl5NRQ7b1m"
   },
   "source": [
    "## Test Using Ensemble Model"
   ]
  },
  {
   "cell_type": "markdown",
   "metadata": {
    "id": "e8g6bjNNazSx"
   },
   "source": [
    "### Load Trained Model"
   ]
  },
  {
   "cell_type": "code",
   "execution_count": null,
   "metadata": {
    "id": "0CsSzMJN0EyW"
   },
   "outputs": [],
   "source": [
    "df_sub = pd.read_csv(f'{data_folder}/preprocessed_kaggle_data.csv')\n",
    "\n",
    "from sklearn.preprocessing import LabelEncoder\n",
    "from tensorflow.keras.utils import to_categorical\n",
    "\n",
    "# Split Kaggle Dataset to Training set as well as test set to be used to test model after training\n",
    "X_train, X_test, y_train, y_test = train_test_split(df_sub.comment_text.values, df_sub.id.values, test_size=0.10, random_state=42, stratify=df_sub[['toxic_class','neutral']])\n",
    "\n",
    "data_df = df_sub[df_sub['id'].isin(y_train)]\n",
    "data_df.rename({'neutral':'subjectivity','toxic_class':'toxicity'},axis=1,inplace=True)\n",
    "data_df.drop('id', axis=1, inplace=True)\n",
    "data_df['comment_text'] = data_df['comment_text'].astype(str)\n",
    "test_df = pd.read_csv(f'{data_folder}/preprocessed_neg_test.csv')\n",
    "test_df.head()\n",
    "MAX_LEN = 192\n",
    "EPOCHS = 4\n",
    "BATCH_SIZE = 16 * strategy.num_replicas_in_sync # for ensemble model\n",
    "\n",
    "def regular_encode(texts, tokenizer, maxlen=512):\n",
    "    enc_di = tokenizer.batch_encode_plus(\n",
    "             texts, \n",
    "             truncation=True, \n",
    "             return_token_type_ids=False,\n",
    "             pad_to_max_length=True,\n",
    "             max_length=maxlen)\n",
    "    \n",
    "    return np.array(enc_di['input_ids'])\n",
    "\n",
    "def build_model(transformer, model_name, max_len=512):\n",
    "    input_word_ids = Input(shape=(max_len,), dtype=tf.int32, name=\"input_word_ids\")\n",
    "    if model_name == 'bert-base-multilingual-uncased':\n",
    "      sequence_output = transformer.bert(input_word_ids)[0]\n",
    "    elif model_name == 'jplu/tf-xlm-roberta-base':\n",
    "      sequence_output = transformer.roberta(input_word_ids)[0]\n",
    "    cls_token = sequence_output[:, 0, :]\n",
    "    # x = Dense(1024, activation='relu')(cls_token)\n",
    "    # x = Dropout(0.5)(x)\n",
    "    x1 = Dense(512, activation='relu')(cls_token)\n",
    "    x1 = Dropout(0.2)(x1)\n",
    "    x1 = Dense(256, activation='relu')(x1)\n",
    "    x1 = Dropout(0.2)(x1)\n",
    "    x1 = Dense(128, activation='relu')(x1)\n",
    "    x1 = Dropout(0.2)(x1)\n",
    "    x2 = Dense(512, activation='relu')(cls_token)\n",
    "    x2 = Dropout(0.2)(x2)\n",
    "    x2 = Dense(256, activation='relu')(x2)\n",
    "    x2 = Dropout(0.2)(x2)\n",
    "    x2 = Dense(128, activation='relu')(x2)\n",
    "    x2 = Dropout(0.2)(x2)\n",
    "    sub = Dense(2, activation='softmax', name='subjectivity')(x1)\n",
    "    toxic = Dense(3, activation='softmax', name='toxicity')(x2)\n",
    "    \n",
    "    model = Model(inputs=input_word_ids, outputs=[sub,toxic])\n",
    "    loss = 'categorical_crossentropy'\n",
    "    model.compile(Adam(lr=1e-5), loss=[loss, loss],\n",
    "    metrics={'subjectivity':'accuracy', 'toxicity':'accuracy'})\n",
    "    \n",
    "    return model\n",
    "\n",
    "MODEL_NAMES = ['bert-base-multilingual-uncased','jplu/tf-xlm-roberta-base']\n",
    "models = [0 for i in range(len(MODEL_NAMES))]\n",
    "test_probs = [0 for i in range(len(MODEL_NAMES))]\n",
    "test_results = [0 for i in range(len(MODEL_NAMES))]\n",
    "\n",
    "with strategy.scope():\n",
    "    \n",
    "    for i in range(len(MODEL_NAMES)):\n",
    "        \n",
    "        models[i] = transformers.TFAutoModel.from_pretrained(MODEL_NAMES[i])\n",
    "        # models[i].trainable = False\n",
    "        \n",
    "        tokenizer = transformers.AutoTokenizer.from_pretrained(MODEL_NAMES[i])\n",
    "        reviews = regular_encode(data_df.comment_text.astype(str).values.tolist(), tokenizer, maxlen=MAX_LEN)\n",
    "    \n",
    "        sss = StratifiedShuffleSplit(n_splits=4, random_state=42, test_size=0.2)\n",
    "        X, y = reviews, data_df.subjectivity.astype(int).values\n",
    "        z = data_df.toxicity.astype(int).values\n",
    "\n",
    "        models[i] = build_model(models[i], MODEL_NAMES[i], max_len=MAX_LEN)\n",
    "        models[i].summary()"
   ]
  },
  {
   "cell_type": "code",
   "execution_count": null,
   "metadata": {
    "colab": {
     "base_uri": "https://localhost:8080/"
    },
    "executionInfo": {
     "elapsed": 299461,
     "status": "ok",
     "timestamp": 1616680912660,
     "user": {
      "displayName": "Shearman Chua",
      "photoUrl": "",
      "userId": "02072421428658916568"
     },
     "user_tz": -480
    },
    "id": "zl5wG33agXul",
    "outputId": "7e1414c1-a060-46e6-febd-eaaf1ee29fda"
   },
   "outputs": [
    {
     "name": "stdout",
     "output_type": "stream",
     "text": [
      "WARNING:tensorflow:Error in loading the saved optimizer state. As a result, your model is starting with a freshly initialized optimizer.\n"
     ]
    },
    {
     "name": "stderr",
     "output_type": "stream",
     "text": [
      "WARNING:tensorflow:Error in loading the saved optimizer state. As a result, your model is starting with a freshly initialized optimizer.\n"
     ]
    },
    {
     "name": "stdout",
     "output_type": "stream",
     "text": [
      "WARNING:tensorflow:Error in loading the saved optimizer state. As a result, your model is starting with a freshly initialized optimizer.\n"
     ]
    },
    {
     "name": "stderr",
     "output_type": "stream",
     "text": [
      "WARNING:tensorflow:Error in loading the saved optimizer state. As a result, your model is starting with a freshly initialized optimizer.\n"
     ]
    }
   ],
   "source": [
    "MODEL_NAMES = ['bert-base-multilingual-uncased','jplu/tf-xlm-roberta-base']\n",
    "models = [0 for i in range(len(MODEL_NAMES))]\n",
    "input_word_ids = Input(shape=(192,), dtype=tf.int32, name=\"input_word_ids\")\n",
    "# bert = transformers.TFAutoModel.from_pretrained(MODEL_NAMES[0]).bert(input_word_ids)[0]\n",
    "# roberta = transformers.TFAutoModel.from_pretrained(MODEL_NAMES[1]).roberta(input_word_ids)[0]\n",
    "\n",
    "with strategy.scope():\n",
    "\n",
    "  models[0] = tf.keras.models.load_model(f'{save_model_folder}/ensemble_model_0.h5')\n",
    "  models[1] = tf.keras.models.load_model(f'{save_model_folder}/ensemble_model_1.h5')"
   ]
  },
  {
   "cell_type": "code",
   "execution_count": null,
   "metadata": {
    "colab": {
     "base_uri": "https://localhost:8080/"
    },
    "executionInfo": {
     "elapsed": 296525,
     "status": "ok",
     "timestamp": 1616668533259,
     "user": {
      "displayName": "Shearman Chua",
      "photoUrl": "",
      "userId": "02072421428658916568"
     },
     "user_tz": -480
    },
    "id": "6SMv4lelkIB2",
    "outputId": "1da6f72a-cdea-4862-fe78-5cfd142f759b"
   },
   "outputs": [
    {
     "name": "stdout",
     "output_type": "stream",
     "text": [
      "Model: \"model\"\n",
      "__________________________________________________________________________________________________\n",
      "Layer (type)                    Output Shape         Param #     Connected to                     \n",
      "==================================================================================================\n",
      "input_word_ids (InputLayer)     [(None, 192)]        0                                            \n",
      "__________________________________________________________________________________________________\n",
      "bert (TFBertMainLayer)          TFBaseModelOutputWit 167356416   input_word_ids[0][0]             \n",
      "__________________________________________________________________________________________________\n",
      "tf.__operators__.getitem (Slici (None, 768)          0           bert[0][0]                       \n",
      "__________________________________________________________________________________________________\n",
      "dense (Dense)                   (None, 512)          393728      tf.__operators__.getitem[0][0]   \n",
      "__________________________________________________________________________________________________\n",
      "dense_3 (Dense)                 (None, 512)          393728      tf.__operators__.getitem[0][0]   \n",
      "__________________________________________________________________________________________________\n",
      "dropout_37 (Dropout)            (None, 512)          0           dense[0][0]                      \n",
      "__________________________________________________________________________________________________\n",
      "dropout_40 (Dropout)            (None, 512)          0           dense_3[0][0]                    \n",
      "__________________________________________________________________________________________________\n",
      "dense_1 (Dense)                 (None, 256)          131328      dropout_37[0][0]                 \n",
      "__________________________________________________________________________________________________\n",
      "dense_4 (Dense)                 (None, 256)          131328      dropout_40[0][0]                 \n",
      "__________________________________________________________________________________________________\n",
      "dropout_38 (Dropout)            (None, 256)          0           dense_1[0][0]                    \n",
      "__________________________________________________________________________________________________\n",
      "dropout_41 (Dropout)            (None, 256)          0           dense_4[0][0]                    \n",
      "__________________________________________________________________________________________________\n",
      "dense_2 (Dense)                 (None, 128)          32896       dropout_38[0][0]                 \n",
      "__________________________________________________________________________________________________\n",
      "dense_5 (Dense)                 (None, 128)          32896       dropout_41[0][0]                 \n",
      "__________________________________________________________________________________________________\n",
      "dropout_39 (Dropout)            (None, 128)          0           dense_2[0][0]                    \n",
      "__________________________________________________________________________________________________\n",
      "dropout_42 (Dropout)            (None, 128)          0           dense_5[0][0]                    \n",
      "__________________________________________________________________________________________________\n",
      "subjectivity (Dense)            (None, 2)            258         dropout_39[0][0]                 \n",
      "__________________________________________________________________________________________________\n",
      "toxicity (Dense)                (None, 3)            387         dropout_42[0][0]                 \n",
      "==================================================================================================\n",
      "Total params: 168,472,965\n",
      "Trainable params: 168,472,965\n",
      "Non-trainable params: 0\n",
      "__________________________________________________________________________________________________\n"
     ]
    }
   ],
   "source": [
    " models[0].summary()"
   ]
  },
  {
   "cell_type": "markdown",
   "metadata": {
    "id": "hJ6nVDisa8RG"
   },
   "source": [
    "### Predict on Trained Ensemble Model"
   ]
  },
  {
   "cell_type": "code",
   "execution_count": null,
   "metadata": {
    "colab": {
     "base_uri": "https://localhost:8080/"
    },
    "executionInfo": {
     "elapsed": 35255,
     "status": "ok",
     "timestamp": 1616680969549,
     "user": {
      "displayName": "Shearman Chua",
      "photoUrl": "",
      "userId": "02072421428658916568"
     },
     "user_tz": -480
    },
    "id": "ECDSqKNHRFhy",
    "outputId": "90a91b7c-23f5-442a-b14a-901bcc0419a2"
   },
   "outputs": [
    {
     "name": "stdout",
     "output_type": "stream",
     "text": [
      "bert-base-multilingual-uncased\n"
     ]
    },
    {
     "name": "stderr",
     "output_type": "stream",
     "text": [
      "/usr/local/lib/python3.7/dist-packages/transformers/tokenization_utils_base.py:2074: FutureWarning: The `pad_to_max_length` argument is deprecated and will be removed in a future version, use `padding=True` or `padding='longest'` to pad to the longest sequence in the batch, or use `padding='max_length'` to pad to a max length. In this case, you can give a specific length with `max_length` (e.g. `max_length=45`) or leave max_length to None to pad to the maximal input size of the model (e.g. 512 for Bert).\n",
      "  FutureWarning,\n"
     ]
    },
    {
     "name": "stdout",
     "output_type": "stream",
     "text": [
      "14/14 [==============================] - 14s 746ms/step\n",
      "jplu/tf-xlm-roberta-base\n",
      "14/14 [==============================] - 15s 842ms/step\n"
     ]
    }
   ],
   "source": [
    "MODEL_NAMES = ['bert-base-multilingual-uncased','jplu/tf-xlm-roberta-base']\n",
    "test_probs = [0 for i in range(len(MODEL_NAMES))]\n",
    "\n",
    "with strategy.scope():\n",
    "    \n",
    "    for i in range(len(MODEL_NAMES)):\n",
    "      print(MODEL_NAMES[i])\n",
    "      tokenizer = transformers.AutoTokenizer.from_pretrained(MODEL_NAMES[i])\n",
    "      test_reviews = regular_encode(test_df.comment_text.astype(str).values.tolist(), tokenizer, maxlen=192)\n",
    "\n",
    "      test_dataset = (\n",
    "      tf.data.Dataset\n",
    "      .from_tensor_slices((test_reviews))\n",
    "      .batch(128)\n",
    "      .prefetch(AUTO)\n",
    "      )\n",
    "\n",
    "      test_probs[i] = models[i].predict(test_dataset, verbose=1)"
   ]
  },
  {
   "cell_type": "markdown",
   "metadata": {
    "id": "wnH7G6j47pMh"
   },
   "source": [
    "## Averaging Ensemble Model Results"
   ]
  },
  {
   "cell_type": "code",
   "execution_count": null,
   "metadata": {
    "colab": {
     "base_uri": "https://localhost:8080/",
     "height": 204
    },
    "executionInfo": {
     "elapsed": 928,
     "status": "ok",
     "timestamp": 1615404128631,
     "user": {
      "displayName": "Shearman Chua",
      "photoUrl": "",
      "userId": "02072421428658916568"
     },
     "user_tz": -480
    },
    "id": "ho6e6YRQRFp1",
    "outputId": "6d1132a8-5809-48ba-a18e-2ef45df659a7"
   },
   "outputs": [
    {
     "data": {
      "text/html": [
       "<div>\n",
       "<style scoped>\n",
       "    .dataframe tbody tr th:only-of-type {\n",
       "        vertical-align: middle;\n",
       "    }\n",
       "\n",
       "    .dataframe tbody tr th {\n",
       "        vertical-align: top;\n",
       "    }\n",
       "\n",
       "    .dataframe thead th {\n",
       "        text-align: right;\n",
       "    }\n",
       "</style>\n",
       "<table border=\"1\" class=\"dataframe\">\n",
       "  <thead>\n",
       "    <tr style=\"text-align: right;\">\n",
       "      <th></th>\n",
       "      <th>comment_text</th>\n",
       "      <th>subjectivity</th>\n",
       "      <th>toxicity</th>\n",
       "      <th>sub_pred</th>\n",
       "      <th>tox_pred</th>\n",
       "    </tr>\n",
       "  </thead>\n",
       "  <tbody>\n",
       "    <tr>\n",
       "      <th>0</th>\n",
       "      <td>rt trumpwarroom rt to wish a happy presidents ...</td>\n",
       "      <td>0</td>\n",
       "      <td>0</td>\n",
       "      <td>0</td>\n",
       "      <td>0</td>\n",
       "    </tr>\n",
       "    <tr>\n",
       "      <th>1</th>\n",
       "      <td>rt folkloredean the we needed therapy but inst...</td>\n",
       "      <td>1</td>\n",
       "      <td>0</td>\n",
       "      <td>0</td>\n",
       "      <td>0</td>\n",
       "    </tr>\n",
       "    <tr>\n",
       "      <th>2</th>\n",
       "      <td>rt rachelelisep i love that no one in texas ow...</td>\n",
       "      <td>1</td>\n",
       "      <td>0</td>\n",
       "      <td>0</td>\n",
       "      <td>0</td>\n",
       "    </tr>\n",
       "    <tr>\n",
       "      <th>3</th>\n",
       "      <td>vwow we have lady flotus45 our s shine brightr...</td>\n",
       "      <td>0</td>\n",
       "      <td>0</td>\n",
       "      <td>1</td>\n",
       "      <td>0</td>\n",
       "    </tr>\n",
       "    <tr>\n",
       "      <th>4</th>\n",
       "      <td>rt officialmxjp im first solo digital mini alb...</td>\n",
       "      <td>0</td>\n",
       "      <td>0</td>\n",
       "      <td>0</td>\n",
       "      <td>0</td>\n",
       "    </tr>\n",
       "  </tbody>\n",
       "</table>\n",
       "</div>"
      ],
      "text/plain": [
       "                                        comment_text  ...  tox_pred\n",
       "0  rt trumpwarroom rt to wish a happy presidents ...  ...         0\n",
       "1  rt folkloredean the we needed therapy but inst...  ...         0\n",
       "2  rt rachelelisep i love that no one in texas ow...  ...         0\n",
       "3  vwow we have lady flotus45 our s shine brightr...  ...         0\n",
       "4  rt officialmxjp im first solo digital mini alb...  ...         0\n",
       "\n",
       "[5 rows x 5 columns]"
      ]
     },
     "execution_count": 28,
     "metadata": {
      "tags": []
     },
     "output_type": "execute_result"
    }
   ],
   "source": [
    "test_df['sub_pred'] = np.argmax(((test_probs[0][0] + test_probs[1][0])/2), axis = 1)\n",
    "test_df['tox_pred'] = np.argmax(((test_probs[0][1] + test_probs[1][1])/2), axis = 1)\n",
    "test_df.head()"
   ]
  },
  {
   "cell_type": "code",
   "execution_count": null,
   "metadata": {
    "colab": {
     "base_uri": "https://localhost:8080/"
    },
    "executionInfo": {
     "elapsed": 773,
     "status": "ok",
     "timestamp": 1615404139298,
     "user": {
      "displayName": "Shearman Chua",
      "photoUrl": "",
      "userId": "02072421428658916568"
     },
     "user_tz": -480
    },
    "id": "kPuaSHOESHWa",
    "outputId": "aedf6762-56b1-49d3-a0f2-432c14ce637c"
   },
   "outputs": [
    {
     "name": "stdout",
     "output_type": "stream",
     "text": [
      "subjectivity f1 score: 0.8448769318832284\n",
      "subjectivity precision score: 0.8448769318832284\n",
      "subjectivity recall score: 0.8448769318832284\n",
      "\n",
      "\n",
      "toxicity f1 score: 0.8775042930738409\n",
      "toxicity precision score: 0.8775042930738409\n",
      "toxicity recall score: 0.8775042930738409\n"
     ]
    }
   ],
   "source": [
    "from sklearn.metrics import f1_score,precision_score,recall_score\n",
    "\n",
    "y_true = test_df['subjectivity'].values\n",
    "y_pred = test_df['sub_pred'].values\n",
    "\n",
    "print(\"subjectivity f1 score: \" + str(f1_score(y_true, y_pred, average='micro')))\n",
    "print(\"subjectivity precision score: \" + str(precision_score(y_true, y_pred, average='micro')))\n",
    "print(\"subjectivity recall score: \" + str(recall_score(y_true, y_pred, average='micro')))\n",
    "print('\\n')\n",
    "y_true = test_df['toxicity'].values\n",
    "y_pred = test_df['tox_pred'].values\n",
    "print(\"toxicity f1 score: \" + str(f1_score(y_true, y_pred, average='micro')))\n",
    "print(\"toxicity precision score: \" + str(precision_score(y_true, y_pred, average='micro')))\n",
    "print(\"toxicity recall score: \" + str(recall_score(y_true, y_pred, average='micro')))"
   ]
  },
  {
   "cell_type": "code",
   "execution_count": null,
   "metadata": {
    "colab": {
     "base_uri": "https://localhost:8080/"
    },
    "executionInfo": {
     "elapsed": 725,
     "status": "ok",
     "timestamp": 1615404141864,
     "user": {
      "displayName": "Shearman Chua",
      "photoUrl": "",
      "userId": "02072421428658916568"
     },
     "user_tz": -480
    },
    "id": "rRsI1kMkh1Au",
    "outputId": "9bec3b39-7a64-4411-f2d0-a2d8c94dc181"
   },
   "outputs": [
    {
     "name": "stdout",
     "output_type": "stream",
     "text": [
      "subjectivity f1 score: [0.87585891 0.79328757]\n",
      "subjectivity precision score: [0.88110599 0.78549849]\n",
      "subjectivity recall score: [0.87067395 0.80123267]\n",
      "\n",
      "\n",
      "toxicity f1 score: [0.93964583 0.60903733 0.71559633]\n",
      "toxicity precision score: [0.93998554 0.63265306 0.65546218]\n",
      "toxicity recall score: [0.93930636 0.58712121 0.78787879]\n"
     ]
    }
   ],
   "source": [
    "y_true = test_df['subjectivity'].values\n",
    "y_pred = test_df['sub_pred'].values\n",
    "\n",
    "print(\"subjectivity f1 score: \" + str(f1_score(y_true, y_pred, average=None)))\n",
    "print(\"subjectivity precision score: \" + str(precision_score(y_true, y_pred, average=None)))\n",
    "print(\"subjectivity recall score: \" + str(recall_score(y_true, y_pred, average=None)))\n",
    "print('\\n')\n",
    "y_true = test_df['toxicity'].values\n",
    "y_pred = test_df['tox_pred'].values\n",
    "print(\"toxicity f1 score: \" + str(f1_score(y_true, y_pred, average=None)))\n",
    "print(\"toxicity precision score: \" + str(precision_score(y_true, y_pred, average=None)))\n",
    "print(\"toxicity recall score: \" + str(recall_score(y_true, y_pred, average=None)))"
   ]
  },
  {
   "cell_type": "code",
   "execution_count": null,
   "metadata": {
    "colab": {
     "base_uri": "https://localhost:8080/"
    },
    "executionInfo": {
     "elapsed": 918,
     "status": "ok",
     "timestamp": 1615404145766,
     "user": {
      "displayName": "Shearman Chua",
      "photoUrl": "",
      "userId": "02072421428658916568"
     },
     "user_tz": -480
    },
    "id": "W33QPz0-SI3v",
    "outputId": "25919235-8b04-4b57-9f84-e8466aa6e226"
   },
   "outputs": [
    {
     "data": {
      "text/plain": [
       "Counter({0: 1085, 1: 662})"
      ]
     },
     "execution_count": 32,
     "metadata": {
      "tags": []
     },
     "output_type": "execute_result"
    }
   ],
   "source": [
    "from collections import Counter\n",
    "\n",
    "y_true = test_df['sub_pred'].values\n",
    "\n",
    "Counter(y_true)"
   ]
  },
  {
   "cell_type": "code",
   "execution_count": null,
   "metadata": {
    "colab": {
     "base_uri": "https://localhost:8080/"
    },
    "executionInfo": {
     "elapsed": 741,
     "status": "ok",
     "timestamp": 1615404147073,
     "user": {
      "displayName": "Shearman Chua",
      "photoUrl": "",
      "userId": "02072421428658916568"
     },
     "user_tz": -480
    },
    "id": "MEHeBv_TSJAn",
    "outputId": "7d5a21cf-a6f0-4da8-e5a8-61e7ba4dcc26"
   },
   "outputs": [
    {
     "data": {
      "text/plain": [
       "Counter({0: 1098, 1: 649})"
      ]
     },
     "execution_count": 33,
     "metadata": {
      "tags": []
     },
     "output_type": "execute_result"
    }
   ],
   "source": [
    "y_true = test_df['subjectivity'].values\n",
    "\n",
    "Counter(y_true)"
   ]
  },
  {
   "cell_type": "code",
   "execution_count": null,
   "metadata": {
    "colab": {
     "base_uri": "https://localhost:8080/"
    },
    "executionInfo": {
     "elapsed": 1061,
     "status": "ok",
     "timestamp": 1615365503355,
     "user": {
      "displayName": "Shearman Chua",
      "photoUrl": "",
      "userId": "02072421428658916568"
     },
     "user_tz": -480
    },
    "id": "d-x2Gd5pSOJo",
    "outputId": "f49759e5-d15b-41a1-a0ce-b0d8413c6ad9"
   },
   "outputs": [
    {
     "data": {
      "text/plain": [
       "Counter({0: 1369, 1: 248, 2: 130})"
      ]
     },
     "execution_count": 44,
     "metadata": {
      "tags": []
     },
     "output_type": "execute_result"
    }
   ],
   "source": [
    "y_true = test_df['tox_pred'].values\n",
    "\n",
    "Counter(y_true)"
   ]
  },
  {
   "cell_type": "code",
   "execution_count": null,
   "metadata": {
    "colab": {
     "base_uri": "https://localhost:8080/"
    },
    "executionInfo": {
     "elapsed": 925,
     "status": "ok",
     "timestamp": 1615404150731,
     "user": {
      "displayName": "Shearman Chua",
      "photoUrl": "",
      "userId": "02072421428658916568"
     },
     "user_tz": -480
    },
    "id": "iPV2vq1ZSOLm",
    "outputId": "db94095c-3d11-4fb1-8970-3e7a1115c495"
   },
   "outputs": [
    {
     "data": {
      "text/plain": [
       "Counter({0: 1384, 1: 264, 2: 99})"
      ]
     },
     "execution_count": 34,
     "metadata": {
      "tags": []
     },
     "output_type": "execute_result"
    }
   ],
   "source": [
    "y_true = test_df['toxicity'].values\n",
    "\n",
    "Counter(y_true)"
   ]
  },
  {
   "cell_type": "markdown",
   "metadata": {
    "id": "zd6slDdU7iJU"
   },
   "source": [
    "## Test on Multi-head Model"
   ]
  },
  {
   "cell_type": "code",
   "execution_count": null,
   "metadata": {
    "colab": {
     "base_uri": "https://localhost:8080/",
     "height": 1000,
     "referenced_widgets": [
      "d7d5da45377745538bf53d8fd5652071",
      "c48f3f0a99434d0288fb941d1996279b",
      "ea7ab41869bc4574afdad2b94c7b7c3b",
      "6fa0bc0407a74e08899a1bedaf2c578d",
      "522489b12b7244b9b07166a3514480f1",
      "bd47555267b84e4fa8d694492508e1d6",
      "3a3f8674793b437980a4be683d8ae6e8",
      "e53a522313f24dc9aff16b5e60c1fbf5",
      "4086c07d558e4746b8700fee55a83cd9",
      "d316da0b041144ba8a420638f8edbafe",
      "d8b080aa5c24469ca5e9ac6d473acc28",
      "103882bf347f428c8713202eefb103df",
      "32dfb5386a2d404989f0670387f8e335",
      "2017d5c508204acfadc856b3bc52f1af",
      "83cf1efe209e4b0ea7851adc405789a6",
      "a8e72a45d475427fa0d0ded1bdad6b32",
      "1c26a1839bb143c9b52e478e3693f2be",
      "e0a0b7f8c3914c9eb0b5435d703e22c1",
      "45070a0dd66846149e512433465db52c",
      "6daacd0b9b1744ac8f1bd09e76a42db5",
      "1b78913a5d2444aabea896307e951a36",
      "d9f07143b5014a968d0ac4dfeb754b44",
      "26444d502a10451c90e80d65e48828ad",
      "e7e18e05271c443e88749c385132baa3",
      "650a19731c0645338749de3c45c2abfa",
      "9375d570626b4369a936673bef5f8ee9",
      "0db1e232275841978fcd97f6bf2afcfa",
      "53a402f3984f4552beda53c312ca9425",
      "a3d78cd56b624ef99077270e4ef4b928",
      "9be908dfb0fe4ce2accd2b46a312a2a8",
      "3d12df9d06d448bc9da7febf3749ed72",
      "1636118a81a04ea698b389f09abe1ef8",
      "5b4e1f8b36cf4ed0ad7a525bc2995a3c",
      "26ad8241e60e47f1b4095dfd95b9d096",
      "6670d5210d3548909cd27ce5e7aa48c4",
      "61e2f6563150400da9a686baed2051aa",
      "d789619fa6ec4e66b8602bcc0e195cd3",
      "57110221e1f7426fa67be232e9e3b9a3",
      "984776f125cc4126aad6c50396b783f6",
      "3ad92559ba644aeb8b75e285d2006a74",
      "cabfef2eece34ff3a3f7c918e68439f7",
      "d8e332a5455348efbf79e7b645b6a4d0",
      "e1c367a1c4dc4f988d48a9e3357fcffc",
      "2a9248278aa042c8b4d32482935429b6",
      "1df64f8ef643470fb58202094b5463fa",
      "e565289697ed4cfe8c09f5f88362c414",
      "dfebd61e189b45abb04e722a63ce67f0",
      "a70aed149d74497f888b600120ea52ab",
      "84dde76d04ec45fc8aa8c5a42681e37a",
      "7dc8673d144d4a8e8062275bd5d2e096",
      "9bce62e392dc45d89fc4e13f1c4a045b",
      "d5694610b8674687aa7a94793996af95",
      "87e6e18855da4c91bb21a6840b2f1154",
      "068914a7097346aaa3b56beb354623ca",
      "fc794d7bff224b8faa34ce3dd802b5b9",
      "b543eef0b3014714bc1e2036a47531ca"
     ]
    },
    "executionInfo": {
     "elapsed": 312478,
     "status": "ok",
     "timestamp": 1616683765718,
     "user": {
      "displayName": "Shearman Chua",
      "photoUrl": "",
      "userId": "02072421428658916568"
     },
     "user_tz": -480
    },
    "id": "oz50RQ6s0lAQ",
    "outputId": "f5760652-be52-4ef4-f7dc-ae66b43cc3f5"
   },
   "outputs": [
    {
     "data": {
      "application/vnd.jupyter.widget-view+json": {
       "model_id": "d7d5da45377745538bf53d8fd5652071",
       "version_major": 2,
       "version_minor": 0
      },
      "text/plain": [
       "HBox(children=(FloatProgress(value=0.0, description='Downloading', max=871891.0, style=ProgressStyle(descripti…"
      ]
     },
     "metadata": {
      "tags": []
     },
     "output_type": "display_data"
    },
    {
     "name": "stdout",
     "output_type": "stream",
     "text": [
      "\n"
     ]
    },
    {
     "data": {
      "application/vnd.jupyter.widget-view+json": {
       "model_id": "4086c07d558e4746b8700fee55a83cd9",
       "version_major": 2,
       "version_minor": 0
      },
      "text/plain": [
       "HBox(children=(FloatProgress(value=0.0, description='Downloading', max=1715180.0, style=ProgressStyle(descript…"
      ]
     },
     "metadata": {
      "tags": []
     },
     "output_type": "display_data"
    },
    {
     "name": "stdout",
     "output_type": "stream",
     "text": [
      "\n"
     ]
    },
    {
     "data": {
      "application/vnd.jupyter.widget-view+json": {
       "model_id": "1c26a1839bb143c9b52e478e3693f2be",
       "version_major": 2,
       "version_minor": 0
      },
      "text/plain": [
       "HBox(children=(FloatProgress(value=0.0, description='Downloading', max=28.0, style=ProgressStyle(description_w…"
      ]
     },
     "metadata": {
      "tags": []
     },
     "output_type": "display_data"
    },
    {
     "name": "stdout",
     "output_type": "stream",
     "text": [
      "\n"
     ]
    },
    {
     "data": {
      "application/vnd.jupyter.widget-view+json": {
       "model_id": "650a19731c0645338749de3c45c2abfa",
       "version_major": 2,
       "version_minor": 0
      },
      "text/plain": [
       "HBox(children=(FloatProgress(value=0.0, description='Downloading', max=512.0, style=ProgressStyle(description_…"
      ]
     },
     "metadata": {
      "tags": []
     },
     "output_type": "display_data"
    },
    {
     "name": "stdout",
     "output_type": "stream",
     "text": [
      "\n"
     ]
    },
    {
     "data": {
      "application/vnd.jupyter.widget-view+json": {
       "model_id": "5b4e1f8b36cf4ed0ad7a525bc2995a3c",
       "version_major": 2,
       "version_minor": 0
      },
      "text/plain": [
       "HBox(children=(FloatProgress(value=0.0, description='Downloading', max=5069051.0, style=ProgressStyle(descript…"
      ]
     },
     "metadata": {
      "tags": []
     },
     "output_type": "display_data"
    },
    {
     "name": "stdout",
     "output_type": "stream",
     "text": [
      "\n"
     ]
    },
    {
     "name": "stderr",
     "output_type": "stream",
     "text": [
      "/usr/local/lib/python3.7/dist-packages/transformers/tokenization_utils_base.py:2074: FutureWarning: The `pad_to_max_length` argument is deprecated and will be removed in a future version, use `padding=True` or `padding='longest'` to pad to the longest sequence in the batch, or use `padding='max_length'` to pad to a max length. In this case, you can give a specific length with `max_length` (e.g. `max_length=45`) or leave max_length to None to pad to the maximal input size of the model (e.g. 512 for Bert).\n",
      "  FutureWarning,\n"
     ]
    },
    {
     "data": {
      "application/vnd.jupyter.widget-view+json": {
       "model_id": "cabfef2eece34ff3a3f7c918e68439f7",
       "version_major": 2,
       "version_minor": 0
      },
      "text/plain": [
       "HBox(children=(FloatProgress(value=0.0, description='Downloading', max=999358484.0, style=ProgressStyle(descri…"
      ]
     },
     "metadata": {
      "tags": []
     },
     "output_type": "display_data"
    },
    {
     "name": "stdout",
     "output_type": "stream",
     "text": [
      "\n"
     ]
    },
    {
     "name": "stderr",
     "output_type": "stream",
     "text": [
      "Some layers from the model checkpoint at bert-base-multilingual-uncased were not used when initializing TFBertModel: ['mlm___cls', 'nsp___cls']\n",
      "- This IS expected if you are initializing TFBertModel from the checkpoint of a model trained on another task or with another architecture (e.g. initializing a BertForSequenceClassification model from a BertForPreTraining model).\n",
      "- This IS NOT expected if you are initializing TFBertModel from the checkpoint of a model that you expect to be exactly identical (initializing a BertForSequenceClassification model from a BertForSequenceClassification model).\n",
      "All the layers of TFBertModel were initialized from the model checkpoint at bert-base-multilingual-uncased.\n",
      "If your task is similar to the task the model of the checkpoint was trained on, you can already use TFBertModel for predictions without further training.\n"
     ]
    },
    {
     "data": {
      "application/vnd.jupyter.widget-view+json": {
       "model_id": "84dde76d04ec45fc8aa8c5a42681e37a",
       "version_major": 2,
       "version_minor": 0
      },
      "text/plain": [
       "HBox(children=(FloatProgress(value=0.0, description='Downloading', max=1885418496.0, style=ProgressStyle(descr…"
      ]
     },
     "metadata": {
      "tags": []
     },
     "output_type": "display_data"
    },
    {
     "name": "stdout",
     "output_type": "stream",
     "text": [
      "\n"
     ]
    },
    {
     "name": "stderr",
     "output_type": "stream",
     "text": [
      "Some layers from the model checkpoint at jplu/tf-xlm-roberta-base were not used when initializing TFXLMRobertaModel: ['lm_head']\n",
      "- This IS expected if you are initializing TFXLMRobertaModel from the checkpoint of a model trained on another task or with another architecture (e.g. initializing a BertForSequenceClassification model from a BertForPreTraining model).\n",
      "- This IS NOT expected if you are initializing TFXLMRobertaModel from the checkpoint of a model that you expect to be exactly identical (initializing a BertForSequenceClassification model from a BertForSequenceClassification model).\n",
      "All the layers of TFXLMRobertaModel were initialized from the model checkpoint at jplu/tf-xlm-roberta-base.\n",
      "If your task is similar to the task the model of the checkpoint was trained on, you can already use TFXLMRobertaModel for predictions without further training.\n"
     ]
    },
    {
     "name": "stdout",
     "output_type": "stream",
     "text": [
      "Model: \"model\"\n",
      "__________________________________________________________________________________________________\n",
      "Layer (type)                    Output Shape         Param #     Connected to                     \n",
      "==================================================================================================\n",
      "input_word_ids_1 (InputLayer)   [(None, 192)]        0                                            \n",
      "__________________________________________________________________________________________________\n",
      "input_word_ids_2 (InputLayer)   [(None, 192)]        0                                            \n",
      "__________________________________________________________________________________________________\n",
      "bert (TFBertMainLayer)          TFBaseModelOutputWit 167356416   input_word_ids_1[0][0]           \n",
      "__________________________________________________________________________________________________\n",
      "roberta (TFRobertaMainLayer)    TFBaseModelOutputWit 278043648   input_word_ids_2[0][0]           \n",
      "__________________________________________________________________________________________________\n",
      "tf.__operators__.getitem (Slici (None, 768)          0           bert[0][0]                       \n",
      "__________________________________________________________________________________________________\n",
      "tf.__operators__.getitem_1 (Sli (None, 768)          0           roberta[0][0]                    \n",
      "__________________________________________________________________________________________________\n",
      "average (Average)               (None, 768)          0           tf.__operators__.getitem[0][0]   \n",
      "                                                                 tf.__operators__.getitem_1[0][0] \n",
      "__________________________________________________________________________________________________\n",
      "dense (Dense)                   (None, 512)          393728      average[0][0]                    \n",
      "__________________________________________________________________________________________________\n",
      "dense_3 (Dense)                 (None, 512)          393728      average[0][0]                    \n",
      "__________________________________________________________________________________________________\n",
      "dropout_74 (Dropout)            (None, 512)          0           dense[0][0]                      \n",
      "__________________________________________________________________________________________________\n",
      "dropout_77 (Dropout)            (None, 512)          0           dense_3[0][0]                    \n",
      "__________________________________________________________________________________________________\n",
      "dense_1 (Dense)                 (None, 256)          131328      dropout_74[0][0]                 \n",
      "__________________________________________________________________________________________________\n",
      "dense_4 (Dense)                 (None, 256)          131328      dropout_77[0][0]                 \n",
      "__________________________________________________________________________________________________\n",
      "dropout_75 (Dropout)            (None, 256)          0           dense_1[0][0]                    \n",
      "__________________________________________________________________________________________________\n",
      "dropout_78 (Dropout)            (None, 256)          0           dense_4[0][0]                    \n",
      "__________________________________________________________________________________________________\n",
      "dense_2 (Dense)                 (None, 128)          32896       dropout_75[0][0]                 \n",
      "__________________________________________________________________________________________________\n",
      "dense_5 (Dense)                 (None, 128)          32896       dropout_78[0][0]                 \n",
      "__________________________________________________________________________________________________\n",
      "dropout_76 (Dropout)            (None, 128)          0           dense_2[0][0]                    \n",
      "__________________________________________________________________________________________________\n",
      "dropout_79 (Dropout)            (None, 128)          0           dense_5[0][0]                    \n",
      "__________________________________________________________________________________________________\n",
      "subjectivity (Dense)            (None, 2)            258         dropout_76[0][0]                 \n",
      "__________________________________________________________________________________________________\n",
      "toxicity (Dense)                (None, 3)            387         dropout_79[0][0]                 \n",
      "==================================================================================================\n",
      "Total params: 446,516,613\n",
      "Trainable params: 446,516,613\n",
      "Non-trainable params: 0\n",
      "__________________________________________________________________________________________________\n"
     ]
    }
   ],
   "source": [
    "test_df = pd.read_csv(f'{data_folder}/preprocessed_neg_test.csv')\n",
    "test_df.head()\n",
    "BATCH_SIZE = 8 * strategy.num_replicas_in_sync  # for multihead model\n",
    "def regular_encode(texts, tokenizer, maxlen=512):\n",
    "    enc_di = tokenizer.batch_encode_plus(\n",
    "             texts, \n",
    "             truncation=True, \n",
    "             return_token_type_ids=False,\n",
    "             pad_to_max_length=True,\n",
    "             max_length=maxlen)\n",
    "    \n",
    "    return np.array(enc_di['input_ids'])\n",
    "\n",
    "def build_model(max_len=512):\n",
    "    \n",
    "    transformer = transformers.TFAutoModel.from_pretrained('bert-base-multilingual-uncased')\n",
    "    transformer2 = transformers.TFAutoModel.from_pretrained('jplu/tf-xlm-roberta-base')\n",
    "    input_word_ids_1 = Input(shape=(max_len,), dtype=tf.int32, name=\"input_word_ids_1\")\n",
    "    input_word_ids_2 = Input(shape=(max_len,), dtype=tf.int32, name=\"input_word_ids_2\")\n",
    "    sequence_output1 = transformer.bert(input_word_ids_1)[0]\n",
    "    sequence_output2 = transformer2.roberta(input_word_ids_2)[0]\n",
    "    cls_token1 = sequence_output1[:, 0, :]\n",
    "    cls_token2 = sequence_output2[:, 0, :]\n",
    "    x = Average()([cls_token1,cls_token2])\n",
    "    # x = Dropout(0.5)(x)\n",
    "    x1 = Dense(512, activation='relu')(x)\n",
    "    x1 = Dropout(0.2)(x1)\n",
    "    x1 = Dense(256, activation='relu')(x1)\n",
    "    x1 = Dropout(0.2)(x1)\n",
    "    x1 = Dense(128, activation='relu')(x1)\n",
    "    x1 = Dropout(0.2)(x1)\n",
    "    x2 = Dense(512, activation='relu')(x)\n",
    "    x2 = Dropout(0.2)(x2)\n",
    "    x2 = Dense(256, activation='relu')(x2)\n",
    "    x2 = Dropout(0.2)(x2)\n",
    "    x2 = Dense(128, activation='relu')(x2)\n",
    "    x2 = Dropout(0.2)(x2)\n",
    "    sub = Dense(2, activation='softmax', name='subjectivity')(x1)\n",
    "    toxic = Dense(3, activation='softmax', name='toxicity')(x2)\n",
    "    \n",
    "    model = Model(inputs=[input_word_ids_1,input_word_ids_2], outputs=[sub,toxic])\n",
    "    loss = tfa.losses.SigmoidFocalCrossEntropy(reduction=tf.keras.losses.Reduction.AUTO)\n",
    "    model.compile(Adam(lr=1e-6), loss=[loss, loss],\n",
    "    metrics={'subjectivity':'accuracy', 'toxicity':'accuracy'})\n",
    "    \n",
    "    return model\n",
    "\n",
    "MODEL_NAMES = ['bert-base-multilingual-uncased','jplu/tf-xlm-roberta-base']\n",
    "models = [0 for i in range(len(MODEL_NAMES))]\n",
    "test_probs = [0 for i in range(len(MODEL_NAMES))]\n",
    "test_results = [0 for i in range(len(MODEL_NAMES))]\n",
    "\n",
    "with strategy.scope():\n",
    "        \n",
    "    tokenizer1 = transformers.AutoTokenizer.from_pretrained(MODEL_NAMES[0])\n",
    "    tokenizer2 = transformers.AutoTokenizer.from_pretrained(MODEL_NAMES[1])\n",
    "    reviews1 = regular_encode(data_df.comment_text.astype(str).values.tolist(), tokenizer1, maxlen=MAX_LEN)\n",
    "    reviews2 = regular_encode(data_df.comment_text.astype(str).values.tolist(), tokenizer2, maxlen=MAX_LEN)\n",
    "\n",
    "    sss = StratifiedShuffleSplit(n_splits=4, random_state=42, test_size=0.2)\n",
    "    X1, y1 = reviews1, data_df.subjectivity.astype(int).values\n",
    "    z1 = data_df.toxicity.astype(int).values\n",
    "\n",
    "    X2, y2 = reviews2, data_df.subjectivity.astype(int).values\n",
    "    z2 = data_df.toxicity.astype(int).values\n",
    "\n",
    "    model = build_model(max_len=MAX_LEN)\n",
    "    model.summary()"
   ]
  },
  {
   "cell_type": "code",
   "execution_count": null,
   "metadata": {
    "colab": {
     "base_uri": "https://localhost:8080/"
    },
    "executionInfo": {
     "elapsed": 8839,
     "status": "ok",
     "timestamp": 1616754558659,
     "user": {
      "displayName": "null null",
      "photoUrl": "",
      "userId": "04177996287264146405"
     },
     "user_tz": -480
    },
    "id": "bNdhzOJ9KsGs",
    "outputId": "b91e24ec-f8df-4baf-8d8b-00ddcf99a862"
   },
   "outputs": [
    {
     "name": "stderr",
     "output_type": "stream",
     "text": [
      "/usr/local/lib/python3.7/dist-packages/transformers/tokenization_utils_base.py:2074: FutureWarning: The `pad_to_max_length` argument is deprecated and will be removed in a future version, use `padding=True` or `padding='longest'` to pad to the longest sequence in the batch, or use `padding='max_length'` to pad to a max length. In this case, you can give a specific length with `max_length` (e.g. `max_length=45`) or leave max_length to None to pad to the maximal input size of the model (e.g. 512 for Bert).\n",
      "  FutureWarning,\n"
     ]
    },
    {
     "name": "stdout",
     "output_type": "stream",
     "text": [
      "28/28 [==============================] - 2s 59ms/step\n"
     ]
    }
   ],
   "source": [
    "test_df = pd.read_csv(f'{data_folder}/preprocessed_neg_test.csv')\n",
    "test_df.head()\n",
    "MODEL_NAMES = ['bert-base-multilingual-uncased','jplu/tf-xlm-roberta-base']\n",
    "# model = tf.keras.models.load_model(f'{save_model_folder}/multihead_model.h5')\n",
    "\n",
    "with strategy.scope():\n",
    "    \n",
    "    tokenizer1 = transformers.AutoTokenizer.from_pretrained(MODEL_NAMES[0])\n",
    "    tokenizer2 = transformers.AutoTokenizer.from_pretrained(MODEL_NAMES[1])\n",
    "    test_reviews1 = regular_encode(test_df.comment_text.astype(str).values.tolist(), tokenizer1, maxlen=MAX_LEN)\n",
    "    test_reviews2 = regular_encode(test_df.comment_text.astype(str).values.tolist(), tokenizer2, maxlen=MAX_LEN)\n",
    "\n",
    "    test_dataset = (\n",
    "    tf.data.Dataset\n",
    "    .from_tensor_slices(({\"input_word_ids_1\":test_reviews1,\"input_word_ids_2\":test_reviews2}))\n",
    "    .batch(BATCH_SIZE)\n",
    "    .prefetch(AUTO)\n",
    "    )\n",
    "\n",
    "    test_probs = model.predict(test_dataset, verbose=1)"
   ]
  },
  {
   "cell_type": "markdown",
   "metadata": {
    "id": "CR9aYxcF7tgu"
   },
   "source": [
    "## Multi-head Model Results"
   ]
  },
  {
   "cell_type": "code",
   "execution_count": null,
   "metadata": {
    "colab": {
     "base_uri": "https://localhost:8080/",
     "height": 204
    },
    "executionInfo": {
     "elapsed": 1018,
     "status": "ok",
     "timestamp": 1615388729850,
     "user": {
      "displayName": "Shearman Chua",
      "photoUrl": "",
      "userId": "02072421428658916568"
     },
     "user_tz": -480
    },
    "id": "jyRMPAEHLTJ1",
    "outputId": "445d74f1-868c-4988-b9de-f919c71761be"
   },
   "outputs": [
    {
     "data": {
      "text/html": [
       "<div>\n",
       "<style scoped>\n",
       "    .dataframe tbody tr th:only-of-type {\n",
       "        vertical-align: middle;\n",
       "    }\n",
       "\n",
       "    .dataframe tbody tr th {\n",
       "        vertical-align: top;\n",
       "    }\n",
       "\n",
       "    .dataframe thead th {\n",
       "        text-align: right;\n",
       "    }\n",
       "</style>\n",
       "<table border=\"1\" class=\"dataframe\">\n",
       "  <thead>\n",
       "    <tr style=\"text-align: right;\">\n",
       "      <th></th>\n",
       "      <th>comment_text</th>\n",
       "      <th>subjectivity</th>\n",
       "      <th>toxicity</th>\n",
       "      <th>sub_pred</th>\n",
       "      <th>tox_pred</th>\n",
       "    </tr>\n",
       "  </thead>\n",
       "  <tbody>\n",
       "    <tr>\n",
       "      <th>0</th>\n",
       "      <td>rt trumpwarroom rt to wish a happy presidents ...</td>\n",
       "      <td>0</td>\n",
       "      <td>0</td>\n",
       "      <td>0</td>\n",
       "      <td>0</td>\n",
       "    </tr>\n",
       "    <tr>\n",
       "      <th>1</th>\n",
       "      <td>rt folkloredean the we needed therapy but inst...</td>\n",
       "      <td>1</td>\n",
       "      <td>0</td>\n",
       "      <td>0</td>\n",
       "      <td>0</td>\n",
       "    </tr>\n",
       "    <tr>\n",
       "      <th>2</th>\n",
       "      <td>rt rachelelisep i love that no one in texas ow...</td>\n",
       "      <td>1</td>\n",
       "      <td>0</td>\n",
       "      <td>1</td>\n",
       "      <td>0</td>\n",
       "    </tr>\n",
       "    <tr>\n",
       "      <th>3</th>\n",
       "      <td>vwow we have lady flotus45 our s shine brightr...</td>\n",
       "      <td>0</td>\n",
       "      <td>0</td>\n",
       "      <td>1</td>\n",
       "      <td>1</td>\n",
       "    </tr>\n",
       "    <tr>\n",
       "      <th>4</th>\n",
       "      <td>rt officialmxjp im first solo digital mini alb...</td>\n",
       "      <td>0</td>\n",
       "      <td>0</td>\n",
       "      <td>0</td>\n",
       "      <td>0</td>\n",
       "    </tr>\n",
       "  </tbody>\n",
       "</table>\n",
       "</div>"
      ],
      "text/plain": [
       "                                        comment_text  ...  tox_pred\n",
       "0  rt trumpwarroom rt to wish a happy presidents ...  ...         0\n",
       "1  rt folkloredean the we needed therapy but inst...  ...         0\n",
       "2  rt rachelelisep i love that no one in texas ow...  ...         0\n",
       "3  vwow we have lady flotus45 our s shine brightr...  ...         1\n",
       "4  rt officialmxjp im first solo digital mini alb...  ...         0\n",
       "\n",
       "[5 rows x 5 columns]"
      ]
     },
     "execution_count": 33,
     "metadata": {
      "tags": []
     },
     "output_type": "execute_result"
    }
   ],
   "source": [
    "test_df['sub_pred'] = np.argmax(test_probs[0], axis = 1)\n",
    "test_df['tox_pred'] = np.argmax(test_probs[1], axis = 1)\n",
    "test_df.head()"
   ]
  },
  {
   "cell_type": "code",
   "execution_count": null,
   "metadata": {
    "colab": {
     "base_uri": "https://localhost:8080/"
    },
    "executionInfo": {
     "elapsed": 908,
     "status": "ok",
     "timestamp": 1615388733418,
     "user": {
      "displayName": "Shearman Chua",
      "photoUrl": "",
      "userId": "02072421428658916568"
     },
     "user_tz": -480
    },
    "id": "INF0k1UVRuEX",
    "outputId": "06272d6a-d3a6-4e83-95c0-564e8e711b3f"
   },
   "outputs": [
    {
     "name": "stdout",
     "output_type": "stream",
     "text": [
      "subjectivity f1 score: 0.8374356038923868\n",
      "subjectivity precision score: 0.8374356038923869\n",
      "subjectivity recall score: 0.8374356038923869\n",
      "\n",
      "\n",
      "toxicity f1 score: 0.8534630795649685\n",
      "toxicity precision score: 0.8534630795649685\n",
      "toxicity recall score: 0.8534630795649685\n"
     ]
    }
   ],
   "source": [
    "from sklearn.metrics import f1_score,precision_score,recall_score\n",
    "\n",
    "y_true = test_df['subjectivity'].values\n",
    "y_pred = test_df['sub_pred'].values\n",
    "\n",
    "print(\"subjectivity f1 score: \" + str(f1_score(y_true, y_pred, average='micro')))\n",
    "print(\"subjectivity precision score: \" + str(precision_score(y_true, y_pred, average='micro')))\n",
    "print(\"subjectivity recall score: \" + str(recall_score(y_true, y_pred, average='micro')))\n",
    "print('\\n')\n",
    "y_true = test_df['toxicity'].values\n",
    "y_pred = test_df['tox_pred'].values\n",
    "print(\"toxicity f1 score: \" + str(f1_score(y_true, y_pred, average='micro')))\n",
    "print(\"toxicity precision score: \" + str(precision_score(y_true, y_pred, average='micro')))\n",
    "print(\"toxicity recall score: \" + str(recall_score(y_true, y_pred, average='micro')))"
   ]
  },
  {
   "cell_type": "code",
   "execution_count": null,
   "metadata": {
    "colab": {
     "base_uri": "https://localhost:8080/"
    },
    "executionInfo": {
     "elapsed": 724,
     "status": "ok",
     "timestamp": 1615402062981,
     "user": {
      "displayName": "Shearman Chua",
      "photoUrl": "",
      "userId": "02072421428658916568"
     },
     "user_tz": -480
    },
    "id": "7kCo6JHGbm4n",
    "outputId": "74c44192-932a-4546-afe0-cc857ff66629"
   },
   "outputs": [
    {
     "name": "stdout",
     "output_type": "stream",
     "text": [
      "subjectivity f1 score: [0.87031963 0.78220859]\n",
      "subjectivity precision score: [0.87271062 0.77862595]\n",
      "subjectivity recall score: [0.86794171 0.78582435]\n",
      "\n",
      "\n",
      "toxicity f1 score: [0.93016453 0.55952381 0.61176471]\n",
      "toxicity precision score: [0.9415248 0.5875    0.5      ]\n",
      "toxicity recall score: [0.91907514 0.53409091 0.78787879]\n"
     ]
    }
   ],
   "source": [
    "y_true = test_df['subjectivity'].values\n",
    "y_pred = test_df['sub_pred'].values\n",
    "\n",
    "print(\"subjectivity f1 score: \" + str(f1_score(y_true, y_pred, average=None)))\n",
    "print(\"subjectivity precision score: \" + str(precision_score(y_true, y_pred, average=None)))\n",
    "print(\"subjectivity recall score: \" + str(recall_score(y_true, y_pred, average=None)))\n",
    "print('\\n')\n",
    "y_true = test_df['toxicity'].values\n",
    "y_pred = test_df['tox_pred'].values\n",
    "print(\"toxicity f1 score: \" + str(f1_score(y_true, y_pred, average=None)))\n",
    "print(\"toxicity precision score: \" + str(precision_score(y_true, y_pred, average=None)))\n",
    "print(\"toxicity recall score: \" + str(recall_score(y_true, y_pred, average=None)))"
   ]
  },
  {
   "cell_type": "code",
   "execution_count": null,
   "metadata": {
    "colab": {
     "base_uri": "https://localhost:8080/"
    },
    "executionInfo": {
     "elapsed": 796,
     "status": "ok",
     "timestamp": 1615388736879,
     "user": {
      "displayName": "Shearman Chua",
      "photoUrl": "",
      "userId": "02072421428658916568"
     },
     "user_tz": -480
    },
    "id": "tJcC61XqRuRH",
    "outputId": "96cbb38c-b5c3-4437-d207-04d8865be975"
   },
   "outputs": [
    {
     "data": {
      "text/plain": [
       "Counter({0: 1092, 1: 655})"
      ]
     },
     "execution_count": 35,
     "metadata": {
      "tags": []
     },
     "output_type": "execute_result"
    }
   ],
   "source": [
    "from collections import Counter\n",
    "\n",
    "y_true = test_df['sub_pred'].values\n",
    "\n",
    "Counter(y_true)"
   ]
  },
  {
   "cell_type": "code",
   "execution_count": null,
   "metadata": {
    "colab": {
     "base_uri": "https://localhost:8080/"
    },
    "executionInfo": {
     "elapsed": 868,
     "status": "ok",
     "timestamp": 1615388737767,
     "user": {
      "displayName": "Shearman Chua",
      "photoUrl": "",
      "userId": "02072421428658916568"
     },
     "user_tz": -480
    },
    "id": "PGV3RDuXbgiT",
    "outputId": "257d5007-bcbd-40d4-daaf-a3abce267400"
   },
   "outputs": [
    {
     "data": {
      "text/plain": [
       "Counter({0: 1098, 1: 649})"
      ]
     },
     "execution_count": 36,
     "metadata": {
      "tags": []
     },
     "output_type": "execute_result"
    }
   ],
   "source": [
    "y_true = test_df['subjectivity'].values\n",
    "\n",
    "Counter(y_true)"
   ]
  },
  {
   "cell_type": "code",
   "execution_count": null,
   "metadata": {
    "colab": {
     "base_uri": "https://localhost:8080/"
    },
    "executionInfo": {
     "elapsed": 908,
     "status": "ok",
     "timestamp": 1615388740900,
     "user": {
      "displayName": "Shearman Chua",
      "photoUrl": "",
      "userId": "02072421428658916568"
     },
     "user_tz": -480
    },
    "id": "l8V2vIjIZc-R",
    "outputId": "9a5ef757-ae34-4ce8-92d8-d023f6bac1d7"
   },
   "outputs": [
    {
     "data": {
      "text/plain": [
       "Counter({0: 1351, 1: 240, 2: 156})"
      ]
     },
     "execution_count": 37,
     "metadata": {
      "tags": []
     },
     "output_type": "execute_result"
    }
   ],
   "source": [
    "y_true = test_df['tox_pred'].values\n",
    "\n",
    "Counter(y_true)"
   ]
  },
  {
   "cell_type": "code",
   "execution_count": null,
   "metadata": {
    "colab": {
     "base_uri": "https://localhost:8080/"
    },
    "executionInfo": {
     "elapsed": 766,
     "status": "ok",
     "timestamp": 1615388743165,
     "user": {
      "displayName": "Shearman Chua",
      "photoUrl": "",
      "userId": "02072421428658916568"
     },
     "user_tz": -480
    },
    "id": "TXugh3Dbbk-k",
    "outputId": "b1d927d2-6fe7-499f-f9c5-d4db61505230"
   },
   "outputs": [
    {
     "data": {
      "text/plain": [
       "Counter({0: 1384, 1: 264, 2: 99})"
      ]
     },
     "execution_count": 38,
     "metadata": {
      "tags": []
     },
     "output_type": "execute_result"
    }
   ],
   "source": [
    "y_true = test_df['toxicity'].values\n",
    "\n",
    "Counter(y_true)"
   ]
  },
  {
   "cell_type": "markdown",
   "metadata": {
    "id": "7tiPgkqLYYgs"
   },
   "source": [
    "## Label Unlabelled Crawled Data Using Trained Model"
   ]
  },
  {
   "cell_type": "code",
   "execution_count": null,
   "metadata": {
    "colab": {
     "base_uri": "https://localhost:8080/",
     "height": 585
    },
    "executionInfo": {
     "elapsed": 1352,
     "status": "ok",
     "timestamp": 1614712826295,
     "user": {
      "displayName": "Shearman Chua",
      "photoUrl": "",
      "userId": "02072421428658916568"
     },
     "user_tz": -480
    },
    "id": "ELWcGTjqYHtg",
    "outputId": "c0b43d93-9a53-4615-d587-55d0ed1c3e33"
   },
   "outputs": [
    {
     "data": {
      "text/html": [
       "<div>\n",
       "<style scoped>\n",
       "    .dataframe tbody tr th:only-of-type {\n",
       "        vertical-align: middle;\n",
       "    }\n",
       "\n",
       "    .dataframe tbody tr th {\n",
       "        vertical-align: top;\n",
       "    }\n",
       "\n",
       "    .dataframe thead th {\n",
       "        text-align: right;\n",
       "    }\n",
       "</style>\n",
       "<table border=\"1\" class=\"dataframe\">\n",
       "  <thead>\n",
       "    <tr style=\"text-align: right;\">\n",
       "      <th></th>\n",
       "      <th>tweet_id</th>\n",
       "      <th>text</th>\n",
       "      <th>created_date_time</th>\n",
       "      <th>username</th>\n",
       "      <th>user_screen_name</th>\n",
       "      <th>user_id</th>\n",
       "      <th>user_location</th>\n",
       "      <th>user_description</th>\n",
       "      <th>verified</th>\n",
       "      <th>associated_place</th>\n",
       "      <th>retweet_count</th>\n",
       "      <th>location</th>\n",
       "      <th>user_geo</th>\n",
       "      <th>url</th>\n",
       "    </tr>\n",
       "  </thead>\n",
       "  <tbody>\n",
       "    <tr>\n",
       "      <th>0</th>\n",
       "      <td>1361169823707918336</td>\n",
       "      <td>It was Dio all along! Happy dumb holiday! 🖤 ht...</td>\n",
       "      <td>2021-02-15 04:25:49</td>\n",
       "      <td>𝕕𝕒𝕟𝕚𝕖𝕝𝕝𝕖 𝕤𝕝𝕒𝕦𝕥𝕖𝕣</td>\n",
       "      <td>DanielleSlauter</td>\n",
       "      <td>66803433</td>\n",
       "      <td>Indianapolis, Marion, Indiana, United States</td>\n",
       "      <td>•✞•Level 26•INFJ•Aries•anime trash•@waifuwatch...</td>\n",
       "      <td>False</td>\n",
       "      <td>NaN</td>\n",
       "      <td>0</td>\n",
       "      <td>Indianapolis, Marion, Indiana, United States</td>\n",
       "      <td>(39.7683331, -86.1583502, 0.0)</td>\n",
       "      <td>https://twitter.com/twitter/status/13611698237...</td>\n",
       "    </tr>\n",
       "    <tr>\n",
       "      <th>1</th>\n",
       "      <td>1360681569527222275</td>\n",
       "      <td>RT @AndrewStoeten: We could stop the pandemic....</td>\n",
       "      <td>2021-02-13 20:05:41</td>\n",
       "      <td>jordan meuIendyk</td>\n",
       "      <td>jordym1nine</td>\n",
       "      <td>19632321</td>\n",
       "      <td>Toronto, Golden Horseshoe, Ontario, Canada</td>\n",
       "      <td>former child actor. chief of the BPD. human sh...</td>\n",
       "      <td>False</td>\n",
       "      <td>NaN</td>\n",
       "      <td>166</td>\n",
       "      <td>Toronto, Golden Horseshoe, Ontario, Canada</td>\n",
       "      <td>(43.6534817, -79.3839347, 0.0)</td>\n",
       "      <td>https://twitter.com/twitter/status/13606815695...</td>\n",
       "    </tr>\n",
       "    <tr>\n",
       "      <th>2</th>\n",
       "      <td>1359821276269993985</td>\n",
       "      <td>RT @TachaSmar: @Blessin50078066 @Chinyere2231 ...</td>\n",
       "      <td>2021-02-11 11:07:11</td>\n",
       "      <td>Renaissance🔱 ˢᵀ</td>\n",
       "      <td>renegadelia</td>\n",
       "      <td>1228398056602787841</td>\n",
       "      <td>Universal, Veranópolis, Região Geográfica Imed...</td>\n",
       "      <td>Write your own verse!\\r\\n\\r\\nI am abundance, I...</td>\n",
       "      <td>False</td>\n",
       "      <td>NaN</td>\n",
       "      <td>7</td>\n",
       "      <td>Universal, Veranópolis, Região Geográfica Imed...</td>\n",
       "      <td>(-28.9182121, -51.547104, 0.0)</td>\n",
       "      <td>https://twitter.com/twitter/status/13598212762...</td>\n",
       "    </tr>\n",
       "    <tr>\n",
       "      <th>3</th>\n",
       "      <td>1360730455146975238</td>\n",
       "      <td>not me going off on a grown man in the middle ...</td>\n",
       "      <td>2021-02-13 23:19:56</td>\n",
       "      <td>paula</td>\n",
       "      <td>uhhpaula</td>\n",
       "      <td>4540327527</td>\n",
       "      <td>South Florida, Columbus, Cherokee County, Kans...</td>\n",
       "      <td>aries</td>\n",
       "      <td>False</td>\n",
       "      <td>NaN</td>\n",
       "      <td>0</td>\n",
       "      <td>South Florida, Columbus, Cherokee County, Kans...</td>\n",
       "      <td>(37.1677128, -94.8464256, 0.0)</td>\n",
       "      <td>https://twitter.com/twitter/status/13607304551...</td>\n",
       "    </tr>\n",
       "    <tr>\n",
       "      <th>4</th>\n",
       "      <td>1360393239107403778</td>\n",
       "      <td>RT @SenDuckworth: If you go just 10 stops down...</td>\n",
       "      <td>2021-02-13 00:59:57</td>\n",
       "      <td>Shannon Fx Halbur</td>\n",
       "      <td>UnderTallSWH</td>\n",
       "      <td>3212694291</td>\n",
       "      <td>Raleigh, Wake County, North Carolina, United S...</td>\n",
       "      <td>Gun Violence Prevention Activist, with Moms De...</td>\n",
       "      <td>False</td>\n",
       "      <td>NaN</td>\n",
       "      <td>276</td>\n",
       "      <td>Raleigh, Wake County, North Carolina, United S...</td>\n",
       "      <td>(35.7803977, -78.6390989, 0.0)</td>\n",
       "      <td>https://twitter.com/twitter/status/13603932391...</td>\n",
       "    </tr>\n",
       "  </tbody>\n",
       "</table>\n",
       "</div>"
      ],
      "text/plain": [
       "              tweet_id  ...                                                url\n",
       "0  1361169823707918336  ...  https://twitter.com/twitter/status/13611698237...\n",
       "1  1360681569527222275  ...  https://twitter.com/twitter/status/13606815695...\n",
       "2  1359821276269993985  ...  https://twitter.com/twitter/status/13598212762...\n",
       "3  1360730455146975238  ...  https://twitter.com/twitter/status/13607304551...\n",
       "4  1360393239107403778  ...  https://twitter.com/twitter/status/13603932391...\n",
       "\n",
       "[5 rows x 14 columns]"
      ]
     },
     "execution_count": 35,
     "metadata": {
      "tags": []
     },
     "output_type": "execute_result"
    }
   ],
   "source": [
    "df = pd.read_csv(f'{data_folder}/toxic_tweets_combined_url.csv')\n",
    "df.head()"
   ]
  },
  {
   "cell_type": "code",
   "execution_count": null,
   "metadata": {
    "id": "pbGcrujZYH1J"
   },
   "outputs": [],
   "source": [
    "def emoji_cleaning(text):\n",
    "    \n",
    "  # Change emoji to text\n",
    "  text = emoji.demojize(text).replace(\":\", \" \")\n",
    "  \n",
    "  # Delete repeated emoji\n",
    "  tokenizer = text.split()\n",
    "  repeated_list = []\n",
    "  \n",
    "  for word in tokenizer:\n",
    "      if word not in repeated_list:\n",
    "          repeated_list.append(word)\n",
    "  \n",
    "  text = ' '.join(text for text in repeated_list)\n",
    "  text = text.replace(\"_\", \" \").replace(\"-\", \" \")\n",
    "  return text\n",
    "\n",
    "def clean_smileys(text):\n",
    "    \n",
    "    text = re.sub(r'(:\\)|: \\)|\\(\\:|:-\\)|: -\\)|: - \\)|:D|: D)', ' smile ', text)\n",
    "    text = re.sub(r'(:\\(|: \\(|\\)\\:|:-\\(|: -\\(|: - \\(|:\\'\\()', ' dislike ', text)\n",
    "    text = re.sub(r'(<3)', ' heart ', text)\n",
    "    text = re.sub(r'(:/)', ' dislike ', text)\n",
    "    text = re.sub(r'(;\\)|; \\))', ' wink ', text)\n",
    "    return ' '.join([word for word in text.split()])\n",
    "\n",
    "def decontracted(text):\n",
    "  text = re.sub(r\"won\\'t\", \"will not\", text)\n",
    "  text = re.sub(r\"can\\'t\", \"can not\", text)\n",
    "  text = re.sub(r\"n\\'t\", \" not\", text)\n",
    "  text = re.sub(r\"\\'re\", \" are\", text)\n",
    "  text = re.sub(r\"\\'s\", \" is\", text)\n",
    "  text = re.sub(r\"\\'d\", \" would\", text)\n",
    "  text = re.sub(r\"\\'ll\", \" will\", text)\n",
    "  text = re.sub(r\"\\'t\", \" not\", text)\n",
    "  text = re.sub(r\"\\'ve\", \" have\", text)\n",
    "  text = re.sub(r\"\\'m\", \" am\", text)\n",
    "\n",
    "  text = re.sub(r\"n\\'t\", \" not\", text)\n",
    "  text = re.sub(r\"n\\’t\", \" not\", text)\n",
    "  text = re.sub(r\"\\'re\", \" are\", text)\n",
    "  text = re.sub(r\"\\'re\", \" are\", text)\n",
    "  text = re.sub(r\"\\’re\", \" are\", text)\n",
    "  text = re.sub(r\"\\'re\", \" are\", text)\n",
    "  text = re.sub(r\"\\'d\", \" would\", text)\n",
    "  text = re.sub(r\"\\’d\", \" would\", text)\n",
    "  text = re.sub(r\"\\'ll\", \" will\", text)\n",
    "  text = re.sub(r\"\\’ll\", \" will\", text)\n",
    "  text = re.sub(r\"\\'t\", \" not\", text)\n",
    "  text = re.sub(r\"\\’t\", \" not\", text)\n",
    "  text = re.sub(r\"\\'ve\", \" have\", text)\n",
    "  text = re.sub(r\"\\’ve\", \" have\", text)\n",
    "  text = re.sub(r\"\\'m\", \" am\", text)\n",
    "  text = re.sub(r\"\\’m\", \" am\", text)\n",
    "  text = re.sub(r\"\\“\", \"\", text)\n",
    "  text = re.sub(r\"\\”\", \"\", text)\n",
    "  text = re.sub(r\"\\…\", \"\", text)\n",
    "\n",
    "  return text\n",
    "\n",
    "def clean_text(text):\n",
    "  text = str(text)\n",
    "  text = re.sub(r'(\\w)\\1{2,}', r'\\1', text)\n",
    "  text = re.sub(r'[^a-zA-Z ]+', ' ', text)\n",
    "  text = re.sub(r'http\\S+', ' ', text)\n",
    "  text = re.sub(r'https?:\\/\\/.*[\\r\\n]*', '', text)\n",
    "  text = re.sub(r'^RT[\\s]+', '', text)\n",
    "  text = re.sub(r'pic.twitter\\S+', ' ', text)\n",
    "  text = re.sub(r'#', '', text)\n",
    "  text = text.lower()\n",
    "\n",
    "  return text"
   ]
  },
  {
   "cell_type": "code",
   "execution_count": null,
   "metadata": {
    "colab": {
     "base_uri": "https://localhost:8080/",
     "height": 195
    },
    "executionInfo": {
     "elapsed": 730,
     "status": "ok",
     "timestamp": 1614712967019,
     "user": {
      "displayName": "Shearman Chua",
      "photoUrl": "",
      "userId": "02072421428658916568"
     },
     "user_tz": -480
    },
    "id": "Z_q6FY9wYIAN",
    "outputId": "4942a424-0960-427d-d654-77cbb8c695a5"
   },
   "outputs": [
    {
     "data": {
      "text/html": [
       "<div>\n",
       "<style scoped>\n",
       "    .dataframe tbody tr th:only-of-type {\n",
       "        vertical-align: middle;\n",
       "    }\n",
       "\n",
       "    .dataframe tbody tr th {\n",
       "        vertical-align: top;\n",
       "    }\n",
       "\n",
       "    .dataframe thead th {\n",
       "        text-align: right;\n",
       "    }\n",
       "</style>\n",
       "<table border=\"1\" class=\"dataframe\">\n",
       "  <thead>\n",
       "    <tr style=\"text-align: right;\">\n",
       "      <th></th>\n",
       "      <th>tweet_id</th>\n",
       "      <th>text</th>\n",
       "    </tr>\n",
       "  </thead>\n",
       "  <tbody>\n",
       "    <tr>\n",
       "      <th>0</th>\n",
       "      <td>1361169823707918336</td>\n",
       "      <td>It was Dio all along! Happy dumb holiday! 🖤 ht...</td>\n",
       "    </tr>\n",
       "    <tr>\n",
       "      <th>1</th>\n",
       "      <td>1360681569527222275</td>\n",
       "      <td>RT @AndrewStoeten: We could stop the pandemic....</td>\n",
       "    </tr>\n",
       "    <tr>\n",
       "      <th>2</th>\n",
       "      <td>1359821276269993985</td>\n",
       "      <td>RT @TachaSmar: @Blessin50078066 @Chinyere2231 ...</td>\n",
       "    </tr>\n",
       "    <tr>\n",
       "      <th>3</th>\n",
       "      <td>1360730455146975238</td>\n",
       "      <td>not me going off on a grown man in the middle ...</td>\n",
       "    </tr>\n",
       "    <tr>\n",
       "      <th>4</th>\n",
       "      <td>1360393239107403778</td>\n",
       "      <td>RT @SenDuckworth: If you go just 10 stops down...</td>\n",
       "    </tr>\n",
       "  </tbody>\n",
       "</table>\n",
       "</div>"
      ],
      "text/plain": [
       "              tweet_id                                               text\n",
       "0  1361169823707918336  It was Dio all along! Happy dumb holiday! 🖤 ht...\n",
       "1  1360681569527222275  RT @AndrewStoeten: We could stop the pandemic....\n",
       "2  1359821276269993985  RT @TachaSmar: @Blessin50078066 @Chinyere2231 ...\n",
       "3  1360730455146975238  not me going off on a grown man in the middle ...\n",
       "4  1360393239107403778  RT @SenDuckworth: If you go just 10 stops down..."
      ]
     },
     "execution_count": 36,
     "metadata": {
      "tags": []
     },
     "output_type": "execute_result"
    }
   ],
   "source": [
    "ul_df = df[[\"tweet_id\",\"text\"]]\n",
    "ul_df.head()"
   ]
  },
  {
   "cell_type": "code",
   "execution_count": null,
   "metadata": {
    "colab": {
     "base_uri": "https://localhost:8080/",
     "height": 444
    },
    "executionInfo": {
     "elapsed": 3135,
     "status": "ok",
     "timestamp": 1614713025036,
     "user": {
      "displayName": "Shearman Chua",
      "photoUrl": "",
      "userId": "02072421428658916568"
     },
     "user_tz": -480
    },
    "id": "sKn0fj-eYIDe",
    "outputId": "b7ebc96a-f538-4134-9c23-3780e5803dec"
   },
   "outputs": [
    {
     "name": "stderr",
     "output_type": "stream",
     "text": [
      "/usr/local/lib/python3.7/dist-packages/ipykernel_launcher.py:1: SettingWithCopyWarning: \n",
      "A value is trying to be set on a copy of a slice from a DataFrame.\n",
      "Try using .loc[row_indexer,col_indexer] = value instead\n",
      "\n",
      "See the caveats in the documentation: https://pandas.pydata.org/pandas-docs/stable/user_guide/indexing.html#returning-a-view-versus-a-copy\n",
      "  \"\"\"Entry point for launching an IPython kernel.\n"
     ]
    },
    {
     "data": {
      "text/html": [
       "<div>\n",
       "<style scoped>\n",
       "    .dataframe tbody tr th:only-of-type {\n",
       "        vertical-align: middle;\n",
       "    }\n",
       "\n",
       "    .dataframe tbody tr th {\n",
       "        vertical-align: top;\n",
       "    }\n",
       "\n",
       "    .dataframe thead th {\n",
       "        text-align: right;\n",
       "    }\n",
       "</style>\n",
       "<table border=\"1\" class=\"dataframe\">\n",
       "  <thead>\n",
       "    <tr style=\"text-align: right;\">\n",
       "      <th></th>\n",
       "      <th>tweet_id</th>\n",
       "      <th>text</th>\n",
       "    </tr>\n",
       "  </thead>\n",
       "  <tbody>\n",
       "    <tr>\n",
       "      <th>0</th>\n",
       "      <td>1361169823707918336</td>\n",
       "      <td>it was dio all along happy dumb holiday t co l...</td>\n",
       "    </tr>\n",
       "    <tr>\n",
       "      <th>1</th>\n",
       "      <td>1360681569527222275</td>\n",
       "      <td>andrewstoeten we could stop the pandemic our l...</td>\n",
       "    </tr>\n",
       "    <tr>\n",
       "      <th>2</th>\n",
       "      <td>1359821276269993985</td>\n",
       "      <td>tachasmar blessin chinyere in other words you ...</td>\n",
       "    </tr>\n",
       "    <tr>\n",
       "      <th>3</th>\n",
       "      <td>1360730455146975238</td>\n",
       "      <td>not me going off on a grown man in the middle ...</td>\n",
       "    </tr>\n",
       "    <tr>\n",
       "      <th>4</th>\n",
       "      <td>1360393239107403778</td>\n",
       "      <td>senduckworth if you go just stops down the sub...</td>\n",
       "    </tr>\n",
       "    <tr>\n",
       "      <th>5</th>\n",
       "      <td>1359944829845663744</td>\n",
       "      <td>you should tell that to the pt sexually assaul...</td>\n",
       "    </tr>\n",
       "    <tr>\n",
       "      <th>6</th>\n",
       "      <td>1359937609435340811</td>\n",
       "      <td>gutterbumpkin and how to die not while executi...</td>\n",
       "    </tr>\n",
       "    <tr>\n",
       "      <th>7</th>\n",
       "      <td>1361171338874994690</td>\n",
       "      <td>realcandaceo since when do evangelical leaders...</td>\n",
       "    </tr>\n",
       "    <tr>\n",
       "      <th>8</th>\n",
       "      <td>1359988095316185088</td>\n",
       "      <td>tishertisher it s the darkest shit imaginable ...</td>\n",
       "    </tr>\n",
       "    <tr>\n",
       "      <th>9</th>\n",
       "      <td>1359971602658701315</td>\n",
       "      <td>i was told a supervisor would go over the call...</td>\n",
       "    </tr>\n",
       "  </tbody>\n",
       "</table>\n",
       "</div>"
      ],
      "text/plain": [
       "              tweet_id                                               text\n",
       "0  1361169823707918336  it was dio all along happy dumb holiday t co l...\n",
       "1  1360681569527222275  andrewstoeten we could stop the pandemic our l...\n",
       "2  1359821276269993985  tachasmar blessin chinyere in other words you ...\n",
       "3  1360730455146975238  not me going off on a grown man in the middle ...\n",
       "4  1360393239107403778  senduckworth if you go just stops down the sub...\n",
       "5  1359944829845663744  you should tell that to the pt sexually assaul...\n",
       "6  1359937609435340811  gutterbumpkin and how to die not while executi...\n",
       "7  1361171338874994690  realcandaceo since when do evangelical leaders...\n",
       "8  1359988095316185088  tishertisher it s the darkest shit imaginable ...\n",
       "9  1359971602658701315  i was told a supervisor would go over the call..."
      ]
     },
     "execution_count": 39,
     "metadata": {
      "tags": []
     },
     "output_type": "execute_result"
    }
   ],
   "source": [
    "ul_df['text'] = ul_df['text'].apply(clean_text).apply(emoji_cleaning).apply(clean_smileys).apply(decontracted)\n",
    "ul_df.head(10)"
   ]
  },
  {
   "cell_type": "code",
   "execution_count": null,
   "metadata": {
    "colab": {
     "base_uri": "https://localhost:8080/"
    },
    "executionInfo": {
     "elapsed": 16761,
     "status": "ok",
     "timestamp": 1614713179518,
     "user": {
      "displayName": "Shearman Chua",
      "photoUrl": "",
      "userId": "02072421428658916568"
     },
     "user_tz": -480
    },
    "id": "3DxuagmZYIHH",
    "outputId": "e18362a9-e78c-4e2d-cca4-4999492fb825"
   },
   "outputs": [
    {
     "name": "stdout",
     "output_type": "stream",
     "text": [
      "bert-base-multilingual-uncased\n"
     ]
    },
    {
     "name": "stderr",
     "output_type": "stream",
     "text": [
      "/usr/local/lib/python3.7/dist-packages/transformers/tokenization_utils_base.py:2155: FutureWarning: The `pad_to_max_length` argument is deprecated and will be removed in a future version, use `padding=True` or `padding='longest'` to pad to the longest sequence in the batch, or use `padding='max_length'` to pad to a max length. In this case, you can give a specific length with `max_length` (e.g. `max_length=45`) or leave max_length to None to pad to the maximal input size of the model (e.g. 512 for Bert).\n",
      "  FutureWarning,\n"
     ]
    },
    {
     "name": "stdout",
     "output_type": "stream",
     "text": [
      "31/31 [==============================] - 5s 150ms/step\n",
      "jplu/tf-xlm-roberta-base\n",
      "31/31 [==============================] - 5s 155ms/step\n"
     ]
    }
   ],
   "source": [
    "MODEL_NAMES = ['bert-base-multilingual-uncased','jplu/tf-xlm-roberta-base']\n",
    "test_probs = [0 for i in range(len(MODEL_NAMES))]\n",
    "\n",
    "with strategy.scope():\n",
    "    \n",
    "    for i in range(len(MODEL_NAMES)):\n",
    "      print(MODEL_NAMES[i])\n",
    "      tokenizer = transformers.AutoTokenizer.from_pretrained(MODEL_NAMES[i])\n",
    "      test_reviews = regular_encode(ul_df.text.astype(str).values.tolist(), tokenizer, maxlen=MAX_LEN)\n",
    "\n",
    "      test_dataset = (\n",
    "      tf.data.Dataset\n",
    "      .from_tensor_slices((test_reviews))\n",
    "      .batch(BATCH_SIZE)\n",
    "      .prefetch(AUTO)\n",
    "      )\n",
    "\n",
    "      test_probs[i] = models[i].predict(test_dataset, verbose=1)"
   ]
  },
  {
   "cell_type": "code",
   "execution_count": null,
   "metadata": {
    "colab": {
     "base_uri": "https://localhost:8080/",
     "height": 397
    },
    "executionInfo": {
     "elapsed": 734,
     "status": "ok",
     "timestamp": 1614713265471,
     "user": {
      "displayName": "Shearman Chua",
      "photoUrl": "",
      "userId": "02072421428658916568"
     },
     "user_tz": -480
    },
    "id": "HI5ku1jGYIKi",
    "outputId": "05570585-c765-4ec5-aed1-d72e4fee52a0"
   },
   "outputs": [
    {
     "name": "stderr",
     "output_type": "stream",
     "text": [
      "/usr/local/lib/python3.7/dist-packages/ipykernel_launcher.py:1: SettingWithCopyWarning: \n",
      "A value is trying to be set on a copy of a slice from a DataFrame.\n",
      "Try using .loc[row_indexer,col_indexer] = value instead\n",
      "\n",
      "See the caveats in the documentation: https://pandas.pydata.org/pandas-docs/stable/user_guide/indexing.html#returning-a-view-versus-a-copy\n",
      "  \"\"\"Entry point for launching an IPython kernel.\n",
      "/usr/local/lib/python3.7/dist-packages/ipykernel_launcher.py:2: SettingWithCopyWarning: \n",
      "A value is trying to be set on a copy of a slice from a DataFrame.\n",
      "Try using .loc[row_indexer,col_indexer] = value instead\n",
      "\n",
      "See the caveats in the documentation: https://pandas.pydata.org/pandas-docs/stable/user_guide/indexing.html#returning-a-view-versus-a-copy\n",
      "  \n"
     ]
    },
    {
     "data": {
      "text/html": [
       "<div>\n",
       "<style scoped>\n",
       "    .dataframe tbody tr th:only-of-type {\n",
       "        vertical-align: middle;\n",
       "    }\n",
       "\n",
       "    .dataframe tbody tr th {\n",
       "        vertical-align: top;\n",
       "    }\n",
       "\n",
       "    .dataframe thead th {\n",
       "        text-align: right;\n",
       "    }\n",
       "</style>\n",
       "<table border=\"1\" class=\"dataframe\">\n",
       "  <thead>\n",
       "    <tr style=\"text-align: right;\">\n",
       "      <th></th>\n",
       "      <th>tweet_id</th>\n",
       "      <th>text</th>\n",
       "      <th>subjectivity</th>\n",
       "      <th>toxicity</th>\n",
       "    </tr>\n",
       "  </thead>\n",
       "  <tbody>\n",
       "    <tr>\n",
       "      <th>0</th>\n",
       "      <td>1361169823707918336</td>\n",
       "      <td>it was dio all along happy dumb holiday t co l...</td>\n",
       "      <td>1</td>\n",
       "      <td>0</td>\n",
       "    </tr>\n",
       "    <tr>\n",
       "      <th>1</th>\n",
       "      <td>1360681569527222275</td>\n",
       "      <td>andrewstoeten we could stop the pandemic our l...</td>\n",
       "      <td>0</td>\n",
       "      <td>0</td>\n",
       "    </tr>\n",
       "    <tr>\n",
       "      <th>2</th>\n",
       "      <td>1359821276269993985</td>\n",
       "      <td>tachasmar blessin chinyere in other words you ...</td>\n",
       "      <td>1</td>\n",
       "      <td>1</td>\n",
       "    </tr>\n",
       "    <tr>\n",
       "      <th>3</th>\n",
       "      <td>1360730455146975238</td>\n",
       "      <td>not me going off on a grown man in the middle ...</td>\n",
       "      <td>0</td>\n",
       "      <td>0</td>\n",
       "    </tr>\n",
       "    <tr>\n",
       "      <th>4</th>\n",
       "      <td>1360393239107403778</td>\n",
       "      <td>senduckworth if you go just stops down the sub...</td>\n",
       "      <td>0</td>\n",
       "      <td>0</td>\n",
       "    </tr>\n",
       "  </tbody>\n",
       "</table>\n",
       "</div>"
      ],
      "text/plain": [
       "              tweet_id  ... toxicity\n",
       "0  1361169823707918336  ...        0\n",
       "1  1360681569527222275  ...        0\n",
       "2  1359821276269993985  ...        1\n",
       "3  1360730455146975238  ...        0\n",
       "4  1360393239107403778  ...        0\n",
       "\n",
       "[5 rows x 4 columns]"
      ]
     },
     "execution_count": 41,
     "metadata": {
      "tags": []
     },
     "output_type": "execute_result"
    }
   ],
   "source": [
    "ul_df['subjectivity'] = np.argmax(((test_probs[0][0] + test_probs[1][0])/2), axis = 1)\n",
    "ul_df['toxicity'] = np.argmax(((test_probs[0][1] + test_probs[1][1])/2), axis = 1)\n",
    "ul_df.head()"
   ]
  },
  {
   "cell_type": "code",
   "execution_count": null,
   "metadata": {
    "colab": {
     "base_uri": "https://localhost:8080/",
     "height": 585
    },
    "executionInfo": {
     "elapsed": 893,
     "status": "ok",
     "timestamp": 1614713349434,
     "user": {
      "displayName": "Shearman Chua",
      "photoUrl": "",
      "userId": "02072421428658916568"
     },
     "user_tz": -480
    },
    "id": "WJaBPxykYIN6",
    "outputId": "a8cdbabb-9009-498c-c18e-b9d5a222061d"
   },
   "outputs": [
    {
     "data": {
      "text/html": [
       "<div>\n",
       "<style scoped>\n",
       "    .dataframe tbody tr th:only-of-type {\n",
       "        vertical-align: middle;\n",
       "    }\n",
       "\n",
       "    .dataframe tbody tr th {\n",
       "        vertical-align: top;\n",
       "    }\n",
       "\n",
       "    .dataframe thead th {\n",
       "        text-align: right;\n",
       "    }\n",
       "</style>\n",
       "<table border=\"1\" class=\"dataframe\">\n",
       "  <thead>\n",
       "    <tr style=\"text-align: right;\">\n",
       "      <th></th>\n",
       "      <th>tweet_id</th>\n",
       "      <th>text</th>\n",
       "      <th>created_date_time</th>\n",
       "      <th>username</th>\n",
       "      <th>user_screen_name</th>\n",
       "      <th>user_id</th>\n",
       "      <th>user_location</th>\n",
       "      <th>user_description</th>\n",
       "      <th>verified</th>\n",
       "      <th>associated_place</th>\n",
       "      <th>retweet_count</th>\n",
       "      <th>location</th>\n",
       "      <th>user_geo</th>\n",
       "      <th>url</th>\n",
       "      <th>subjectivity</th>\n",
       "      <th>toxicity</th>\n",
       "    </tr>\n",
       "  </thead>\n",
       "  <tbody>\n",
       "    <tr>\n",
       "      <th>0</th>\n",
       "      <td>1361169823707918336</td>\n",
       "      <td>It was Dio all along! Happy dumb holiday! 🖤 ht...</td>\n",
       "      <td>2021-02-15 04:25:49</td>\n",
       "      <td>𝕕𝕒𝕟𝕚𝕖𝕝𝕝𝕖 𝕤𝕝𝕒𝕦𝕥𝕖𝕣</td>\n",
       "      <td>DanielleSlauter</td>\n",
       "      <td>66803433</td>\n",
       "      <td>Indianapolis, Marion, Indiana, United States</td>\n",
       "      <td>•✞•Level 26•INFJ•Aries•anime trash•@waifuwatch...</td>\n",
       "      <td>False</td>\n",
       "      <td>NaN</td>\n",
       "      <td>0</td>\n",
       "      <td>Indianapolis, Marion, Indiana, United States</td>\n",
       "      <td>(39.7683331, -86.1583502, 0.0)</td>\n",
       "      <td>https://twitter.com/twitter/status/13611698237...</td>\n",
       "      <td>1</td>\n",
       "      <td>0</td>\n",
       "    </tr>\n",
       "    <tr>\n",
       "      <th>1</th>\n",
       "      <td>1360681569527222275</td>\n",
       "      <td>RT @AndrewStoeten: We could stop the pandemic....</td>\n",
       "      <td>2021-02-13 20:05:41</td>\n",
       "      <td>jordan meuIendyk</td>\n",
       "      <td>jordym1nine</td>\n",
       "      <td>19632321</td>\n",
       "      <td>Toronto, Golden Horseshoe, Ontario, Canada</td>\n",
       "      <td>former child actor. chief of the BPD. human sh...</td>\n",
       "      <td>False</td>\n",
       "      <td>NaN</td>\n",
       "      <td>166</td>\n",
       "      <td>Toronto, Golden Horseshoe, Ontario, Canada</td>\n",
       "      <td>(43.6534817, -79.3839347, 0.0)</td>\n",
       "      <td>https://twitter.com/twitter/status/13606815695...</td>\n",
       "      <td>0</td>\n",
       "      <td>0</td>\n",
       "    </tr>\n",
       "    <tr>\n",
       "      <th>2</th>\n",
       "      <td>1359821276269993985</td>\n",
       "      <td>RT @TachaSmar: @Blessin50078066 @Chinyere2231 ...</td>\n",
       "      <td>2021-02-11 11:07:11</td>\n",
       "      <td>Renaissance🔱 ˢᵀ</td>\n",
       "      <td>renegadelia</td>\n",
       "      <td>1228398056602787841</td>\n",
       "      <td>Universal, Veranópolis, Região Geográfica Imed...</td>\n",
       "      <td>Write your own verse!\\r\\n\\r\\nI am abundance, I...</td>\n",
       "      <td>False</td>\n",
       "      <td>NaN</td>\n",
       "      <td>7</td>\n",
       "      <td>Universal, Veranópolis, Região Geográfica Imed...</td>\n",
       "      <td>(-28.9182121, -51.547104, 0.0)</td>\n",
       "      <td>https://twitter.com/twitter/status/13598212762...</td>\n",
       "      <td>1</td>\n",
       "      <td>1</td>\n",
       "    </tr>\n",
       "    <tr>\n",
       "      <th>3</th>\n",
       "      <td>1360730455146975238</td>\n",
       "      <td>not me going off on a grown man in the middle ...</td>\n",
       "      <td>2021-02-13 23:19:56</td>\n",
       "      <td>paula</td>\n",
       "      <td>uhhpaula</td>\n",
       "      <td>4540327527</td>\n",
       "      <td>South Florida, Columbus, Cherokee County, Kans...</td>\n",
       "      <td>aries</td>\n",
       "      <td>False</td>\n",
       "      <td>NaN</td>\n",
       "      <td>0</td>\n",
       "      <td>South Florida, Columbus, Cherokee County, Kans...</td>\n",
       "      <td>(37.1677128, -94.8464256, 0.0)</td>\n",
       "      <td>https://twitter.com/twitter/status/13607304551...</td>\n",
       "      <td>0</td>\n",
       "      <td>0</td>\n",
       "    </tr>\n",
       "    <tr>\n",
       "      <th>4</th>\n",
       "      <td>1360393239107403778</td>\n",
       "      <td>RT @SenDuckworth: If you go just 10 stops down...</td>\n",
       "      <td>2021-02-13 00:59:57</td>\n",
       "      <td>Shannon Fx Halbur</td>\n",
       "      <td>UnderTallSWH</td>\n",
       "      <td>3212694291</td>\n",
       "      <td>Raleigh, Wake County, North Carolina, United S...</td>\n",
       "      <td>Gun Violence Prevention Activist, with Moms De...</td>\n",
       "      <td>False</td>\n",
       "      <td>NaN</td>\n",
       "      <td>276</td>\n",
       "      <td>Raleigh, Wake County, North Carolina, United S...</td>\n",
       "      <td>(35.7803977, -78.6390989, 0.0)</td>\n",
       "      <td>https://twitter.com/twitter/status/13603932391...</td>\n",
       "      <td>0</td>\n",
       "      <td>0</td>\n",
       "    </tr>\n",
       "  </tbody>\n",
       "</table>\n",
       "</div>"
      ],
      "text/plain": [
       "              tweet_id  ... toxicity\n",
       "0  1361169823707918336  ...        0\n",
       "1  1360681569527222275  ...        0\n",
       "2  1359821276269993985  ...        1\n",
       "3  1360730455146975238  ...        0\n",
       "4  1360393239107403778  ...        0\n",
       "\n",
       "[5 rows x 16 columns]"
      ]
     },
     "execution_count": 42,
     "metadata": {
      "tags": []
     },
     "output_type": "execute_result"
    }
   ],
   "source": [
    "df['subjectivity'] = np.argmax(((test_probs[0][0] + test_probs[1][0])/2), axis = 1)\n",
    "df['toxicity'] = np.argmax(((test_probs[0][1] + test_probs[1][1])/2), axis = 1)\n",
    "df.head()"
   ]
  },
  {
   "cell_type": "code",
   "execution_count": null,
   "metadata": {
    "colab": {
     "base_uri": "https://localhost:8080/"
    },
    "executionInfo": {
     "elapsed": 886,
     "status": "ok",
     "timestamp": 1614713406340,
     "user": {
      "displayName": "Shearman Chua",
      "photoUrl": "",
      "userId": "02072421428658916568"
     },
     "user_tz": -480
    },
    "id": "eHQgRF7XYIZf",
    "outputId": "248c7a78-6e46-4378-a716-1f79d9a09c31"
   },
   "outputs": [
    {
     "name": "stdout",
     "output_type": "stream",
     "text": [
      "<class 'pandas.core.frame.DataFrame'>\n",
      "RangeIndex: 3846 entries, 0 to 3845\n",
      "Data columns (total 16 columns):\n",
      " #   Column             Non-Null Count  Dtype \n",
      "---  ------             --------------  ----- \n",
      " 0   tweet_id           3846 non-null   int64 \n",
      " 1   text               3846 non-null   object\n",
      " 2   created_date_time  3846 non-null   object\n",
      " 3   username           3846 non-null   object\n",
      " 4   user_screen_name   3846 non-null   object\n",
      " 5   user_id            3846 non-null   int64 \n",
      " 6   user_location      3846 non-null   object\n",
      " 7   user_description   3544 non-null   object\n",
      " 8   verified           3846 non-null   bool  \n",
      " 9   associated_place   60 non-null     object\n",
      " 10  retweet_count      3846 non-null   int64 \n",
      " 11  location           3846 non-null   object\n",
      " 12  user_geo           3846 non-null   object\n",
      " 13  url                3846 non-null   object\n",
      " 14  subjectivity       3846 non-null   int64 \n",
      " 15  toxicity           3846 non-null   int64 \n",
      "dtypes: bool(1), int64(5), object(10)\n",
      "memory usage: 454.6+ KB\n"
     ]
    }
   ],
   "source": [
    "df.info()"
   ]
  },
  {
   "cell_type": "code",
   "execution_count": null,
   "metadata": {
    "colab": {
     "base_uri": "https://localhost:8080/"
    },
    "executionInfo": {
     "elapsed": 658,
     "status": "ok",
     "timestamp": 1614713457108,
     "user": {
      "displayName": "Shearman Chua",
      "photoUrl": "",
      "userId": "02072421428658916568"
     },
     "user_tz": -480
    },
    "id": "QWCT5hBAawMf",
    "outputId": "11230be2-1bc8-43cb-e889-f400edefb16f"
   },
   "outputs": [
    {
     "name": "stdout",
     "output_type": "stream",
     "text": [
      "<class 'pandas.core.frame.DataFrame'>\n",
      "RangeIndex: 3846 entries, 0 to 3845\n",
      "Data columns (total 16 columns):\n",
      " #   Column             Non-Null Count  Dtype \n",
      "---  ------             --------------  ----- \n",
      " 0   tweet_id           3846 non-null   object\n",
      " 1   text               3846 non-null   object\n",
      " 2   created_date_time  3846 non-null   object\n",
      " 3   username           3846 non-null   object\n",
      " 4   user_screen_name   3846 non-null   object\n",
      " 5   user_id            3846 non-null   int64 \n",
      " 6   user_location      3846 non-null   object\n",
      " 7   user_description   3544 non-null   object\n",
      " 8   verified           3846 non-null   bool  \n",
      " 9   associated_place   60 non-null     object\n",
      " 10  retweet_count      3846 non-null   int64 \n",
      " 11  location           3846 non-null   object\n",
      " 12  user_geo           3846 non-null   object\n",
      " 13  url                3846 non-null   object\n",
      " 14  subjectivity       3846 non-null   int64 \n",
      " 15  toxicity           3846 non-null   int64 \n",
      "dtypes: bool(1), int64(4), object(11)\n",
      "memory usage: 454.6+ KB\n"
     ]
    }
   ],
   "source": [
    "df['tweet_id'] = df['tweet_id'].astype(str)\n",
    "df.info()"
   ]
  },
  {
   "cell_type": "code",
   "execution_count": null,
   "metadata": {
    "id": "lZAOfxuiawPg"
   },
   "outputs": [],
   "source": [
    "df.to_csv(f'{data_folder}/negative_tweets_labeled.csv',index=False)"
   ]
  },
  {
   "cell_type": "code",
   "execution_count": null,
   "metadata": {
    "colab": {
     "base_uri": "https://localhost:8080/",
     "height": 501
    },
    "executionInfo": {
     "elapsed": 1632,
     "status": "ok",
     "timestamp": 1614713568536,
     "user": {
      "displayName": "Shearman Chua",
      "photoUrl": "",
      "userId": "02072421428658916568"
     },
     "user_tz": -480
    },
    "id": "EuId64wWawSy",
    "outputId": "8d8d038e-e03e-4631-c7bc-a9730bbb81cf"
   },
   "outputs": [
    {
     "data": {
      "text/html": [
       "<div>\n",
       "<style scoped>\n",
       "    .dataframe tbody tr th:only-of-type {\n",
       "        vertical-align: middle;\n",
       "    }\n",
       "\n",
       "    .dataframe tbody tr th {\n",
       "        vertical-align: top;\n",
       "    }\n",
       "\n",
       "    .dataframe thead th {\n",
       "        text-align: right;\n",
       "    }\n",
       "</style>\n",
       "<table border=\"1\" class=\"dataframe\">\n",
       "  <thead>\n",
       "    <tr style=\"text-align: right;\">\n",
       "      <th></th>\n",
       "      <th>text</th>\n",
       "      <th>created_date_time</th>\n",
       "      <th>tweet_id</th>\n",
       "      <th>username</th>\n",
       "      <th>user_screen_name</th>\n",
       "      <th>user_id</th>\n",
       "      <th>user_location</th>\n",
       "      <th>user_description</th>\n",
       "      <th>verified</th>\n",
       "      <th>associated_place</th>\n",
       "      <th>retweet_count</th>\n",
       "      <th>user_geo</th>\n",
       "      <th>link</th>\n",
       "      <th>url</th>\n",
       "    </tr>\n",
       "  </thead>\n",
       "  <tbody>\n",
       "    <tr>\n",
       "      <th>0</th>\n",
       "      <td>RT @TrumpWarRoom___: RT to wish a Happy Presid...</td>\n",
       "      <td>2021-02-15 19:00:53</td>\n",
       "      <td>1361390039108907008</td>\n",
       "      <td>VaQuireboy</td>\n",
       "      <td>VaQuireboy</td>\n",
       "      <td>742076049618538496</td>\n",
       "      <td>Virginia, United States</td>\n",
       "      <td>Family man, College educated, Independent, Vie...</td>\n",
       "      <td>False</td>\n",
       "      <td>NaN</td>\n",
       "      <td>2124</td>\n",
       "      <td>(37.1232245, -78.4927721, 0.0)</td>\n",
       "      <td>https://twitter.com/twitter/status/13613900391...</td>\n",
       "      <td>NaN</td>\n",
       "    </tr>\n",
       "    <tr>\n",
       "      <th>1</th>\n",
       "      <td>RT @Rules_twt: If \"uncomfortable\" was a pictur...</td>\n",
       "      <td>2021-02-15 19:00:48</td>\n",
       "      <td>1361390020008038402</td>\n",
       "      <td>𝓐𝓷𝓪 𝓒𝓻𝓲𝓼𝓽𝓲𝓷𝓪 ✨</td>\n",
       "      <td>bemAtoaAqui</td>\n",
       "      <td>1182740439184658438</td>\n",
       "      <td>Moura, Beja, Baixo Alentejo, Alentejo, Portugal</td>\n",
       "      <td>♐️//#SimAosToiros// F 💓</td>\n",
       "      <td>False</td>\n",
       "      <td>NaN</td>\n",
       "      <td>613</td>\n",
       "      <td>(38.145868899999996, -7.36681873826084, 0.0)</td>\n",
       "      <td>https://twitter.com/twitter/status/13613900200...</td>\n",
       "      <td>NaN</td>\n",
       "    </tr>\n",
       "    <tr>\n",
       "      <th>2</th>\n",
       "      <td>RT @_ixcato: I think he's neat. :) #criticalro...</td>\n",
       "      <td>2021-02-15 19:00:47</td>\n",
       "      <td>1361390012466667520</td>\n",
       "      <td>Spectre’s Icy Touch</td>\n",
       "      <td>spectrealafete</td>\n",
       "      <td>40359764</td>\n",
       "      <td>Toronto, Golden Horseshoe, Ontario, Canada</td>\n",
       "      <td>Mostly just flailing about changelings... and ...</td>\n",
       "      <td>False</td>\n",
       "      <td>NaN</td>\n",
       "      <td>108</td>\n",
       "      <td>(43.6534817, -79.3839347, 0.0)</td>\n",
       "      <td>https://twitter.com/twitter/status/13613900124...</td>\n",
       "      <td>NaN</td>\n",
       "    </tr>\n",
       "    <tr>\n",
       "      <th>3</th>\n",
       "      <td>RT @Tomas_Verde: Who's the brave soul who is g...</td>\n",
       "      <td>2021-02-15 19:00:56</td>\n",
       "      <td>1361390051448545280</td>\n",
       "      <td>Taylor Moats</td>\n",
       "      <td>idigmoats</td>\n",
       "      <td>836340324205199361</td>\n",
       "      <td>Whitemarsh Island, Chatham County, Georgia, 31...</td>\n",
       "      <td>NaN</td>\n",
       "      <td>False</td>\n",
       "      <td>NaN</td>\n",
       "      <td>26</td>\n",
       "      <td>(32.0327121, -81.0142786, 0.0)</td>\n",
       "      <td>https://twitter.com/twitter/status/13613900514...</td>\n",
       "      <td>NaN</td>\n",
       "    </tr>\n",
       "    <tr>\n",
       "      <th>4</th>\n",
       "      <td>@kenndold @RachelFields_ I really hope this is...</td>\n",
       "      <td>2021-02-15 19:00:53</td>\n",
       "      <td>1361390038056075267</td>\n",
       "      <td>Alejandra Felix</td>\n",
       "      <td>alexxfelixx95</td>\n",
       "      <td>1297156705</td>\n",
       "      <td>Cambridge, Middlesex County, Massachusetts, Un...</td>\n",
       "      <td>tiny girl pretending to do chemistry by day @H...</td>\n",
       "      <td>False</td>\n",
       "      <td>NaN</td>\n",
       "      <td>0</td>\n",
       "      <td>(42.3750997, -71.1056157, 0.0)</td>\n",
       "      <td>https://twitter.com/twitter/status/13613900380...</td>\n",
       "      <td>NaN</td>\n",
       "    </tr>\n",
       "  </tbody>\n",
       "</table>\n",
       "</div>"
      ],
      "text/plain": [
       "                                                text  ...  url\n",
       "0  RT @TrumpWarRoom___: RT to wish a Happy Presid...  ...  NaN\n",
       "1  RT @Rules_twt: If \"uncomfortable\" was a pictur...  ...  NaN\n",
       "2  RT @_ixcato: I think he's neat. :) #criticalro...  ...  NaN\n",
       "3  RT @Tomas_Verde: Who's the brave soul who is g...  ...  NaN\n",
       "4  @kenndold @RachelFields_ I really hope this is...  ...  NaN\n",
       "\n",
       "[5 rows x 14 columns]"
      ]
     },
     "execution_count": 46,
     "metadata": {
      "tags": []
     },
     "output_type": "execute_result"
    }
   ],
   "source": [
    "df = pd.read_csv(f'{data_folder}/unlabelled_data.csv')\n",
    "df.head()"
   ]
  },
  {
   "cell_type": "code",
   "execution_count": null,
   "metadata": {
    "colab": {
     "base_uri": "https://localhost:8080/",
     "height": 195
    },
    "executionInfo": {
     "elapsed": 800,
     "status": "ok",
     "timestamp": 1614713593474,
     "user": {
      "displayName": "Shearman Chua",
      "photoUrl": "",
      "userId": "02072421428658916568"
     },
     "user_tz": -480
    },
    "id": "6HFN-gz9bN4A",
    "outputId": "b23196f2-d76b-43a8-fb4b-7e3517f06314"
   },
   "outputs": [
    {
     "data": {
      "text/html": [
       "<div>\n",
       "<style scoped>\n",
       "    .dataframe tbody tr th:only-of-type {\n",
       "        vertical-align: middle;\n",
       "    }\n",
       "\n",
       "    .dataframe tbody tr th {\n",
       "        vertical-align: top;\n",
       "    }\n",
       "\n",
       "    .dataframe thead th {\n",
       "        text-align: right;\n",
       "    }\n",
       "</style>\n",
       "<table border=\"1\" class=\"dataframe\">\n",
       "  <thead>\n",
       "    <tr style=\"text-align: right;\">\n",
       "      <th></th>\n",
       "      <th>tweet_id</th>\n",
       "      <th>text</th>\n",
       "    </tr>\n",
       "  </thead>\n",
       "  <tbody>\n",
       "    <tr>\n",
       "      <th>0</th>\n",
       "      <td>1361390039108907008</td>\n",
       "      <td>RT @TrumpWarRoom___: RT to wish a Happy Presid...</td>\n",
       "    </tr>\n",
       "    <tr>\n",
       "      <th>1</th>\n",
       "      <td>1361390020008038402</td>\n",
       "      <td>RT @Rules_twt: If \"uncomfortable\" was a pictur...</td>\n",
       "    </tr>\n",
       "    <tr>\n",
       "      <th>2</th>\n",
       "      <td>1361390012466667520</td>\n",
       "      <td>RT @_ixcato: I think he's neat. :) #criticalro...</td>\n",
       "    </tr>\n",
       "    <tr>\n",
       "      <th>3</th>\n",
       "      <td>1361390051448545280</td>\n",
       "      <td>RT @Tomas_Verde: Who's the brave soul who is g...</td>\n",
       "    </tr>\n",
       "    <tr>\n",
       "      <th>4</th>\n",
       "      <td>1361390038056075267</td>\n",
       "      <td>@kenndold @RachelFields_ I really hope this is...</td>\n",
       "    </tr>\n",
       "  </tbody>\n",
       "</table>\n",
       "</div>"
      ],
      "text/plain": [
       "              tweet_id                                               text\n",
       "0  1361390039108907008  RT @TrumpWarRoom___: RT to wish a Happy Presid...\n",
       "1  1361390020008038402  RT @Rules_twt: If \"uncomfortable\" was a pictur...\n",
       "2  1361390012466667520  RT @_ixcato: I think he's neat. :) #criticalro...\n",
       "3  1361390051448545280  RT @Tomas_Verde: Who's the brave soul who is g...\n",
       "4  1361390038056075267  @kenndold @RachelFields_ I really hope this is..."
      ]
     },
     "execution_count": 47,
     "metadata": {
      "tags": []
     },
     "output_type": "execute_result"
    }
   ],
   "source": [
    "ul_df = df[[\"tweet_id\",\"text\"]]\n",
    "ul_df.head()"
   ]
  },
  {
   "cell_type": "code",
   "execution_count": null,
   "metadata": {
    "colab": {
     "base_uri": "https://localhost:8080/",
     "height": 444
    },
    "executionInfo": {
     "elapsed": 7594,
     "status": "ok",
     "timestamp": 1614713658803,
     "user": {
      "displayName": "Shearman Chua",
      "photoUrl": "",
      "userId": "02072421428658916568"
     },
     "user_tz": -480
    },
    "id": "xyv3xDbMbN6s",
    "outputId": "5053a562-8c8e-4880-ff1f-f82c81285a68"
   },
   "outputs": [
    {
     "name": "stderr",
     "output_type": "stream",
     "text": [
      "/usr/local/lib/python3.7/dist-packages/ipykernel_launcher.py:1: SettingWithCopyWarning: \n",
      "A value is trying to be set on a copy of a slice from a DataFrame.\n",
      "Try using .loc[row_indexer,col_indexer] = value instead\n",
      "\n",
      "See the caveats in the documentation: https://pandas.pydata.org/pandas-docs/stable/user_guide/indexing.html#returning-a-view-versus-a-copy\n",
      "  \"\"\"Entry point for launching an IPython kernel.\n"
     ]
    },
    {
     "data": {
      "text/html": [
       "<div>\n",
       "<style scoped>\n",
       "    .dataframe tbody tr th:only-of-type {\n",
       "        vertical-align: middle;\n",
       "    }\n",
       "\n",
       "    .dataframe tbody tr th {\n",
       "        vertical-align: top;\n",
       "    }\n",
       "\n",
       "    .dataframe thead th {\n",
       "        text-align: right;\n",
       "    }\n",
       "</style>\n",
       "<table border=\"1\" class=\"dataframe\">\n",
       "  <thead>\n",
       "    <tr style=\"text-align: right;\">\n",
       "      <th></th>\n",
       "      <th>tweet_id</th>\n",
       "      <th>text</th>\n",
       "    </tr>\n",
       "  </thead>\n",
       "  <tbody>\n",
       "    <tr>\n",
       "      <th>0</th>\n",
       "      <td>1361390039108907008</td>\n",
       "      <td>trumpwarroom rt to wish a happy president s da...</td>\n",
       "    </tr>\n",
       "    <tr>\n",
       "      <th>1</th>\n",
       "      <td>1361390020008038402</td>\n",
       "      <td>rules twt if uncomfortable was a picture t co ...</td>\n",
       "    </tr>\n",
       "    <tr>\n",
       "      <th>2</th>\n",
       "      <td>1361390012466667520</td>\n",
       "      <td>ixcato i think he s neat criticalrolefanart cr...</td>\n",
       "    </tr>\n",
       "    <tr>\n",
       "      <th>3</th>\n",
       "      <td>1361390051448545280</td>\n",
       "      <td>tomas verde who s the brave soul is going to a...</td>\n",
       "    </tr>\n",
       "    <tr>\n",
       "      <th>4</th>\n",
       "      <td>1361390038056075267</td>\n",
       "      <td>kenndold rachelfields i really hope this is th...</td>\n",
       "    </tr>\n",
       "    <tr>\n",
       "      <th>5</th>\n",
       "      <td>1361390000630157313</td>\n",
       "      <td>rwpusa solicitation of election fraud is a fel...</td>\n",
       "    </tr>\n",
       "    <tr>\n",
       "      <th>6</th>\n",
       "      <td>1361390010499354625</td>\n",
       "      <td>pwcdeez wait they charge if i was a guest d do...</td>\n",
       "    </tr>\n",
       "    <tr>\n",
       "      <th>7</th>\n",
       "      <td>1361390030288269314</td>\n",
       "      <td>veevyan when a nigga come into your life he co...</td>\n",
       "    </tr>\n",
       "    <tr>\n",
       "      <th>8</th>\n",
       "      <td>1361390047426134017</td>\n",
       "      <td>folkloredean the we needed therapy but instead...</td>\n",
       "    </tr>\n",
       "    <tr>\n",
       "      <th>9</th>\n",
       "      <td>1361389993097330690</td>\n",
       "      <td>gregabbott tx looks like defunding police didn...</td>\n",
       "    </tr>\n",
       "  </tbody>\n",
       "</table>\n",
       "</div>"
      ],
      "text/plain": [
       "              tweet_id                                               text\n",
       "0  1361390039108907008  trumpwarroom rt to wish a happy president s da...\n",
       "1  1361390020008038402  rules twt if uncomfortable was a picture t co ...\n",
       "2  1361390012466667520  ixcato i think he s neat criticalrolefanart cr...\n",
       "3  1361390051448545280  tomas verde who s the brave soul is going to a...\n",
       "4  1361390038056075267  kenndold rachelfields i really hope this is th...\n",
       "5  1361390000630157313  rwpusa solicitation of election fraud is a fel...\n",
       "6  1361390010499354625  pwcdeez wait they charge if i was a guest d do...\n",
       "7  1361390030288269314  veevyan when a nigga come into your life he co...\n",
       "8  1361390047426134017  folkloredean the we needed therapy but instead...\n",
       "9  1361389993097330690  gregabbott tx looks like defunding police didn..."
      ]
     },
     "execution_count": 48,
     "metadata": {
      "tags": []
     },
     "output_type": "execute_result"
    }
   ],
   "source": [
    "ul_df['text'] = ul_df['text'].apply(clean_text).apply(emoji_cleaning).apply(clean_smileys).apply(decontracted)\n",
    "ul_df.head(10)"
   ]
  },
  {
   "cell_type": "code",
   "execution_count": null,
   "metadata": {
    "colab": {
     "base_uri": "https://localhost:8080/"
    },
    "executionInfo": {
     "elapsed": 27515,
     "status": "ok",
     "timestamp": 1614713703944,
     "user": {
      "displayName": "Shearman Chua",
      "photoUrl": "",
      "userId": "02072421428658916568"
     },
     "user_tz": -480
    },
    "id": "cBii057eawVe",
    "outputId": "001db020-0679-4a7b-edff-045acb035a14"
   },
   "outputs": [
    {
     "name": "stdout",
     "output_type": "stream",
     "text": [
      "bert-base-multilingual-uncased\n"
     ]
    },
    {
     "name": "stderr",
     "output_type": "stream",
     "text": [
      "/usr/local/lib/python3.7/dist-packages/transformers/tokenization_utils_base.py:2155: FutureWarning: The `pad_to_max_length` argument is deprecated and will be removed in a future version, use `padding=True` or `padding='longest'` to pad to the longest sequence in the batch, or use `padding='max_length'` to pad to a max length. In this case, you can give a specific length with `max_length` (e.g. `max_length=45`) or leave max_length to None to pad to the maximal input size of the model (e.g. 512 for Bert).\n",
      "  FutureWarning,\n"
     ]
    },
    {
     "name": "stdout",
     "output_type": "stream",
     "text": [
      "86/86 [==============================] - 10s 104ms/step\n",
      "jplu/tf-xlm-roberta-base\n",
      "86/86 [==============================] - 9s 103ms/step\n"
     ]
    }
   ],
   "source": [
    "MODEL_NAMES = ['bert-base-multilingual-uncased','jplu/tf-xlm-roberta-base']\n",
    "test_probs = [0 for i in range(len(MODEL_NAMES))]\n",
    "\n",
    "with strategy.scope():\n",
    "    \n",
    "    for i in range(len(MODEL_NAMES)):\n",
    "      print(MODEL_NAMES[i])\n",
    "      tokenizer = transformers.AutoTokenizer.from_pretrained(MODEL_NAMES[i])\n",
    "      test_reviews = regular_encode(ul_df.text.astype(str).values.tolist(), tokenizer, maxlen=MAX_LEN)\n",
    "\n",
    "      test_dataset = (\n",
    "      tf.data.Dataset\n",
    "      .from_tensor_slices((test_reviews))\n",
    "      .batch(BATCH_SIZE)\n",
    "      .prefetch(AUTO)\n",
    "      )\n",
    "\n",
    "      test_probs[i] = models[i].predict(test_dataset, verbose=1)"
   ]
  },
  {
   "cell_type": "code",
   "execution_count": null,
   "metadata": {
    "colab": {
     "base_uri": "https://localhost:8080/",
     "height": 501
    },
    "executionInfo": {
     "elapsed": 765,
     "status": "ok",
     "timestamp": 1614713707068,
     "user": {
      "displayName": "Shearman Chua",
      "photoUrl": "",
      "userId": "02072421428658916568"
     },
     "user_tz": -480
    },
    "id": "o8TMgq23bw7u",
    "outputId": "679a1be1-3577-41d3-bdff-8ce72eb77834"
   },
   "outputs": [
    {
     "data": {
      "text/html": [
       "<div>\n",
       "<style scoped>\n",
       "    .dataframe tbody tr th:only-of-type {\n",
       "        vertical-align: middle;\n",
       "    }\n",
       "\n",
       "    .dataframe tbody tr th {\n",
       "        vertical-align: top;\n",
       "    }\n",
       "\n",
       "    .dataframe thead th {\n",
       "        text-align: right;\n",
       "    }\n",
       "</style>\n",
       "<table border=\"1\" class=\"dataframe\">\n",
       "  <thead>\n",
       "    <tr style=\"text-align: right;\">\n",
       "      <th></th>\n",
       "      <th>text</th>\n",
       "      <th>created_date_time</th>\n",
       "      <th>tweet_id</th>\n",
       "      <th>username</th>\n",
       "      <th>user_screen_name</th>\n",
       "      <th>user_id</th>\n",
       "      <th>user_location</th>\n",
       "      <th>user_description</th>\n",
       "      <th>verified</th>\n",
       "      <th>associated_place</th>\n",
       "      <th>retweet_count</th>\n",
       "      <th>user_geo</th>\n",
       "      <th>link</th>\n",
       "      <th>url</th>\n",
       "      <th>subjectivity</th>\n",
       "      <th>toxicity</th>\n",
       "    </tr>\n",
       "  </thead>\n",
       "  <tbody>\n",
       "    <tr>\n",
       "      <th>0</th>\n",
       "      <td>RT @TrumpWarRoom___: RT to wish a Happy Presid...</td>\n",
       "      <td>2021-02-15 19:00:53</td>\n",
       "      <td>1361390039108907008</td>\n",
       "      <td>VaQuireboy</td>\n",
       "      <td>VaQuireboy</td>\n",
       "      <td>742076049618538496</td>\n",
       "      <td>Virginia, United States</td>\n",
       "      <td>Family man, College educated, Independent, Vie...</td>\n",
       "      <td>False</td>\n",
       "      <td>NaN</td>\n",
       "      <td>2124</td>\n",
       "      <td>(37.1232245, -78.4927721, 0.0)</td>\n",
       "      <td>https://twitter.com/twitter/status/13613900391...</td>\n",
       "      <td>NaN</td>\n",
       "      <td>1</td>\n",
       "      <td>0</td>\n",
       "    </tr>\n",
       "    <tr>\n",
       "      <th>1</th>\n",
       "      <td>RT @Rules_twt: If \"uncomfortable\" was a pictur...</td>\n",
       "      <td>2021-02-15 19:00:48</td>\n",
       "      <td>1361390020008038402</td>\n",
       "      <td>𝓐𝓷𝓪 𝓒𝓻𝓲𝓼𝓽𝓲𝓷𝓪 ✨</td>\n",
       "      <td>bemAtoaAqui</td>\n",
       "      <td>1182740439184658438</td>\n",
       "      <td>Moura, Beja, Baixo Alentejo, Alentejo, Portugal</td>\n",
       "      <td>♐️//#SimAosToiros// F 💓</td>\n",
       "      <td>False</td>\n",
       "      <td>NaN</td>\n",
       "      <td>613</td>\n",
       "      <td>(38.145868899999996, -7.36681873826084, 0.0)</td>\n",
       "      <td>https://twitter.com/twitter/status/13613900200...</td>\n",
       "      <td>NaN</td>\n",
       "      <td>1</td>\n",
       "      <td>0</td>\n",
       "    </tr>\n",
       "    <tr>\n",
       "      <th>2</th>\n",
       "      <td>RT @_ixcato: I think he's neat. :) #criticalro...</td>\n",
       "      <td>2021-02-15 19:00:47</td>\n",
       "      <td>1361390012466667520</td>\n",
       "      <td>Spectre’s Icy Touch</td>\n",
       "      <td>spectrealafete</td>\n",
       "      <td>40359764</td>\n",
       "      <td>Toronto, Golden Horseshoe, Ontario, Canada</td>\n",
       "      <td>Mostly just flailing about changelings... and ...</td>\n",
       "      <td>False</td>\n",
       "      <td>NaN</td>\n",
       "      <td>108</td>\n",
       "      <td>(43.6534817, -79.3839347, 0.0)</td>\n",
       "      <td>https://twitter.com/twitter/status/13613900124...</td>\n",
       "      <td>NaN</td>\n",
       "      <td>1</td>\n",
       "      <td>0</td>\n",
       "    </tr>\n",
       "    <tr>\n",
       "      <th>3</th>\n",
       "      <td>RT @Tomas_Verde: Who's the brave soul who is g...</td>\n",
       "      <td>2021-02-15 19:00:56</td>\n",
       "      <td>1361390051448545280</td>\n",
       "      <td>Taylor Moats</td>\n",
       "      <td>idigmoats</td>\n",
       "      <td>836340324205199361</td>\n",
       "      <td>Whitemarsh Island, Chatham County, Georgia, 31...</td>\n",
       "      <td>NaN</td>\n",
       "      <td>False</td>\n",
       "      <td>NaN</td>\n",
       "      <td>26</td>\n",
       "      <td>(32.0327121, -81.0142786, 0.0)</td>\n",
       "      <td>https://twitter.com/twitter/status/13613900514...</td>\n",
       "      <td>NaN</td>\n",
       "      <td>1</td>\n",
       "      <td>0</td>\n",
       "    </tr>\n",
       "    <tr>\n",
       "      <th>4</th>\n",
       "      <td>@kenndold @RachelFields_ I really hope this is...</td>\n",
       "      <td>2021-02-15 19:00:53</td>\n",
       "      <td>1361390038056075267</td>\n",
       "      <td>Alejandra Felix</td>\n",
       "      <td>alexxfelixx95</td>\n",
       "      <td>1297156705</td>\n",
       "      <td>Cambridge, Middlesex County, Massachusetts, Un...</td>\n",
       "      <td>tiny girl pretending to do chemistry by day @H...</td>\n",
       "      <td>False</td>\n",
       "      <td>NaN</td>\n",
       "      <td>0</td>\n",
       "      <td>(42.3750997, -71.1056157, 0.0)</td>\n",
       "      <td>https://twitter.com/twitter/status/13613900380...</td>\n",
       "      <td>NaN</td>\n",
       "      <td>1</td>\n",
       "      <td>0</td>\n",
       "    </tr>\n",
       "  </tbody>\n",
       "</table>\n",
       "</div>"
      ],
      "text/plain": [
       "                                                text  ... toxicity\n",
       "0  RT @TrumpWarRoom___: RT to wish a Happy Presid...  ...        0\n",
       "1  RT @Rules_twt: If \"uncomfortable\" was a pictur...  ...        0\n",
       "2  RT @_ixcato: I think he's neat. :) #criticalro...  ...        0\n",
       "3  RT @Tomas_Verde: Who's the brave soul who is g...  ...        0\n",
       "4  @kenndold @RachelFields_ I really hope this is...  ...        0\n",
       "\n",
       "[5 rows x 16 columns]"
      ]
     },
     "execution_count": 50,
     "metadata": {
      "tags": []
     },
     "output_type": "execute_result"
    }
   ],
   "source": [
    "df['subjectivity'] = np.argmax(((test_probs[0][0] + test_probs[1][0])/2), axis = 1)\n",
    "df['toxicity'] = np.argmax(((test_probs[0][1] + test_probs[1][1])/2), axis = 1)\n",
    "df.head()"
   ]
  },
  {
   "cell_type": "code",
   "execution_count": null,
   "metadata": {
    "colab": {
     "base_uri": "https://localhost:8080/"
    },
    "executionInfo": {
     "elapsed": 1323,
     "status": "ok",
     "timestamp": 1614713735748,
     "user": {
      "displayName": "Shearman Chua",
      "photoUrl": "",
      "userId": "02072421428658916568"
     },
     "user_tz": -480
    },
    "id": "8bHhzu0jawX7",
    "outputId": "9f782cca-b060-4477-96a3-86a1732c3820"
   },
   "outputs": [
    {
     "name": "stdout",
     "output_type": "stream",
     "text": [
      "<class 'pandas.core.frame.DataFrame'>\n",
      "RangeIndex: 10993 entries, 0 to 10992\n",
      "Data columns (total 16 columns):\n",
      " #   Column             Non-Null Count  Dtype \n",
      "---  ------             --------------  ----- \n",
      " 0   text               10993 non-null  object\n",
      " 1   created_date_time  10993 non-null  object\n",
      " 2   tweet_id           10993 non-null  object\n",
      " 3   username           10992 non-null  object\n",
      " 4   user_screen_name   10993 non-null  object\n",
      " 5   user_id            10993 non-null  int64 \n",
      " 6   user_location      10993 non-null  object\n",
      " 7   user_description   10161 non-null  object\n",
      " 8   verified           10993 non-null  bool  \n",
      " 9   associated_place   179 non-null    object\n",
      " 10  retweet_count      10993 non-null  int64 \n",
      " 11  user_geo           10993 non-null  object\n",
      " 12  link               5147 non-null   object\n",
      " 13  url                5846 non-null   object\n",
      " 14  subjectivity       10993 non-null  int64 \n",
      " 15  toxicity           10993 non-null  int64 \n",
      "dtypes: bool(1), int64(4), object(11)\n",
      "memory usage: 1.3+ MB\n"
     ]
    }
   ],
   "source": [
    "df['tweet_id'] = df['tweet_id'].astype(str)\n",
    "df.info()"
   ]
  },
  {
   "cell_type": "code",
   "execution_count": null,
   "metadata": {
    "id": "O_SW_obQaw66"
   },
   "outputs": [],
   "source": [
    "df.to_csv(f'{data_folder}/neutral_tweets_labeled.csv',index=False)"
   ]
  }
 ],
 "metadata": {
  "accelerator": "TPU",
  "colab": {
   "collapsed_sections": [],
   "name": "Final IR Classification Notebook.ipynb",
   "provenance": [],
   "toc_visible": true
  },
  "kernelspec": {
   "display_name": "Python 3",
   "language": "python",
   "name": "python3"
  },
  "language_info": {
   "codemirror_mode": {
    "name": "ipython",
    "version": 3
   },
   "file_extension": ".py",
   "mimetype": "text/x-python",
   "name": "python",
   "nbconvert_exporter": "python",
   "pygments_lexer": "ipython3",
   "version": "3.6.2"
  },
  "widgets": {
   "application/vnd.jupyter.widget-state+json": {
    "00b46edeaa2845f7817bf9de36020f82": {
     "model_module": "@jupyter-widgets/controls",
     "model_name": "HBoxModel",
     "state": {
      "_dom_classes": [],
      "_model_module": "@jupyter-widgets/controls",
      "_model_module_version": "1.5.0",
      "_model_name": "HBoxModel",
      "_view_count": null,
      "_view_module": "@jupyter-widgets/controls",
      "_view_module_version": "1.5.0",
      "_view_name": "HBoxView",
      "box_style": "",
      "children": [
       "IPY_MODEL_c0eaf5efc9864d989a79cf4906c0d32d",
       "IPY_MODEL_059fa6391093424f8c7531f33f1bd2e7"
      ],
      "layout": "IPY_MODEL_de34af03bfa0451ca7129bdf323d8f61"
     }
    },
    "046f27e0e78745e3af4f9079678172c6": {
     "model_module": "@jupyter-widgets/controls",
     "model_name": "ProgressStyleModel",
     "state": {
      "_model_module": "@jupyter-widgets/controls",
      "_model_module_version": "1.5.0",
      "_model_name": "ProgressStyleModel",
      "_view_count": null,
      "_view_module": "@jupyter-widgets/base",
      "_view_module_version": "1.2.0",
      "_view_name": "StyleView",
      "bar_color": null,
      "description_width": "initial"
     }
    },
    "0488ab8011984f209390091a215ea050": {
     "model_module": "@jupyter-widgets/base",
     "model_name": "LayoutModel",
     "state": {
      "_model_module": "@jupyter-widgets/base",
      "_model_module_version": "1.2.0",
      "_model_name": "LayoutModel",
      "_view_count": null,
      "_view_module": "@jupyter-widgets/base",
      "_view_module_version": "1.2.0",
      "_view_name": "LayoutView",
      "align_content": null,
      "align_items": null,
      "align_self": null,
      "border": null,
      "bottom": null,
      "display": null,
      "flex": null,
      "flex_flow": null,
      "grid_area": null,
      "grid_auto_columns": null,
      "grid_auto_flow": null,
      "grid_auto_rows": null,
      "grid_column": null,
      "grid_gap": null,
      "grid_row": null,
      "grid_template_areas": null,
      "grid_template_columns": null,
      "grid_template_rows": null,
      "height": null,
      "justify_content": null,
      "justify_items": null,
      "left": null,
      "margin": null,
      "max_height": null,
      "max_width": null,
      "min_height": null,
      "min_width": null,
      "object_fit": null,
      "object_position": null,
      "order": null,
      "overflow": null,
      "overflow_x": null,
      "overflow_y": null,
      "padding": null,
      "right": null,
      "top": null,
      "visibility": null,
      "width": null
     }
    },
    "059fa6391093424f8c7531f33f1bd2e7": {
     "model_module": "@jupyter-widgets/controls",
     "model_name": "HTMLModel",
     "state": {
      "_dom_classes": [],
      "_model_module": "@jupyter-widgets/controls",
      "_model_module_version": "1.5.0",
      "_model_name": "HTMLModel",
      "_view_count": null,
      "_view_module": "@jupyter-widgets/controls",
      "_view_module_version": "1.5.0",
      "_view_name": "HTMLView",
      "description": "",
      "description_tooltip": null,
      "layout": "IPY_MODEL_934659f77f81439a877580e4d539084d",
      "placeholder": "​",
      "style": "IPY_MODEL_4c3651dc1fc840a4a144242d3f908915",
      "value": " 872k/872k [00:01&lt;00:00, 566kB/s]"
     }
    },
    "060464dd80254aa3a64acd4b996a5679": {
     "model_module": "@jupyter-widgets/base",
     "model_name": "LayoutModel",
     "state": {
      "_model_module": "@jupyter-widgets/base",
      "_model_module_version": "1.2.0",
      "_model_name": "LayoutModel",
      "_view_count": null,
      "_view_module": "@jupyter-widgets/base",
      "_view_module_version": "1.2.0",
      "_view_name": "LayoutView",
      "align_content": null,
      "align_items": null,
      "align_self": null,
      "border": null,
      "bottom": null,
      "display": null,
      "flex": null,
      "flex_flow": null,
      "grid_area": null,
      "grid_auto_columns": null,
      "grid_auto_flow": null,
      "grid_auto_rows": null,
      "grid_column": null,
      "grid_gap": null,
      "grid_row": null,
      "grid_template_areas": null,
      "grid_template_columns": null,
      "grid_template_rows": null,
      "height": null,
      "justify_content": null,
      "justify_items": null,
      "left": null,
      "margin": null,
      "max_height": null,
      "max_width": null,
      "min_height": null,
      "min_width": null,
      "object_fit": null,
      "object_position": null,
      "order": null,
      "overflow": null,
      "overflow_x": null,
      "overflow_y": null,
      "padding": null,
      "right": null,
      "top": null,
      "visibility": null,
      "width": null
     }
    },
    "068914a7097346aaa3b56beb354623ca": {
     "model_module": "@jupyter-widgets/base",
     "model_name": "LayoutModel",
     "state": {
      "_model_module": "@jupyter-widgets/base",
      "_model_module_version": "1.2.0",
      "_model_name": "LayoutModel",
      "_view_count": null,
      "_view_module": "@jupyter-widgets/base",
      "_view_module_version": "1.2.0",
      "_view_name": "LayoutView",
      "align_content": null,
      "align_items": null,
      "align_self": null,
      "border": null,
      "bottom": null,
      "display": null,
      "flex": null,
      "flex_flow": null,
      "grid_area": null,
      "grid_auto_columns": null,
      "grid_auto_flow": null,
      "grid_auto_rows": null,
      "grid_column": null,
      "grid_gap": null,
      "grid_row": null,
      "grid_template_areas": null,
      "grid_template_columns": null,
      "grid_template_rows": null,
      "height": null,
      "justify_content": null,
      "justify_items": null,
      "left": null,
      "margin": null,
      "max_height": null,
      "max_width": null,
      "min_height": null,
      "min_width": null,
      "object_fit": null,
      "object_position": null,
      "order": null,
      "overflow": null,
      "overflow_x": null,
      "overflow_y": null,
      "padding": null,
      "right": null,
      "top": null,
      "visibility": null,
      "width": null
     }
    },
    "07e8aed628fa4e5c965c4b36fb0fe36b": {
     "model_module": "@jupyter-widgets/controls",
     "model_name": "DescriptionStyleModel",
     "state": {
      "_model_module": "@jupyter-widgets/controls",
      "_model_module_version": "1.5.0",
      "_model_name": "DescriptionStyleModel",
      "_view_count": null,
      "_view_module": "@jupyter-widgets/base",
      "_view_module_version": "1.2.0",
      "_view_name": "StyleView",
      "description_width": ""
     }
    },
    "08452007fa8c4ae7ade1ca165d079125": {
     "model_module": "@jupyter-widgets/controls",
     "model_name": "ProgressStyleModel",
     "state": {
      "_model_module": "@jupyter-widgets/controls",
      "_model_module_version": "1.5.0",
      "_model_name": "ProgressStyleModel",
      "_view_count": null,
      "_view_module": "@jupyter-widgets/base",
      "_view_module_version": "1.2.0",
      "_view_name": "StyleView",
      "bar_color": null,
      "description_width": "initial"
     }
    },
    "0860741c878a486993c6f862291af0e4": {
     "model_module": "@jupyter-widgets/controls",
     "model_name": "HBoxModel",
     "state": {
      "_dom_classes": [],
      "_model_module": "@jupyter-widgets/controls",
      "_model_module_version": "1.5.0",
      "_model_name": "HBoxModel",
      "_view_count": null,
      "_view_module": "@jupyter-widgets/controls",
      "_view_module_version": "1.5.0",
      "_view_name": "HBoxView",
      "box_style": "",
      "children": [
       "IPY_MODEL_73d93d69d2e54f6fb0d7ddeb02731ab1",
       "IPY_MODEL_6787a56ae6b74f68b55124f736868075"
      ],
      "layout": "IPY_MODEL_28d63994456e4936b81003f78ace7b01"
     }
    },
    "0bcfb2242e324b09af12eb7845d060b7": {
     "model_module": "@jupyter-widgets/controls",
     "model_name": "FloatProgressModel",
     "state": {
      "_dom_classes": [],
      "_model_module": "@jupyter-widgets/controls",
      "_model_module_version": "1.5.0",
      "_model_name": "FloatProgressModel",
      "_view_count": null,
      "_view_module": "@jupyter-widgets/controls",
      "_view_module_version": "1.5.0",
      "_view_name": "ProgressView",
      "bar_style": "success",
      "description": "Downloading: 100%",
      "description_tooltip": null,
      "layout": "IPY_MODEL_77c612e815f64333aa7bc32503126041",
      "max": 625,
      "min": 0,
      "orientation": "horizontal",
      "style": "IPY_MODEL_6ec3f2d77874494b95e78bbd224ceea7",
      "value": 625
     }
    },
    "0c69bf8d8c234e98bd18e6e582e46ba5": {
     "model_module": "@jupyter-widgets/controls",
     "model_name": "FloatProgressModel",
     "state": {
      "_dom_classes": [],
      "_model_module": "@jupyter-widgets/controls",
      "_model_module_version": "1.5.0",
      "_model_name": "FloatProgressModel",
      "_view_count": null,
      "_view_module": "@jupyter-widgets/controls",
      "_view_module_version": "1.5.0",
      "_view_name": "ProgressView",
      "bar_style": "success",
      "description": "Downloading: 100%",
      "description_tooltip": null,
      "layout": "IPY_MODEL_2e5c706cfb4544f38cb78697faf1eb2c",
      "max": 1885418496,
      "min": 0,
      "orientation": "horizontal",
      "style": "IPY_MODEL_e5012ecbbbfa46d1b56cad57c2fe9e47",
      "value": 1885418496
     }
    },
    "0d991c6db0864a2f9a1d3bff0795b04f": {
     "model_module": "@jupyter-widgets/controls",
     "model_name": "HTMLModel",
     "state": {
      "_dom_classes": [],
      "_model_module": "@jupyter-widgets/controls",
      "_model_module_version": "1.5.0",
      "_model_name": "HTMLModel",
      "_view_count": null,
      "_view_module": "@jupyter-widgets/controls",
      "_view_module_version": "1.5.0",
      "_view_name": "HTMLView",
      "description": "",
      "description_tooltip": null,
      "layout": "IPY_MODEL_567306995532472cbd40421b13f10865",
      "placeholder": "​",
      "style": "IPY_MODEL_21a4ab81f6d246cb99ffeb4f12fdbfd7",
      "value": " 28.0/28.0 [00:00&lt;00:00, 68.7B/s]"
     }
    },
    "0db1e232275841978fcd97f6bf2afcfa": {
     "model_module": "@jupyter-widgets/controls",
     "model_name": "FloatProgressModel",
     "state": {
      "_dom_classes": [],
      "_model_module": "@jupyter-widgets/controls",
      "_model_module_version": "1.5.0",
      "_model_name": "FloatProgressModel",
      "_view_count": null,
      "_view_module": "@jupyter-widgets/controls",
      "_view_module_version": "1.5.0",
      "_view_name": "ProgressView",
      "bar_style": "success",
      "description": "Downloading: 100%",
      "description_tooltip": null,
      "layout": "IPY_MODEL_9be908dfb0fe4ce2accd2b46a312a2a8",
      "max": 512,
      "min": 0,
      "orientation": "horizontal",
      "style": "IPY_MODEL_a3d78cd56b624ef99077270e4ef4b928",
      "value": 512
     }
    },
    "0ec42daf33a247f394f0dedfce2b7397": {
     "model_module": "@jupyter-widgets/base",
     "model_name": "LayoutModel",
     "state": {
      "_model_module": "@jupyter-widgets/base",
      "_model_module_version": "1.2.0",
      "_model_name": "LayoutModel",
      "_view_count": null,
      "_view_module": "@jupyter-widgets/base",
      "_view_module_version": "1.2.0",
      "_view_name": "LayoutView",
      "align_content": null,
      "align_items": null,
      "align_self": null,
      "border": null,
      "bottom": null,
      "display": null,
      "flex": null,
      "flex_flow": null,
      "grid_area": null,
      "grid_auto_columns": null,
      "grid_auto_flow": null,
      "grid_auto_rows": null,
      "grid_column": null,
      "grid_gap": null,
      "grid_row": null,
      "grid_template_areas": null,
      "grid_template_columns": null,
      "grid_template_rows": null,
      "height": null,
      "justify_content": null,
      "justify_items": null,
      "left": null,
      "margin": null,
      "max_height": null,
      "max_width": null,
      "min_height": null,
      "min_width": null,
      "object_fit": null,
      "object_position": null,
      "order": null,
      "overflow": null,
      "overflow_x": null,
      "overflow_y": null,
      "padding": null,
      "right": null,
      "top": null,
      "visibility": null,
      "width": null
     }
    },
    "103882bf347f428c8713202eefb103df": {
     "model_module": "@jupyter-widgets/controls",
     "model_name": "HTMLModel",
     "state": {
      "_dom_classes": [],
      "_model_module": "@jupyter-widgets/controls",
      "_model_module_version": "1.5.0",
      "_model_name": "HTMLModel",
      "_view_count": null,
      "_view_module": "@jupyter-widgets/controls",
      "_view_module_version": "1.5.0",
      "_view_name": "HTMLView",
      "description": "",
      "description_tooltip": null,
      "layout": "IPY_MODEL_a8e72a45d475427fa0d0ded1bdad6b32",
      "placeholder": "​",
      "style": "IPY_MODEL_83cf1efe209e4b0ea7851adc405789a6",
      "value": " 1.72M/1.72M [00:00&lt;00:00, 2.51MB/s]"
     }
    },
    "125a5fb32fcf4440a40254c26ca7796a": {
     "model_module": "@jupyter-widgets/base",
     "model_name": "LayoutModel",
     "state": {
      "_model_module": "@jupyter-widgets/base",
      "_model_module_version": "1.2.0",
      "_model_name": "LayoutModel",
      "_view_count": null,
      "_view_module": "@jupyter-widgets/base",
      "_view_module_version": "1.2.0",
      "_view_name": "LayoutView",
      "align_content": null,
      "align_items": null,
      "align_self": null,
      "border": null,
      "bottom": null,
      "display": null,
      "flex": null,
      "flex_flow": null,
      "grid_area": null,
      "grid_auto_columns": null,
      "grid_auto_flow": null,
      "grid_auto_rows": null,
      "grid_column": null,
      "grid_gap": null,
      "grid_row": null,
      "grid_template_areas": null,
      "grid_template_columns": null,
      "grid_template_rows": null,
      "height": null,
      "justify_content": null,
      "justify_items": null,
      "left": null,
      "margin": null,
      "max_height": null,
      "max_width": null,
      "min_height": null,
      "min_width": null,
      "object_fit": null,
      "object_position": null,
      "order": null,
      "overflow": null,
      "overflow_x": null,
      "overflow_y": null,
      "padding": null,
      "right": null,
      "top": null,
      "visibility": null,
      "width": null
     }
    },
    "12ad2667c8424db2af287ce219f5d769": {
     "model_module": "@jupyter-widgets/controls",
     "model_name": "HBoxModel",
     "state": {
      "_dom_classes": [],
      "_model_module": "@jupyter-widgets/controls",
      "_model_module_version": "1.5.0",
      "_model_name": "HBoxModel",
      "_view_count": null,
      "_view_module": "@jupyter-widgets/controls",
      "_view_module_version": "1.5.0",
      "_view_name": "HBoxView",
      "box_style": "",
      "children": [
       "IPY_MODEL_1300e2ba1aaa422cb6e77fb6e3f12343",
       "IPY_MODEL_6e7ceef1eee0411ab268070a631bfb56"
      ],
      "layout": "IPY_MODEL_9de048051970485f871eeafdd91fc800"
     }
    },
    "1300e2ba1aaa422cb6e77fb6e3f12343": {
     "model_module": "@jupyter-widgets/controls",
     "model_name": "FloatProgressModel",
     "state": {
      "_dom_classes": [],
      "_model_module": "@jupyter-widgets/controls",
      "_model_module_version": "1.5.0",
      "_model_name": "FloatProgressModel",
      "_view_count": null,
      "_view_module": "@jupyter-widgets/controls",
      "_view_module_version": "1.5.0",
      "_view_name": "ProgressView",
      "bar_style": "success",
      "description": "Downloading: 100%",
      "description_tooltip": null,
      "layout": "IPY_MODEL_c4f4567c7e7e49e79259d5be145f2775",
      "max": 1715180,
      "min": 0,
      "orientation": "horizontal",
      "style": "IPY_MODEL_5a2f5260d31247c79ecb0eab643c4586",
      "value": 1715180
     }
    },
    "1636118a81a04ea698b389f09abe1ef8": {
     "model_module": "@jupyter-widgets/base",
     "model_name": "LayoutModel",
     "state": {
      "_model_module": "@jupyter-widgets/base",
      "_model_module_version": "1.2.0",
      "_model_name": "LayoutModel",
      "_view_count": null,
      "_view_module": "@jupyter-widgets/base",
      "_view_module_version": "1.2.0",
      "_view_name": "LayoutView",
      "align_content": null,
      "align_items": null,
      "align_self": null,
      "border": null,
      "bottom": null,
      "display": null,
      "flex": null,
      "flex_flow": null,
      "grid_area": null,
      "grid_auto_columns": null,
      "grid_auto_flow": null,
      "grid_auto_rows": null,
      "grid_column": null,
      "grid_gap": null,
      "grid_row": null,
      "grid_template_areas": null,
      "grid_template_columns": null,
      "grid_template_rows": null,
      "height": null,
      "justify_content": null,
      "justify_items": null,
      "left": null,
      "margin": null,
      "max_height": null,
      "max_width": null,
      "min_height": null,
      "min_width": null,
      "object_fit": null,
      "object_position": null,
      "order": null,
      "overflow": null,
      "overflow_x": null,
      "overflow_y": null,
      "padding": null,
      "right": null,
      "top": null,
      "visibility": null,
      "width": null
     }
    },
    "172893b06a4a4a3aa2d82709eca2860a": {
     "model_module": "@jupyter-widgets/controls",
     "model_name": "ProgressStyleModel",
     "state": {
      "_model_module": "@jupyter-widgets/controls",
      "_model_module_version": "1.5.0",
      "_model_name": "ProgressStyleModel",
      "_view_count": null,
      "_view_module": "@jupyter-widgets/base",
      "_view_module_version": "1.2.0",
      "_view_name": "StyleView",
      "bar_color": null,
      "description_width": "initial"
     }
    },
    "1b78913a5d2444aabea896307e951a36": {
     "model_module": "@jupyter-widgets/controls",
     "model_name": "ProgressStyleModel",
     "state": {
      "_model_module": "@jupyter-widgets/controls",
      "_model_module_version": "1.5.0",
      "_model_name": "ProgressStyleModel",
      "_view_count": null,
      "_view_module": "@jupyter-widgets/base",
      "_view_module_version": "1.2.0",
      "_view_name": "StyleView",
      "bar_color": null,
      "description_width": "initial"
     }
    },
    "1c26a1839bb143c9b52e478e3693f2be": {
     "model_module": "@jupyter-widgets/controls",
     "model_name": "HBoxModel",
     "state": {
      "_dom_classes": [],
      "_model_module": "@jupyter-widgets/controls",
      "_model_module_version": "1.5.0",
      "_model_name": "HBoxModel",
      "_view_count": null,
      "_view_module": "@jupyter-widgets/controls",
      "_view_module_version": "1.5.0",
      "_view_name": "HBoxView",
      "box_style": "",
      "children": [
       "IPY_MODEL_45070a0dd66846149e512433465db52c",
       "IPY_MODEL_6daacd0b9b1744ac8f1bd09e76a42db5"
      ],
      "layout": "IPY_MODEL_e0a0b7f8c3914c9eb0b5435d703e22c1"
     }
    },
    "1df64f8ef643470fb58202094b5463fa": {
     "model_module": "@jupyter-widgets/controls",
     "model_name": "ProgressStyleModel",
     "state": {
      "_model_module": "@jupyter-widgets/controls",
      "_model_module_version": "1.5.0",
      "_model_name": "ProgressStyleModel",
      "_view_count": null,
      "_view_module": "@jupyter-widgets/base",
      "_view_module_version": "1.2.0",
      "_view_name": "StyleView",
      "bar_color": null,
      "description_width": "initial"
     }
    },
    "2017d5c508204acfadc856b3bc52f1af": {
     "model_module": "@jupyter-widgets/base",
     "model_name": "LayoutModel",
     "state": {
      "_model_module": "@jupyter-widgets/base",
      "_model_module_version": "1.2.0",
      "_model_name": "LayoutModel",
      "_view_count": null,
      "_view_module": "@jupyter-widgets/base",
      "_view_module_version": "1.2.0",
      "_view_name": "LayoutView",
      "align_content": null,
      "align_items": null,
      "align_self": null,
      "border": null,
      "bottom": null,
      "display": null,
      "flex": null,
      "flex_flow": null,
      "grid_area": null,
      "grid_auto_columns": null,
      "grid_auto_flow": null,
      "grid_auto_rows": null,
      "grid_column": null,
      "grid_gap": null,
      "grid_row": null,
      "grid_template_areas": null,
      "grid_template_columns": null,
      "grid_template_rows": null,
      "height": null,
      "justify_content": null,
      "justify_items": null,
      "left": null,
      "margin": null,
      "max_height": null,
      "max_width": null,
      "min_height": null,
      "min_width": null,
      "object_fit": null,
      "object_position": null,
      "order": null,
      "overflow": null,
      "overflow_x": null,
      "overflow_y": null,
      "padding": null,
      "right": null,
      "top": null,
      "visibility": null,
      "width": null
     }
    },
    "207821a86a464a5cbedf922d9d5fbfbe": {
     "model_module": "@jupyter-widgets/controls",
     "model_name": "FloatProgressModel",
     "state": {
      "_dom_classes": [],
      "_model_module": "@jupyter-widgets/controls",
      "_model_module_version": "1.5.0",
      "_model_name": "FloatProgressModel",
      "_view_count": null,
      "_view_module": "@jupyter-widgets/controls",
      "_view_module_version": "1.5.0",
      "_view_name": "ProgressView",
      "bar_style": "success",
      "description": "Downloading: 100%",
      "description_tooltip": null,
      "layout": "IPY_MODEL_125a5fb32fcf4440a40254c26ca7796a",
      "max": 5069051,
      "min": 0,
      "orientation": "horizontal",
      "style": "IPY_MODEL_34b3306291424a2c8086ff8f0ba9e3df",
      "value": 5069051
     }
    },
    "21a4ab81f6d246cb99ffeb4f12fdbfd7": {
     "model_module": "@jupyter-widgets/controls",
     "model_name": "DescriptionStyleModel",
     "state": {
      "_model_module": "@jupyter-widgets/controls",
      "_model_module_version": "1.5.0",
      "_model_name": "DescriptionStyleModel",
      "_view_count": null,
      "_view_module": "@jupyter-widgets/base",
      "_view_module_version": "1.2.0",
      "_view_name": "StyleView",
      "description_width": ""
     }
    },
    "23a68e13c0dc4d92ad0a47daf12624a2": {
     "model_module": "@jupyter-widgets/controls",
     "model_name": "HTMLModel",
     "state": {
      "_dom_classes": [],
      "_model_module": "@jupyter-widgets/controls",
      "_model_module_version": "1.5.0",
      "_model_name": "HTMLModel",
      "_view_count": null,
      "_view_module": "@jupyter-widgets/controls",
      "_view_module_version": "1.5.0",
      "_view_name": "HTMLView",
      "description": "",
      "description_tooltip": null,
      "layout": "IPY_MODEL_0ec42daf33a247f394f0dedfce2b7397",
      "placeholder": "​",
      "style": "IPY_MODEL_2e3f0682c8e745a2ae49f0d0148103e2",
      "value": " 512/512 [00:26&lt;00:00, 19.6B/s]"
     }
    },
    "2471db3f26874fa78a60450d01ca4f84": {
     "model_module": "@jupyter-widgets/base",
     "model_name": "LayoutModel",
     "state": {
      "_model_module": "@jupyter-widgets/base",
      "_model_module_version": "1.2.0",
      "_model_name": "LayoutModel",
      "_view_count": null,
      "_view_module": "@jupyter-widgets/base",
      "_view_module_version": "1.2.0",
      "_view_name": "LayoutView",
      "align_content": null,
      "align_items": null,
      "align_self": null,
      "border": null,
      "bottom": null,
      "display": null,
      "flex": null,
      "flex_flow": null,
      "grid_area": null,
      "grid_auto_columns": null,
      "grid_auto_flow": null,
      "grid_auto_rows": null,
      "grid_column": null,
      "grid_gap": null,
      "grid_row": null,
      "grid_template_areas": null,
      "grid_template_columns": null,
      "grid_template_rows": null,
      "height": null,
      "justify_content": null,
      "justify_items": null,
      "left": null,
      "margin": null,
      "max_height": null,
      "max_width": null,
      "min_height": null,
      "min_width": null,
      "object_fit": null,
      "object_position": null,
      "order": null,
      "overflow": null,
      "overflow_x": null,
      "overflow_y": null,
      "padding": null,
      "right": null,
      "top": null,
      "visibility": null,
      "width": null
     }
    },
    "25ba45d6696c4dea9d379b66df5b90c7": {
     "model_module": "@jupyter-widgets/controls",
     "model_name": "DescriptionStyleModel",
     "state": {
      "_model_module": "@jupyter-widgets/controls",
      "_model_module_version": "1.5.0",
      "_model_name": "DescriptionStyleModel",
      "_view_count": null,
      "_view_module": "@jupyter-widgets/base",
      "_view_module_version": "1.2.0",
      "_view_name": "StyleView",
      "description_width": ""
     }
    },
    "26444d502a10451c90e80d65e48828ad": {
     "model_module": "@jupyter-widgets/controls",
     "model_name": "DescriptionStyleModel",
     "state": {
      "_model_module": "@jupyter-widgets/controls",
      "_model_module_version": "1.5.0",
      "_model_name": "DescriptionStyleModel",
      "_view_count": null,
      "_view_module": "@jupyter-widgets/base",
      "_view_module_version": "1.2.0",
      "_view_name": "StyleView",
      "description_width": ""
     }
    },
    "26ad8241e60e47f1b4095dfd95b9d096": {
     "model_module": "@jupyter-widgets/base",
     "model_name": "LayoutModel",
     "state": {
      "_model_module": "@jupyter-widgets/base",
      "_model_module_version": "1.2.0",
      "_model_name": "LayoutModel",
      "_view_count": null,
      "_view_module": "@jupyter-widgets/base",
      "_view_module_version": "1.2.0",
      "_view_name": "LayoutView",
      "align_content": null,
      "align_items": null,
      "align_self": null,
      "border": null,
      "bottom": null,
      "display": null,
      "flex": null,
      "flex_flow": null,
      "grid_area": null,
      "grid_auto_columns": null,
      "grid_auto_flow": null,
      "grid_auto_rows": null,
      "grid_column": null,
      "grid_gap": null,
      "grid_row": null,
      "grid_template_areas": null,
      "grid_template_columns": null,
      "grid_template_rows": null,
      "height": null,
      "justify_content": null,
      "justify_items": null,
      "left": null,
      "margin": null,
      "max_height": null,
      "max_width": null,
      "min_height": null,
      "min_width": null,
      "object_fit": null,
      "object_position": null,
      "order": null,
      "overflow": null,
      "overflow_x": null,
      "overflow_y": null,
      "padding": null,
      "right": null,
      "top": null,
      "visibility": null,
      "width": null
     }
    },
    "26ca8ecb6acd4d46842df27f02c3b49b": {
     "model_module": "@jupyter-widgets/base",
     "model_name": "LayoutModel",
     "state": {
      "_model_module": "@jupyter-widgets/base",
      "_model_module_version": "1.2.0",
      "_model_name": "LayoutModel",
      "_view_count": null,
      "_view_module": "@jupyter-widgets/base",
      "_view_module_version": "1.2.0",
      "_view_name": "LayoutView",
      "align_content": null,
      "align_items": null,
      "align_self": null,
      "border": null,
      "bottom": null,
      "display": null,
      "flex": null,
      "flex_flow": null,
      "grid_area": null,
      "grid_auto_columns": null,
      "grid_auto_flow": null,
      "grid_auto_rows": null,
      "grid_column": null,
      "grid_gap": null,
      "grid_row": null,
      "grid_template_areas": null,
      "grid_template_columns": null,
      "grid_template_rows": null,
      "height": null,
      "justify_content": null,
      "justify_items": null,
      "left": null,
      "margin": null,
      "max_height": null,
      "max_width": null,
      "min_height": null,
      "min_width": null,
      "object_fit": null,
      "object_position": null,
      "order": null,
      "overflow": null,
      "overflow_x": null,
      "overflow_y": null,
      "padding": null,
      "right": null,
      "top": null,
      "visibility": null,
      "width": null
     }
    },
    "27ac8445691e4da3966a483acc11f141": {
     "model_module": "@jupyter-widgets/controls",
     "model_name": "FloatProgressModel",
     "state": {
      "_dom_classes": [],
      "_model_module": "@jupyter-widgets/controls",
      "_model_module_version": "1.5.0",
      "_model_name": "FloatProgressModel",
      "_view_count": null,
      "_view_module": "@jupyter-widgets/controls",
      "_view_module_version": "1.5.0",
      "_view_name": "ProgressView",
      "bar_style": "success",
      "description": "Downloading: 100%",
      "description_tooltip": null,
      "layout": "IPY_MODEL_3a3f7676c0044ca6b99e5f49e6e71039",
      "max": 5069051,
      "min": 0,
      "orientation": "horizontal",
      "style": "IPY_MODEL_a53188d8880c4e6dbc81ed6f2db744df",
      "value": 5069051
     }
    },
    "28d63994456e4936b81003f78ace7b01": {
     "model_module": "@jupyter-widgets/base",
     "model_name": "LayoutModel",
     "state": {
      "_model_module": "@jupyter-widgets/base",
      "_model_module_version": "1.2.0",
      "_model_name": "LayoutModel",
      "_view_count": null,
      "_view_module": "@jupyter-widgets/base",
      "_view_module_version": "1.2.0",
      "_view_name": "LayoutView",
      "align_content": null,
      "align_items": null,
      "align_self": null,
      "border": null,
      "bottom": null,
      "display": null,
      "flex": null,
      "flex_flow": null,
      "grid_area": null,
      "grid_auto_columns": null,
      "grid_auto_flow": null,
      "grid_auto_rows": null,
      "grid_column": null,
      "grid_gap": null,
      "grid_row": null,
      "grid_template_areas": null,
      "grid_template_columns": null,
      "grid_template_rows": null,
      "height": null,
      "justify_content": null,
      "justify_items": null,
      "left": null,
      "margin": null,
      "max_height": null,
      "max_width": null,
      "min_height": null,
      "min_width": null,
      "object_fit": null,
      "object_position": null,
      "order": null,
      "overflow": null,
      "overflow_x": null,
      "overflow_y": null,
      "padding": null,
      "right": null,
      "top": null,
      "visibility": null,
      "width": null
     }
    },
    "2a9248278aa042c8b4d32482935429b6": {
     "model_module": "@jupyter-widgets/controls",
     "model_name": "HTMLModel",
     "state": {
      "_dom_classes": [],
      "_model_module": "@jupyter-widgets/controls",
      "_model_module_version": "1.5.0",
      "_model_name": "HTMLModel",
      "_view_count": null,
      "_view_module": "@jupyter-widgets/controls",
      "_view_module_version": "1.5.0",
      "_view_name": "HTMLView",
      "description": "",
      "description_tooltip": null,
      "layout": "IPY_MODEL_a70aed149d74497f888b600120ea52ab",
      "placeholder": "​",
      "style": "IPY_MODEL_dfebd61e189b45abb04e722a63ce67f0",
      "value": " 999M/999M [00:19&lt;00:00, 50.7MB/s]"
     }
    },
    "2e3f0682c8e745a2ae49f0d0148103e2": {
     "model_module": "@jupyter-widgets/controls",
     "model_name": "DescriptionStyleModel",
     "state": {
      "_model_module": "@jupyter-widgets/controls",
      "_model_module_version": "1.5.0",
      "_model_name": "DescriptionStyleModel",
      "_view_count": null,
      "_view_module": "@jupyter-widgets/base",
      "_view_module_version": "1.2.0",
      "_view_name": "StyleView",
      "description_width": ""
     }
    },
    "2e5c706cfb4544f38cb78697faf1eb2c": {
     "model_module": "@jupyter-widgets/base",
     "model_name": "LayoutModel",
     "state": {
      "_model_module": "@jupyter-widgets/base",
      "_model_module_version": "1.2.0",
      "_model_name": "LayoutModel",
      "_view_count": null,
      "_view_module": "@jupyter-widgets/base",
      "_view_module_version": "1.2.0",
      "_view_name": "LayoutView",
      "align_content": null,
      "align_items": null,
      "align_self": null,
      "border": null,
      "bottom": null,
      "display": null,
      "flex": null,
      "flex_flow": null,
      "grid_area": null,
      "grid_auto_columns": null,
      "grid_auto_flow": null,
      "grid_auto_rows": null,
      "grid_column": null,
      "grid_gap": null,
      "grid_row": null,
      "grid_template_areas": null,
      "grid_template_columns": null,
      "grid_template_rows": null,
      "height": null,
      "justify_content": null,
      "justify_items": null,
      "left": null,
      "margin": null,
      "max_height": null,
      "max_width": null,
      "min_height": null,
      "min_width": null,
      "object_fit": null,
      "object_position": null,
      "order": null,
      "overflow": null,
      "overflow_x": null,
      "overflow_y": null,
      "padding": null,
      "right": null,
      "top": null,
      "visibility": null,
      "width": null
     }
    },
    "32dfb5386a2d404989f0670387f8e335": {
     "model_module": "@jupyter-widgets/controls",
     "model_name": "ProgressStyleModel",
     "state": {
      "_model_module": "@jupyter-widgets/controls",
      "_model_module_version": "1.5.0",
      "_model_name": "ProgressStyleModel",
      "_view_count": null,
      "_view_module": "@jupyter-widgets/base",
      "_view_module_version": "1.2.0",
      "_view_name": "StyleView",
      "bar_color": null,
      "description_width": "initial"
     }
    },
    "34b3306291424a2c8086ff8f0ba9e3df": {
     "model_module": "@jupyter-widgets/controls",
     "model_name": "ProgressStyleModel",
     "state": {
      "_model_module": "@jupyter-widgets/controls",
      "_model_module_version": "1.5.0",
      "_model_name": "ProgressStyleModel",
      "_view_count": null,
      "_view_module": "@jupyter-widgets/base",
      "_view_module_version": "1.2.0",
      "_view_name": "StyleView",
      "bar_color": null,
      "description_width": "initial"
     }
    },
    "3a3f7676c0044ca6b99e5f49e6e71039": {
     "model_module": "@jupyter-widgets/base",
     "model_name": "LayoutModel",
     "state": {
      "_model_module": "@jupyter-widgets/base",
      "_model_module_version": "1.2.0",
      "_model_name": "LayoutModel",
      "_view_count": null,
      "_view_module": "@jupyter-widgets/base",
      "_view_module_version": "1.2.0",
      "_view_name": "LayoutView",
      "align_content": null,
      "align_items": null,
      "align_self": null,
      "border": null,
      "bottom": null,
      "display": null,
      "flex": null,
      "flex_flow": null,
      "grid_area": null,
      "grid_auto_columns": null,
      "grid_auto_flow": null,
      "grid_auto_rows": null,
      "grid_column": null,
      "grid_gap": null,
      "grid_row": null,
      "grid_template_areas": null,
      "grid_template_columns": null,
      "grid_template_rows": null,
      "height": null,
      "justify_content": null,
      "justify_items": null,
      "left": null,
      "margin": null,
      "max_height": null,
      "max_width": null,
      "min_height": null,
      "min_width": null,
      "object_fit": null,
      "object_position": null,
      "order": null,
      "overflow": null,
      "overflow_x": null,
      "overflow_y": null,
      "padding": null,
      "right": null,
      "top": null,
      "visibility": null,
      "width": null
     }
    },
    "3a3f8674793b437980a4be683d8ae6e8": {
     "model_module": "@jupyter-widgets/controls",
     "model_name": "DescriptionStyleModel",
     "state": {
      "_model_module": "@jupyter-widgets/controls",
      "_model_module_version": "1.5.0",
      "_model_name": "DescriptionStyleModel",
      "_view_count": null,
      "_view_module": "@jupyter-widgets/base",
      "_view_module_version": "1.2.0",
      "_view_name": "StyleView",
      "description_width": ""
     }
    },
    "3ad92559ba644aeb8b75e285d2006a74": {
     "model_module": "@jupyter-widgets/base",
     "model_name": "LayoutModel",
     "state": {
      "_model_module": "@jupyter-widgets/base",
      "_model_module_version": "1.2.0",
      "_model_name": "LayoutModel",
      "_view_count": null,
      "_view_module": "@jupyter-widgets/base",
      "_view_module_version": "1.2.0",
      "_view_name": "LayoutView",
      "align_content": null,
      "align_items": null,
      "align_self": null,
      "border": null,
      "bottom": null,
      "display": null,
      "flex": null,
      "flex_flow": null,
      "grid_area": null,
      "grid_auto_columns": null,
      "grid_auto_flow": null,
      "grid_auto_rows": null,
      "grid_column": null,
      "grid_gap": null,
      "grid_row": null,
      "grid_template_areas": null,
      "grid_template_columns": null,
      "grid_template_rows": null,
      "height": null,
      "justify_content": null,
      "justify_items": null,
      "left": null,
      "margin": null,
      "max_height": null,
      "max_width": null,
      "min_height": null,
      "min_width": null,
      "object_fit": null,
      "object_position": null,
      "order": null,
      "overflow": null,
      "overflow_x": null,
      "overflow_y": null,
      "padding": null,
      "right": null,
      "top": null,
      "visibility": null,
      "width": null
     }
    },
    "3d12df9d06d448bc9da7febf3749ed72": {
     "model_module": "@jupyter-widgets/controls",
     "model_name": "DescriptionStyleModel",
     "state": {
      "_model_module": "@jupyter-widgets/controls",
      "_model_module_version": "1.5.0",
      "_model_name": "DescriptionStyleModel",
      "_view_count": null,
      "_view_module": "@jupyter-widgets/base",
      "_view_module_version": "1.2.0",
      "_view_name": "StyleView",
      "description_width": ""
     }
    },
    "3d638d5eab854a19b436972d8ae59ccd": {
     "model_module": "@jupyter-widgets/controls",
     "model_name": "DescriptionStyleModel",
     "state": {
      "_model_module": "@jupyter-widgets/controls",
      "_model_module_version": "1.5.0",
      "_model_name": "DescriptionStyleModel",
      "_view_count": null,
      "_view_module": "@jupyter-widgets/base",
      "_view_module_version": "1.2.0",
      "_view_name": "StyleView",
      "description_width": ""
     }
    },
    "4086c07d558e4746b8700fee55a83cd9": {
     "model_module": "@jupyter-widgets/controls",
     "model_name": "HBoxModel",
     "state": {
      "_dom_classes": [],
      "_model_module": "@jupyter-widgets/controls",
      "_model_module_version": "1.5.0",
      "_model_name": "HBoxModel",
      "_view_count": null,
      "_view_module": "@jupyter-widgets/controls",
      "_view_module_version": "1.5.0",
      "_view_name": "HBoxView",
      "box_style": "",
      "children": [
       "IPY_MODEL_d8b080aa5c24469ca5e9ac6d473acc28",
       "IPY_MODEL_103882bf347f428c8713202eefb103df"
      ],
      "layout": "IPY_MODEL_d316da0b041144ba8a420638f8edbafe"
     }
    },
    "4497da890ab942fdb60c836529d8a1d4": {
     "model_module": "@jupyter-widgets/controls",
     "model_name": "ProgressStyleModel",
     "state": {
      "_model_module": "@jupyter-widgets/controls",
      "_model_module_version": "1.5.0",
      "_model_name": "ProgressStyleModel",
      "_view_count": null,
      "_view_module": "@jupyter-widgets/base",
      "_view_module_version": "1.2.0",
      "_view_name": "StyleView",
      "bar_color": null,
      "description_width": "initial"
     }
    },
    "45070a0dd66846149e512433465db52c": {
     "model_module": "@jupyter-widgets/controls",
     "model_name": "FloatProgressModel",
     "state": {
      "_dom_classes": [],
      "_model_module": "@jupyter-widgets/controls",
      "_model_module_version": "1.5.0",
      "_model_name": "FloatProgressModel",
      "_view_count": null,
      "_view_module": "@jupyter-widgets/controls",
      "_view_module_version": "1.5.0",
      "_view_name": "ProgressView",
      "bar_style": "success",
      "description": "Downloading: 100%",
      "description_tooltip": null,
      "layout": "IPY_MODEL_d9f07143b5014a968d0ac4dfeb754b44",
      "max": 28,
      "min": 0,
      "orientation": "horizontal",
      "style": "IPY_MODEL_1b78913a5d2444aabea896307e951a36",
      "value": 28
     }
    },
    "466e90e3d5ae484a885b2416f1611150": {
     "model_module": "@jupyter-widgets/base",
     "model_name": "LayoutModel",
     "state": {
      "_model_module": "@jupyter-widgets/base",
      "_model_module_version": "1.2.0",
      "_model_name": "LayoutModel",
      "_view_count": null,
      "_view_module": "@jupyter-widgets/base",
      "_view_module_version": "1.2.0",
      "_view_name": "LayoutView",
      "align_content": null,
      "align_items": null,
      "align_self": null,
      "border": null,
      "bottom": null,
      "display": null,
      "flex": null,
      "flex_flow": null,
      "grid_area": null,
      "grid_auto_columns": null,
      "grid_auto_flow": null,
      "grid_auto_rows": null,
      "grid_column": null,
      "grid_gap": null,
      "grid_row": null,
      "grid_template_areas": null,
      "grid_template_columns": null,
      "grid_template_rows": null,
      "height": null,
      "justify_content": null,
      "justify_items": null,
      "left": null,
      "margin": null,
      "max_height": null,
      "max_width": null,
      "min_height": null,
      "min_width": null,
      "object_fit": null,
      "object_position": null,
      "order": null,
      "overflow": null,
      "overflow_x": null,
      "overflow_y": null,
      "padding": null,
      "right": null,
      "top": null,
      "visibility": null,
      "width": null
     }
    },
    "49f0077d202945f792de36333ee052a3": {
     "model_module": "@jupyter-widgets/controls",
     "model_name": "HBoxModel",
     "state": {
      "_dom_classes": [],
      "_model_module": "@jupyter-widgets/controls",
      "_model_module_version": "1.5.0",
      "_model_name": "HBoxModel",
      "_view_count": null,
      "_view_module": "@jupyter-widgets/controls",
      "_view_module_version": "1.5.0",
      "_view_name": "HBoxView",
      "box_style": "",
      "children": [
       "IPY_MODEL_27ac8445691e4da3966a483acc11f141",
       "IPY_MODEL_8b3658daeaa3485ca441ada8e9988937"
      ],
      "layout": "IPY_MODEL_eecc688fc5da4c8485b2f8ace342cb83"
     }
    },
    "4c3651dc1fc840a4a144242d3f908915": {
     "model_module": "@jupyter-widgets/controls",
     "model_name": "DescriptionStyleModel",
     "state": {
      "_model_module": "@jupyter-widgets/controls",
      "_model_module_version": "1.5.0",
      "_model_name": "DescriptionStyleModel",
      "_view_count": null,
      "_view_module": "@jupyter-widgets/base",
      "_view_module_version": "1.2.0",
      "_view_name": "StyleView",
      "description_width": ""
     }
    },
    "4f0f3a9cbf754694bca2043270446d3d": {
     "model_module": "@jupyter-widgets/controls",
     "model_name": "HBoxModel",
     "state": {
      "_dom_classes": [],
      "_model_module": "@jupyter-widgets/controls",
      "_model_module_version": "1.5.0",
      "_model_name": "HBoxModel",
      "_view_count": null,
      "_view_module": "@jupyter-widgets/controls",
      "_view_module_version": "1.5.0",
      "_view_name": "HBoxView",
      "box_style": "",
      "children": [
       "IPY_MODEL_207821a86a464a5cbedf922d9d5fbfbe",
       "IPY_MODEL_71d859c55b7d4f2e83d369b8be3a5f12"
      ],
      "layout": "IPY_MODEL_64f4cf8e779f490599180b70c233d398"
     }
    },
    "4f9193599a414043a7ce56512cfebb8e": {
     "model_module": "@jupyter-widgets/controls",
     "model_name": "HBoxModel",
     "state": {
      "_dom_classes": [],
      "_model_module": "@jupyter-widgets/controls",
      "_model_module_version": "1.5.0",
      "_model_name": "HBoxModel",
      "_view_count": null,
      "_view_module": "@jupyter-widgets/controls",
      "_view_module_version": "1.5.0",
      "_view_name": "HBoxView",
      "box_style": "",
      "children": [
       "IPY_MODEL_0bcfb2242e324b09af12eb7845d060b7",
       "IPY_MODEL_6a12045461b24edba3cc17bcf4ca0958"
      ],
      "layout": "IPY_MODEL_6c9c7edac6c34ad3814833cd1ccc0d5a"
     }
    },
    "522489b12b7244b9b07166a3514480f1": {
     "model_module": "@jupyter-widgets/controls",
     "model_name": "ProgressStyleModel",
     "state": {
      "_model_module": "@jupyter-widgets/controls",
      "_model_module_version": "1.5.0",
      "_model_name": "ProgressStyleModel",
      "_view_count": null,
      "_view_module": "@jupyter-widgets/base",
      "_view_module_version": "1.2.0",
      "_view_name": "StyleView",
      "bar_color": null,
      "description_width": "initial"
     }
    },
    "53a402f3984f4552beda53c312ca9425": {
     "model_module": "@jupyter-widgets/controls",
     "model_name": "HTMLModel",
     "state": {
      "_dom_classes": [],
      "_model_module": "@jupyter-widgets/controls",
      "_model_module_version": "1.5.0",
      "_model_name": "HTMLModel",
      "_view_count": null,
      "_view_module": "@jupyter-widgets/controls",
      "_view_module_version": "1.5.0",
      "_view_name": "HTMLView",
      "description": "",
      "description_tooltip": null,
      "layout": "IPY_MODEL_1636118a81a04ea698b389f09abe1ef8",
      "placeholder": "​",
      "style": "IPY_MODEL_3d12df9d06d448bc9da7febf3749ed72",
      "value": " 512/512 [00:01&lt;00:00, 287B/s]"
     }
    },
    "53f50e43fb234cc79b4da9e8b7340083": {
     "model_module": "@jupyter-widgets/controls",
     "model_name": "FloatProgressModel",
     "state": {
      "_dom_classes": [],
      "_model_module": "@jupyter-widgets/controls",
      "_model_module_version": "1.5.0",
      "_model_name": "FloatProgressModel",
      "_view_count": null,
      "_view_module": "@jupyter-widgets/controls",
      "_view_module_version": "1.5.0",
      "_view_name": "ProgressView",
      "bar_style": "success",
      "description": "Downloading: 100%",
      "description_tooltip": null,
      "layout": "IPY_MODEL_a615a7d573314ff8885b3d3827fcbbc7",
      "max": 999358484,
      "min": 0,
      "orientation": "horizontal",
      "style": "IPY_MODEL_046f27e0e78745e3af4f9079678172c6",
      "value": 999358484
     }
    },
    "5495b98857b4428aab0a779aa57b59ad": {
     "model_module": "@jupyter-widgets/base",
     "model_name": "LayoutModel",
     "state": {
      "_model_module": "@jupyter-widgets/base",
      "_model_module_version": "1.2.0",
      "_model_name": "LayoutModel",
      "_view_count": null,
      "_view_module": "@jupyter-widgets/base",
      "_view_module_version": "1.2.0",
      "_view_name": "LayoutView",
      "align_content": null,
      "align_items": null,
      "align_self": null,
      "border": null,
      "bottom": null,
      "display": null,
      "flex": null,
      "flex_flow": null,
      "grid_area": null,
      "grid_auto_columns": null,
      "grid_auto_flow": null,
      "grid_auto_rows": null,
      "grid_column": null,
      "grid_gap": null,
      "grid_row": null,
      "grid_template_areas": null,
      "grid_template_columns": null,
      "grid_template_rows": null,
      "height": null,
      "justify_content": null,
      "justify_items": null,
      "left": null,
      "margin": null,
      "max_height": null,
      "max_width": null,
      "min_height": null,
      "min_width": null,
      "object_fit": null,
      "object_position": null,
      "order": null,
      "overflow": null,
      "overflow_x": null,
      "overflow_y": null,
      "padding": null,
      "right": null,
      "top": null,
      "visibility": null,
      "width": null
     }
    },
    "567306995532472cbd40421b13f10865": {
     "model_module": "@jupyter-widgets/base",
     "model_name": "LayoutModel",
     "state": {
      "_model_module": "@jupyter-widgets/base",
      "_model_module_version": "1.2.0",
      "_model_name": "LayoutModel",
      "_view_count": null,
      "_view_module": "@jupyter-widgets/base",
      "_view_module_version": "1.2.0",
      "_view_name": "LayoutView",
      "align_content": null,
      "align_items": null,
      "align_self": null,
      "border": null,
      "bottom": null,
      "display": null,
      "flex": null,
      "flex_flow": null,
      "grid_area": null,
      "grid_auto_columns": null,
      "grid_auto_flow": null,
      "grid_auto_rows": null,
      "grid_column": null,
      "grid_gap": null,
      "grid_row": null,
      "grid_template_areas": null,
      "grid_template_columns": null,
      "grid_template_rows": null,
      "height": null,
      "justify_content": null,
      "justify_items": null,
      "left": null,
      "margin": null,
      "max_height": null,
      "max_width": null,
      "min_height": null,
      "min_width": null,
      "object_fit": null,
      "object_position": null,
      "order": null,
      "overflow": null,
      "overflow_x": null,
      "overflow_y": null,
      "padding": null,
      "right": null,
      "top": null,
      "visibility": null,
      "width": null
     }
    },
    "57110221e1f7426fa67be232e9e3b9a3": {
     "model_module": "@jupyter-widgets/base",
     "model_name": "LayoutModel",
     "state": {
      "_model_module": "@jupyter-widgets/base",
      "_model_module_version": "1.2.0",
      "_model_name": "LayoutModel",
      "_view_count": null,
      "_view_module": "@jupyter-widgets/base",
      "_view_module_version": "1.2.0",
      "_view_name": "LayoutView",
      "align_content": null,
      "align_items": null,
      "align_self": null,
      "border": null,
      "bottom": null,
      "display": null,
      "flex": null,
      "flex_flow": null,
      "grid_area": null,
      "grid_auto_columns": null,
      "grid_auto_flow": null,
      "grid_auto_rows": null,
      "grid_column": null,
      "grid_gap": null,
      "grid_row": null,
      "grid_template_areas": null,
      "grid_template_columns": null,
      "grid_template_rows": null,
      "height": null,
      "justify_content": null,
      "justify_items": null,
      "left": null,
      "margin": null,
      "max_height": null,
      "max_width": null,
      "min_height": null,
      "min_width": null,
      "object_fit": null,
      "object_position": null,
      "order": null,
      "overflow": null,
      "overflow_x": null,
      "overflow_y": null,
      "padding": null,
      "right": null,
      "top": null,
      "visibility": null,
      "width": null
     }
    },
    "5a2f5260d31247c79ecb0eab643c4586": {
     "model_module": "@jupyter-widgets/controls",
     "model_name": "ProgressStyleModel",
     "state": {
      "_model_module": "@jupyter-widgets/controls",
      "_model_module_version": "1.5.0",
      "_model_name": "ProgressStyleModel",
      "_view_count": null,
      "_view_module": "@jupyter-widgets/base",
      "_view_module_version": "1.2.0",
      "_view_name": "StyleView",
      "bar_color": null,
      "description_width": "initial"
     }
    },
    "5a7503f1ffb54cc7bcc20b7c8b645065": {
     "model_module": "@jupyter-widgets/controls",
     "model_name": "HTMLModel",
     "state": {
      "_dom_classes": [],
      "_model_module": "@jupyter-widgets/controls",
      "_model_module_version": "1.5.0",
      "_model_name": "HTMLModel",
      "_view_count": null,
      "_view_module": "@jupyter-widgets/controls",
      "_view_module_version": "1.5.0",
      "_view_name": "HTMLView",
      "description": "",
      "description_tooltip": null,
      "layout": "IPY_MODEL_5495b98857b4428aab0a779aa57b59ad",
      "placeholder": "​",
      "style": "IPY_MODEL_3d638d5eab854a19b436972d8ae59ccd",
      "value": " 1.89G/1.89G [00:44&lt;00:00, 42.3MB/s]"
     }
    },
    "5b4e1f8b36cf4ed0ad7a525bc2995a3c": {
     "model_module": "@jupyter-widgets/controls",
     "model_name": "HBoxModel",
     "state": {
      "_dom_classes": [],
      "_model_module": "@jupyter-widgets/controls",
      "_model_module_version": "1.5.0",
      "_model_name": "HBoxModel",
      "_view_count": null,
      "_view_module": "@jupyter-widgets/controls",
      "_view_module_version": "1.5.0",
      "_view_name": "HBoxView",
      "box_style": "",
      "children": [
       "IPY_MODEL_6670d5210d3548909cd27ce5e7aa48c4",
       "IPY_MODEL_61e2f6563150400da9a686baed2051aa"
      ],
      "layout": "IPY_MODEL_26ad8241e60e47f1b4095dfd95b9d096"
     }
    },
    "5e8efef9588247c3a096b058c150a545": {
     "model_module": "@jupyter-widgets/controls",
     "model_name": "HBoxModel",
     "state": {
      "_dom_classes": [],
      "_model_module": "@jupyter-widgets/controls",
      "_model_module_version": "1.5.0",
      "_model_name": "HBoxModel",
      "_view_count": null,
      "_view_module": "@jupyter-widgets/controls",
      "_view_module_version": "1.5.0",
      "_view_name": "HBoxView",
      "box_style": "",
      "children": [
       "IPY_MODEL_53f50e43fb234cc79b4da9e8b7340083",
       "IPY_MODEL_914622ed4e8a40b4b0a5485983d0ef55"
      ],
      "layout": "IPY_MODEL_26ca8ecb6acd4d46842df27f02c3b49b"
     }
    },
    "61e2f6563150400da9a686baed2051aa": {
     "model_module": "@jupyter-widgets/controls",
     "model_name": "HTMLModel",
     "state": {
      "_dom_classes": [],
      "_model_module": "@jupyter-widgets/controls",
      "_model_module_version": "1.5.0",
      "_model_name": "HTMLModel",
      "_view_count": null,
      "_view_module": "@jupyter-widgets/controls",
      "_view_module_version": "1.5.0",
      "_view_name": "HTMLView",
      "description": "",
      "description_tooltip": null,
      "layout": "IPY_MODEL_3ad92559ba644aeb8b75e285d2006a74",
      "placeholder": "​",
      "style": "IPY_MODEL_984776f125cc4126aad6c50396b783f6",
      "value": " 5.07M/5.07M [00:01&lt;00:00, 3.52MB/s]"
     }
    },
    "64f4cf8e779f490599180b70c233d398": {
     "model_module": "@jupyter-widgets/base",
     "model_name": "LayoutModel",
     "state": {
      "_model_module": "@jupyter-widgets/base",
      "_model_module_version": "1.2.0",
      "_model_name": "LayoutModel",
      "_view_count": null,
      "_view_module": "@jupyter-widgets/base",
      "_view_module_version": "1.2.0",
      "_view_name": "LayoutView",
      "align_content": null,
      "align_items": null,
      "align_self": null,
      "border": null,
      "bottom": null,
      "display": null,
      "flex": null,
      "flex_flow": null,
      "grid_area": null,
      "grid_auto_columns": null,
      "grid_auto_flow": null,
      "grid_auto_rows": null,
      "grid_column": null,
      "grid_gap": null,
      "grid_row": null,
      "grid_template_areas": null,
      "grid_template_columns": null,
      "grid_template_rows": null,
      "height": null,
      "justify_content": null,
      "justify_items": null,
      "left": null,
      "margin": null,
      "max_height": null,
      "max_width": null,
      "min_height": null,
      "min_width": null,
      "object_fit": null,
      "object_position": null,
      "order": null,
      "overflow": null,
      "overflow_x": null,
      "overflow_y": null,
      "padding": null,
      "right": null,
      "top": null,
      "visibility": null,
      "width": null
     }
    },
    "650a19731c0645338749de3c45c2abfa": {
     "model_module": "@jupyter-widgets/controls",
     "model_name": "HBoxModel",
     "state": {
      "_dom_classes": [],
      "_model_module": "@jupyter-widgets/controls",
      "_model_module_version": "1.5.0",
      "_model_name": "HBoxModel",
      "_view_count": null,
      "_view_module": "@jupyter-widgets/controls",
      "_view_module_version": "1.5.0",
      "_view_name": "HBoxView",
      "box_style": "",
      "children": [
       "IPY_MODEL_0db1e232275841978fcd97f6bf2afcfa",
       "IPY_MODEL_53a402f3984f4552beda53c312ca9425"
      ],
      "layout": "IPY_MODEL_9375d570626b4369a936673bef5f8ee9"
     }
    },
    "6670d5210d3548909cd27ce5e7aa48c4": {
     "model_module": "@jupyter-widgets/controls",
     "model_name": "FloatProgressModel",
     "state": {
      "_dom_classes": [],
      "_model_module": "@jupyter-widgets/controls",
      "_model_module_version": "1.5.0",
      "_model_name": "FloatProgressModel",
      "_view_count": null,
      "_view_module": "@jupyter-widgets/controls",
      "_view_module_version": "1.5.0",
      "_view_name": "ProgressView",
      "bar_style": "success",
      "description": "Downloading: 100%",
      "description_tooltip": null,
      "layout": "IPY_MODEL_57110221e1f7426fa67be232e9e3b9a3",
      "max": 5069051,
      "min": 0,
      "orientation": "horizontal",
      "style": "IPY_MODEL_d789619fa6ec4e66b8602bcc0e195cd3",
      "value": 5069051
     }
    },
    "6787a56ae6b74f68b55124f736868075": {
     "model_module": "@jupyter-widgets/controls",
     "model_name": "HTMLModel",
     "state": {
      "_dom_classes": [],
      "_model_module": "@jupyter-widgets/controls",
      "_model_module_version": "1.5.0",
      "_model_name": "HTMLModel",
      "_view_count": null,
      "_view_module": "@jupyter-widgets/controls",
      "_view_module_version": "1.5.0",
      "_view_name": "HTMLView",
      "description": "",
      "description_tooltip": null,
      "layout": "IPY_MODEL_060464dd80254aa3a64acd4b996a5679",
      "placeholder": "​",
      "style": "IPY_MODEL_b1411b6361904af09a0334a28b7e5879",
      "value": " 512/512 [00:45&lt;00:00, 11.4B/s]"
     }
    },
    "6a12045461b24edba3cc17bcf4ca0958": {
     "model_module": "@jupyter-widgets/controls",
     "model_name": "HTMLModel",
     "state": {
      "_dom_classes": [],
      "_model_module": "@jupyter-widgets/controls",
      "_model_module_version": "1.5.0",
      "_model_name": "HTMLModel",
      "_view_count": null,
      "_view_module": "@jupyter-widgets/controls",
      "_view_module_version": "1.5.0",
      "_view_name": "HTMLView",
      "description": "",
      "description_tooltip": null,
      "layout": "IPY_MODEL_d5b3a91b2a22421f9b18b9d7cf35135a",
      "placeholder": "​",
      "style": "IPY_MODEL_b2c30a64c21c4e46ae5b405a570201c8",
      "value": " 625/625 [00:01&lt;00:00, 345B/s]"
     }
    },
    "6bb4b64ddd4041c2aaee39727158d2eb": {
     "model_module": "@jupyter-widgets/controls",
     "model_name": "DescriptionStyleModel",
     "state": {
      "_model_module": "@jupyter-widgets/controls",
      "_model_module_version": "1.5.0",
      "_model_name": "DescriptionStyleModel",
      "_view_count": null,
      "_view_module": "@jupyter-widgets/base",
      "_view_module_version": "1.2.0",
      "_view_name": "StyleView",
      "description_width": ""
     }
    },
    "6c9c7edac6c34ad3814833cd1ccc0d5a": {
     "model_module": "@jupyter-widgets/base",
     "model_name": "LayoutModel",
     "state": {
      "_model_module": "@jupyter-widgets/base",
      "_model_module_version": "1.2.0",
      "_model_name": "LayoutModel",
      "_view_count": null,
      "_view_module": "@jupyter-widgets/base",
      "_view_module_version": "1.2.0",
      "_view_name": "LayoutView",
      "align_content": null,
      "align_items": null,
      "align_self": null,
      "border": null,
      "bottom": null,
      "display": null,
      "flex": null,
      "flex_flow": null,
      "grid_area": null,
      "grid_auto_columns": null,
      "grid_auto_flow": null,
      "grid_auto_rows": null,
      "grid_column": null,
      "grid_gap": null,
      "grid_row": null,
      "grid_template_areas": null,
      "grid_template_columns": null,
      "grid_template_rows": null,
      "height": null,
      "justify_content": null,
      "justify_items": null,
      "left": null,
      "margin": null,
      "max_height": null,
      "max_width": null,
      "min_height": null,
      "min_width": null,
      "object_fit": null,
      "object_position": null,
      "order": null,
      "overflow": null,
      "overflow_x": null,
      "overflow_y": null,
      "padding": null,
      "right": null,
      "top": null,
      "visibility": null,
      "width": null
     }
    },
    "6daacd0b9b1744ac8f1bd09e76a42db5": {
     "model_module": "@jupyter-widgets/controls",
     "model_name": "HTMLModel",
     "state": {
      "_dom_classes": [],
      "_model_module": "@jupyter-widgets/controls",
      "_model_module_version": "1.5.0",
      "_model_name": "HTMLModel",
      "_view_count": null,
      "_view_module": "@jupyter-widgets/controls",
      "_view_module_version": "1.5.0",
      "_view_name": "HTMLView",
      "description": "",
      "description_tooltip": null,
      "layout": "IPY_MODEL_e7e18e05271c443e88749c385132baa3",
      "placeholder": "​",
      "style": "IPY_MODEL_26444d502a10451c90e80d65e48828ad",
      "value": " 28.0/28.0 [00:02&lt;00:00, 12.1B/s]"
     }
    },
    "6e7ceef1eee0411ab268070a631bfb56": {
     "model_module": "@jupyter-widgets/controls",
     "model_name": "HTMLModel",
     "state": {
      "_dom_classes": [],
      "_model_module": "@jupyter-widgets/controls",
      "_model_module_version": "1.5.0",
      "_model_name": "HTMLModel",
      "_view_count": null,
      "_view_module": "@jupyter-widgets/controls",
      "_view_module_version": "1.5.0",
      "_view_name": "HTMLView",
      "description": "",
      "description_tooltip": null,
      "layout": "IPY_MODEL_ac7783ff3f33497aa20376646c9778bf",
      "placeholder": "​",
      "style": "IPY_MODEL_7f4d8ba5a1b247fbb6caa3b89d3a0ca9",
      "value": " 1.72M/1.72M [00:01&lt;00:00, 1.63MB/s]"
     }
    },
    "6ec3f2d77874494b95e78bbd224ceea7": {
     "model_module": "@jupyter-widgets/controls",
     "model_name": "ProgressStyleModel",
     "state": {
      "_model_module": "@jupyter-widgets/controls",
      "_model_module_version": "1.5.0",
      "_model_name": "ProgressStyleModel",
      "_view_count": null,
      "_view_module": "@jupyter-widgets/base",
      "_view_module_version": "1.2.0",
      "_view_name": "StyleView",
      "bar_color": null,
      "description_width": "initial"
     }
    },
    "6fa0bc0407a74e08899a1bedaf2c578d": {
     "model_module": "@jupyter-widgets/controls",
     "model_name": "HTMLModel",
     "state": {
      "_dom_classes": [],
      "_model_module": "@jupyter-widgets/controls",
      "_model_module_version": "1.5.0",
      "_model_name": "HTMLModel",
      "_view_count": null,
      "_view_module": "@jupyter-widgets/controls",
      "_view_module_version": "1.5.0",
      "_view_name": "HTMLView",
      "description": "",
      "description_tooltip": null,
      "layout": "IPY_MODEL_e53a522313f24dc9aff16b5e60c1fbf5",
      "placeholder": "​",
      "style": "IPY_MODEL_3a3f8674793b437980a4be683d8ae6e8",
      "value": " 872k/872k [00:01&lt;00:00, 793kB/s]"
     }
    },
    "71d859c55b7d4f2e83d369b8be3a5f12": {
     "model_module": "@jupyter-widgets/controls",
     "model_name": "HTMLModel",
     "state": {
      "_dom_classes": [],
      "_model_module": "@jupyter-widgets/controls",
      "_model_module_version": "1.5.0",
      "_model_name": "HTMLModel",
      "_view_count": null,
      "_view_module": "@jupyter-widgets/controls",
      "_view_module_version": "1.5.0",
      "_view_name": "HTMLView",
      "description": "",
      "description_tooltip": null,
      "layout": "IPY_MODEL_466e90e3d5ae484a885b2416f1611150",
      "placeholder": "​",
      "style": "IPY_MODEL_25ba45d6696c4dea9d379b66df5b90c7",
      "value": " 5.07M/5.07M [00:01&lt;00:00, 3.03MB/s]"
     }
    },
    "729b85db06f64316935c16d46cac01fa": {
     "model_module": "@jupyter-widgets/base",
     "model_name": "LayoutModel",
     "state": {
      "_model_module": "@jupyter-widgets/base",
      "_model_module_version": "1.2.0",
      "_model_name": "LayoutModel",
      "_view_count": null,
      "_view_module": "@jupyter-widgets/base",
      "_view_module_version": "1.2.0",
      "_view_name": "LayoutView",
      "align_content": null,
      "align_items": null,
      "align_self": null,
      "border": null,
      "bottom": null,
      "display": null,
      "flex": null,
      "flex_flow": null,
      "grid_area": null,
      "grid_auto_columns": null,
      "grid_auto_flow": null,
      "grid_auto_rows": null,
      "grid_column": null,
      "grid_gap": null,
      "grid_row": null,
      "grid_template_areas": null,
      "grid_template_columns": null,
      "grid_template_rows": null,
      "height": null,
      "justify_content": null,
      "justify_items": null,
      "left": null,
      "margin": null,
      "max_height": null,
      "max_width": null,
      "min_height": null,
      "min_width": null,
      "object_fit": null,
      "object_position": null,
      "order": null,
      "overflow": null,
      "overflow_x": null,
      "overflow_y": null,
      "padding": null,
      "right": null,
      "top": null,
      "visibility": null,
      "width": null
     }
    },
    "73d93d69d2e54f6fb0d7ddeb02731ab1": {
     "model_module": "@jupyter-widgets/controls",
     "model_name": "FloatProgressModel",
     "state": {
      "_dom_classes": [],
      "_model_module": "@jupyter-widgets/controls",
      "_model_module_version": "1.5.0",
      "_model_name": "FloatProgressModel",
      "_view_count": null,
      "_view_module": "@jupyter-widgets/controls",
      "_view_module_version": "1.5.0",
      "_view_name": "ProgressView",
      "bar_style": "success",
      "description": "Downloading: 100%",
      "description_tooltip": null,
      "layout": "IPY_MODEL_b15c03cb371045baba720ac16363438c",
      "max": 512,
      "min": 0,
      "orientation": "horizontal",
      "style": "IPY_MODEL_4497da890ab942fdb60c836529d8a1d4",
      "value": 512
     }
    },
    "77c612e815f64333aa7bc32503126041": {
     "model_module": "@jupyter-widgets/base",
     "model_name": "LayoutModel",
     "state": {
      "_model_module": "@jupyter-widgets/base",
      "_model_module_version": "1.2.0",
      "_model_name": "LayoutModel",
      "_view_count": null,
      "_view_module": "@jupyter-widgets/base",
      "_view_module_version": "1.2.0",
      "_view_name": "LayoutView",
      "align_content": null,
      "align_items": null,
      "align_self": null,
      "border": null,
      "bottom": null,
      "display": null,
      "flex": null,
      "flex_flow": null,
      "grid_area": null,
      "grid_auto_columns": null,
      "grid_auto_flow": null,
      "grid_auto_rows": null,
      "grid_column": null,
      "grid_gap": null,
      "grid_row": null,
      "grid_template_areas": null,
      "grid_template_columns": null,
      "grid_template_rows": null,
      "height": null,
      "justify_content": null,
      "justify_items": null,
      "left": null,
      "margin": null,
      "max_height": null,
      "max_width": null,
      "min_height": null,
      "min_width": null,
      "object_fit": null,
      "object_position": null,
      "order": null,
      "overflow": null,
      "overflow_x": null,
      "overflow_y": null,
      "padding": null,
      "right": null,
      "top": null,
      "visibility": null,
      "width": null
     }
    },
    "77d1729390d749a7899ead7498f7a4e9": {
     "model_module": "@jupyter-widgets/base",
     "model_name": "LayoutModel",
     "state": {
      "_model_module": "@jupyter-widgets/base",
      "_model_module_version": "1.2.0",
      "_model_name": "LayoutModel",
      "_view_count": null,
      "_view_module": "@jupyter-widgets/base",
      "_view_module_version": "1.2.0",
      "_view_name": "LayoutView",
      "align_content": null,
      "align_items": null,
      "align_self": null,
      "border": null,
      "bottom": null,
      "display": null,
      "flex": null,
      "flex_flow": null,
      "grid_area": null,
      "grid_auto_columns": null,
      "grid_auto_flow": null,
      "grid_auto_rows": null,
      "grid_column": null,
      "grid_gap": null,
      "grid_row": null,
      "grid_template_areas": null,
      "grid_template_columns": null,
      "grid_template_rows": null,
      "height": null,
      "justify_content": null,
      "justify_items": null,
      "left": null,
      "margin": null,
      "max_height": null,
      "max_width": null,
      "min_height": null,
      "min_width": null,
      "object_fit": null,
      "object_position": null,
      "order": null,
      "overflow": null,
      "overflow_x": null,
      "overflow_y": null,
      "padding": null,
      "right": null,
      "top": null,
      "visibility": null,
      "width": null
     }
    },
    "7dc8673d144d4a8e8062275bd5d2e096": {
     "model_module": "@jupyter-widgets/base",
     "model_name": "LayoutModel",
     "state": {
      "_model_module": "@jupyter-widgets/base",
      "_model_module_version": "1.2.0",
      "_model_name": "LayoutModel",
      "_view_count": null,
      "_view_module": "@jupyter-widgets/base",
      "_view_module_version": "1.2.0",
      "_view_name": "LayoutView",
      "align_content": null,
      "align_items": null,
      "align_self": null,
      "border": null,
      "bottom": null,
      "display": null,
      "flex": null,
      "flex_flow": null,
      "grid_area": null,
      "grid_auto_columns": null,
      "grid_auto_flow": null,
      "grid_auto_rows": null,
      "grid_column": null,
      "grid_gap": null,
      "grid_row": null,
      "grid_template_areas": null,
      "grid_template_columns": null,
      "grid_template_rows": null,
      "height": null,
      "justify_content": null,
      "justify_items": null,
      "left": null,
      "margin": null,
      "max_height": null,
      "max_width": null,
      "min_height": null,
      "min_width": null,
      "object_fit": null,
      "object_position": null,
      "order": null,
      "overflow": null,
      "overflow_x": null,
      "overflow_y": null,
      "padding": null,
      "right": null,
      "top": null,
      "visibility": null,
      "width": null
     }
    },
    "7f4d8ba5a1b247fbb6caa3b89d3a0ca9": {
     "model_module": "@jupyter-widgets/controls",
     "model_name": "DescriptionStyleModel",
     "state": {
      "_model_module": "@jupyter-widgets/controls",
      "_model_module_version": "1.5.0",
      "_model_name": "DescriptionStyleModel",
      "_view_count": null,
      "_view_module": "@jupyter-widgets/base",
      "_view_module_version": "1.2.0",
      "_view_name": "StyleView",
      "description_width": ""
     }
    },
    "83cf1efe209e4b0ea7851adc405789a6": {
     "model_module": "@jupyter-widgets/controls",
     "model_name": "DescriptionStyleModel",
     "state": {
      "_model_module": "@jupyter-widgets/controls",
      "_model_module_version": "1.5.0",
      "_model_name": "DescriptionStyleModel",
      "_view_count": null,
      "_view_module": "@jupyter-widgets/base",
      "_view_module_version": "1.2.0",
      "_view_name": "StyleView",
      "description_width": ""
     }
    },
    "84dde76d04ec45fc8aa8c5a42681e37a": {
     "model_module": "@jupyter-widgets/controls",
     "model_name": "HBoxModel",
     "state": {
      "_dom_classes": [],
      "_model_module": "@jupyter-widgets/controls",
      "_model_module_version": "1.5.0",
      "_model_name": "HBoxModel",
      "_view_count": null,
      "_view_module": "@jupyter-widgets/controls",
      "_view_module_version": "1.5.0",
      "_view_name": "HBoxView",
      "box_style": "",
      "children": [
       "IPY_MODEL_9bce62e392dc45d89fc4e13f1c4a045b",
       "IPY_MODEL_d5694610b8674687aa7a94793996af95"
      ],
      "layout": "IPY_MODEL_7dc8673d144d4a8e8062275bd5d2e096"
     }
    },
    "87e6e18855da4c91bb21a6840b2f1154": {
     "model_module": "@jupyter-widgets/controls",
     "model_name": "ProgressStyleModel",
     "state": {
      "_model_module": "@jupyter-widgets/controls",
      "_model_module_version": "1.5.0",
      "_model_name": "ProgressStyleModel",
      "_view_count": null,
      "_view_module": "@jupyter-widgets/base",
      "_view_module_version": "1.2.0",
      "_view_name": "StyleView",
      "bar_color": null,
      "description_width": "initial"
     }
    },
    "88282a29d8b64e85896a39d2b74883ad": {
     "model_module": "@jupyter-widgets/base",
     "model_name": "LayoutModel",
     "state": {
      "_model_module": "@jupyter-widgets/base",
      "_model_module_version": "1.2.0",
      "_model_name": "LayoutModel",
      "_view_count": null,
      "_view_module": "@jupyter-widgets/base",
      "_view_module_version": "1.2.0",
      "_view_name": "LayoutView",
      "align_content": null,
      "align_items": null,
      "align_self": null,
      "border": null,
      "bottom": null,
      "display": null,
      "flex": null,
      "flex_flow": null,
      "grid_area": null,
      "grid_auto_columns": null,
      "grid_auto_flow": null,
      "grid_auto_rows": null,
      "grid_column": null,
      "grid_gap": null,
      "grid_row": null,
      "grid_template_areas": null,
      "grid_template_columns": null,
      "grid_template_rows": null,
      "height": null,
      "justify_content": null,
      "justify_items": null,
      "left": null,
      "margin": null,
      "max_height": null,
      "max_width": null,
      "min_height": null,
      "min_width": null,
      "object_fit": null,
      "object_position": null,
      "order": null,
      "overflow": null,
      "overflow_x": null,
      "overflow_y": null,
      "padding": null,
      "right": null,
      "top": null,
      "visibility": null,
      "width": null
     }
    },
    "888dce156c2948e79a03b6377de33a9c": {
     "model_module": "@jupyter-widgets/controls",
     "model_name": "HBoxModel",
     "state": {
      "_dom_classes": [],
      "_model_module": "@jupyter-widgets/controls",
      "_model_module_version": "1.5.0",
      "_model_name": "HBoxModel",
      "_view_count": null,
      "_view_module": "@jupyter-widgets/controls",
      "_view_module_version": "1.5.0",
      "_view_name": "HBoxView",
      "box_style": "",
      "children": [
       "IPY_MODEL_a283ae6844614c06b8cb4f16fe4b3581",
       "IPY_MODEL_23a68e13c0dc4d92ad0a47daf12624a2"
      ],
      "layout": "IPY_MODEL_c06015d788a94685ba51f3725efa255c"
     }
    },
    "8b3658daeaa3485ca441ada8e9988937": {
     "model_module": "@jupyter-widgets/controls",
     "model_name": "HTMLModel",
     "state": {
      "_dom_classes": [],
      "_model_module": "@jupyter-widgets/controls",
      "_model_module_version": "1.5.0",
      "_model_name": "HTMLModel",
      "_view_count": null,
      "_view_module": "@jupyter-widgets/controls",
      "_view_module_version": "1.5.0",
      "_view_name": "HTMLView",
      "description": "",
      "description_tooltip": null,
      "layout": "IPY_MODEL_729b85db06f64316935c16d46cac01fa",
      "placeholder": "​",
      "style": "IPY_MODEL_f77a45aa23e14f2db1d762bc08454c75",
      "value": " 5.07M/5.07M [00:01&lt;00:00, 2.89MB/s]"
     }
    },
    "8ca6251d83894d7c8ebdc77a5ab68a64": {
     "model_module": "@jupyter-widgets/controls",
     "model_name": "HBoxModel",
     "state": {
      "_dom_classes": [],
      "_model_module": "@jupyter-widgets/controls",
      "_model_module_version": "1.5.0",
      "_model_name": "HBoxModel",
      "_view_count": null,
      "_view_module": "@jupyter-widgets/controls",
      "_view_module_version": "1.5.0",
      "_view_name": "HBoxView",
      "box_style": "",
      "children": [
       "IPY_MODEL_dd915b5d951f4fca9ed45ea5983dfea1",
       "IPY_MODEL_0d991c6db0864a2f9a1d3bff0795b04f"
      ],
      "layout": "IPY_MODEL_0488ab8011984f209390091a215ea050"
     }
    },
    "914622ed4e8a40b4b0a5485983d0ef55": {
     "model_module": "@jupyter-widgets/controls",
     "model_name": "HTMLModel",
     "state": {
      "_dom_classes": [],
      "_model_module": "@jupyter-widgets/controls",
      "_model_module_version": "1.5.0",
      "_model_name": "HTMLModel",
      "_view_count": null,
      "_view_module": "@jupyter-widgets/controls",
      "_view_module_version": "1.5.0",
      "_view_name": "HTMLView",
      "description": "",
      "description_tooltip": null,
      "layout": "IPY_MODEL_c0e37a93392b4c7d9e62bd4c3c820bf2",
      "placeholder": "​",
      "style": "IPY_MODEL_6bb4b64ddd4041c2aaee39727158d2eb",
      "value": " 999M/999M [00:22&lt;00:00, 45.1MB/s]"
     }
    },
    "934659f77f81439a877580e4d539084d": {
     "model_module": "@jupyter-widgets/base",
     "model_name": "LayoutModel",
     "state": {
      "_model_module": "@jupyter-widgets/base",
      "_model_module_version": "1.2.0",
      "_model_name": "LayoutModel",
      "_view_count": null,
      "_view_module": "@jupyter-widgets/base",
      "_view_module_version": "1.2.0",
      "_view_name": "LayoutView",
      "align_content": null,
      "align_items": null,
      "align_self": null,
      "border": null,
      "bottom": null,
      "display": null,
      "flex": null,
      "flex_flow": null,
      "grid_area": null,
      "grid_auto_columns": null,
      "grid_auto_flow": null,
      "grid_auto_rows": null,
      "grid_column": null,
      "grid_gap": null,
      "grid_row": null,
      "grid_template_areas": null,
      "grid_template_columns": null,
      "grid_template_rows": null,
      "height": null,
      "justify_content": null,
      "justify_items": null,
      "left": null,
      "margin": null,
      "max_height": null,
      "max_width": null,
      "min_height": null,
      "min_width": null,
      "object_fit": null,
      "object_position": null,
      "order": null,
      "overflow": null,
      "overflow_x": null,
      "overflow_y": null,
      "padding": null,
      "right": null,
      "top": null,
      "visibility": null,
      "width": null
     }
    },
    "9375d570626b4369a936673bef5f8ee9": {
     "model_module": "@jupyter-widgets/base",
     "model_name": "LayoutModel",
     "state": {
      "_model_module": "@jupyter-widgets/base",
      "_model_module_version": "1.2.0",
      "_model_name": "LayoutModel",
      "_view_count": null,
      "_view_module": "@jupyter-widgets/base",
      "_view_module_version": "1.2.0",
      "_view_name": "LayoutView",
      "align_content": null,
      "align_items": null,
      "align_self": null,
      "border": null,
      "bottom": null,
      "display": null,
      "flex": null,
      "flex_flow": null,
      "grid_area": null,
      "grid_auto_columns": null,
      "grid_auto_flow": null,
      "grid_auto_rows": null,
      "grid_column": null,
      "grid_gap": null,
      "grid_row": null,
      "grid_template_areas": null,
      "grid_template_columns": null,
      "grid_template_rows": null,
      "height": null,
      "justify_content": null,
      "justify_items": null,
      "left": null,
      "margin": null,
      "max_height": null,
      "max_width": null,
      "min_height": null,
      "min_width": null,
      "object_fit": null,
      "object_position": null,
      "order": null,
      "overflow": null,
      "overflow_x": null,
      "overflow_y": null,
      "padding": null,
      "right": null,
      "top": null,
      "visibility": null,
      "width": null
     }
    },
    "93dca82b635049159361d0ca629c169e": {
     "model_module": "@jupyter-widgets/controls",
     "model_name": "HTMLModel",
     "state": {
      "_dom_classes": [],
      "_model_module": "@jupyter-widgets/controls",
      "_model_module_version": "1.5.0",
      "_model_name": "HTMLModel",
      "_view_count": null,
      "_view_module": "@jupyter-widgets/controls",
      "_view_module_version": "1.5.0",
      "_view_name": "HTMLView",
      "description": "",
      "description_tooltip": null,
      "layout": "IPY_MODEL_2471db3f26874fa78a60450d01ca4f84",
      "placeholder": "​",
      "style": "IPY_MODEL_07e8aed628fa4e5c965c4b36fb0fe36b",
      "value": " 1.89G/1.89G [00:42&lt;00:00, 44.0MB/s]"
     }
    },
    "9601a38f5e3f4d3398b1e520276135fd": {
     "model_module": "@jupyter-widgets/controls",
     "model_name": "HBoxModel",
     "state": {
      "_dom_classes": [],
      "_model_module": "@jupyter-widgets/controls",
      "_model_module_version": "1.5.0",
      "_model_name": "HBoxModel",
      "_view_count": null,
      "_view_module": "@jupyter-widgets/controls",
      "_view_module_version": "1.5.0",
      "_view_name": "HBoxView",
      "box_style": "",
      "children": [
       "IPY_MODEL_0c69bf8d8c234e98bd18e6e582e46ba5",
       "IPY_MODEL_93dca82b635049159361d0ca629c169e"
      ],
      "layout": "IPY_MODEL_77d1729390d749a7899ead7498f7a4e9"
     }
    },
    "984776f125cc4126aad6c50396b783f6": {
     "model_module": "@jupyter-widgets/controls",
     "model_name": "DescriptionStyleModel",
     "state": {
      "_model_module": "@jupyter-widgets/controls",
      "_model_module_version": "1.5.0",
      "_model_name": "DescriptionStyleModel",
      "_view_count": null,
      "_view_module": "@jupyter-widgets/base",
      "_view_module_version": "1.2.0",
      "_view_name": "StyleView",
      "description_width": ""
     }
    },
    "98f738dad1d441ddbd945bfcba90ed03": {
     "model_module": "@jupyter-widgets/base",
     "model_name": "LayoutModel",
     "state": {
      "_model_module": "@jupyter-widgets/base",
      "_model_module_version": "1.2.0",
      "_model_name": "LayoutModel",
      "_view_count": null,
      "_view_module": "@jupyter-widgets/base",
      "_view_module_version": "1.2.0",
      "_view_name": "LayoutView",
      "align_content": null,
      "align_items": null,
      "align_self": null,
      "border": null,
      "bottom": null,
      "display": null,
      "flex": null,
      "flex_flow": null,
      "grid_area": null,
      "grid_auto_columns": null,
      "grid_auto_flow": null,
      "grid_auto_rows": null,
      "grid_column": null,
      "grid_gap": null,
      "grid_row": null,
      "grid_template_areas": null,
      "grid_template_columns": null,
      "grid_template_rows": null,
      "height": null,
      "justify_content": null,
      "justify_items": null,
      "left": null,
      "margin": null,
      "max_height": null,
      "max_width": null,
      "min_height": null,
      "min_width": null,
      "object_fit": null,
      "object_position": null,
      "order": null,
      "overflow": null,
      "overflow_x": null,
      "overflow_y": null,
      "padding": null,
      "right": null,
      "top": null,
      "visibility": null,
      "width": null
     }
    },
    "9b39697f7cdc441dbc158d9b2f7875f5": {
     "model_module": "@jupyter-widgets/controls",
     "model_name": "FloatProgressModel",
     "state": {
      "_dom_classes": [],
      "_model_module": "@jupyter-widgets/controls",
      "_model_module_version": "1.5.0",
      "_model_name": "FloatProgressModel",
      "_view_count": null,
      "_view_module": "@jupyter-widgets/controls",
      "_view_module_version": "1.5.0",
      "_view_name": "ProgressView",
      "bar_style": "success",
      "description": "Downloading: 100%",
      "description_tooltip": null,
      "layout": "IPY_MODEL_98f738dad1d441ddbd945bfcba90ed03",
      "max": 1885418496,
      "min": 0,
      "orientation": "horizontal",
      "style": "IPY_MODEL_08452007fa8c4ae7ade1ca165d079125",
      "value": 1885418496
     }
    },
    "9bce62e392dc45d89fc4e13f1c4a045b": {
     "model_module": "@jupyter-widgets/controls",
     "model_name": "FloatProgressModel",
     "state": {
      "_dom_classes": [],
      "_model_module": "@jupyter-widgets/controls",
      "_model_module_version": "1.5.0",
      "_model_name": "FloatProgressModel",
      "_view_count": null,
      "_view_module": "@jupyter-widgets/controls",
      "_view_module_version": "1.5.0",
      "_view_name": "ProgressView",
      "bar_style": "success",
      "description": "Downloading: 100%",
      "description_tooltip": null,
      "layout": "IPY_MODEL_068914a7097346aaa3b56beb354623ca",
      "max": 1885418496,
      "min": 0,
      "orientation": "horizontal",
      "style": "IPY_MODEL_87e6e18855da4c91bb21a6840b2f1154",
      "value": 1885418496
     }
    },
    "9be908dfb0fe4ce2accd2b46a312a2a8": {
     "model_module": "@jupyter-widgets/base",
     "model_name": "LayoutModel",
     "state": {
      "_model_module": "@jupyter-widgets/base",
      "_model_module_version": "1.2.0",
      "_model_name": "LayoutModel",
      "_view_count": null,
      "_view_module": "@jupyter-widgets/base",
      "_view_module_version": "1.2.0",
      "_view_name": "LayoutView",
      "align_content": null,
      "align_items": null,
      "align_self": null,
      "border": null,
      "bottom": null,
      "display": null,
      "flex": null,
      "flex_flow": null,
      "grid_area": null,
      "grid_auto_columns": null,
      "grid_auto_flow": null,
      "grid_auto_rows": null,
      "grid_column": null,
      "grid_gap": null,
      "grid_row": null,
      "grid_template_areas": null,
      "grid_template_columns": null,
      "grid_template_rows": null,
      "height": null,
      "justify_content": null,
      "justify_items": null,
      "left": null,
      "margin": null,
      "max_height": null,
      "max_width": null,
      "min_height": null,
      "min_width": null,
      "object_fit": null,
      "object_position": null,
      "order": null,
      "overflow": null,
      "overflow_x": null,
      "overflow_y": null,
      "padding": null,
      "right": null,
      "top": null,
      "visibility": null,
      "width": null
     }
    },
    "9de048051970485f871eeafdd91fc800": {
     "model_module": "@jupyter-widgets/base",
     "model_name": "LayoutModel",
     "state": {
      "_model_module": "@jupyter-widgets/base",
      "_model_module_version": "1.2.0",
      "_model_name": "LayoutModel",
      "_view_count": null,
      "_view_module": "@jupyter-widgets/base",
      "_view_module_version": "1.2.0",
      "_view_name": "LayoutView",
      "align_content": null,
      "align_items": null,
      "align_self": null,
      "border": null,
      "bottom": null,
      "display": null,
      "flex": null,
      "flex_flow": null,
      "grid_area": null,
      "grid_auto_columns": null,
      "grid_auto_flow": null,
      "grid_auto_rows": null,
      "grid_column": null,
      "grid_gap": null,
      "grid_row": null,
      "grid_template_areas": null,
      "grid_template_columns": null,
      "grid_template_rows": null,
      "height": null,
      "justify_content": null,
      "justify_items": null,
      "left": null,
      "margin": null,
      "max_height": null,
      "max_width": null,
      "min_height": null,
      "min_width": null,
      "object_fit": null,
      "object_position": null,
      "order": null,
      "overflow": null,
      "overflow_x": null,
      "overflow_y": null,
      "padding": null,
      "right": null,
      "top": null,
      "visibility": null,
      "width": null
     }
    },
    "a25222f6aa5445ea91da74cf825de9ed": {
     "model_module": "@jupyter-widgets/controls",
     "model_name": "HBoxModel",
     "state": {
      "_dom_classes": [],
      "_model_module": "@jupyter-widgets/controls",
      "_model_module_version": "1.5.0",
      "_model_name": "HBoxModel",
      "_view_count": null,
      "_view_module": "@jupyter-widgets/controls",
      "_view_module_version": "1.5.0",
      "_view_name": "HBoxView",
      "box_style": "",
      "children": [
       "IPY_MODEL_9b39697f7cdc441dbc158d9b2f7875f5",
       "IPY_MODEL_5a7503f1ffb54cc7bcc20b7c8b645065"
      ],
      "layout": "IPY_MODEL_88282a29d8b64e85896a39d2b74883ad"
     }
    },
    "a283ae6844614c06b8cb4f16fe4b3581": {
     "model_module": "@jupyter-widgets/controls",
     "model_name": "FloatProgressModel",
     "state": {
      "_dom_classes": [],
      "_model_module": "@jupyter-widgets/controls",
      "_model_module_version": "1.5.0",
      "_model_name": "FloatProgressModel",
      "_view_count": null,
      "_view_module": "@jupyter-widgets/controls",
      "_view_module_version": "1.5.0",
      "_view_name": "ProgressView",
      "bar_style": "success",
      "description": "Downloading: 100%",
      "description_tooltip": null,
      "layout": "IPY_MODEL_fc1015009ac9471d84a3708d10b08f92",
      "max": 512,
      "min": 0,
      "orientation": "horizontal",
      "style": "IPY_MODEL_b0f8111afc34451196538c5cb69053c3",
      "value": 512
     }
    },
    "a3d78cd56b624ef99077270e4ef4b928": {
     "model_module": "@jupyter-widgets/controls",
     "model_name": "ProgressStyleModel",
     "state": {
      "_model_module": "@jupyter-widgets/controls",
      "_model_module_version": "1.5.0",
      "_model_name": "ProgressStyleModel",
      "_view_count": null,
      "_view_module": "@jupyter-widgets/base",
      "_view_module_version": "1.2.0",
      "_view_name": "StyleView",
      "bar_color": null,
      "description_width": "initial"
     }
    },
    "a53188d8880c4e6dbc81ed6f2db744df": {
     "model_module": "@jupyter-widgets/controls",
     "model_name": "ProgressStyleModel",
     "state": {
      "_model_module": "@jupyter-widgets/controls",
      "_model_module_version": "1.5.0",
      "_model_name": "ProgressStyleModel",
      "_view_count": null,
      "_view_module": "@jupyter-widgets/base",
      "_view_module_version": "1.2.0",
      "_view_name": "StyleView",
      "bar_color": null,
      "description_width": "initial"
     }
    },
    "a615a7d573314ff8885b3d3827fcbbc7": {
     "model_module": "@jupyter-widgets/base",
     "model_name": "LayoutModel",
     "state": {
      "_model_module": "@jupyter-widgets/base",
      "_model_module_version": "1.2.0",
      "_model_name": "LayoutModel",
      "_view_count": null,
      "_view_module": "@jupyter-widgets/base",
      "_view_module_version": "1.2.0",
      "_view_name": "LayoutView",
      "align_content": null,
      "align_items": null,
      "align_self": null,
      "border": null,
      "bottom": null,
      "display": null,
      "flex": null,
      "flex_flow": null,
      "grid_area": null,
      "grid_auto_columns": null,
      "grid_auto_flow": null,
      "grid_auto_rows": null,
      "grid_column": null,
      "grid_gap": null,
      "grid_row": null,
      "grid_template_areas": null,
      "grid_template_columns": null,
      "grid_template_rows": null,
      "height": null,
      "justify_content": null,
      "justify_items": null,
      "left": null,
      "margin": null,
      "max_height": null,
      "max_width": null,
      "min_height": null,
      "min_width": null,
      "object_fit": null,
      "object_position": null,
      "order": null,
      "overflow": null,
      "overflow_x": null,
      "overflow_y": null,
      "padding": null,
      "right": null,
      "top": null,
      "visibility": null,
      "width": null
     }
    },
    "a70aed149d74497f888b600120ea52ab": {
     "model_module": "@jupyter-widgets/base",
     "model_name": "LayoutModel",
     "state": {
      "_model_module": "@jupyter-widgets/base",
      "_model_module_version": "1.2.0",
      "_model_name": "LayoutModel",
      "_view_count": null,
      "_view_module": "@jupyter-widgets/base",
      "_view_module_version": "1.2.0",
      "_view_name": "LayoutView",
      "align_content": null,
      "align_items": null,
      "align_self": null,
      "border": null,
      "bottom": null,
      "display": null,
      "flex": null,
      "flex_flow": null,
      "grid_area": null,
      "grid_auto_columns": null,
      "grid_auto_flow": null,
      "grid_auto_rows": null,
      "grid_column": null,
      "grid_gap": null,
      "grid_row": null,
      "grid_template_areas": null,
      "grid_template_columns": null,
      "grid_template_rows": null,
      "height": null,
      "justify_content": null,
      "justify_items": null,
      "left": null,
      "margin": null,
      "max_height": null,
      "max_width": null,
      "min_height": null,
      "min_width": null,
      "object_fit": null,
      "object_position": null,
      "order": null,
      "overflow": null,
      "overflow_x": null,
      "overflow_y": null,
      "padding": null,
      "right": null,
      "top": null,
      "visibility": null,
      "width": null
     }
    },
    "a8e72a45d475427fa0d0ded1bdad6b32": {
     "model_module": "@jupyter-widgets/base",
     "model_name": "LayoutModel",
     "state": {
      "_model_module": "@jupyter-widgets/base",
      "_model_module_version": "1.2.0",
      "_model_name": "LayoutModel",
      "_view_count": null,
      "_view_module": "@jupyter-widgets/base",
      "_view_module_version": "1.2.0",
      "_view_name": "LayoutView",
      "align_content": null,
      "align_items": null,
      "align_self": null,
      "border": null,
      "bottom": null,
      "display": null,
      "flex": null,
      "flex_flow": null,
      "grid_area": null,
      "grid_auto_columns": null,
      "grid_auto_flow": null,
      "grid_auto_rows": null,
      "grid_column": null,
      "grid_gap": null,
      "grid_row": null,
      "grid_template_areas": null,
      "grid_template_columns": null,
      "grid_template_rows": null,
      "height": null,
      "justify_content": null,
      "justify_items": null,
      "left": null,
      "margin": null,
      "max_height": null,
      "max_width": null,
      "min_height": null,
      "min_width": null,
      "object_fit": null,
      "object_position": null,
      "order": null,
      "overflow": null,
      "overflow_x": null,
      "overflow_y": null,
      "padding": null,
      "right": null,
      "top": null,
      "visibility": null,
      "width": null
     }
    },
    "ac7783ff3f33497aa20376646c9778bf": {
     "model_module": "@jupyter-widgets/base",
     "model_name": "LayoutModel",
     "state": {
      "_model_module": "@jupyter-widgets/base",
      "_model_module_version": "1.2.0",
      "_model_name": "LayoutModel",
      "_view_count": null,
      "_view_module": "@jupyter-widgets/base",
      "_view_module_version": "1.2.0",
      "_view_name": "LayoutView",
      "align_content": null,
      "align_items": null,
      "align_self": null,
      "border": null,
      "bottom": null,
      "display": null,
      "flex": null,
      "flex_flow": null,
      "grid_area": null,
      "grid_auto_columns": null,
      "grid_auto_flow": null,
      "grid_auto_rows": null,
      "grid_column": null,
      "grid_gap": null,
      "grid_row": null,
      "grid_template_areas": null,
      "grid_template_columns": null,
      "grid_template_rows": null,
      "height": null,
      "justify_content": null,
      "justify_items": null,
      "left": null,
      "margin": null,
      "max_height": null,
      "max_width": null,
      "min_height": null,
      "min_width": null,
      "object_fit": null,
      "object_position": null,
      "order": null,
      "overflow": null,
      "overflow_x": null,
      "overflow_y": null,
      "padding": null,
      "right": null,
      "top": null,
      "visibility": null,
      "width": null
     }
    },
    "b0f8111afc34451196538c5cb69053c3": {
     "model_module": "@jupyter-widgets/controls",
     "model_name": "ProgressStyleModel",
     "state": {
      "_model_module": "@jupyter-widgets/controls",
      "_model_module_version": "1.5.0",
      "_model_name": "ProgressStyleModel",
      "_view_count": null,
      "_view_module": "@jupyter-widgets/base",
      "_view_module_version": "1.2.0",
      "_view_name": "StyleView",
      "bar_color": null,
      "description_width": "initial"
     }
    },
    "b1411b6361904af09a0334a28b7e5879": {
     "model_module": "@jupyter-widgets/controls",
     "model_name": "DescriptionStyleModel",
     "state": {
      "_model_module": "@jupyter-widgets/controls",
      "_model_module_version": "1.5.0",
      "_model_name": "DescriptionStyleModel",
      "_view_count": null,
      "_view_module": "@jupyter-widgets/base",
      "_view_module_version": "1.2.0",
      "_view_name": "StyleView",
      "description_width": ""
     }
    },
    "b15c03cb371045baba720ac16363438c": {
     "model_module": "@jupyter-widgets/base",
     "model_name": "LayoutModel",
     "state": {
      "_model_module": "@jupyter-widgets/base",
      "_model_module_version": "1.2.0",
      "_model_name": "LayoutModel",
      "_view_count": null,
      "_view_module": "@jupyter-widgets/base",
      "_view_module_version": "1.2.0",
      "_view_name": "LayoutView",
      "align_content": null,
      "align_items": null,
      "align_self": null,
      "border": null,
      "bottom": null,
      "display": null,
      "flex": null,
      "flex_flow": null,
      "grid_area": null,
      "grid_auto_columns": null,
      "grid_auto_flow": null,
      "grid_auto_rows": null,
      "grid_column": null,
      "grid_gap": null,
      "grid_row": null,
      "grid_template_areas": null,
      "grid_template_columns": null,
      "grid_template_rows": null,
      "height": null,
      "justify_content": null,
      "justify_items": null,
      "left": null,
      "margin": null,
      "max_height": null,
      "max_width": null,
      "min_height": null,
      "min_width": null,
      "object_fit": null,
      "object_position": null,
      "order": null,
      "overflow": null,
      "overflow_x": null,
      "overflow_y": null,
      "padding": null,
      "right": null,
      "top": null,
      "visibility": null,
      "width": null
     }
    },
    "b2c30a64c21c4e46ae5b405a570201c8": {
     "model_module": "@jupyter-widgets/controls",
     "model_name": "DescriptionStyleModel",
     "state": {
      "_model_module": "@jupyter-widgets/controls",
      "_model_module_version": "1.5.0",
      "_model_name": "DescriptionStyleModel",
      "_view_count": null,
      "_view_module": "@jupyter-widgets/base",
      "_view_module_version": "1.2.0",
      "_view_name": "StyleView",
      "description_width": ""
     }
    },
    "b543eef0b3014714bc1e2036a47531ca": {
     "model_module": "@jupyter-widgets/base",
     "model_name": "LayoutModel",
     "state": {
      "_model_module": "@jupyter-widgets/base",
      "_model_module_version": "1.2.0",
      "_model_name": "LayoutModel",
      "_view_count": null,
      "_view_module": "@jupyter-widgets/base",
      "_view_module_version": "1.2.0",
      "_view_name": "LayoutView",
      "align_content": null,
      "align_items": null,
      "align_self": null,
      "border": null,
      "bottom": null,
      "display": null,
      "flex": null,
      "flex_flow": null,
      "grid_area": null,
      "grid_auto_columns": null,
      "grid_auto_flow": null,
      "grid_auto_rows": null,
      "grid_column": null,
      "grid_gap": null,
      "grid_row": null,
      "grid_template_areas": null,
      "grid_template_columns": null,
      "grid_template_rows": null,
      "height": null,
      "justify_content": null,
      "justify_items": null,
      "left": null,
      "margin": null,
      "max_height": null,
      "max_width": null,
      "min_height": null,
      "min_width": null,
      "object_fit": null,
      "object_position": null,
      "order": null,
      "overflow": null,
      "overflow_x": null,
      "overflow_y": null,
      "padding": null,
      "right": null,
      "top": null,
      "visibility": null,
      "width": null
     }
    },
    "bd47555267b84e4fa8d694492508e1d6": {
     "model_module": "@jupyter-widgets/base",
     "model_name": "LayoutModel",
     "state": {
      "_model_module": "@jupyter-widgets/base",
      "_model_module_version": "1.2.0",
      "_model_name": "LayoutModel",
      "_view_count": null,
      "_view_module": "@jupyter-widgets/base",
      "_view_module_version": "1.2.0",
      "_view_name": "LayoutView",
      "align_content": null,
      "align_items": null,
      "align_self": null,
      "border": null,
      "bottom": null,
      "display": null,
      "flex": null,
      "flex_flow": null,
      "grid_area": null,
      "grid_auto_columns": null,
      "grid_auto_flow": null,
      "grid_auto_rows": null,
      "grid_column": null,
      "grid_gap": null,
      "grid_row": null,
      "grid_template_areas": null,
      "grid_template_columns": null,
      "grid_template_rows": null,
      "height": null,
      "justify_content": null,
      "justify_items": null,
      "left": null,
      "margin": null,
      "max_height": null,
      "max_width": null,
      "min_height": null,
      "min_width": null,
      "object_fit": null,
      "object_position": null,
      "order": null,
      "overflow": null,
      "overflow_x": null,
      "overflow_y": null,
      "padding": null,
      "right": null,
      "top": null,
      "visibility": null,
      "width": null
     }
    },
    "c06015d788a94685ba51f3725efa255c": {
     "model_module": "@jupyter-widgets/base",
     "model_name": "LayoutModel",
     "state": {
      "_model_module": "@jupyter-widgets/base",
      "_model_module_version": "1.2.0",
      "_model_name": "LayoutModel",
      "_view_count": null,
      "_view_module": "@jupyter-widgets/base",
      "_view_module_version": "1.2.0",
      "_view_name": "LayoutView",
      "align_content": null,
      "align_items": null,
      "align_self": null,
      "border": null,
      "bottom": null,
      "display": null,
      "flex": null,
      "flex_flow": null,
      "grid_area": null,
      "grid_auto_columns": null,
      "grid_auto_flow": null,
      "grid_auto_rows": null,
      "grid_column": null,
      "grid_gap": null,
      "grid_row": null,
      "grid_template_areas": null,
      "grid_template_columns": null,
      "grid_template_rows": null,
      "height": null,
      "justify_content": null,
      "justify_items": null,
      "left": null,
      "margin": null,
      "max_height": null,
      "max_width": null,
      "min_height": null,
      "min_width": null,
      "object_fit": null,
      "object_position": null,
      "order": null,
      "overflow": null,
      "overflow_x": null,
      "overflow_y": null,
      "padding": null,
      "right": null,
      "top": null,
      "visibility": null,
      "width": null
     }
    },
    "c0e37a93392b4c7d9e62bd4c3c820bf2": {
     "model_module": "@jupyter-widgets/base",
     "model_name": "LayoutModel",
     "state": {
      "_model_module": "@jupyter-widgets/base",
      "_model_module_version": "1.2.0",
      "_model_name": "LayoutModel",
      "_view_count": null,
      "_view_module": "@jupyter-widgets/base",
      "_view_module_version": "1.2.0",
      "_view_name": "LayoutView",
      "align_content": null,
      "align_items": null,
      "align_self": null,
      "border": null,
      "bottom": null,
      "display": null,
      "flex": null,
      "flex_flow": null,
      "grid_area": null,
      "grid_auto_columns": null,
      "grid_auto_flow": null,
      "grid_auto_rows": null,
      "grid_column": null,
      "grid_gap": null,
      "grid_row": null,
      "grid_template_areas": null,
      "grid_template_columns": null,
      "grid_template_rows": null,
      "height": null,
      "justify_content": null,
      "justify_items": null,
      "left": null,
      "margin": null,
      "max_height": null,
      "max_width": null,
      "min_height": null,
      "min_width": null,
      "object_fit": null,
      "object_position": null,
      "order": null,
      "overflow": null,
      "overflow_x": null,
      "overflow_y": null,
      "padding": null,
      "right": null,
      "top": null,
      "visibility": null,
      "width": null
     }
    },
    "c0eaf5efc9864d989a79cf4906c0d32d": {
     "model_module": "@jupyter-widgets/controls",
     "model_name": "FloatProgressModel",
     "state": {
      "_dom_classes": [],
      "_model_module": "@jupyter-widgets/controls",
      "_model_module_version": "1.5.0",
      "_model_name": "FloatProgressModel",
      "_view_count": null,
      "_view_module": "@jupyter-widgets/controls",
      "_view_module_version": "1.5.0",
      "_view_name": "ProgressView",
      "bar_style": "success",
      "description": "Downloading: 100%",
      "description_tooltip": null,
      "layout": "IPY_MODEL_c4126c68128e4d5880412b7128627a39",
      "max": 871891,
      "min": 0,
      "orientation": "horizontal",
      "style": "IPY_MODEL_172893b06a4a4a3aa2d82709eca2860a",
      "value": 871891
     }
    },
    "c4126c68128e4d5880412b7128627a39": {
     "model_module": "@jupyter-widgets/base",
     "model_name": "LayoutModel",
     "state": {
      "_model_module": "@jupyter-widgets/base",
      "_model_module_version": "1.2.0",
      "_model_name": "LayoutModel",
      "_view_count": null,
      "_view_module": "@jupyter-widgets/base",
      "_view_module_version": "1.2.0",
      "_view_name": "LayoutView",
      "align_content": null,
      "align_items": null,
      "align_self": null,
      "border": null,
      "bottom": null,
      "display": null,
      "flex": null,
      "flex_flow": null,
      "grid_area": null,
      "grid_auto_columns": null,
      "grid_auto_flow": null,
      "grid_auto_rows": null,
      "grid_column": null,
      "grid_gap": null,
      "grid_row": null,
      "grid_template_areas": null,
      "grid_template_columns": null,
      "grid_template_rows": null,
      "height": null,
      "justify_content": null,
      "justify_items": null,
      "left": null,
      "margin": null,
      "max_height": null,
      "max_width": null,
      "min_height": null,
      "min_width": null,
      "object_fit": null,
      "object_position": null,
      "order": null,
      "overflow": null,
      "overflow_x": null,
      "overflow_y": null,
      "padding": null,
      "right": null,
      "top": null,
      "visibility": null,
      "width": null
     }
    },
    "c48f3f0a99434d0288fb941d1996279b": {
     "model_module": "@jupyter-widgets/base",
     "model_name": "LayoutModel",
     "state": {
      "_model_module": "@jupyter-widgets/base",
      "_model_module_version": "1.2.0",
      "_model_name": "LayoutModel",
      "_view_count": null,
      "_view_module": "@jupyter-widgets/base",
      "_view_module_version": "1.2.0",
      "_view_name": "LayoutView",
      "align_content": null,
      "align_items": null,
      "align_self": null,
      "border": null,
      "bottom": null,
      "display": null,
      "flex": null,
      "flex_flow": null,
      "grid_area": null,
      "grid_auto_columns": null,
      "grid_auto_flow": null,
      "grid_auto_rows": null,
      "grid_column": null,
      "grid_gap": null,
      "grid_row": null,
      "grid_template_areas": null,
      "grid_template_columns": null,
      "grid_template_rows": null,
      "height": null,
      "justify_content": null,
      "justify_items": null,
      "left": null,
      "margin": null,
      "max_height": null,
      "max_width": null,
      "min_height": null,
      "min_width": null,
      "object_fit": null,
      "object_position": null,
      "order": null,
      "overflow": null,
      "overflow_x": null,
      "overflow_y": null,
      "padding": null,
      "right": null,
      "top": null,
      "visibility": null,
      "width": null
     }
    },
    "c4f4567c7e7e49e79259d5be145f2775": {
     "model_module": "@jupyter-widgets/base",
     "model_name": "LayoutModel",
     "state": {
      "_model_module": "@jupyter-widgets/base",
      "_model_module_version": "1.2.0",
      "_model_name": "LayoutModel",
      "_view_count": null,
      "_view_module": "@jupyter-widgets/base",
      "_view_module_version": "1.2.0",
      "_view_name": "LayoutView",
      "align_content": null,
      "align_items": null,
      "align_self": null,
      "border": null,
      "bottom": null,
      "display": null,
      "flex": null,
      "flex_flow": null,
      "grid_area": null,
      "grid_auto_columns": null,
      "grid_auto_flow": null,
      "grid_auto_rows": null,
      "grid_column": null,
      "grid_gap": null,
      "grid_row": null,
      "grid_template_areas": null,
      "grid_template_columns": null,
      "grid_template_rows": null,
      "height": null,
      "justify_content": null,
      "justify_items": null,
      "left": null,
      "margin": null,
      "max_height": null,
      "max_width": null,
      "min_height": null,
      "min_width": null,
      "object_fit": null,
      "object_position": null,
      "order": null,
      "overflow": null,
      "overflow_x": null,
      "overflow_y": null,
      "padding": null,
      "right": null,
      "top": null,
      "visibility": null,
      "width": null
     }
    },
    "cabfef2eece34ff3a3f7c918e68439f7": {
     "model_module": "@jupyter-widgets/controls",
     "model_name": "HBoxModel",
     "state": {
      "_dom_classes": [],
      "_model_module": "@jupyter-widgets/controls",
      "_model_module_version": "1.5.0",
      "_model_name": "HBoxModel",
      "_view_count": null,
      "_view_module": "@jupyter-widgets/controls",
      "_view_module_version": "1.5.0",
      "_view_name": "HBoxView",
      "box_style": "",
      "children": [
       "IPY_MODEL_e1c367a1c4dc4f988d48a9e3357fcffc",
       "IPY_MODEL_2a9248278aa042c8b4d32482935429b6"
      ],
      "layout": "IPY_MODEL_d8e332a5455348efbf79e7b645b6a4d0"
     }
    },
    "d316da0b041144ba8a420638f8edbafe": {
     "model_module": "@jupyter-widgets/base",
     "model_name": "LayoutModel",
     "state": {
      "_model_module": "@jupyter-widgets/base",
      "_model_module_version": "1.2.0",
      "_model_name": "LayoutModel",
      "_view_count": null,
      "_view_module": "@jupyter-widgets/base",
      "_view_module_version": "1.2.0",
      "_view_name": "LayoutView",
      "align_content": null,
      "align_items": null,
      "align_self": null,
      "border": null,
      "bottom": null,
      "display": null,
      "flex": null,
      "flex_flow": null,
      "grid_area": null,
      "grid_auto_columns": null,
      "grid_auto_flow": null,
      "grid_auto_rows": null,
      "grid_column": null,
      "grid_gap": null,
      "grid_row": null,
      "grid_template_areas": null,
      "grid_template_columns": null,
      "grid_template_rows": null,
      "height": null,
      "justify_content": null,
      "justify_items": null,
      "left": null,
      "margin": null,
      "max_height": null,
      "max_width": null,
      "min_height": null,
      "min_width": null,
      "object_fit": null,
      "object_position": null,
      "order": null,
      "overflow": null,
      "overflow_x": null,
      "overflow_y": null,
      "padding": null,
      "right": null,
      "top": null,
      "visibility": null,
      "width": null
     }
    },
    "d5694610b8674687aa7a94793996af95": {
     "model_module": "@jupyter-widgets/controls",
     "model_name": "HTMLModel",
     "state": {
      "_dom_classes": [],
      "_model_module": "@jupyter-widgets/controls",
      "_model_module_version": "1.5.0",
      "_model_name": "HTMLModel",
      "_view_count": null,
      "_view_module": "@jupyter-widgets/controls",
      "_view_module_version": "1.5.0",
      "_view_name": "HTMLView",
      "description": "",
      "description_tooltip": null,
      "layout": "IPY_MODEL_b543eef0b3014714bc1e2036a47531ca",
      "placeholder": "​",
      "style": "IPY_MODEL_fc794d7bff224b8faa34ce3dd802b5b9",
      "value": " 1.89G/1.89G [00:38&lt;00:00, 48.5MB/s]"
     }
    },
    "d5b3a91b2a22421f9b18b9d7cf35135a": {
     "model_module": "@jupyter-widgets/base",
     "model_name": "LayoutModel",
     "state": {
      "_model_module": "@jupyter-widgets/base",
      "_model_module_version": "1.2.0",
      "_model_name": "LayoutModel",
      "_view_count": null,
      "_view_module": "@jupyter-widgets/base",
      "_view_module_version": "1.2.0",
      "_view_name": "LayoutView",
      "align_content": null,
      "align_items": null,
      "align_self": null,
      "border": null,
      "bottom": null,
      "display": null,
      "flex": null,
      "flex_flow": null,
      "grid_area": null,
      "grid_auto_columns": null,
      "grid_auto_flow": null,
      "grid_auto_rows": null,
      "grid_column": null,
      "grid_gap": null,
      "grid_row": null,
      "grid_template_areas": null,
      "grid_template_columns": null,
      "grid_template_rows": null,
      "height": null,
      "justify_content": null,
      "justify_items": null,
      "left": null,
      "margin": null,
      "max_height": null,
      "max_width": null,
      "min_height": null,
      "min_width": null,
      "object_fit": null,
      "object_position": null,
      "order": null,
      "overflow": null,
      "overflow_x": null,
      "overflow_y": null,
      "padding": null,
      "right": null,
      "top": null,
      "visibility": null,
      "width": null
     }
    },
    "d789619fa6ec4e66b8602bcc0e195cd3": {
     "model_module": "@jupyter-widgets/controls",
     "model_name": "ProgressStyleModel",
     "state": {
      "_model_module": "@jupyter-widgets/controls",
      "_model_module_version": "1.5.0",
      "_model_name": "ProgressStyleModel",
      "_view_count": null,
      "_view_module": "@jupyter-widgets/base",
      "_view_module_version": "1.2.0",
      "_view_name": "StyleView",
      "bar_color": null,
      "description_width": "initial"
     }
    },
    "d7d5da45377745538bf53d8fd5652071": {
     "model_module": "@jupyter-widgets/controls",
     "model_name": "HBoxModel",
     "state": {
      "_dom_classes": [],
      "_model_module": "@jupyter-widgets/controls",
      "_model_module_version": "1.5.0",
      "_model_name": "HBoxModel",
      "_view_count": null,
      "_view_module": "@jupyter-widgets/controls",
      "_view_module_version": "1.5.0",
      "_view_name": "HBoxView",
      "box_style": "",
      "children": [
       "IPY_MODEL_ea7ab41869bc4574afdad2b94c7b7c3b",
       "IPY_MODEL_6fa0bc0407a74e08899a1bedaf2c578d"
      ],
      "layout": "IPY_MODEL_c48f3f0a99434d0288fb941d1996279b"
     }
    },
    "d8b080aa5c24469ca5e9ac6d473acc28": {
     "model_module": "@jupyter-widgets/controls",
     "model_name": "FloatProgressModel",
     "state": {
      "_dom_classes": [],
      "_model_module": "@jupyter-widgets/controls",
      "_model_module_version": "1.5.0",
      "_model_name": "FloatProgressModel",
      "_view_count": null,
      "_view_module": "@jupyter-widgets/controls",
      "_view_module_version": "1.5.0",
      "_view_name": "ProgressView",
      "bar_style": "success",
      "description": "Downloading: 100%",
      "description_tooltip": null,
      "layout": "IPY_MODEL_2017d5c508204acfadc856b3bc52f1af",
      "max": 1715180,
      "min": 0,
      "orientation": "horizontal",
      "style": "IPY_MODEL_32dfb5386a2d404989f0670387f8e335",
      "value": 1715180
     }
    },
    "d8e332a5455348efbf79e7b645b6a4d0": {
     "model_module": "@jupyter-widgets/base",
     "model_name": "LayoutModel",
     "state": {
      "_model_module": "@jupyter-widgets/base",
      "_model_module_version": "1.2.0",
      "_model_name": "LayoutModel",
      "_view_count": null,
      "_view_module": "@jupyter-widgets/base",
      "_view_module_version": "1.2.0",
      "_view_name": "LayoutView",
      "align_content": null,
      "align_items": null,
      "align_self": null,
      "border": null,
      "bottom": null,
      "display": null,
      "flex": null,
      "flex_flow": null,
      "grid_area": null,
      "grid_auto_columns": null,
      "grid_auto_flow": null,
      "grid_auto_rows": null,
      "grid_column": null,
      "grid_gap": null,
      "grid_row": null,
      "grid_template_areas": null,
      "grid_template_columns": null,
      "grid_template_rows": null,
      "height": null,
      "justify_content": null,
      "justify_items": null,
      "left": null,
      "margin": null,
      "max_height": null,
      "max_width": null,
      "min_height": null,
      "min_width": null,
      "object_fit": null,
      "object_position": null,
      "order": null,
      "overflow": null,
      "overflow_x": null,
      "overflow_y": null,
      "padding": null,
      "right": null,
      "top": null,
      "visibility": null,
      "width": null
     }
    },
    "d9c6652e6ec344e49a00a860709acb94": {
     "model_module": "@jupyter-widgets/base",
     "model_name": "LayoutModel",
     "state": {
      "_model_module": "@jupyter-widgets/base",
      "_model_module_version": "1.2.0",
      "_model_name": "LayoutModel",
      "_view_count": null,
      "_view_module": "@jupyter-widgets/base",
      "_view_module_version": "1.2.0",
      "_view_name": "LayoutView",
      "align_content": null,
      "align_items": null,
      "align_self": null,
      "border": null,
      "bottom": null,
      "display": null,
      "flex": null,
      "flex_flow": null,
      "grid_area": null,
      "grid_auto_columns": null,
      "grid_auto_flow": null,
      "grid_auto_rows": null,
      "grid_column": null,
      "grid_gap": null,
      "grid_row": null,
      "grid_template_areas": null,
      "grid_template_columns": null,
      "grid_template_rows": null,
      "height": null,
      "justify_content": null,
      "justify_items": null,
      "left": null,
      "margin": null,
      "max_height": null,
      "max_width": null,
      "min_height": null,
      "min_width": null,
      "object_fit": null,
      "object_position": null,
      "order": null,
      "overflow": null,
      "overflow_x": null,
      "overflow_y": null,
      "padding": null,
      "right": null,
      "top": null,
      "visibility": null,
      "width": null
     }
    },
    "d9f07143b5014a968d0ac4dfeb754b44": {
     "model_module": "@jupyter-widgets/base",
     "model_name": "LayoutModel",
     "state": {
      "_model_module": "@jupyter-widgets/base",
      "_model_module_version": "1.2.0",
      "_model_name": "LayoutModel",
      "_view_count": null,
      "_view_module": "@jupyter-widgets/base",
      "_view_module_version": "1.2.0",
      "_view_name": "LayoutView",
      "align_content": null,
      "align_items": null,
      "align_self": null,
      "border": null,
      "bottom": null,
      "display": null,
      "flex": null,
      "flex_flow": null,
      "grid_area": null,
      "grid_auto_columns": null,
      "grid_auto_flow": null,
      "grid_auto_rows": null,
      "grid_column": null,
      "grid_gap": null,
      "grid_row": null,
      "grid_template_areas": null,
      "grid_template_columns": null,
      "grid_template_rows": null,
      "height": null,
      "justify_content": null,
      "justify_items": null,
      "left": null,
      "margin": null,
      "max_height": null,
      "max_width": null,
      "min_height": null,
      "min_width": null,
      "object_fit": null,
      "object_position": null,
      "order": null,
      "overflow": null,
      "overflow_x": null,
      "overflow_y": null,
      "padding": null,
      "right": null,
      "top": null,
      "visibility": null,
      "width": null
     }
    },
    "dd915b5d951f4fca9ed45ea5983dfea1": {
     "model_module": "@jupyter-widgets/controls",
     "model_name": "FloatProgressModel",
     "state": {
      "_dom_classes": [],
      "_model_module": "@jupyter-widgets/controls",
      "_model_module_version": "1.5.0",
      "_model_name": "FloatProgressModel",
      "_view_count": null,
      "_view_module": "@jupyter-widgets/controls",
      "_view_module_version": "1.5.0",
      "_view_name": "ProgressView",
      "bar_style": "success",
      "description": "Downloading: 100%",
      "description_tooltip": null,
      "layout": "IPY_MODEL_d9c6652e6ec344e49a00a860709acb94",
      "max": 28,
      "min": 0,
      "orientation": "horizontal",
      "style": "IPY_MODEL_e066b5be0417465c9cc76d4b6f6e72fd",
      "value": 28
     }
    },
    "de34af03bfa0451ca7129bdf323d8f61": {
     "model_module": "@jupyter-widgets/base",
     "model_name": "LayoutModel",
     "state": {
      "_model_module": "@jupyter-widgets/base",
      "_model_module_version": "1.2.0",
      "_model_name": "LayoutModel",
      "_view_count": null,
      "_view_module": "@jupyter-widgets/base",
      "_view_module_version": "1.2.0",
      "_view_name": "LayoutView",
      "align_content": null,
      "align_items": null,
      "align_self": null,
      "border": null,
      "bottom": null,
      "display": null,
      "flex": null,
      "flex_flow": null,
      "grid_area": null,
      "grid_auto_columns": null,
      "grid_auto_flow": null,
      "grid_auto_rows": null,
      "grid_column": null,
      "grid_gap": null,
      "grid_row": null,
      "grid_template_areas": null,
      "grid_template_columns": null,
      "grid_template_rows": null,
      "height": null,
      "justify_content": null,
      "justify_items": null,
      "left": null,
      "margin": null,
      "max_height": null,
      "max_width": null,
      "min_height": null,
      "min_width": null,
      "object_fit": null,
      "object_position": null,
      "order": null,
      "overflow": null,
      "overflow_x": null,
      "overflow_y": null,
      "padding": null,
      "right": null,
      "top": null,
      "visibility": null,
      "width": null
     }
    },
    "dfebd61e189b45abb04e722a63ce67f0": {
     "model_module": "@jupyter-widgets/controls",
     "model_name": "DescriptionStyleModel",
     "state": {
      "_model_module": "@jupyter-widgets/controls",
      "_model_module_version": "1.5.0",
      "_model_name": "DescriptionStyleModel",
      "_view_count": null,
      "_view_module": "@jupyter-widgets/base",
      "_view_module_version": "1.2.0",
      "_view_name": "StyleView",
      "description_width": ""
     }
    },
    "e066b5be0417465c9cc76d4b6f6e72fd": {
     "model_module": "@jupyter-widgets/controls",
     "model_name": "ProgressStyleModel",
     "state": {
      "_model_module": "@jupyter-widgets/controls",
      "_model_module_version": "1.5.0",
      "_model_name": "ProgressStyleModel",
      "_view_count": null,
      "_view_module": "@jupyter-widgets/base",
      "_view_module_version": "1.2.0",
      "_view_name": "StyleView",
      "bar_color": null,
      "description_width": "initial"
     }
    },
    "e0a0b7f8c3914c9eb0b5435d703e22c1": {
     "model_module": "@jupyter-widgets/base",
     "model_name": "LayoutModel",
     "state": {
      "_model_module": "@jupyter-widgets/base",
      "_model_module_version": "1.2.0",
      "_model_name": "LayoutModel",
      "_view_count": null,
      "_view_module": "@jupyter-widgets/base",
      "_view_module_version": "1.2.0",
      "_view_name": "LayoutView",
      "align_content": null,
      "align_items": null,
      "align_self": null,
      "border": null,
      "bottom": null,
      "display": null,
      "flex": null,
      "flex_flow": null,
      "grid_area": null,
      "grid_auto_columns": null,
      "grid_auto_flow": null,
      "grid_auto_rows": null,
      "grid_column": null,
      "grid_gap": null,
      "grid_row": null,
      "grid_template_areas": null,
      "grid_template_columns": null,
      "grid_template_rows": null,
      "height": null,
      "justify_content": null,
      "justify_items": null,
      "left": null,
      "margin": null,
      "max_height": null,
      "max_width": null,
      "min_height": null,
      "min_width": null,
      "object_fit": null,
      "object_position": null,
      "order": null,
      "overflow": null,
      "overflow_x": null,
      "overflow_y": null,
      "padding": null,
      "right": null,
      "top": null,
      "visibility": null,
      "width": null
     }
    },
    "e1c367a1c4dc4f988d48a9e3357fcffc": {
     "model_module": "@jupyter-widgets/controls",
     "model_name": "FloatProgressModel",
     "state": {
      "_dom_classes": [],
      "_model_module": "@jupyter-widgets/controls",
      "_model_module_version": "1.5.0",
      "_model_name": "FloatProgressModel",
      "_view_count": null,
      "_view_module": "@jupyter-widgets/controls",
      "_view_module_version": "1.5.0",
      "_view_name": "ProgressView",
      "bar_style": "success",
      "description": "Downloading: 100%",
      "description_tooltip": null,
      "layout": "IPY_MODEL_e565289697ed4cfe8c09f5f88362c414",
      "max": 999358484,
      "min": 0,
      "orientation": "horizontal",
      "style": "IPY_MODEL_1df64f8ef643470fb58202094b5463fa",
      "value": 999358484
     }
    },
    "e5012ecbbbfa46d1b56cad57c2fe9e47": {
     "model_module": "@jupyter-widgets/controls",
     "model_name": "ProgressStyleModel",
     "state": {
      "_model_module": "@jupyter-widgets/controls",
      "_model_module_version": "1.5.0",
      "_model_name": "ProgressStyleModel",
      "_view_count": null,
      "_view_module": "@jupyter-widgets/base",
      "_view_module_version": "1.2.0",
      "_view_name": "StyleView",
      "bar_color": null,
      "description_width": "initial"
     }
    },
    "e53a522313f24dc9aff16b5e60c1fbf5": {
     "model_module": "@jupyter-widgets/base",
     "model_name": "LayoutModel",
     "state": {
      "_model_module": "@jupyter-widgets/base",
      "_model_module_version": "1.2.0",
      "_model_name": "LayoutModel",
      "_view_count": null,
      "_view_module": "@jupyter-widgets/base",
      "_view_module_version": "1.2.0",
      "_view_name": "LayoutView",
      "align_content": null,
      "align_items": null,
      "align_self": null,
      "border": null,
      "bottom": null,
      "display": null,
      "flex": null,
      "flex_flow": null,
      "grid_area": null,
      "grid_auto_columns": null,
      "grid_auto_flow": null,
      "grid_auto_rows": null,
      "grid_column": null,
      "grid_gap": null,
      "grid_row": null,
      "grid_template_areas": null,
      "grid_template_columns": null,
      "grid_template_rows": null,
      "height": null,
      "justify_content": null,
      "justify_items": null,
      "left": null,
      "margin": null,
      "max_height": null,
      "max_width": null,
      "min_height": null,
      "min_width": null,
      "object_fit": null,
      "object_position": null,
      "order": null,
      "overflow": null,
      "overflow_x": null,
      "overflow_y": null,
      "padding": null,
      "right": null,
      "top": null,
      "visibility": null,
      "width": null
     }
    },
    "e565289697ed4cfe8c09f5f88362c414": {
     "model_module": "@jupyter-widgets/base",
     "model_name": "LayoutModel",
     "state": {
      "_model_module": "@jupyter-widgets/base",
      "_model_module_version": "1.2.0",
      "_model_name": "LayoutModel",
      "_view_count": null,
      "_view_module": "@jupyter-widgets/base",
      "_view_module_version": "1.2.0",
      "_view_name": "LayoutView",
      "align_content": null,
      "align_items": null,
      "align_self": null,
      "border": null,
      "bottom": null,
      "display": null,
      "flex": null,
      "flex_flow": null,
      "grid_area": null,
      "grid_auto_columns": null,
      "grid_auto_flow": null,
      "grid_auto_rows": null,
      "grid_column": null,
      "grid_gap": null,
      "grid_row": null,
      "grid_template_areas": null,
      "grid_template_columns": null,
      "grid_template_rows": null,
      "height": null,
      "justify_content": null,
      "justify_items": null,
      "left": null,
      "margin": null,
      "max_height": null,
      "max_width": null,
      "min_height": null,
      "min_width": null,
      "object_fit": null,
      "object_position": null,
      "order": null,
      "overflow": null,
      "overflow_x": null,
      "overflow_y": null,
      "padding": null,
      "right": null,
      "top": null,
      "visibility": null,
      "width": null
     }
    },
    "e7e18e05271c443e88749c385132baa3": {
     "model_module": "@jupyter-widgets/base",
     "model_name": "LayoutModel",
     "state": {
      "_model_module": "@jupyter-widgets/base",
      "_model_module_version": "1.2.0",
      "_model_name": "LayoutModel",
      "_view_count": null,
      "_view_module": "@jupyter-widgets/base",
      "_view_module_version": "1.2.0",
      "_view_name": "LayoutView",
      "align_content": null,
      "align_items": null,
      "align_self": null,
      "border": null,
      "bottom": null,
      "display": null,
      "flex": null,
      "flex_flow": null,
      "grid_area": null,
      "grid_auto_columns": null,
      "grid_auto_flow": null,
      "grid_auto_rows": null,
      "grid_column": null,
      "grid_gap": null,
      "grid_row": null,
      "grid_template_areas": null,
      "grid_template_columns": null,
      "grid_template_rows": null,
      "height": null,
      "justify_content": null,
      "justify_items": null,
      "left": null,
      "margin": null,
      "max_height": null,
      "max_width": null,
      "min_height": null,
      "min_width": null,
      "object_fit": null,
      "object_position": null,
      "order": null,
      "overflow": null,
      "overflow_x": null,
      "overflow_y": null,
      "padding": null,
      "right": null,
      "top": null,
      "visibility": null,
      "width": null
     }
    },
    "ea7ab41869bc4574afdad2b94c7b7c3b": {
     "model_module": "@jupyter-widgets/controls",
     "model_name": "FloatProgressModel",
     "state": {
      "_dom_classes": [],
      "_model_module": "@jupyter-widgets/controls",
      "_model_module_version": "1.5.0",
      "_model_name": "FloatProgressModel",
      "_view_count": null,
      "_view_module": "@jupyter-widgets/controls",
      "_view_module_version": "1.5.0",
      "_view_name": "ProgressView",
      "bar_style": "success",
      "description": "Downloading: 100%",
      "description_tooltip": null,
      "layout": "IPY_MODEL_bd47555267b84e4fa8d694492508e1d6",
      "max": 871891,
      "min": 0,
      "orientation": "horizontal",
      "style": "IPY_MODEL_522489b12b7244b9b07166a3514480f1",
      "value": 871891
     }
    },
    "eecc688fc5da4c8485b2f8ace342cb83": {
     "model_module": "@jupyter-widgets/base",
     "model_name": "LayoutModel",
     "state": {
      "_model_module": "@jupyter-widgets/base",
      "_model_module_version": "1.2.0",
      "_model_name": "LayoutModel",
      "_view_count": null,
      "_view_module": "@jupyter-widgets/base",
      "_view_module_version": "1.2.0",
      "_view_name": "LayoutView",
      "align_content": null,
      "align_items": null,
      "align_self": null,
      "border": null,
      "bottom": null,
      "display": null,
      "flex": null,
      "flex_flow": null,
      "grid_area": null,
      "grid_auto_columns": null,
      "grid_auto_flow": null,
      "grid_auto_rows": null,
      "grid_column": null,
      "grid_gap": null,
      "grid_row": null,
      "grid_template_areas": null,
      "grid_template_columns": null,
      "grid_template_rows": null,
      "height": null,
      "justify_content": null,
      "justify_items": null,
      "left": null,
      "margin": null,
      "max_height": null,
      "max_width": null,
      "min_height": null,
      "min_width": null,
      "object_fit": null,
      "object_position": null,
      "order": null,
      "overflow": null,
      "overflow_x": null,
      "overflow_y": null,
      "padding": null,
      "right": null,
      "top": null,
      "visibility": null,
      "width": null
     }
    },
    "f77a45aa23e14f2db1d762bc08454c75": {
     "model_module": "@jupyter-widgets/controls",
     "model_name": "DescriptionStyleModel",
     "state": {
      "_model_module": "@jupyter-widgets/controls",
      "_model_module_version": "1.5.0",
      "_model_name": "DescriptionStyleModel",
      "_view_count": null,
      "_view_module": "@jupyter-widgets/base",
      "_view_module_version": "1.2.0",
      "_view_name": "StyleView",
      "description_width": ""
     }
    },
    "fc1015009ac9471d84a3708d10b08f92": {
     "model_module": "@jupyter-widgets/base",
     "model_name": "LayoutModel",
     "state": {
      "_model_module": "@jupyter-widgets/base",
      "_model_module_version": "1.2.0",
      "_model_name": "LayoutModel",
      "_view_count": null,
      "_view_module": "@jupyter-widgets/base",
      "_view_module_version": "1.2.0",
      "_view_name": "LayoutView",
      "align_content": null,
      "align_items": null,
      "align_self": null,
      "border": null,
      "bottom": null,
      "display": null,
      "flex": null,
      "flex_flow": null,
      "grid_area": null,
      "grid_auto_columns": null,
      "grid_auto_flow": null,
      "grid_auto_rows": null,
      "grid_column": null,
      "grid_gap": null,
      "grid_row": null,
      "grid_template_areas": null,
      "grid_template_columns": null,
      "grid_template_rows": null,
      "height": null,
      "justify_content": null,
      "justify_items": null,
      "left": null,
      "margin": null,
      "max_height": null,
      "max_width": null,
      "min_height": null,
      "min_width": null,
      "object_fit": null,
      "object_position": null,
      "order": null,
      "overflow": null,
      "overflow_x": null,
      "overflow_y": null,
      "padding": null,
      "right": null,
      "top": null,
      "visibility": null,
      "width": null
     }
    },
    "fc794d7bff224b8faa34ce3dd802b5b9": {
     "model_module": "@jupyter-widgets/controls",
     "model_name": "DescriptionStyleModel",
     "state": {
      "_model_module": "@jupyter-widgets/controls",
      "_model_module_version": "1.5.0",
      "_model_name": "DescriptionStyleModel",
      "_view_count": null,
      "_view_module": "@jupyter-widgets/base",
      "_view_module_version": "1.2.0",
      "_view_name": "StyleView",
      "description_width": ""
     }
    }
   }
  }
 },
 "nbformat": 4,
 "nbformat_minor": 1
}
